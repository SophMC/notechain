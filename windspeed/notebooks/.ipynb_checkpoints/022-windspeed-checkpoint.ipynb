{
 "cells": [
  {
   "cell_type": "markdown",
   "metadata": {},
   "source": [
    "Plotting a box and whisker plot of a subsection of time with the widths representing the number of counts going into each boxplot"
   ]
  },
  {
   "cell_type": "code",
   "execution_count": 5,
   "metadata": {
    "collapsed": true
   },
   "outputs": [],
   "source": [
    "import pandas as pd\n",
    "import numpy as np\n",
    "from datetime import datetime\n",
    "\n",
    "%matplotlib inline\n",
    "import matplotlib.pyplot as plt\n",
    "\n",
    "# Reading in data from a text file. Converting the first four columns into a datetime object.\n",
    "\n",
    "column_names=[\"year\",\"month\",\"day\",\"hour\",\"ws\"]\n",
    "dtype={\"year\":int,\"month\":int,\"day\":int,\"hour\":int,\"ws\":float}\n",
    "\n",
    "datafile='/home/sophie/projects/windspeed/data/61401BirMoghrein_allwinds.txt'\n",
    "\n",
    "#specify the columns you want to group together. Can't include hour at this point as it is not in the right format. \n",
    "date_spec = {'date_time': [0,1,2]}\n",
    "\n",
    "#when you use keep_dat_col it keeps them as objects, not as the dtype you read them in as.\n",
    "wind = pd.read_csv(datafile, sep=\" \", names=column_names, parse_dates=date_spec, keep_date_col=True, index_col=False ) \n",
    "\n",
    "#Dealing with hour - going from 600, 1200 etc to 6,12, 18\n",
    "wind[\"hour\"]=(wind[\"hour\"]/100).astype(int)\n",
    "\n",
    "#combining year, month, day that were parsed together into date_time with hour, which is now in the correct format.\n",
    "wind['date_time'] = pd.to_datetime(wind.date_time) + wind.hour.astype('timedelta64[h]')\n",
    "\n",
    "#First need to change year,month, day into ints\n",
    "wind[['year','month','day']]=wind[['year','month','day']].astype(int)"
   ]
  },
  {
   "cell_type": "markdown",
   "metadata": {},
   "source": [
    "To select a subsection of time, it helps if the index is the datetime column."
   ]
  },
  {
   "cell_type": "code",
   "execution_count": 6,
   "metadata": {
    "collapsed": true
   },
   "outputs": [],
   "source": [
    "wind.index = wind['date_time']\n",
    "\n",
    "# select a period to focus on and store in a new dataframe\n",
    "\n",
    "wind_sub = wind['1998-07':'1999-07']"
   ]
  },
  {
   "cell_type": "code",
   "execution_count": 7,
   "metadata": {
    "collapsed": true
   },
   "outputs": [],
   "source": [
    "# First need to group by year and month and get the counts in each group\n",
    "\n",
    "windg = wind_sub.groupby(['year','month'])\n",
    "\n",
    "counts = [len(v) for k,v in windg] # an array with len= no. of groups\n",
    "total = float(sum(counts))"
   ]
  },
  {
   "cell_type": "code",
   "execution_count": 14,
   "metadata": {
    "collapsed": false
   },
   "outputs": [],
   "source": [
    "# Want to create a fractional number to pass to widths\n",
    "\n",
    "widths = [(c/total)+0.2 for c in counts]"
   ]
  },
  {
   "cell_type": "code",
   "execution_count": 154,
   "metadata": {
    "collapsed": false
   },
   "outputs": [
    {
     "data": {
      "text/plain": [
       "<matplotlib.text.Text at 0x7f57a8002e10>"
      ]
     },
     "execution_count": 154,
     "metadata": {},
     "output_type": "execute_result"
    },
    {
     "data": {
      "image/png": "[encoded data removed]",
      "text/plain": [
       "<matplotlib.figure.Figure at 0x7f57a806c350>"
      ]
     },
     "metadata": {},
     "output_type": "display_data"
    }
   ],
   "source": [
    "# Make the box plot with widths proportional to the counts. With counts annotation too.\n",
    "\n",
    "h=[] #important to have this here otherwise it h will get maaasive.\n",
    "\n",
    "# As datetime and pd.to_datetime MUST have a day specified, I can only see a loop being able to do this. \n",
    "for k,v in windg:\n",
    "    g,n = k \n",
    "    p ='%s-%s-1'% (g,n) # splitting the tuple up into year and month \n",
    "    #print p\n",
    "    h.append(pd.to_datetime(p)) # Make a datetime object out of year and month, adding day in. \n",
    "    #print h\n",
    "    #print '----------'\n",
    "\n",
    "\n",
    "w = wind_sub.boxplot(column = 'ws', by = ['year','month'], widths = widths, figsize=(9,5))\n",
    "\n",
    "w.set_xticklabels(['%s\\n$n$=%d'%(k, len(v)) for k,v in windg])\n",
    "\n",
    "w.set_ylabel('ws in m/s')\n",
    "\n",
    "# Manually plot 10 x ticks with the specified labels\n",
    "# There must be a way to automate this.\n",
    "#plt.xticks(range(1,11),['jul\\n1998','aug\\n1998','sept\\n1998','oct\\n1998','nov\\n1998','dec\\n1998'\n",
    "                     #   ,'jan\\n1999','feb\\n1999','mar\\n1999','apr\\n1999'])#[k for k,v in windg])"
   ]
  }
 ],
 "metadata": {
  "kernelspec": {
   "display_name": "Python 3",
   "language": "python",
   "name": "python3"
  },
  "language_info": {
   "codemirror_mode": {
    "name": "ipython",
    "version": 3
   },
   "file_extension": ".py",
   "mimetype": "text/x-python",
   "name": "python",
   "nbconvert_exporter": "python",
   "pygments_lexer": "ipython3",
   "version": "3.5.1"
  }
 },
 "nbformat": 4,
 "nbformat_minor": 0
}
