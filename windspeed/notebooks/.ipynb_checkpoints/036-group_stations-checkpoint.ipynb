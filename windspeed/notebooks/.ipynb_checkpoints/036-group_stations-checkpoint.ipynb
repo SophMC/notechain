{
 "cells": [
  {
   "cell_type": "markdown",
   "metadata": {},
   "source": [
    "#### Continuing the analysis in python 3"
   ]
  },
  {
   "cell_type": "code",
   "execution_count": 100,
   "metadata": {
    "collapsed": true
   },
   "outputs": [],
   "source": [
    "# continuing attempts to only plot months which have > 10 obs that month. \n",
    "\n",
    "import os\n",
    "import pandas as pd\n",
    "import numpy as np\n",
    "import datetime as datetime\n",
    "import matplotlib.pyplot as plt\n",
    "%matplotlib inline\n",
    "\n",
    "os.chdir(\"/home/sophie/projects/windspeed/bin/\") # change to directory where the module is. Must be a better way?\n",
    "from group_tseries import read_file\n",
    "\n",
    "Sud=['62600WadiHalfa','62640AbuHamed','62650Dongola','62660Karima',\n",
    "'62680Atbara'] \n",
    "\n",
    "wind = read_file(Sud[1])"
   ]
  },
  {
   "cell_type": "code",
   "execution_count": 101,
   "metadata": {
    "collapsed": true
   },
   "outputs": [],
   "source": [
    "# Adding rows to the wind dataFrame, ready for grouping\n",
    "\n",
    "wind['ws_0']= wind['ws'][wind['hour'].isin([0])]\n",
    "wind['ws_06']= wind['ws'][wind['hour'].isin([6])]\n",
    "wind['ws_12']= wind['ws'][wind['hour'].isin([12])]\n",
    "wind['ws_18']= wind['ws'][wind['hour'].isin([18])]"
   ]
  },
  {
   "cell_type": "code",
   "execution_count": 102,
   "metadata": {
    "collapsed": false
   },
   "outputs": [
    {
     "name": "stdout",
     "output_type": "stream",
     "text": [
      "                              date_time  year month day  hour       ws  ws_0  \\\n",
      "date_time                                                                      \n",
      "1984-03-01 12:00:00 1984-03-01 12:00:00  1984     3   1    12  5.16082   NaN   \n",
      "1984-03-02 12:00:00 1984-03-02 12:00:00  1984     3   2    12  3.49453   NaN   \n",
      "1984-03-04 06:00:00 1984-03-04 06:00:00  1984     3   4     6  3.24567   NaN   \n",
      "1984-03-05 12:00:00 1984-03-05 12:00:00  1984     3   5    12  3.89541   NaN   \n",
      "1984-03-05 18:00:00 1984-03-05 18:00:00  1984     3   5    18  5.70983   NaN   \n",
      "1984-03-06 18:00:00 1984-03-06 18:00:00  1984     3   6    18  4.36439   NaN   \n",
      "1984-03-07 12:00:00 1984-03-07 12:00:00  1984     3   7    12  3.57281   NaN   \n",
      "1984-03-08 12:00:00 1984-03-08 12:00:00  1984     3   8    12  2.92309   NaN   \n",
      "1984-03-09 06:00:00 1984-03-09 06:00:00  1984     3   9     6  4.48241   NaN   \n",
      "1984-03-09 12:00:00 1984-03-09 12:00:00  1984     3   9    12  1.13027   NaN   \n",
      "\n",
      "                       ws_06    ws_12    ws_18  \n",
      "date_time                                       \n",
      "1984-03-01 12:00:00      NaN  5.16082      NaN  \n",
      "1984-03-02 12:00:00      NaN  3.49453      NaN  \n",
      "1984-03-04 06:00:00  3.24567      NaN      NaN  \n",
      "1984-03-05 12:00:00      NaN  3.89541      NaN  \n",
      "1984-03-05 18:00:00      NaN      NaN  5.70983  \n",
      "1984-03-06 18:00:00      NaN      NaN  4.36439  \n",
      "1984-03-07 12:00:00      NaN  3.57281      NaN  \n",
      "1984-03-08 12:00:00      NaN  2.92309      NaN  \n",
      "1984-03-09 06:00:00  4.48241      NaN      NaN  \n",
      "1984-03-09 12:00:00      NaN  1.13027      NaN  \n"
     ]
    }
   ],
   "source": [
    "print(wind[0:10])"
   ]
  },
  {
   "cell_type": "code",
   "execution_count": 151,
   "metadata": {
    "collapsed": false
   },
   "outputs": [
    {
     "data": {
      "text/html": [
       "<div>\n",
       "<table border=\"1\" class=\"dataframe\">\n",
       "  <thead>\n",
       "    <tr style=\"text-align: right;\">\n",
       "      <th></th>\n",
       "      <th></th>\n",
       "      <th>date_time</th>\n",
       "      <th>day</th>\n",
       "      <th>hour</th>\n",
       "      <th>ws</th>\n",
       "      <th>ws_0</th>\n",
       "      <th>ws_06</th>\n",
       "      <th>ws_12</th>\n",
       "      <th>ws_18</th>\n",
       "    </tr>\n",
       "    <tr>\n",
       "      <th>year</th>\n",
       "      <th>month</th>\n",
       "      <th></th>\n",
       "      <th></th>\n",
       "      <th></th>\n",
       "      <th></th>\n",
       "      <th></th>\n",
       "      <th></th>\n",
       "      <th></th>\n",
       "      <th></th>\n",
       "    </tr>\n",
       "  </thead>\n",
       "  <tbody>\n",
       "    <tr>\n",
       "      <th rowspan=\"5\" valign=\"top\">1984</th>\n",
       "      <th>10</th>\n",
       "      <td>1</td>\n",
       "      <td>1</td>\n",
       "      <td>1</td>\n",
       "      <td>1</td>\n",
       "      <td>0</td>\n",
       "      <td>1</td>\n",
       "      <td>0</td>\n",
       "      <td>0</td>\n",
       "    </tr>\n",
       "    <tr>\n",
       "      <th>12</th>\n",
       "      <td>4</td>\n",
       "      <td>4</td>\n",
       "      <td>4</td>\n",
       "      <td>4</td>\n",
       "      <td>0</td>\n",
       "      <td>1</td>\n",
       "      <td>3</td>\n",
       "      <td>0</td>\n",
       "    </tr>\n",
       "    <tr>\n",
       "      <th>3</th>\n",
       "      <td>43</td>\n",
       "      <td>43</td>\n",
       "      <td>43</td>\n",
       "      <td>43</td>\n",
       "      <td>0</td>\n",
       "      <td>16</td>\n",
       "      <td>18</td>\n",
       "      <td>9</td>\n",
       "    </tr>\n",
       "    <tr>\n",
       "      <th>4</th>\n",
       "      <td>2</td>\n",
       "      <td>2</td>\n",
       "      <td>2</td>\n",
       "      <td>2</td>\n",
       "      <td>0</td>\n",
       "      <td>1</td>\n",
       "      <td>1</td>\n",
       "      <td>0</td>\n",
       "    </tr>\n",
       "    <tr>\n",
       "      <th>5</th>\n",
       "      <td>1</td>\n",
       "      <td>1</td>\n",
       "      <td>1</td>\n",
       "      <td>1</td>\n",
       "      <td>0</td>\n",
       "      <td>0</td>\n",
       "      <td>0</td>\n",
       "      <td>1</td>\n",
       "    </tr>\n",
       "  </tbody>\n",
       "</table>\n",
       "</div>"
      ],
      "text/plain": [
       "            date_time  day  hour  ws  ws_0  ws_06  ws_12  ws_18\n",
       "year month                                                     \n",
       "1984 10             1    1     1   1     0      1      0      0\n",
       "     12             4    4     4   4     0      1      3      0\n",
       "     3             43   43    43  43     0     16     18      9\n",
       "     4              2    2     2   2     0      1      1      0\n",
       "     5              1    1     1   1     0      0      0      1"
      ]
     },
     "execution_count": 151,
     "metadata": {},
     "output_type": "execute_result"
    }
   ],
   "source": [
    "# Could I turn values to Nan's at this point?\n",
    "\n",
    "wind.groupby(['year', 'month']).count()[0:5]"
   ]
  },
  {
   "cell_type": "code",
   "execution_count": 152,
   "metadata": {
    "collapsed": false
   },
   "outputs": [
    {
     "name": "stdout",
     "output_type": "stream",
     "text": [
      "3.87528\n",
      "year  month\n",
      "1984  10        1\n",
      "      12        4\n",
      "      3        43\n",
      "      4         2\n",
      "      5         1\n",
      "Name: count, dtype: int64\n",
      "                  ws                 ws_0               ws_06                  \\\n",
      "                mean       std count mean std count      mean       std count   \n",
      "year month                                                                      \n",
      "1984 10     3.875280       NaN     1  NaN NaN     0  3.875280       NaN     1   \n",
      "     12     3.751893  1.428763     4  NaN NaN     0  5.055550       NaN     1   \n",
      "     3      4.978945  2.058805    43  NaN NaN     0  5.314532  1.809904    16   \n",
      "     4      4.845655  0.655552     2  NaN NaN     0  5.309200       NaN     1   \n",
      "\n",
      "               ws_12                    ws_18                 \n",
      "                mean       std count     mean      std count  \n",
      "year month                                                    \n",
      "1984 10          NaN       NaN     0      NaN      NaN     0  \n",
      "     12     3.317340  1.388895     3      NaN      NaN     0  \n",
      "     3      4.383862  2.067536    18  5.57251  2.36831     9  \n",
      "     4      4.382110       NaN     1      NaN      NaN     0  \n"
     ]
    }
   ],
   "source": [
    "group = wind.groupby(['year', 'month'])\n",
    "wind_group = group['ws','ws_0','ws_06','ws_12','ws_18'].agg(['mean','std','count'])\n",
    "\n",
    "print (wind_group['ws']['mean'][0])\n",
    "#print (wind_group['ws'])\n",
    "(wind_group.iloc[0,2]) \n",
    "\n",
    "# Need to find a way to loop over the rows\n",
    "#for x in wind_group.iloc[:,:]:\n",
    "    #print (x)\n",
    "    #if wind_group['ws']['count'][x] < 10: wind_group['ws']['mean'][x] == 0\n",
    "\n",
    "print (wind_group['ws']['count'][0:5])\n",
    "\n",
    "print (wind_group[0:4])"
   ]
  },
  {
   "cell_type": "code",
   "execution_count": 107,
   "metadata": {
    "collapsed": false
   },
   "outputs": [
    {
     "name": "stdout",
     "output_type": "stream",
     "text": [
      "1.0\n",
      "0.0\n",
      "5.3092\n"
     ]
    }
   ],
   "source": [
    "print (wind_group.iloc[0,2]) # [n,m] where n is the row, and m = 2 takes us to count for ws\n",
    "print (wind_group.iloc[0,5]) # m = 5 takes us to count for ws_0\n",
    "print (wind_group.iloc[3,6]) # n = 1984,3 "
   ]
  },
  {
   "cell_type": "code",
   "execution_count": 136,
   "metadata": {
    "collapsed": false
   },
   "outputs": [
    {
     "name": "stdout",
     "output_type": "stream",
     "text": [
      "ws\n",
      "meanf\n",
      "ws\n",
      "sdf\n",
      "ws_0\n",
      "meanf\n",
      "ws_0\n",
      "sdf\n",
      "ws_06\n",
      "meanf\n",
      "ws_06\n",
      "sdf\n",
      "ws_12\n",
      "meanf\n",
      "ws_12\n",
      "sdf\n",
      "ws_18\n",
      "meanf\n",
      "ws_18\n",
      "sdf\n"
     ]
    }
   ],
   "source": [
    "# For every row 0,3,6,9,12,15th element will be nan, if column 2 in front is less than 10\n",
    "# how to loop over each row? Here we do columns\n",
    "\n",
    "for name, group in wind_group:\n",
    "    print(name)\n",
    "    print(group)"
   ]
  },
  {
   "cell_type": "markdown",
   "metadata": {},
   "source": [
    "Here, finally, is the solution I was looking for.\n",
    "I made two functions to pass to aggregate - the reason this didn't work before as I was trying to use an else:, but as soon as I remove that it works, plus it automatically fills in nans where condition is not met. \n",
    "It has to be two seperate functions and they must be fed to agg() as a list []."
   ]
  },
  {
   "cell_type": "code",
   "execution_count": 133,
   "metadata": {
    "collapsed": false
   },
   "outputs": [
    {
     "name": "stdout",
     "output_type": "stream",
     "text": [
      "            date_time  day  hour  ws  ws_0  ws_06  ws_12  ws_18\n",
      "year month                                                     \n",
      "1984 10             1    1     1   1     0      1      0      0\n",
      "     12             4    4     4   4     0      1      3      0\n",
      "     3             43   43    43  43     0     16     18      9\n",
      "     4              2    2     2   2     0      1      1      0\n",
      "     5              1    1     1   1     0      0      0      1\n",
      "     7              5    5     5   5     0      1      4      0\n",
      "     8             12   12    12  12     0      4      8      0\n",
      "1985 1              1    1     1   1     0      1      0      0\n",
      "     11             4    4     4   4     0      2      1      1\n",
      "     12            32   32    32  32     0     15     14      3\n",
      "                  ws            ws_0         ws_06               ws_12  \\\n",
      "               meanf       sdf meanf sdf     meanf       sdf     meanf   \n",
      "year month                                                               \n",
      "1984 10          NaN       NaN   NaN NaN       NaN       NaN       NaN   \n",
      "     12          NaN       NaN   NaN NaN       NaN       NaN       NaN   \n",
      "     3      4.978945  2.058805   NaN NaN  5.314532  1.809904  4.383862   \n",
      "     4           NaN       NaN   NaN NaN       NaN       NaN       NaN   \n",
      "     5           NaN       NaN   NaN NaN       NaN       NaN       NaN   \n",
      "     7           NaN       NaN   NaN NaN       NaN       NaN       NaN   \n",
      "     8      4.418183  0.895827   NaN NaN       NaN       NaN       NaN   \n",
      "1985 1           NaN       NaN   NaN NaN       NaN       NaN       NaN   \n",
      "     11          NaN       NaN   NaN NaN       NaN       NaN       NaN   \n",
      "     12     5.542846  1.845311   NaN NaN  5.786211  1.227834  5.368617   \n",
      "1986 1      4.244412  1.007182   NaN NaN  4.639812  1.058403       NaN   \n",
      "     10          NaN       NaN   NaN NaN       NaN       NaN       NaN   \n",
      "     12     5.111817  1.802437   NaN NaN  4.896018  1.233143  4.976166   \n",
      "     2      4.836580  1.580973   NaN NaN  4.578693  1.117222  4.823697   \n",
      "     3      5.117362  1.499333   NaN NaN  5.076877  1.174299  5.062529   \n",
      "     4      4.509247  1.380453   NaN NaN  4.915595  1.001757  4.290779   \n",
      "     5      5.335420  1.142215   NaN NaN  5.545688  0.939265  5.210967   \n",
      "     6      4.528682  1.621170   NaN NaN       NaN       NaN       NaN   \n",
      "     7      3.478928  1.413347   NaN NaN       NaN       NaN       NaN   \n",
      "     8      3.888560  1.222490   NaN NaN       NaN       NaN  4.111336   \n",
      "\n",
      "                     ws_18      \n",
      "                 sdf meanf sdf  \n",
      "year month                      \n",
      "1984 10          NaN   NaN NaN  \n",
      "     12          NaN   NaN NaN  \n",
      "     3      2.067536   NaN NaN  \n",
      "     4           NaN   NaN NaN  \n",
      "     5           NaN   NaN NaN  \n",
      "     7           NaN   NaN NaN  \n",
      "     8           NaN   NaN NaN  \n",
      "1985 1           NaN   NaN NaN  \n",
      "     11          NaN   NaN NaN  \n",
      "     12     2.479992   NaN NaN  \n",
      "1986 1           NaN   NaN NaN  \n",
      "     10          NaN   NaN NaN  \n",
      "     12     2.191057   NaN NaN  \n",
      "     2      1.840263   NaN NaN  \n",
      "     3      1.919998   NaN NaN  \n",
      "     4      1.717484   NaN NaN  \n",
      "     5      1.382311   NaN NaN  \n",
      "     6           NaN   NaN NaN  \n",
      "     7           NaN   NaN NaN  \n",
      "     8      0.973320   NaN NaN  \n"
     ]
    }
   ],
   "source": [
    "group = wind.groupby(['year', 'month'])\n",
    "\n",
    "def meanf(x):\n",
    "    if x.count() > 10:\n",
    "        return x.mean()\n",
    "    #else:\n",
    "       # return x[:]==0\n",
    "\n",
    "def sdf(x):\n",
    "    if x.count() > 10:\n",
    "        return x.std()\n",
    "    #else:\n",
    "       # return x[:]==0    \n",
    "\n",
    "wind_group[0:3]        \n",
    "\n",
    "wind_group = group['ws','ws_0','ws_06','ws_12','ws_18'].agg([meanf,sdf])\n",
    "\n",
    "print (wind.groupby(['year', 'month']).count()[0:10])\n",
    "print (wind_group[0:20])\n"
   ]
  }
 ],
 "metadata": {
  "kernelspec": {
   "display_name": "Python 3",
   "language": "python",
   "name": "python3"
  },
  "language_info": {
   "codemirror_mode": {
    "name": "ipython",
    "version": 3
   },
   "file_extension": ".py",
   "mimetype": "text/x-python",
   "name": "python",
   "nbconvert_exporter": "python",
   "pygments_lexer": "ipython3",
   "version": "3.5.1"
  }
 },
 "nbformat": 4,
 "nbformat_minor": 0
}
