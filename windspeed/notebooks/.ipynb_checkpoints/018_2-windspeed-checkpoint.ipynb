{
 "cells": [
  {
   "cell_type": "code",
   "execution_count": 41,
   "metadata": {
    "collapsed": false
   },
   "outputs": [],
   "source": [
    "import pandas as pd\n",
    "import numpy as np\n",
    "from datetime import datetime\n",
    "\n",
    "column_names=[\"year\",\"month\",\"day\",\"hour\",\"ws\"]\n",
    "dtype={\"year\":int,\"month\":int,\"day\":int,\"hour\":int,\"ws\":float}\n",
    "\n",
    "datafile='/home/sophie/projects/windspeed/data/61401BirMoghrein_allwinds.txt'\n",
    "\n",
    "#specify the columns you want to group together. Can't include hour at this point as it is not in the right format. \n",
    "date_spec = {'date_time': [0,1,2]}\n",
    "\n",
    "#when you use keep_dat_col it keeps them as objects, not as the dtype you read them in as.\n",
    "wind = pd.read_csv(datafile, sep=\" \", names=column_names, parse_dates=date_spec, keep_date_col=True, index_col=False ) \n",
    "\n",
    "#Dealing with hour - going from 600, 1200 etc to 6,12, 18\n",
    "wind[\"hour\"]=(wind[\"hour\"]/100).astype(int)\n",
    "\n",
    "#combining year, month, day that were parsed together into date_time with hour, which is now in the correct format.\n",
    "wind['date_time'] = pd.to_datetime(wind.date_time) + wind.hour.astype('timedelta64[h]')\n",
    "\n",
    "#First need to change year,month, day into ints\n",
    "wind[['year','month','day']]=wind[['year','month','day']].astype(int)"
   ]
  },
  {
   "cell_type": "markdown",
   "metadata": {},
   "source": [
    "Get data ready to be plotted using yesterdays code, in as few lines as possible!"
   ]
  },
  {
   "cell_type": "code",
   "execution_count": 42,
   "metadata": {
    "collapsed": false
   },
   "outputs": [
    {
     "name": "stdout",
     "output_type": "stream",
     "text": [
      "         day  hour       ws\n",
      "0  17.015873  12.0  5.06084\n",
      "1  17.015873  12.0  5.06084\n",
      "2  17.015873  12.0  5.06084\n",
      "3  17.015873  12.0  5.06084\n",
      "4  17.015873  12.0  5.06084\n"
     ]
    }
   ],
   "source": [
    "#create functions to make mean and std ws to be passed to transform\n",
    "f = lambda x: x.mean()\n",
    "g = lambda x: x.std()\n",
    "\n",
    "#create two new arrays with mean and std averaged over year and month\n",
    "wind_mean = wind.groupby(['year','month']).transform(f)\n",
    "wind_std = wind.groupby(['year','month']).transform(g)\n",
    "\n",
    "print wind_mean[0:5]\n",
    "\n",
    "#make two new columns on wind datafram and add mean and std\n",
    "wind['mean_ws'],wind['std_ws'] = wind_mean['ws'],wind_std['ws']\n"
   ]
  },
  {
   "cell_type": "markdown",
   "metadata": {},
   "source": [
    "Ready to plot a timeseries now!"
   ]
  },
  {
   "cell_type": "code",
   "execution_count": 43,
   "metadata": {
    "collapsed": false
   },
   "outputs": [
    {
     "data": {
      "text/plain": [
       "<matplotlib.axes._subplots.AxesSubplot at 0x7f337c9b0cd0>"
      ]
     },
     "execution_count": 43,
     "metadata": {},
     "output_type": "execute_result"
    },
    {
     "data": {
      "image/png": "[encoded data removed]",
      "text/plain": [
       "<matplotlib.figure.Figure at 0x7f337ca4ce10>"
      ]
     },
     "metadata": {},
     "output_type": "display_data"
    }
   ],
   "source": [
    "%matplotlib inline\n",
    "\n",
    "import matplotlib.pyplot as plt\n",
    "\n",
    "#Need this line so .plot will automatically use date_time to label the x axis.\n",
    "wind = wind.set_index(wind['date_time'])\n",
    "\n",
    "#This is how to select a time range. You write a datetime object string\n",
    "#Not sure how to be a bit more exact with this?\n",
    "\n",
    "#make the plot bigger use figsize\n",
    "wind['mean_ws']['1999-05-3':'1999-05-15'].plot(yerr=wind['std_ws'], figsize=(8,8))"
   ]
  },
  {
   "cell_type": "markdown",
   "metadata": {},
   "source": [
    "The problem shown in the plot, is that it plots the same value over and over again. Somehow need extract the mean for each month, while still retaining the datetime information.\n",
    "\n",
    "I don't know how to keep the date/time information when I make a groupby object. It stores it in a tuple, and it would be ideal to change that tuple into a datetime object"
   ]
  },
  {
   "cell_type": "code",
   "execution_count": 44,
   "metadata": {
    "collapsed": false
   },
   "outputs": [
    {
     "name": "stdout",
     "output_type": "stream",
     "text": [
      "                              date_time       ws   mean_ws   std_ws\n",
      "date_time                                                          \n",
      "1999-04-27 12:00:00 1999-04-27 12:00:00  8.59444  5.435391  1.78333\n",
      "1999-04-27 15:00:00 1999-04-27 15:00:00  8.22310  5.435391  1.78333\n",
      "1999-04-27 18:00:00 1999-04-27 18:00:00  8.06093  5.435391  1.78333\n",
      "1999-04-28 06:00:00 1999-04-28 06:00:00  5.35179  5.435391  1.78333\n",
      "1999-04-28 09:00:00 1999-04-28 09:00:00  6.07576  5.435391  1.78333\n",
      "1999-04-28 12:00:00 1999-04-28 12:00:00  5.09539  5.435391  1.78333\n",
      "1999-04-28 15:00:00 1999-04-28 15:00:00  4.11419  5.435391  1.78333\n",
      "1999-04-29 09:00:00 1999-04-29 09:00:00  4.36738  5.435391  1.78333\n",
      "1999-04-29 12:00:00 1999-04-29 12:00:00  2.80795  5.435391  1.78333\n",
      "1999-04-29 18:00:00 1999-04-29 18:00:00  4.56977  5.435391  1.78333\n",
      "1999-04-30 06:00:00 1999-04-30 06:00:00  4.25702  5.435391  1.78333\n",
      "1999-04-30 09:00:00 1999-04-30 09:00:00  4.11467  5.435391  1.78333\n",
      "1999-04-30 12:00:00 1999-04-30 12:00:00  3.67828  5.435391  1.78333\n",
      "1999-04-30 15:00:00 1999-04-30 15:00:00  5.19441  5.435391  1.78333\n",
      "1999-04-30 18:00:00 1999-04-30 18:00:00  7.02578  5.435391  1.78333\n"
     ]
    }
   ],
   "source": [
    "#select this timerange to look at the data\n",
    "print wind[['date_time','ws','mean_ws','std_ws']][(wind['year']== 1999) & (wind['month'] == 4)]\n"
   ]
  },
  {
   "cell_type": "code",
   "execution_count": 45,
   "metadata": {
    "collapsed": false
   },
   "outputs": [
    {
     "name": "stdout",
     "output_type": "stream",
     "text": [
      "Int64Index([1984, 1985, 1986, 1987, 1988, 1989, 1990, 1991, 1992, 1993, 1994,\n",
      "            1995, 1996, 1997, 1998, 1999, 2000, 2001, 2002, 2003, 2004, 2005,\n",
      "            2006, 2007, 2008, 2009, 2010, 2011, 2012],\n",
      "           dtype='int64', name=u'year')\n"
     ]
    }
   ],
   "source": [
    "#Try just plotting the grouped array, there might be less duplication of points\n",
    "#creates a group object, which you can then apply aggregate\n",
    "grouped = wind.groupby(['year','month'])\n",
    "\n",
    "#we only want ws in w. Here we get mean and std added on.\n",
    "w = grouped['ws'].aggregate([np.mean,np.std])\n",
    "\n",
    "#prints out the first level of the multiIndex - year. A index of 1 gives the months\n",
    "print w.index.levels[0]\n"
   ]
  },
  {
   "cell_type": "code",
   "execution_count": 46,
   "metadata": {
    "collapsed": false
   },
   "outputs": [
    {
     "name": "stdout",
     "output_type": "stream",
     "text": [
      "                mean       std       date\n",
      "1984-03-01  5.060840  2.280239 1984-03-01\n",
      "1984-04-01  5.219944  1.490117 1984-04-01\n",
      "1984-05-01  5.595610  1.396281 1984-05-01\n",
      "1984-06-01  6.520606  1.927716 1984-06-01\n",
      "1984-07-01  6.095756  1.958878 1984-07-01\n"
     ]
    }
   ],
   "source": [
    "year_new=[]\n",
    "\n",
    "#This is one way to convert a MultiIndex\n",
    "for i in range(0,len(w)):\n",
    "    year_n, month_n = w.index[i]     \n",
    "    year_new.append(datetime(year_n,month_n,1))\n",
    "\n",
    "\n",
    "#Append the array year_new to the groupby object and plot directly from that object.\n",
    "#This gives better date labeling on the x-axis\n",
    "w['date'] = year_new \n",
    "\n",
    "#Change the index of w to our new datetime objects\n",
    "w.index = year_new\n",
    "print w[0:5]"
   ]
  },
  {
   "cell_type": "code",
   "execution_count": 47,
   "metadata": {
    "collapsed": false
   },
   "outputs": [
    {
     "data": {
      "text/plain": [
       "<matplotlib.axes._subplots.AxesSubplot at 0x7f337c900450>"
      ]
     },
     "execution_count": 47,
     "metadata": {},
     "output_type": "execute_result"
    },
    {
     "data": {
      "image/png": "[encoded data removed]",
      "text/plain": [
       "<matplotlib.figure.Figure at 0x7f337c8ff8d0>"
      ]
     },
     "metadata": {},
     "output_type": "display_data"
    }
   ],
   "source": [
    "#We now have two options for selecting subsections\n",
    "w['mean'][0:15].plot(yerr=w['std'])"
   ]
  },
  {
   "cell_type": "code",
   "execution_count": 48,
   "metadata": {
    "collapsed": false
   },
   "outputs": [
    {
     "data": {
      "text/plain": [
       "<matplotlib.axes._subplots.AxesSubplot at 0x7f337c802610>"
      ]
     },
     "execution_count": 48,
     "metadata": {},
     "output_type": "execute_result"
    },
    {
     "data": {
      "image/png": "[encoded data removed]",
      "text/plain": [
       "<matplotlib.figure.Figure at 0x7f337c820f90>"
      ]
     },
     "metadata": {},
     "output_type": "display_data"
    }
   ],
   "source": [
    "w['mean']['1998-05':'1998-10'].plot(yerr=w['std'])"
   ]
  },
  {
   "cell_type": "markdown",
   "metadata": {},
   "source": [
    "I have just discovered an alternative to using the loop: reset_index(). I like this very much!"
   ]
  },
  {
   "cell_type": "code",
   "execution_count": 61,
   "metadata": {
    "collapsed": false
   },
   "outputs": [
    {
     "name": "stdout",
     "output_type": "stream",
     "text": [
      "['year', 'month', 'mean', 'std']\n",
      "year       int64\n",
      "month      int64\n",
      "mean     float64\n",
      "std      float64\n",
      "dtype: object\n"
     ]
    }
   ],
   "source": [
    "#A copy of the above so I can experiment with the original object again.\n",
    "p = grouped['ws'].aggregate([np.mean,np.std])\n",
    "\n",
    "##No looping this time - changed the groupby object into a dataFrame and there is no MultiIndex there now.\n",
    "df = p.reset_index()\n",
    "\n",
    "print list(df)\n",
    "print df.dtypes\n",
    "\n",
    "##Couldn't get a datetime index out of the year and month, not sure why."
   ]
  },
  {
   "cell_type": "code",
   "execution_count": null,
   "metadata": {
    "collapsed": true
   },
   "outputs": [],
   "source": [
    "#Yes! This is what I wanted. \n",
    "df['mean']['1999-05':'1999-08'].plot(yerr=df['std'], figsize=(8,8))\n",
    "\n",
    "plt.fill_between(df.index, (df['mean'] + df['std']), (df['mean'] - df['std']), color = 'b', alpha = 0.2) "
   ]
  },
  {
   "cell_type": "markdown",
   "metadata": {},
   "source": [
    "Another option is to take slices from the original array which has the transformed mean and std values attached as columns"
   ]
  },
  {
   "cell_type": "code",
   "execution_count": null,
   "metadata": {
    "collapsed": false
   },
   "outputs": [],
   "source": []
  },
  {
   "cell_type": "code",
   "execution_count": null,
   "metadata": {
    "collapsed": true
   },
   "outputs": [],
   "source": []
  }
 ],
 "metadata": {
  "kernelspec": {
   "display_name": "Python 3",
   "language": "python",
   "name": "python3"
  },
  "language_info": {
   "codemirror_mode": {
    "name": "ipython",
    "version": 3
   },
   "file_extension": ".py",
   "mimetype": "text/x-python",
   "name": "python",
   "nbconvert_exporter": "python",
   "pygments_lexer": "ipython3",
   "version": "3.5.1"
  }
 },
 "nbformat": 4,
 "nbformat_minor": 0
}
