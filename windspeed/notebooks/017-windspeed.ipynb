{
 "cells": [
  {
   "cell_type": "code",
   "execution_count": 139,
   "metadata": {
    "collapsed": false
   },
   "outputs": [],
   "source": [
    "#Make a timeseries that is easy to take slices out. So you can investigate little sections in more detail.\n",
    "#Try making a dict\n",
    "\n",
    "import pandas as pd\n",
    "import numpy as np\n",
    "from datetime import datetime\n",
    "\n",
    "column_names=[\"year\",\"month\",\"day\",\"hour\",\"ws\"]\n",
    "dtype={\"year\":int,\"month\":int,\"day\":int,\"hour\":int,\"ws\":float}\n",
    "\n",
    "datafile='/home/sophie/projects/windspeed/data/61401BirMoghrein_allwinds.txt'\n",
    "\n",
    "#specify the columns you want to group together. Can't include hour at this point as it is not in the right format. \n",
    "date_spec = {'date_time': [0,1,2]}\n",
    "\n",
    "#when you use keep_dat_col it keeps them as objects, not as the dtype you read them in as.\n",
    "wind = pd.read_csv(datafile, sep=\" \", names=column_names, parse_dates=date_spec, keep_date_col=True, index_col=False ) \n",
    "\n",
    "#Dealing with hour - going from 600, 1200 etc to 6,12, 18\n",
    "wind[\"hour\"]=(wind[\"hour\"]/100).astype(int)\n",
    "\n",
    "#combining year, month, day that were parsed together into date_time with hour, which is now in the correct format.\n",
    "wind['date_time'] = pd.to_datetime(wind.date_time) + wind.hour.astype('timedelta64[h]')\n"
   ]
  },
  {
   "cell_type": "markdown",
   "metadata": {},
   "source": [
    "The aim here is to produce an array the same size as wind, but with two more columns with the mean and std for each month. "
   ]
  },
  {
   "cell_type": "code",
   "execution_count": 140,
   "metadata": {
    "collapsed": false
   },
   "outputs": [
    {
     "name": "stdout",
     "output_type": "stream",
     "text": [
      "year  month\n",
      "1984  10       4.461757\n",
      "      11       4.610763\n",
      "      12       4.471414\n",
      "      3        5.060840\n",
      "      4        5.219944\n",
      "      5        5.595610\n",
      "      6        6.520606\n",
      "      7        6.095756\n",
      "      8        6.809480\n",
      "      9        5.542466\n",
      "Name: mean, dtype: float64\n"
     ]
    }
   ],
   "source": [
    "#creates a group object, which you can then apply aggregate\n",
    "grouped = wind.groupby(['year','month'])\n",
    "\n",
    "#we only want ws in w. Here we get mean and std added on.\n",
    "w = grouped['ws'].aggregate([np.mean,np.std])\n",
    "\n",
    "print w['mean'][0:10]"
   ]
  },
  {
   "cell_type": "code",
   "execution_count": 141,
   "metadata": {
    "collapsed": false
   },
   "outputs": [
    {
     "name": "stdout",
     "output_type": "stream",
     "text": [
      "5.06083952381\n"
     ]
    }
   ],
   "source": [
    "\n",
    "##########################################################################\n",
    "#check that this is averaging in the way I think it is! By year, then month.\n",
    "#extract just the values for 1984, month 10\n",
    "\n",
    "#First need to change year,month, day into ints\n",
    "wind[['year','month','day']]=wind[['year','month','day']].astype(int)\n",
    "\n",
    "#Just needed brackets around each condition!\n",
    "onemonth = wind[(wind['year']== 1984) & (wind['month'] == 3)]\n",
    "print onemonth['ws'].mean()"
   ]
  },
  {
   "cell_type": "markdown",
   "metadata": {},
   "source": [
    "There results above prove that groupby() does what I want! However it is a shame that I can't do it using the datetime index column. "
   ]
  },
  {
   "cell_type": "code",
   "execution_count": 142,
   "metadata": {
    "collapsed": false
   },
   "outputs": [
    {
     "name": "stdout",
     "output_type": "stream",
     "text": [
      "         day  hour       ws\n",
      "0  17.015873  12.0  5.06084\n",
      "1  17.015873  12.0  5.06084\n",
      "2  17.015873  12.0  5.06084\n",
      "3  17.015873  12.0  5.06084\n",
      "4  17.015873  12.0  5.06084\n",
      "29372\n"
     ]
    }
   ],
   "source": [
    "#Need to extend the averaged values out into an array the same size as wind. I think transform is needed.\n",
    "#From the documentation http://pandas.pydata.org/pandas-docs/stable/groupby.html#transformation \n",
    "#f = lambda x: x.fillna(x.mean())\n",
    "#transformed = grouped.transform(f)\n",
    "\n",
    "#####################\n",
    "#This works!\n",
    "f = lambda x: x.mean()\n",
    "g = lambda x: x.std()\n",
    "\n",
    "##At this stage transformed is a new object, index is not in any way related to our original wind df\n",
    "transformed = grouped.transform(f)\n",
    "\n",
    "print transformed.head()\n",
    "print len(transformed)"
   ]
  },
  {
   "cell_type": "code",
   "execution_count": 164,
   "metadata": {
    "collapsed": false
   },
   "outputs": [],
   "source": [
    "#This also works like above but skips the step where you make grouped.\n",
    "#This time I am continuing on to make std and add them both to original wind df\n",
    "wind_mean = wind.groupby(['year','month']).transform(f)\n",
    "wind_std = wind.groupby(['year','month']).transform(g)\n"
   ]
  },
  {
   "cell_type": "code",
   "execution_count": 170,
   "metadata": {
    "collapsed": false
   },
   "outputs": [
    {
     "name": "stdout",
     "output_type": "stream",
     "text": [
      "            date_time  year  month  day  hour       ws  mean_ws    std_ws\n",
      "0 1984-03-01 06:00:00  1984      3    1     6  3.54349  5.06084  2.280239\n",
      "1 1984-03-01 12:00:00  1984      3    1    12  1.86284  5.06084  2.280239\n",
      "2 1984-03-01 18:00:00  1984      3    1    18  1.01765  5.06084  2.280239\n",
      "3 1984-03-02 06:00:00  1984      3    2     6  2.29602  5.06084  2.280239\n",
      "4 1984-03-02 12:00:00  1984      3    2    12  4.95783  5.06084  2.280239\n",
      "date_time    datetime64[ns]\n",
      "year                  int64\n",
      "month                 int64\n",
      "day                   int64\n",
      "hour                  int64\n",
      "ws                  float64\n",
      "mean_ws             float64\n",
      "std_ws              float64\n",
      "dtype: object\n"
     ]
    }
   ],
   "source": [
    "#This line seems to do what the next two lines do together\n",
    "wind['mean_ws'],wind['std_ws'] = wind_mean['ws'],wind_std['ws']\n",
    "\n",
    "#A more lengthy way to do the above.\n",
    "#wind['mean_ws'] = pd.Series(wind_mean['ws'], index = wind.index)\n",
    "#wind['std_ws'] = pd.Series(wind_std['ws'], index = wind.index)\n",
    "\n",
    "#This is exactly what I wanted.\n",
    "print wind.head()\n",
    "\n",
    "#this shows that the two extra columns have been added.\n",
    "print wind.dtypes"
   ]
  },
  {
   "cell_type": "markdown",
   "metadata": {},
   "source": [
    "Now I have a dataframe which has two extra columns - mean_ws and std_ws. These are calculated monthly and that value is given to each of rows in the original dataframe. This allows for easy plotting of different frequency averaging on the timeseries."
   ]
  },
  {
   "cell_type": "code",
   "execution_count": 171,
   "metadata": {
    "collapsed": false
   },
   "outputs": [
    {
     "data": {
      "text/plain": [
       "<matplotlib.axes._subplots.AxesSubplot at 0x7fd28915f890>"
      ]
     },
     "execution_count": 171,
     "metadata": {},
     "output_type": "execute_result"
    },
    {
     "data": {
      "image/png": "[encoded data removed]",
      "text/plain": [
       "<matplotlib.figure.Figure at 0x7fd289425650>"
      ]
     },
     "metadata": {},
     "output_type": "display_data"
    }
   ],
   "source": [
    "%matplotlib inline\n",
    "\n",
    "import matplotlib.pyplot as plt\n",
    "\n",
    "#compare the two. This allows you to quickly see the impact of different frequency averaging.\n",
    "compare = pd.DataFrame({'Original':wind['ws'], 'Transformed':wind['mean_ws']})\n",
    "\n",
    "compare.plot()\n"
   ]
  },
  {
   "cell_type": "code",
   "execution_count": 188,
   "metadata": {
    "collapsed": false
   },
   "outputs": [
    {
     "name": "stdout",
     "output_type": "stream",
     "text": [
      "date_time    datetime64[ns]\n",
      "year                  int64\n",
      "month                 int64\n",
      "day                   int64\n",
      "hour                  int64\n",
      "ws                  float64\n",
      "mean_ws             float64\n",
      "std_ws              float64\n",
      "dtype: object\n"
     ]
    },
    {
     "data": {
      "image/png": "[encoded data removed]",
      "text/plain": [
       "<matplotlib.figure.Figure at 0x7fd2560d8d50>"
      ]
     },
     "metadata": {},
     "output_type": "display_data"
    }
   ],
   "source": [
    "# Now I want to plot the mean and standard deviation for each month\n",
    "\n",
    "wind = wind.set_index(wind['date_time'])#makes no difference to the key error below\n",
    "\n",
    "wind['mean_ws'].plot(xlim=('1990','1996'))\n",
    "\n",
    "#plt.errorbar(wind['mean_ws'],yerr=wind['std_ws'], linestyle=\"None\", marker=\"None\", color=\"green\")\n",
    "\n",
    "#plt.show()\n",
    "\n",
    "print wind.dtypes"
   ]
  },
  {
   "cell_type": "markdown",
   "metadata": {},
   "source": []
  }
 ],
 "metadata": {
  "kernelspec": {
   "display_name": "Python 2",
   "language": "python",
   "name": "python2"
  },
  "language_info": {
   "codemirror_mode": {
    "name": "ipython",
    "version": 2
   },
   "file_extension": ".py",
   "mimetype": "text/x-python",
   "name": "python",
   "nbconvert_exporter": "python",
   "pygments_lexer": "ipython2",
   "version": "2.7.11"
  }
 },
 "nbformat": 4,
 "nbformat_minor": 0
}
