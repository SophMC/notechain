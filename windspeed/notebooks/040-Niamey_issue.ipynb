{
 "cells": [
  {
   "cell_type": "code",
   "execution_count": 101,
   "metadata": {
    "collapsed": false
   },
   "outputs": [],
   "source": [
    "import os\n",
    "import pandas as pd\n",
    "import numpy as np\n",
    "import datetime as datetime\n",
    "import matplotlib.pyplot as plt\n",
    "%matplotlib inline\n",
    "\n",
    "CSal=['61024Agadez','61045Goure','61052Niamey','64753Faya',\n",
    "'61017Bilma']   \n",
    "\n",
    "fname = CSal[2]\n",
    "\n",
    "column_names=[\"year\",\"month\",\"day\",\"hour\",\"ws\"]\n",
    "dtype={\"year\":int,\"month\":int,\"day\":int,\"hour\":int,\"ws\":float}\n",
    "\n",
    "datafile='/home/sophie/projects/windspeed/data/%s_allwinds.txt' %fname\n",
    "\n",
    "# specify the columns you want to group together. Can't include hour at \n",
    "# this point as it is not in the right format. \n",
    "date_spec = {'date_time': [0,1,2]}\n",
    "\n",
    "# when you use keep_dat_col it keeps them as objects, not as the dtype you \n",
    "# read them in as.\n",
    "wind = pd.read_csv(datafile, sep=\" \", names=column_names, \n",
    "parse_dates=date_spec,   keep_date_col=True, index_col=False ) \n",
    "\n",
    "# Dealing with hour - going from 600, 1200 etc to 6,12, 18\n",
    "wind[\"hour\"]=(wind[\"hour\"]/100).astype(int)\n",
    "\n",
    "# combining year, month, day that were parsed together into date_time with \n",
    "# hour, which is now in the correct format.\n",
    "wind['date_time'] = pd.to_datetime(wind.date_time) + \\\n",
    "wind.hour.astype('timedelta64[h]')\n",
    "\n",
    "# make datetime the index before making subsections.\n",
    "wind.index = wind['date_time']  \n"
   ]
  },
  {
   "cell_type": "code",
   "execution_count": 102,
   "metadata": {
    "collapsed": false
   },
   "outputs": [
    {
     "name": "stdout",
     "output_type": "stream",
     "text": [
      "                              date_time  year month day  hour       ws\n",
      "date_time                                                             \n",
      "1999-03-16 11:00:00 1999-03-16 11:00:00  1999     3  16    11  1.72353\n",
      "2007-09-26 11:00:00 2007-09-26 11:00:00  2007     9  26    11  2.90644\n",
      "2007-09-26 11:00:00 2007-09-26 11:00:00  2007     9  26    11  2.90644\n"
     ]
    }
   ],
   "source": [
    "# I think the index has two identical values. Find them and see how this might have happened. \n",
    "print (wind[wind.duplicated()])"
   ]
  },
  {
   "cell_type": "code",
   "execution_count": 103,
   "metadata": {
    "collapsed": false
   },
   "outputs": [
    {
     "name": "stdout",
     "output_type": "stream",
     "text": [
      "Empty DataFrame\n",
      "Columns: [date_time, year, month, day, hour, ws]\n",
      "Index: []\n"
     ]
    }
   ],
   "source": [
    "# By not specifying a named column it will check the whole row for duplicates\n",
    "wind.drop_duplicates(['date_time'],inplace=True)\n",
    "\n",
    "print (wind[wind.duplicated()])"
   ]
  },
  {
   "cell_type": "code",
   "execution_count": 104,
   "metadata": {
    "collapsed": false
   },
   "outputs": [
    {
     "data": {
      "text/plain": [
       "1993-11-07 18:00:00    1\n",
       "2009-12-19 21:00:00    1\n",
       "2011-10-29 15:00:00    1\n",
       "1993-09-17 15:00:00    1\n",
       "1990-04-15 15:00:00    1\n",
       "1987-04-04 12:00:00    1\n",
       "1990-10-18 03:00:00    1\n",
       "1999-09-29 00:00:00    1\n",
       "2008-07-16 06:00:00    1\n",
       "2000-02-20 18:00:00    1\n",
       "2003-08-18 06:00:00    1\n",
       "2009-03-13 03:00:00    1\n",
       "2005-10-10 00:00:00    1\n",
       "2002-05-08 00:00:00    1\n",
       "1998-12-04 00:00:00    1\n",
       "1995-07-02 00:00:00    1\n",
       "1988-10-27 06:00:00    1\n",
       "1988-08-25 00:00:00    1\n",
       "1986-05-14 00:00:00    1\n",
       "1984-01-31 00:00:00    1\n",
       "2004-03-10 00:00:00    1\n",
       "2004-11-29 00:00:00    1\n",
       "1998-11-30 18:00:00    1\n",
       "2012-08-28 06:00:00    1\n",
       "1987-10-11 00:00:00    1\n",
       "1999-03-24 12:00:00    1\n",
       "1998-03-16 18:00:00    1\n",
       "2011-04-14 12:00:00    1\n",
       "1993-05-10 00:00:00    1\n",
       "2004-04-23 00:00:00    1\n",
       "                      ..\n",
       "2008-08-01 18:00:00    1\n",
       "2005-02-27 18:00:00    1\n",
       "2001-09-22 00:00:00    1\n",
       "1999-06-14 18:00:00    1\n",
       "1996-01-10 18:00:00    1\n",
       "2010-04-06 21:00:00    1\n",
       "2008-08-31 18:00:00    1\n",
       "1993-03-27 21:00:00    1\n",
       "1996-08-03 12:00:00    1\n",
       "1989-10-23 21:00:00    1\n",
       "1994-04-06 18:00:00    1\n",
       "2009-06-09 00:00:00    1\n",
       "2010-02-16 12:00:00    1\n",
       "1994-04-22 15:00:00    1\n",
       "2003-08-22 00:00:00    1\n",
       "1997-10-08 09:00:00    1\n",
       "2005-03-24 12:00:00    1\n",
       "2007-08-23 12:00:00    1\n",
       "2005-01-05 00:00:00    1\n",
       "1992-04-14 06:00:00    1\n",
       "2001-08-03 00:00:00    1\n",
       "1998-03-01 00:00:00    1\n",
       "1992-08-04 00:00:00    1\n",
       "1991-04-25 00:00:00    1\n",
       "1987-11-21 00:00:00    1\n",
       "1984-06-18 00:00:00    1\n",
       "1992-10-23 00:00:00    1\n",
       "1987-06-16 12:00:00    1\n",
       "2010-06-29 03:00:00    1\n",
       "2003-03-25 18:00:00    1\n",
       "Name: date_time, dtype: int64"
      ]
     },
     "execution_count": 104,
     "metadata": {},
     "output_type": "execute_result"
    }
   ],
   "source": [
    "wind.index.value_counts()"
   ]
  },
  {
   "cell_type": "code",
   "execution_count": 105,
   "metadata": {
    "collapsed": false
   },
   "outputs": [
    {
     "name": "stdout",
     "output_type": "stream",
     "text": [
      "                              date_time  year month day  hour       ws\n",
      "date_time                                                             \n",
      "1984-01-01 00:00:00 1984-01-01 00:00:00  1984     1   1     0  4.74925\n",
      "1984-01-01 06:00:00 1984-01-01 06:00:00  1984     1   1     6  5.32628\n",
      "1984-01-01 12:00:00 1984-01-01 12:00:00  1984     1   1    12  6.45924\n",
      "1984-01-01 18:00:00 1984-01-01 18:00:00  1984     1   1    18  4.52152\n",
      "1984-01-02 00:00:00 1984-01-02 00:00:00  1984     1   2     0  5.69514\n",
      "1984-01-02 06:00:00 1984-01-02 06:00:00  1984     1   2     6  5.33187\n",
      "1984-01-02 12:00:00 1984-01-02 12:00:00  1984     1   2    12  6.61845\n",
      "1984-01-02 18:00:00 1984-01-02 18:00:00  1984     1   2    18  4.67153\n",
      "1984-01-03 00:00:00 1984-01-03 00:00:00  1984     1   3     0  5.48648\n",
      "1984-01-03 06:00:00 1984-01-03 06:00:00  1984     1   3     6  5.20784\n",
      "1984-01-03 12:00:00 1984-01-03 12:00:00  1984     1   3    12  6.45309\n",
      "1984-01-03 18:00:00 1984-01-03 18:00:00  1984     1   3    18  4.46606\n",
      "1984-01-04 00:00:00 1984-01-04 00:00:00  1984     1   4     0  4.28929\n",
      "1984-01-04 06:00:00 1984-01-04 06:00:00  1984     1   4     6  4.57177\n",
      "1984-01-04 12:00:00 1984-01-04 12:00:00  1984     1   4    12  5.84002\n",
      "1984-01-04 18:00:00 1984-01-04 18:00:00  1984     1   4    18  3.88955\n",
      "1984-01-05 00:00:00 1984-01-05 00:00:00  1984     1   5     0  4.02874\n",
      "1984-01-05 06:00:00 1984-01-05 06:00:00  1984     1   5     6  3.90553\n",
      "1984-01-05 12:00:00 1984-01-05 12:00:00  1984     1   5    12  4.64891\n",
      "1984-01-05 18:00:00 1984-01-05 18:00:00  1984     1   5    18  3.30852\n",
      "['date_time', 'year', 'month', 'day', 'hour', 'ws']\n"
     ]
    }
   ],
   "source": [
    "print(wind[0:20])\n",
    "print(list(wind))\n",
    "# drop the date_time columns?\n",
    "\n",
    "wind.drop('date_time', axis=1, inplace=True)"
   ]
  },
  {
   "cell_type": "code",
   "execution_count": 107,
   "metadata": {
    "collapsed": false
   },
   "outputs": [],
   "source": [
    "def meanf(x):\n",
    "    if x.count() > 10:\n",
    "        return x.mean()\n",
    "def sdf(x):\n",
    "    if x.count() > 10:\n",
    "        return x.std()\n",
    "\n",
    "# Adds extra rows where value is kept if it meets isin() criteria. Nan if \n",
    "# it doesn't.\n",
    "wind['ws_0']= wind['ws'][wind['hour'].isin([0])]\n",
    "wind['ws_06']= wind['ws'][wind['hour'].isin([6])]\n",
    "wind['ws_12']= wind['ws'][wind['hour'].isin([12])]\n",
    "wind['ws_18']= wind['ws'][wind['hour'].isin([18])]\n",
    "\n",
    "group = wind.groupby(['year', 'month'])\n",
    "\n",
    "wind_group = group['ws','ws_0','ws_06','ws_12','ws_18'].agg([meanf,sdf])\n"
   ]
  }
 ],
 "metadata": {
  "kernelspec": {
   "display_name": "Python 3",
   "language": "python",
   "name": "python3"
  },
  "language_info": {
   "codemirror_mode": {
    "name": "ipython",
    "version": 3
   },
   "file_extension": ".py",
   "mimetype": "text/x-python",
   "name": "python",
   "nbconvert_exporter": "python",
   "pygments_lexer": "ipython3",
   "version": "3.5.1"
  }
 },
 "nbformat": 4,
 "nbformat_minor": 0
}
