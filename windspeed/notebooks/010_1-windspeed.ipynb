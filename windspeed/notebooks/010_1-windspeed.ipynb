{
 "cells": [
  {
   "cell_type": "code",
   "execution_count": 184,
   "metadata": {
    "collapsed": false
   },
   "outputs": [
    {
     "name": "stdout",
     "output_type": "stream",
     "text": [
      "               year         month           day          hour            ws\n",
      "count  29372.000000  29372.000000  29372.000000  29372.000000  29372.000000\n",
      "mean    1997.568058      6.460813     15.689160   1192.411140      5.479576\n",
      "std        7.985148      3.380070      8.809184    437.121055      1.993366\n",
      "min     1984.000000      1.000000      1.000000      0.000000      0.077814\n",
      "25%     1991.000000      4.000000      8.000000    900.000000      4.090943\n",
      "50%     1997.000000      6.000000     16.000000   1200.000000      5.421245\n",
      "75%     2005.000000      9.000000     23.000000   1500.000000      6.842833\n",
      "max     2012.000000     12.000000     31.000000   2100.000000     15.215400\n",
      "   year  month  day\n",
      "0  1984      3    1\n",
      "1  1984      3    1\n",
      "2  1984      3    1\n",
      "3  1984      3    2\n",
      "4  1984      3    2\n"
     ]
    }
   ],
   "source": [
    "import pandas as pd\n",
    "import numpy as np\n",
    "from datetime import datetime\n",
    "\n",
    "column_names=[\"year\",\"month\",\"day\",\"hour\",\"ws\"]\n",
    "dtype={\"year\":int,\"month\":int,\"day\":int,\"hour\":int,\"ws\":float}\n",
    "\n",
    "date_spec = {'date_time': [0,1,2]}\n",
    "\n",
    "datafile='/home/sophie/projects/windspeed/data/61401BirMoghrein_allwinds.txt'\n",
    "\n",
    "#using infer_datetime_format=True didn't help\n",
    "#when you use keep_dat_col it keeps them as objects, not as the dtype you read them in as.\n",
    "wind = pd.read_csv(datafile, sep=\" \", names=column_names, index_col=False ) \n",
    "print wind.describe()\n",
    "print wind[['year','month','day']][0:5]"
   ]
  },
  {
   "cell_type": "code",
   "execution_count": 185,
   "metadata": {
    "collapsed": false
   },
   "outputs": [
    {
     "name": "stdout",
     "output_type": "stream",
     "text": [
      "[1984 1985 1986 1987 1988 1989 1990 1991 1992 1993 1994 1995 1996 1997 1998\n",
      " 1999 2000 2001 2002 2003 2004 2005 2006 2007 2008 2009 2010 2011 2012]\n",
      "[ 3  4  5  6  7  8  9 10 11 12  1  2]\n",
      "[ 1  2  3  4  5 13 14 15 16 17 18 19 20 21 22 23 24 25 26 27 28 29 31  6  7\n",
      "  8  9 10 11 12 30]\n",
      "[ 600 1200 1800  900 1500 2100    0  300]\n"
     ]
    }
   ],
   "source": [
    "#checking what the unique values are in each column\n",
    "#A good check when you suspect discrete values\n",
    "for x in range(0,4): print wind[column_names[x]].unique()"
   ]
  },
  {
   "cell_type": "code",
   "execution_count": 186,
   "metadata": {
    "collapsed": false
   },
   "outputs": [
    {
     "name": "stdout",
     "output_type": "stream",
     "text": [
      "0    06\n",
      "1    12\n",
      "2    18\n",
      "3    06\n",
      "4    12\n",
      "Name: hour, dtype: object\n"
     ]
    }
   ],
   "source": [
    "wind[\"hour\"]=(wind[\"hour\"]/100).astype(int)\n",
    "wind[\"hour\"] = wind.hour.map(\"{:02}\".format)\n",
    "\n",
    "year = wind['year'].apply(str)[0:5]\n",
    "month = wind['month'].apply(str)[0:5]\n",
    "day = wind['day'].apply(str)[0:5]\n",
    "#hour = wind['hour'].apply(str)[0:5]; print hour\n",
    "hour = wind['hour'][0:5]; print hour\n"
   ]
  },
  {
   "cell_type": "code",
   "execution_count": 187,
   "metadata": {
    "collapsed": false
   },
   "outputs": [
    {
     "name": "stdout",
     "output_type": "stream",
     "text": [
      "0   1984-03-10 06:00:00\n",
      "1   1984-03-11 02:00:00\n",
      "2   1984-03-11 08:00:00\n",
      "3   1984-03-20 06:00:00\n",
      "4   1984-03-21 02:00:00\n",
      "dtype: datetime64[ns]\n"
     ]
    }
   ],
   "source": [
    "p = pd.to_datetime(year + month + day + hour, yearfirst=True, utc=True, format='%Y%m%d%H') ; print p"
   ]
  },
  {
   "cell_type": "code",
   "execution_count": 188,
   "metadata": {
    "collapsed": false
   },
   "outputs": [
    {
     "name": "stdout",
     "output_type": "stream",
     "text": [
      "0   1984-03-01 06:00:00\n",
      "1   1984-03-01 12:00:00\n",
      "2   1984-03-01 18:00:00\n",
      "3   1984-03-02 06:00:00\n",
      "4   1984-03-02 12:00:00\n",
      "Name: date_time, dtype: datetime64[ns]\n"
     ]
    }
   ],
   "source": [
    "#specify the columns you want to group together. Can't include hour at this point as it is not in the right format. \n",
    "date_spec = {'date_time': [0,1,2]}\n",
    "\n",
    "#when you use keep_dat_col it keeps them as objects, not as the dtype you read them in as.\n",
    "wind = pd.read_csv(datafile, sep=\" \", names=column_names, parse_dates=date_spec, keep_date_col=True, index_col=False ) \n",
    "\n",
    "#Dealing with hour - going from 600, 1200 etc to 6,12, 18\n",
    "wind[\"hour\"]=(wind[\"hour\"]/100).astype(int)\n",
    "\n",
    "#combining year, month, day that were parsed together into date_time with hour, which is now in the correct format.\n",
    "wind['date_time'] = pd.to_datetime(wind.date_time) + wind.hour.astype('timedelta64[h]')\n",
    "\n",
    "print wind.date_time[0:5]"
   ]
  }
 ],
 "metadata": {
  "kernelspec": {
   "display_name": "Python 2",
   "language": "python",
   "name": "python2"
  },
  "language_info": {
   "codemirror_mode": {
    "name": "ipython",
    "version": 2
   },
   "file_extension": ".py",
   "mimetype": "text/x-python",
   "name": "python",
   "nbconvert_exporter": "python",
   "pygments_lexer": "ipython2",
   "version": "2.7.11"
  }
 },
 "nbformat": 4,
 "nbformat_minor": 0
}
