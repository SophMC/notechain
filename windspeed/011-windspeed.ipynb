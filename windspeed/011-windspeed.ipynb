{
 "cells": [
  {
   "cell_type": "code",
   "execution_count": 19,
   "metadata": {
    "collapsed": false
   },
   "outputs": [],
   "source": [
    "#Make a timeseries that is easy to take slices out. So you can investigate little sections in more detail.\n",
    "#Try making a dict\n",
    "\n",
    "import pandas as pd\n",
    "import numpy as np\n",
    "from datetime import datetime\n",
    "\n",
    "column_names=[\"year\",\"month\",\"day\",\"hour\",\"ws\"]\n",
    "dtype={\"year\":int,\"month\":int,\"day\":int,\"hour\":int,\"ws\":float}\n",
    "\n",
    "datafile='/home/sophie/projects/windspeed/data/61401BirMoghrein_allwinds.txt'\n",
    "\n",
    "#specify the columns you want to group together. Can't include hour at this point as it is not in the right format. \n",
    "date_spec = {'date_time': [0,1,2]}\n",
    "\n",
    "#when you use keep_dat_col it keeps them as objects, not as the dtype you read them in as.\n",
    "wind = pd.read_csv(datafile, sep=\" \", names=column_names, parse_dates=date_spec, keep_date_col=True, index_col=False ) \n",
    "\n",
    "#Dealing with hour - going from 600, 1200 etc to 6,12, 18\n",
    "wind[\"hour\"]=(wind[\"hour\"]/100).astype(int)\n",
    "\n",
    "#combining year, month, day that were parsed together into date_time with hour, which is now in the correct format.\n",
    "wind['date_time'] = pd.to_datetime(wind.date_time) + wind.hour.astype('timedelta64[h]')"
   ]
  },
  {
   "cell_type": "code",
   "execution_count": 20,
   "metadata": {
    "collapsed": false
   },
   "outputs": [
    {
     "data": {
      "image/png": "[encoded data removed]",
      "text/plain": [
       "<matplotlib.figure.Figure at 0x7f1e10132910>"
      ]
     },
     "metadata": {},
     "output_type": "display_data"
    },
    {
     "name": "stdout",
     "output_type": "stream",
     "text": [
      "None\n"
     ]
    }
   ],
   "source": [
    "#Make sure it plots in the notebook\n",
    "%matplotlib inline\n",
    "\n",
    "import matplotlib.pyplot as plt     \n",
    "\n",
    "plt.plot(wind['date_time'],wind['ws'])\n",
    "\n",
    "print plt.show()"
   ]
  },
  {
   "cell_type": "code",
   "execution_count": 21,
   "metadata": {
    "collapsed": false
   },
   "outputs": [
    {
     "name": "stdout",
     "output_type": "stream",
     "text": [
      "date_time    datetime64[ns]\n",
      "year                  int64\n",
      "month                 int64\n",
      "day                   int64\n",
      "hour                  int64\n",
      "ws                  float64\n",
      "dtype: object\n",
      "['1984', '2012']\n"
     ]
    }
   ],
   "source": [
    "#do I need to change year, month and day into int arrays?\n",
    "#These are 3 different ways to achieve the same thing....\n",
    "wind['year']=wind['year'].astype('int64')\n",
    "wind.month=wind.month.astype('int64')\n",
    "wind.day=wind.day.astype(int)             \n",
    "print wind.dtypes\n",
    "\n",
    "#from the documentation you can specify what you want the subsection to consist of.\n",
    "#Doesn't seem to work though...\n",
    "values = {'year':['1984','2012']}\n",
    "print values['year']\n",
    "\n",
    "\n",
    "#You can create a boolean mask, then apply it to a column using .loc[mask]\n",
    "#isin() compute a boolean array of whether each index meets the criteria\n",
    "row_mask = wind['year'].isin([1985])\n",
    "b = wind['year'] == 1984"
   ]
  },
  {
   "cell_type": "code",
   "execution_count": 22,
   "metadata": {
    "collapsed": false
   },
   "outputs": [
    {
     "name": "stdout",
     "output_type": "stream",
     "text": [
      "814    1985\n",
      "815    1985\n",
      "816    1985\n",
      "817    1985\n",
      "818    1985\n",
      "Name: year, dtype: int64\n",
      "0    1984\n",
      "1    1984\n",
      "2    1984\n",
      "3    1984\n",
      "4    1984\n",
      "Name: year, dtype: int64\n"
     ]
    }
   ],
   "source": [
    "#print the first 5 values from 'year' column which are 1985\n",
    "wind['year'].loc[row_mask][0:5]\n",
    "#you can store them in a new variable\n",
    "check = wind['year'].loc[row_mask][0:5]\n",
    "print check\n",
    "\n",
    "#print the first 5 values from 'year' column which are 1984\n",
    "print wind['year'].loc[b][0:5]"
   ]
  },
  {
   "cell_type": "code",
   "execution_count": 23,
   "metadata": {
    "collapsed": false
   },
   "outputs": [
    {
     "name": "stdout",
     "output_type": "stream",
     "text": [
      "0    3.54349\n",
      "1    1.86284\n",
      "2    1.01765\n",
      "3    2.29602\n",
      "4    4.95783\n",
      "Name: ws, dtype: float64\n"
     ]
    }
   ],
   "source": [
    "#print first 5 ws values from 1984\n",
    "print wind['ws'].loc[b][0:5]"
   ]
  },
  {
   "cell_type": "code",
   "execution_count": 24,
   "metadata": {
    "collapsed": false
   },
   "outputs": [
    {
     "name": "stdout",
     "output_type": "stream",
     "text": [
      "            date_time  year  month  day  hour       ws\n",
      "0 1984-03-01 06:00:00  1984      3    1     6  3.54349\n",
      "1 1984-03-01 12:00:00  1984      3    1    12  1.86284\n",
      "2 1984-03-01 18:00:00  1984      3    1    18  1.01765\n",
      "3 1984-03-02 06:00:00  1984      3    2     6  2.29602\n",
      "4 1984-03-02 12:00:00  1984      3    2    12  4.95783\n"
     ]
    }
   ],
   "source": [
    "#can create a new dataframe with just out subsection\n",
    "wind_1984= wind.loc[b]\n",
    "print wind_1984[0:5]"
   ]
  },
  {
   "cell_type": "code",
   "execution_count": 25,
   "metadata": {
    "collapsed": false
   },
   "outputs": [
    {
     "name": "stdout",
     "output_type": "stream",
     "text": [
      "2588    1986\n",
      "2589    1986\n",
      "2590    1986\n",
      "2591    1986\n",
      "2592    1986\n",
      "Name: year, dtype: int64\n"
     ]
    }
   ],
   "source": [
    "# Can I select several things at once?\n",
    "row_mask = wind['year'].isin([1985,1986])\n",
    "#only really useful for one value\n",
    "b = wind['year'] == 1986\n",
    "\n",
    "print wind['year'].loc[b][-5:]"
   ]
  },
  {
   "cell_type": "code",
   "execution_count": 35,
   "metadata": {
    "collapsed": false
   },
   "outputs": [],
   "source": [
    "#So, using isin and loc[b] has potential.\n",
    "\n",
    "year_alone = wind['year'] \n",
    "#print year_alone\n",
    "\n",
    "#values = {year:[['1984','2012']]}\n",
    "\n",
    "#the documentation says you need all() or any() to select the rows you want, but I don't think you do. \n",
    "row_mask = wind['year'].isin([1986,1984,2002])             \n"
   ]
  },
  {
   "cell_type": "code",
   "execution_count": 46,
   "metadata": {
    "collapsed": false
   },
   "outputs": [
    {
     "data": {
      "image/png": "[encoded data removed]",
      "text/plain": [
       "<matplotlib.figure.Figure at 0x7f1e0a2d7ed0>"
      ]
     },
     "metadata": {},
     "output_type": "display_data"
    }
   ],
   "source": [
    "#Don't forget you can just put it straight into a new df\n",
    "years_sub = wind[wind['year'].isin([1998,1999,2000,2001,2002])]\n",
    "\n",
    "plt.plot(years_sub['date_time'],years_sub['ws'])\n",
    "\n",
    "#labels\n",
    "plt.xlabel(\"Time\")\n",
    "plt.ylabel(\"wind-speed\", size=10)\n",
    "\n",
    "\n",
    "#change size of x ticks\n",
    "plt.rc(\"font\", size=7)\n",
    "\n",
    "plt.show()"
   ]
  },
  {
   "cell_type": "code",
   "execution_count": 74,
   "metadata": {
    "collapsed": false
   },
   "outputs": [
    {
     "name": "stdout",
     "output_type": "stream",
     "text": [
      "                date_time  year  month  day  hour       ws\n",
      "15052 1998-01-01 12:00:00  1998      1    1    12  9.37421\n",
      "15053 1998-01-01 15:00:00  1998      1    1    15  9.21226\n",
      "15137 1998-01-27 15:00:00  1998      1   27    15  8.35571\n",
      "15141 1998-01-28 15:00:00  1998      1   28    15  9.45032\n",
      "15162 1998-02-02 15:00:00  1998      2    2    15  8.65383\n"
     ]
    },
    {
     "data": {
      "image/png": "[encoded data removed]",
      "text/plain": [
       "<matplotlib.figure.Figure at 0x7f1e0a3b6790>"
      ]
     },
     "metadata": {},
     "output_type": "display_data"
    }
   ],
   "source": [
    "#Out of years_sub can we only have those wind-speeds over 8 m/s?\n",
    "highwind_sub = years_sub[years_sub['ws'] > 8]\n",
    "print highwind_sub[0:5]\n",
    "\n",
    "plt.plot(highwind_sub['date_time'],highwind_sub['ws'])\n",
    "\n",
    "plt.title('Winds over 8m/s for 1998 - 2002')\n",
    "\n",
    "plt.show()"
   ]
  },
  {
   "cell_type": "code",
   "execution_count": 9,
   "metadata": {
    "collapsed": false
   },
   "outputs": [
    {
     "name": "stdout",
     "output_type": "stream",
     "text": [
      "                date_time  year  month  day  hour       ws\n",
      "19181 2002-12-18 18:00:00  2002     12   18    18  2.87475\n",
      "19182 2002-12-30 09:00:00  2002     12   30     9  3.52768\n",
      "19183 2002-12-30 18:00:00  2002     12   30    18  2.21256\n",
      "19184 2002-12-31 15:00:00  2002     12   31    15  2.55376\n",
      "19185 2002-12-31 18:00:00  2002     12   31    18  1.47591\n",
      "19181    2.87475\n",
      "19182    3.52768\n",
      "19183    2.21256\n",
      "19184    2.55376\n",
      "19185    1.47591\n",
      "Name: ws, dtype: float64\n"
     ]
    }
   ],
   "source": [
    "#only return the rows which meet the criteria\n",
    "print wind[row_mask > 0][-5:]\n",
    "\n",
    "#This is the same as \n",
    "print wind['ws'].loc[row_mask][-5:]"
   ]
  },
  {
   "cell_type": "code",
   "execution_count": 73,
   "metadata": {
    "collapsed": false
   },
   "outputs": [
    {
     "name": "stdout",
     "output_type": "stream",
     "text": [
      "  date_time  year  month  day  hour  ws\n",
      "0       NaT   NaN    NaN  NaN   NaN NaN\n",
      "1       NaT   NaN    3.0  NaN   NaN NaN\n",
      "2       NaT   NaN    NaN  NaN   NaN NaN\n",
      "3       NaT   NaN    NaN  NaN   NaN NaN\n",
      "4       NaT   NaN    NaN  NaN   NaN NaN\n"
     ]
    }
   ],
   "source": [
    "#how to make criteria across columns\n",
    "\n",
    "#isin() can take a dictionary\n",
    "\n",
    "#>>> df = DataFrame({'A': [1, 2, 3], 'B': ['a', 'b', 'f']})\n",
    "#>>> df.isin([1, 3, 12, 'a'])\n",
    "\n",
    "\n",
    "#>>> df = DataFrame({'A': [1, 2, 3], 'B': ['a', 'b', 'f']})\n",
    "#>>> other = DataFrame({'A': [1, 3, 3, 2], 'B': ['e', 'f', 'f', 'e']})\n",
    "#>>> df.isin(other)\n",
    "\n",
    "###This doesn't work...\n",
    "values_dic = {'year':[1999,2000,2001,2002], 'month':[4,3,2,1]}\n",
    "\n",
    "values = pd.DataFrame(values_dic)\n",
    "\n",
    "row_mask = wind.isin(values)\n",
    "\n",
    "print wind[row_mask > 0][0:5]\n",
    "#######not sure what it is doing"
   ]
  },
  {
   "cell_type": "code",
   "execution_count": 14,
   "metadata": {
    "collapsed": false
   },
   "outputs": [
    {
     "ename": "KeyError",
     "evalue": "False",
     "output_type": "error",
     "traceback": [
      "\u001b[1;31m---------------------------------------------------------------------------\u001b[0m",
      "\u001b[1;31mKeyError\u001b[0m                                  Traceback (most recent call last)",
      "\u001b[1;32m<ipython-input-14-b21c9e5bc559>\u001b[0m in \u001b[0;36m<module>\u001b[1;34m()\u001b[0m\n\u001b[0;32m      1\u001b[0m \u001b[1;31m#trying the query() function\u001b[0m\u001b[1;33m\u001b[0m\u001b[1;33m\u001b[0m\u001b[0m\n\u001b[0;32m      2\u001b[0m \u001b[1;33m\u001b[0m\u001b[0m\n\u001b[1;32m----> 3\u001b[1;33m \u001b[0mwind\u001b[0m\u001b[1;33m.\u001b[0m\u001b[0mquery\u001b[0m\u001b[1;33m(\u001b[0m\u001b[1;34m'year'\u001b[0m \u001b[1;33m>\u001b[0m \u001b[1;36m1986\u001b[0m \u001b[1;32mand\u001b[0m \u001b[1;34m'year'\u001b[0m \u001b[1;33m<\u001b[0m \u001b[1;36m1999\u001b[0m\u001b[1;33m,\u001b[0m \u001b[0mparser\u001b[0m\u001b[1;33m=\u001b[0m\u001b[1;34m'python'\u001b[0m\u001b[1;33m)\u001b[0m\u001b[1;33m\u001b[0m\u001b[0m\n\u001b[0m",
      "\u001b[1;32m/home/sophie/anaconda2/lib/python2.7/site-packages/pandas/core/frame.pyc\u001b[0m in \u001b[0;36mquery\u001b[1;34m(self, expr, inplace, **kwargs)\u001b[0m\n\u001b[0;32m   2141\u001b[0m \u001b[1;33m\u001b[0m\u001b[0m\n\u001b[0;32m   2142\u001b[0m         \u001b[1;32mtry\u001b[0m\u001b[1;33m:\u001b[0m\u001b[1;33m\u001b[0m\u001b[0m\n\u001b[1;32m-> 2143\u001b[1;33m             \u001b[0mnew_data\u001b[0m \u001b[1;33m=\u001b[0m \u001b[0mself\u001b[0m\u001b[1;33m.\u001b[0m\u001b[0mloc\u001b[0m\u001b[1;33m[\u001b[0m\u001b[0mres\u001b[0m\u001b[1;33m]\u001b[0m\u001b[1;33m\u001b[0m\u001b[0m\n\u001b[0m\u001b[0;32m   2144\u001b[0m         \u001b[1;32mexcept\u001b[0m \u001b[0mValueError\u001b[0m\u001b[1;33m:\u001b[0m\u001b[1;33m\u001b[0m\u001b[0m\n\u001b[0;32m   2145\u001b[0m             \u001b[1;31m# when res is multi-dimensional loc raises, but this is sometimes a\u001b[0m\u001b[1;33m\u001b[0m\u001b[1;33m\u001b[0m\u001b[0m\n",
      "\u001b[1;32m/home/sophie/anaconda2/lib/python2.7/site-packages/pandas/core/indexing.pyc\u001b[0m in \u001b[0;36m__getitem__\u001b[1;34m(self, key)\u001b[0m\n\u001b[0;32m   1284\u001b[0m             \u001b[1;32mreturn\u001b[0m \u001b[0mself\u001b[0m\u001b[1;33m.\u001b[0m\u001b[0m_getitem_tuple\u001b[0m\u001b[1;33m(\u001b[0m\u001b[0mkey\u001b[0m\u001b[1;33m)\u001b[0m\u001b[1;33m\u001b[0m\u001b[0m\n\u001b[0;32m   1285\u001b[0m         \u001b[1;32melse\u001b[0m\u001b[1;33m:\u001b[0m\u001b[1;33m\u001b[0m\u001b[0m\n\u001b[1;32m-> 1286\u001b[1;33m             \u001b[1;32mreturn\u001b[0m \u001b[0mself\u001b[0m\u001b[1;33m.\u001b[0m\u001b[0m_getitem_axis\u001b[0m\u001b[1;33m(\u001b[0m\u001b[0mkey\u001b[0m\u001b[1;33m,\u001b[0m \u001b[0maxis\u001b[0m\u001b[1;33m=\u001b[0m\u001b[1;36m0\u001b[0m\u001b[1;33m)\u001b[0m\u001b[1;33m\u001b[0m\u001b[0m\n\u001b[0m\u001b[0;32m   1287\u001b[0m \u001b[1;33m\u001b[0m\u001b[0m\n\u001b[0;32m   1288\u001b[0m     \u001b[1;32mdef\u001b[0m \u001b[0m_getitem_axis\u001b[0m\u001b[1;33m(\u001b[0m\u001b[0mself\u001b[0m\u001b[1;33m,\u001b[0m \u001b[0mkey\u001b[0m\u001b[1;33m,\u001b[0m \u001b[0maxis\u001b[0m\u001b[1;33m=\u001b[0m\u001b[1;36m0\u001b[0m\u001b[1;33m)\u001b[0m\u001b[1;33m:\u001b[0m\u001b[1;33m\u001b[0m\u001b[0m\n",
      "\u001b[1;32m/home/sophie/anaconda2/lib/python2.7/site-packages/pandas/core/indexing.pyc\u001b[0m in \u001b[0;36m_getitem_axis\u001b[1;34m(self, key, axis)\u001b[0m\n\u001b[0;32m   1428\u001b[0m         \u001b[1;31m# fall thru to straight lookup\u001b[0m\u001b[1;33m\u001b[0m\u001b[1;33m\u001b[0m\u001b[0m\n\u001b[0;32m   1429\u001b[0m         \u001b[0mself\u001b[0m\u001b[1;33m.\u001b[0m\u001b[0m_has_valid_type\u001b[0m\u001b[1;33m(\u001b[0m\u001b[0mkey\u001b[0m\u001b[1;33m,\u001b[0m \u001b[0maxis\u001b[0m\u001b[1;33m)\u001b[0m\u001b[1;33m\u001b[0m\u001b[0m\n\u001b[1;32m-> 1430\u001b[1;33m         \u001b[1;32mreturn\u001b[0m \u001b[0mself\u001b[0m\u001b[1;33m.\u001b[0m\u001b[0m_get_label\u001b[0m\u001b[1;33m(\u001b[0m\u001b[0mkey\u001b[0m\u001b[1;33m,\u001b[0m \u001b[0maxis\u001b[0m\u001b[1;33m=\u001b[0m\u001b[0maxis\u001b[0m\u001b[1;33m)\u001b[0m\u001b[1;33m\u001b[0m\u001b[0m\n\u001b[0m\u001b[0;32m   1431\u001b[0m \u001b[1;33m\u001b[0m\u001b[0m\n\u001b[0;32m   1432\u001b[0m \u001b[1;33m\u001b[0m\u001b[0m\n",
      "\u001b[1;32m/home/sophie/anaconda2/lib/python2.7/site-packages/pandas/core/indexing.pyc\u001b[0m in \u001b[0;36m_get_label\u001b[1;34m(self, label, axis)\u001b[0m\n\u001b[0;32m     91\u001b[0m             \u001b[1;32mraise\u001b[0m \u001b[0mIndexingError\u001b[0m\u001b[1;33m(\u001b[0m\u001b[1;34m'no slices here, handle elsewhere'\u001b[0m\u001b[1;33m)\u001b[0m\u001b[1;33m\u001b[0m\u001b[0m\n\u001b[0;32m     92\u001b[0m \u001b[1;33m\u001b[0m\u001b[0m\n\u001b[1;32m---> 93\u001b[1;33m         \u001b[1;32mreturn\u001b[0m \u001b[0mself\u001b[0m\u001b[1;33m.\u001b[0m\u001b[0mobj\u001b[0m\u001b[1;33m.\u001b[0m\u001b[0m_xs\u001b[0m\u001b[1;33m(\u001b[0m\u001b[0mlabel\u001b[0m\u001b[1;33m,\u001b[0m \u001b[0maxis\u001b[0m\u001b[1;33m=\u001b[0m\u001b[0maxis\u001b[0m\u001b[1;33m)\u001b[0m\u001b[1;33m\u001b[0m\u001b[0m\n\u001b[0m\u001b[0;32m     94\u001b[0m \u001b[1;33m\u001b[0m\u001b[0m\n\u001b[0;32m     95\u001b[0m     \u001b[1;32mdef\u001b[0m \u001b[0m_get_loc\u001b[0m\u001b[1;33m(\u001b[0m\u001b[0mself\u001b[0m\u001b[1;33m,\u001b[0m \u001b[0mkey\u001b[0m\u001b[1;33m,\u001b[0m \u001b[0maxis\u001b[0m\u001b[1;33m=\u001b[0m\u001b[1;36m0\u001b[0m\u001b[1;33m)\u001b[0m\u001b[1;33m:\u001b[0m\u001b[1;33m\u001b[0m\u001b[0m\n",
      "\u001b[1;32m/home/sophie/anaconda2/lib/python2.7/site-packages/pandas/core/generic.pyc\u001b[0m in \u001b[0;36mxs\u001b[1;34m(self, key, axis, level, copy, drop_level)\u001b[0m\n\u001b[0;32m   1742\u001b[0m                                                       drop_level=drop_level)\n\u001b[0;32m   1743\u001b[0m         \u001b[1;32melse\u001b[0m\u001b[1;33m:\u001b[0m\u001b[1;33m\u001b[0m\u001b[0m\n\u001b[1;32m-> 1744\u001b[1;33m             \u001b[0mloc\u001b[0m \u001b[1;33m=\u001b[0m \u001b[0mself\u001b[0m\u001b[1;33m.\u001b[0m\u001b[0mindex\u001b[0m\u001b[1;33m.\u001b[0m\u001b[0mget_loc\u001b[0m\u001b[1;33m(\u001b[0m\u001b[0mkey\u001b[0m\u001b[1;33m)\u001b[0m\u001b[1;33m\u001b[0m\u001b[0m\n\u001b[0m\u001b[0;32m   1745\u001b[0m \u001b[1;33m\u001b[0m\u001b[0m\n\u001b[0;32m   1746\u001b[0m             \u001b[1;32mif\u001b[0m \u001b[0misinstance\u001b[0m\u001b[1;33m(\u001b[0m\u001b[0mloc\u001b[0m\u001b[1;33m,\u001b[0m \u001b[0mnp\u001b[0m\u001b[1;33m.\u001b[0m\u001b[0mndarray\u001b[0m\u001b[1;33m)\u001b[0m\u001b[1;33m:\u001b[0m\u001b[1;33m\u001b[0m\u001b[0m\n",
      "\u001b[1;32m/home/sophie/anaconda2/lib/python2.7/site-packages/pandas/indexes/base.pyc\u001b[0m in \u001b[0;36mget_loc\u001b[1;34m(self, key, method, tolerance)\u001b[0m\n\u001b[0;32m   1876\u001b[0m                 \u001b[1;32mreturn\u001b[0m \u001b[0mself\u001b[0m\u001b[1;33m.\u001b[0m\u001b[0m_engine\u001b[0m\u001b[1;33m.\u001b[0m\u001b[0mget_loc\u001b[0m\u001b[1;33m(\u001b[0m\u001b[0mkey\u001b[0m\u001b[1;33m)\u001b[0m\u001b[1;33m\u001b[0m\u001b[0m\n\u001b[0;32m   1877\u001b[0m             \u001b[1;32mexcept\u001b[0m \u001b[0mKeyError\u001b[0m\u001b[1;33m:\u001b[0m\u001b[1;33m\u001b[0m\u001b[0m\n\u001b[1;32m-> 1878\u001b[1;33m                 \u001b[1;32mreturn\u001b[0m \u001b[0mself\u001b[0m\u001b[1;33m.\u001b[0m\u001b[0m_engine\u001b[0m\u001b[1;33m.\u001b[0m\u001b[0mget_loc\u001b[0m\u001b[1;33m(\u001b[0m\u001b[0mself\u001b[0m\u001b[1;33m.\u001b[0m\u001b[0m_maybe_cast_indexer\u001b[0m\u001b[1;33m(\u001b[0m\u001b[0mkey\u001b[0m\u001b[1;33m)\u001b[0m\u001b[1;33m)\u001b[0m\u001b[1;33m\u001b[0m\u001b[0m\n\u001b[0m\u001b[0;32m   1879\u001b[0m \u001b[1;33m\u001b[0m\u001b[0m\n\u001b[0;32m   1880\u001b[0m         \u001b[0mindexer\u001b[0m \u001b[1;33m=\u001b[0m \u001b[0mself\u001b[0m\u001b[1;33m.\u001b[0m\u001b[0mget_indexer\u001b[0m\u001b[1;33m(\u001b[0m\u001b[1;33m[\u001b[0m\u001b[0mkey\u001b[0m\u001b[1;33m]\u001b[0m\u001b[1;33m,\u001b[0m \u001b[0mmethod\u001b[0m\u001b[1;33m=\u001b[0m\u001b[0mmethod\u001b[0m\u001b[1;33m,\u001b[0m \u001b[0mtolerance\u001b[0m\u001b[1;33m=\u001b[0m\u001b[0mtolerance\u001b[0m\u001b[1;33m)\u001b[0m\u001b[1;33m\u001b[0m\u001b[0m\n",
      "\u001b[1;32mpandas/index.pyx\u001b[0m in \u001b[0;36mpandas.index.IndexEngine.get_loc (pandas/index.c:4027)\u001b[1;34m()\u001b[0m\n",
      "\u001b[1;32mpandas/index.pyx\u001b[0m in \u001b[0;36mpandas.index.IndexEngine.get_loc (pandas/index.c:3852)\u001b[1;34m()\u001b[0m\n",
      "\u001b[1;32mpandas/index.pyx\u001b[0m in \u001b[0;36mpandas.index.Int64Engine._check_type (pandas/index.c:7570)\u001b[1;34m()\u001b[0m\n",
      "\u001b[1;31mKeyError\u001b[0m: False"
     ]
    }
   ],
   "source": [
    "#trying the query() function\n",
    "\n",
    "wind.query('year' > 1986 and 'year' < 1999, parser='python')\n"
   ]
  },
  {
   "cell_type": "code",
   "execution_count": null,
   "metadata": {
    "collapsed": true
   },
   "outputs": [],
   "source": []
  }
 ],
 "metadata": {
  "kernelspec": {
   "display_name": "Python 2",
   "language": "python",
   "name": "python2"
  },
  "language_info": {
   "codemirror_mode": {
    "name": "ipython",
    "version": 2
   },
   "file_extension": ".py",
   "mimetype": "text/x-python",
   "name": "python",
   "nbconvert_exporter": "python",
   "pygments_lexer": "ipython2",
   "version": "2.7.11"
  }
 },
 "nbformat": 4,
 "nbformat_minor": 0
}
