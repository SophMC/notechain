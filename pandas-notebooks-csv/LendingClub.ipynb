{
 "cells": [
  {
   "cell_type": "code",
   "execution_count": 165,
   "metadata": {
    "collapsed": true
   },
   "outputs": [],
   "source": [
    "%matplotlib inline\n",
    "# first we ingest the data from the source on the web\n",
    "# this contains a reduced version of the data set from Lending Club\n",
    "import pandas as pd\n",
    "import numpy as np\n",
    "loansData = pd.read_csv('/home/sophie/projects/LendingClub/data/loansData.csv')"
   ]
  },
  {
   "cell_type": "code",
   "execution_count": 166,
   "metadata": {
    "collapsed": true
   },
   "outputs": [],
   "source": [
    "#pd.read_csv?"
   ]
  },
  {
   "cell_type": "markdown",
   "metadata": {},
   "source": [
    "The default for read_csv is to create a DataFrame with simple numbered rows.\n",
    "So, loansData is now is a DataFrame."
   ]
  },
  {
   "cell_type": "code",
   "execution_count": 167,
   "metadata": {
    "collapsed": false
   },
   "outputs": [
    {
     "name": "stdout",
     "output_type": "stream",
     "text": [
      "Index([u'Amount.Requested', u'Amount.Funded.By.Investors', u'Interest.Rate',\n",
      "       u'Loan.Length', u'Loan.Purpose', u'Debt.To.Income.Ratio', u'State',\n",
      "       u'Home.Ownership', u'Monthly.Income', u'FICO.Range',\n",
      "       u'Open.CREDIT.Lines', u'Revolving.CREDIT.Balance',\n",
      "       u'Inquiries.in.the.Last.6.Months', u'Employment.Length'],\n",
      "      dtype='object')\n",
      "Int64Index([81174, 99592, 80059, 15825, 33182], dtype='int64')\n",
      "       Amount.Requested  Amount.Funded.By.Investors Interest.Rate Loan.Length  \\\n",
      "81174             20000                       20000         8.90%   36 months   \n",
      "99592             19200                       19200        12.12%   36 months   \n",
      "80059             35000                       35000        21.98%   60 months   \n",
      "15825             10000                        9975         9.99%   36 months   \n",
      "33182             12000                       12000        11.71%   36 months   \n",
      "\n",
      "             Loan.Purpose Debt.To.Income.Ratio State Home.Ownership  \\\n",
      "81174  debt_consolidation               14.90%    SC       MORTGAGE   \n",
      "99592  debt_consolidation               28.36%    TX       MORTGAGE   \n",
      "80059  debt_consolidation               23.81%    CA       MORTGAGE   \n",
      "15825  debt_consolidation               14.30%    KS       MORTGAGE   \n",
      "33182         credit_card               18.78%    NJ           RENT   \n",
      "\n",
      "       Monthly.Income FICO.Range  Open.CREDIT.Lines  Revolving.CREDIT.Balance  \\\n",
      "81174         6541.67    735-739                 14                     14272   \n",
      "99592         4583.33    715-719                 12                     11140   \n",
      "80059        11500.00    690-694                 14                     21977   \n",
      "15825         3833.33    695-699                 10                      9346   \n",
      "33182         3195.00    695-699                 11                     14469   \n",
      "\n",
      "       Inquiries.in.the.Last.6.Months Employment.Length  \n",
      "81174                               2          < 1 year  \n",
      "99592                               1           2 years  \n",
      "80059                               1           2 years  \n",
      "15825                               0           5 years  \n",
      "33182                               0           9 years  \n"
     ]
    }
   ],
   "source": [
    "#gives column indexes from the loansData DataFrame\n",
    "print loansData.columns[:]\n",
    "#gives row indexes from the loansData DataFrame\n",
    "print loansData.index[0:5]\n",
    "#This is the most useful - gives a quick look at the \"spreadsheet\"\n",
    "print loansData.head()"
   ]
  },
  {
   "cell_type": "markdown",
   "metadata": {},
   "source": [
    "Now we want to have a look at the data that is stored in each of the rows we are interested in using. "
   ]
  },
  {
   "cell_type": "code",
   "execution_count": 168,
   "metadata": {
    "collapsed": false
   },
   "outputs": [
    {
     "name": "stdout",
     "output_type": "stream",
     "text": [
      "81174     8.90%\n",
      "99592    12.12%\n",
      "80059    21.98%\n",
      "15825     9.99%\n",
      "33182    11.71%\n",
      "Name: Interest.Rate, dtype: object\n",
      "81174    36 months\n",
      "99592    36 months\n",
      "80059    60 months\n",
      "15825    36 months\n",
      "33182    36 months\n",
      "Name: Loan.Length, dtype: object\n",
      "81174    735-739\n",
      "99592    715-719\n",
      "80059    690-694\n",
      "15825    695-699\n",
      "33182    695-699\n",
      "Name: FICO.Range, dtype: object\n"
     ]
    }
   ],
   "source": [
    "print loansData['Interest.Rate'][0:5]\n",
    "print loansData['Loan.Length'][0:5]\n",
    "print loansData['FICO.Range'][0:5]"
   ]
  },
  {
   "cell_type": "markdown",
   "metadata": {},
   "source": [
    "Now, we want to remove the % signs from rates, \"months\" from loan length and change the ranges in FICO to strings"
   ]
  },
  {
   "cell_type": "code",
   "execution_count": 169,
   "metadata": {
    "collapsed": false
   },
   "outputs": [
    {
     "name": "stdout",
     "output_type": "stream",
     "text": [
      "(2500, 14)\n"
     ]
    }
   ],
   "source": [
    "print loansData.shape"
   ]
  },
  {
   "cell_type": "code",
   "execution_count": 170,
   "metadata": {
    "collapsed": false
   },
   "outputs": [
    {
     "data": {
      "text/plain": [
       "Amount.Requested                    int64\n",
       "Amount.Funded.By.Investors        float64\n",
       "Interest.Rate                      object\n",
       "Loan.Length                        object\n",
       "Loan.Purpose                       object\n",
       "Debt.To.Income.Ratio               object\n",
       "State                              object\n",
       "Home.Ownership                     object\n",
       "Monthly.Income                    float64\n",
       "FICO.Range                         object\n",
       "Open.CREDIT.Lines                 float64\n",
       "Revolving.CREDIT.Balance          float64\n",
       "Inquiries.in.the.Last.6.Months    float64\n",
       "Employment.Length                  object\n",
       "dtype: object"
      ]
     },
     "execution_count": 170,
     "metadata": {},
     "output_type": "execute_result"
    }
   ],
   "source": [
    "loansData.dtypes"
   ]
  },
  {
   "cell_type": "code",
   "execution_count": 171,
   "metadata": {
    "collapsed": true
   },
   "outputs": [],
   "source": [
    "loansData['Interest.Rate']=loansData['Interest.Rate'].replace('%','',regex=True).astype('float')/100"
   ]
  },
  {
   "cell_type": "code",
   "execution_count": 195,
   "metadata": {
    "collapsed": false
   },
   "outputs": [],
   "source": [
    "loansData['Loan.Length'] = loansData['Loan.Length'].replace(' months','',regex=True).astype(int)\n",
    "\n",
    "loansData['FICO.Start'],loansData['FICO.End']=zip(*loansData['FICO.Range'].apply(lambda x: x.split('-',1)))\n",
    "#both of these run, but neither changes the object type. \n",
    "#loansData['FICO.Range'] = loansData['FICO.Range'].astype(basestring)\n",
    "#loansData['FICO.Range'].apply(str)\n",
    "\n",
    "#Turn FICO start and end into numbers\n",
    "\n",
    "loansData[['FICO.Start','FICO.End']] = loansData[['FICO.Start','FICO.End']].astype('int')\n",
    "\n",
    "a = np.mean(loansData['FICO.End']-loansData['FICO.Start'])\n",
    "b = loansData['FICO.End']-loansData['FICO.Start']"
   ]
  },
  {
   "cell_type": "code",
   "execution_count": null,
   "metadata": {
    "collapsed": false
   },
   "outputs": [],
   "source": []
  },
  {
   "cell_type": "code",
   "execution_count": 179,
   "metadata": {
    "collapsed": false
   },
   "outputs": [
    {
     "name": "stdout",
     "output_type": "stream",
     "text": [
      "81174    36\n",
      "99592    36\n",
      "80059    60\n",
      "15825    36\n",
      "33182    36\n",
      "Name: Loan.Length, dtype: int64\n",
      "81174    735-739\n",
      "99592    715-719\n",
      "80059    690-694\n",
      "15825    695-699\n",
      "33182    695-699\n",
      "Name: FICO.Range, dtype: object\n",
      "81174    735\n",
      "99592    715\n",
      "80059    690\n",
      "15825    695\n",
      "33182    695\n",
      "Name: FICO.Start, dtype: int64\n",
      "81174    739\n",
      "99592    719\n",
      "80059    694\n",
      "15825    699\n",
      "33182    699\n",
      "Name: FICO.End, dtype: int64\n"
     ]
    },
    {
     "data": {
      "text/plain": [
       "Amount.Requested                    int64\n",
       "Amount.Funded.By.Investors        float64\n",
       "Interest.Rate                     float64\n",
       "Loan.Length                         int64\n",
       "Loan.Purpose                       object\n",
       "Debt.To.Income.Ratio               object\n",
       "State                              object\n",
       "Home.Ownership                     object\n",
       "Monthly.Income                    float64\n",
       "FICO.Range                         object\n",
       "Open.CREDIT.Lines                 float64\n",
       "Revolving.CREDIT.Balance          float64\n",
       "Inquiries.in.the.Last.6.Months    float64\n",
       "Employment.Length                  object\n",
       "FICO.Start                          int64\n",
       "FICO.end                           object\n",
       "FICO.End                            int64\n",
       "dtype: object"
      ]
     },
     "execution_count": 179,
     "metadata": {},
     "output_type": "execute_result"
    }
   ],
   "source": [
    "print loansData['Loan.Length'][0:5]\n",
    "print loansData['FICO.Range'][0:5]\n",
    "print loansData['FICO.Start'][0:5]\n",
    "print loansData['FICO.End'][0:5]\n",
    "loansData.dtypes"
   ]
  },
  {
   "cell_type": "code",
   "execution_count": null,
   "metadata": {
    "collapsed": true
   },
   "outputs": [],
   "source": [
    "print "
   ]
  },
  {
   "cell_type": "code",
   "execution_count": null,
   "metadata": {
    "collapsed": true
   },
   "outputs": [],
   "source": []
  },
  {
   "cell_type": "code",
   "execution_count": null,
   "metadata": {
    "collapsed": true
   },
   "outputs": [],
   "source": []
  }
 ],
 "metadata": {
  "kernelspec": {
   "display_name": "Python 2",
   "language": "python",
   "name": "python2"
  },
  "language_info": {
   "codemirror_mode": {
    "name": "ipython",
    "version": 2
   },
   "file_extension": ".py",
   "mimetype": "text/x-python",
   "name": "python",
   "nbconvert_exporter": "python",
   "pygments_lexer": "ipython2",
   "version": "2.7.11"
  }
 },
 "nbformat": 4,
 "nbformat_minor": 0
}
