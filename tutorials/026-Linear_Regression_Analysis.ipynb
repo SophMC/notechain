{
 "cells": [
  {
   "cell_type": "markdown",
   "metadata": {},
   "source": [
    "### This notebook will use modelling software to generate the model coefficients a0, a1 and a2 to investigate FICO Score and Loan Amount as predictors of Interest Rate"
   ]
  },
  {
   "cell_type": "code",
   "execution_count": 44,
   "metadata": {
    "collapsed": false
   },
   "outputs": [
    {
     "name": "stdout",
     "output_type": "stream",
     "text": [
      "Populating the interactive namespace from numpy and matplotlib\n",
      "[[735]\n",
      " [715]]\n",
      "[[20000]\n",
      " [19200]]\n",
      "[[  1.00000000e+00   7.35000000e+02   2.00000000e+04]\n",
      " [  1.00000000e+00   7.15000000e+02   1.92000000e+04]\n",
      " [  1.00000000e+00   6.95000000e+02   1.00000000e+04]\n",
      " ..., \n",
      " [  1.00000000e+00   6.80000000e+02   1.00000000e+04]\n",
      " [  1.00000000e+00   6.75000000e+02   6.00000000e+03]\n",
      " [  1.00000000e+00   6.70000000e+02   9.00000000e+03]] [[  735 20000]\n",
      " [  715 19200]\n",
      " [  695 10000]\n",
      " ..., \n",
      " [  680 10000]\n",
      " [  675  6000]\n",
      " [  670  9000]]\n",
      "Coefficients:  [ 0.7232804  -0.00087589]\n",
      "Intercepts:  1.97716000896e-06\n",
      "P-Values:  [  0.00000000e+00   0.00000000e+00   3.00521465e-98]\n",
      "R-Squared:  0.644760522744\n"
     ]
    },
    {
     "name": "stderr",
     "output_type": "stream",
     "text": [
      "WARNING: pylab import has clobbered these variables: ['f']\n",
      "`%matplotlib` prevents importing * from pylab and numpy\n"
     ]
    }
   ],
   "source": [
    "%pylab inline\n",
    "import pylab as pl\n",
    "import numpy as np\n",
    "import pandas as pd\n",
    "import statsmodels.api as sm\n",
    "\n",
    "# import the cleaned up dataset\n",
    "df = pd.read_csv('/home/sophie/projects/LendingClub/data/clean_LD.csv')\n",
    "\n",
    "intrate = df['Interest.Rate']\n",
    "loanamt = df['Amount.Requested']\n",
    "fico = df['FICO.Score']\n",
    "\n",
    "# reshape the data from a pandas Series to columns\n",
    "# the dependent variable\n",
    "# This creates a 2D array, with T turning it from (1,1867) to (1867,1)\n",
    "y = np.matrix(intrate).T # I think T does the same as transpose()\n",
    "\n",
    "# the independent variables shaped as columns\n",
    "x1 = np.matrix(fico).transpose()\n",
    "x2 = np.matrix(loanamt).transpose()\n",
    "\n",
    "# put the two columns together to create an input matrix\n",
    "# if we had n independent variables we would have n columns here\n",
    "x = np.column_stack([x1,x2])  # column_stack takes a sequence fo 1-D arrays and stacks them as columns.\n",
    "\n",
    "print x[0:2,0] # to access x1\n",
    "print x[0:2,1] # to access x2\n",
    "\n",
    "# create a linear model and fit it to the data\n",
    "X = sm.add_constant(x) # adds a column of 1s (the first column) to the x (2D stacked data)\n",
    "model = sm.OLS(y,X)    # creates an ordinary least squares model. Y = response variable, X, should include an intercept.\n",
    "\n",
    "# f is a A RegressionResults class instance. The list of attributes are found \n",
    "# here http://statsmodels.sourceforge.net/devel/generated/statsmodels.regression.linear_model.RegressionResults.html\n",
    "f = model.fit() # fit is one of the methods which can be applied to an OLS object\n",
    "\n",
    "print 'Coefficients: ', f.params[0:2] # linear coefficients that minimize the least squares criterion. a1 and a2\n",
    "print 'Intercepts: ', f.params[2] # a0\n",
    "print 'P-Values: ', f.pvalues\n",
    "print 'R-Squared: ', f.rsquared\n",
    "\n"
   ]
  },
  {
   "cell_type": "markdown",
   "metadata": {
    "collapsed": true
   },
   "source": [
    "Coefficients: contains $a_1$ and $a_2$\n",
    "Intercept: is at $a_0$\n",
    "\n",
    "Next, we need to work out how reliable the numbers are. \n",
    "P-values are probabilities we can use to do this and to be confident we want it to be close to 0.\n",
    "Convention is p < 0.05. If it is more, we have less confidence using that dimension in modelling and predicting.\n",
    "\n",
    "$R^2$ : How much variance in the data is captured by the model.      \n",
    "$R$ : coefficient of correlation between independent variables and dependent variable. How much Y depends on the seperate X's. Lies between -1 and 1, so $R^2$ lies between 0 and 1.\n",
    "We want a high $R^2$.\n",
    "\n",
    "We have created a linear multivariate regression model for Interest Rate, which is well described by the parameters above.\n"
   ]
  },
  {
   "cell_type": "code",
   "execution_count": null,
   "metadata": {
    "collapsed": true
   },
   "outputs": [],
   "source": []
  }
 ],
 "metadata": {
  "kernelspec": {
   "display_name": "Python 2",
   "language": "python",
   "name": "python2"
  },
  "language_info": {
   "codemirror_mode": {
    "name": "ipython",
    "version": 2
   },
   "file_extension": ".py",
   "mimetype": "text/x-python",
   "name": "python",
   "nbconvert_exporter": "python",
   "pygments_lexer": "ipython2",
   "version": "2.7.11"
  }
 },
 "nbformat": 4,
 "nbformat_minor": 0
}
