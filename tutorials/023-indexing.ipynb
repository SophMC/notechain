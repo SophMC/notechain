{
 "cells": [
  {
   "cell_type": "markdown",
   "metadata": {},
   "source": [
    "A very basic tutorial just going over the Indexing basics of Pandas. "
   ]
  },
  {
   "cell_type": "code",
   "execution_count": 2,
   "metadata": {
    "collapsed": true
   },
   "outputs": [],
   "source": [
    "import pandas as pd\n",
    "import numpy as np\n",
    "from datetime import datetime"
   ]
  },
  {
   "cell_type": "code",
   "execution_count": 23,
   "metadata": {
    "collapsed": false
   },
   "outputs": [
    {
     "name": "stdout",
     "output_type": "stream",
     "text": [
      "                   A         B         C         D\n",
      "2000-01-01 -0.333789  1.029274 -0.983921  0.958122\n",
      "2000-01-02  0.093299 -1.870683  1.305894 -0.105345\n",
      "2000-01-03 -0.350315 -0.232300  0.546214  1.076659\n",
      "2000-01-04 -0.574096 -0.633097  0.109302 -0.985091\n",
      "2000-01-05 -0.868160 -0.748304  0.264144  1.981595\n",
      "2000-01-06 -0.348178 -0.869372  0.005276 -1.034909\n",
      "2000-01-07  1.461590  0.551150 -0.089786  0.585488\n",
      "2000-01-08 -1.444503 -0.179190  1.806362 -0.683908\n"
     ]
    }
   ],
   "source": [
    "# 2 of start, end, or periods must be specified\n",
    "# Default freq is day, if not specified.\n",
    "# Dates is a DatetimeINDEX.\n",
    "dates = pd.date_range('1/1/2000', periods=8) # from '2001-01-01' to '2000-01-08'\n",
    "\n",
    "#Feeds in dates and four columns. np.random.randn creates 8x4 array of gaussian distributied floats. Mean 0, variance 1.\n",
    "df = pd.DataFrame(np.random.randn(8,4), index=dates, columns=['A','B','C','D'])\n",
    "\n",
    "print df\n",
    "\n",
    "# stacks dataframs into 3D structure. Not sure what this means for accessing.\n",
    "panel = pd.Panel({'one':df,'two':df - df.mean()})\n"
   ]
  },
  {
   "cell_type": "code",
   "execution_count": 31,
   "metadata": {
    "collapsed": false
   },
   "outputs": [
    {
     "name": "stdout",
     "output_type": "stream",
     "text": [
      "-0.348178281859\n",
      "8\n"
     ]
    }
   ],
   "source": [
    "# create a series from a column in the dataframe\n",
    "s = df['A']\n",
    "\n",
    "print s[dates[5]]\n",
    "print s.size\n"
   ]
  },
  {
   "cell_type": "code",
   "execution_count": 32,
   "metadata": {
    "collapsed": true
   },
   "outputs": [],
   "source": [
    "# This is a fast way to switch the values around in these two columns\n",
    "df[['B','A']] = df[['A','B']]"
   ]
  },
  {
   "cell_type": "markdown",
   "metadata": {},
   "source": [
    "### Attribute Access"
   ]
  },
  {
   "cell_type": "code",
   "execution_count": 33,
   "metadata": {
    "collapsed": false
   },
   "outputs": [
    {
     "name": "stdout",
     "output_type": "stream",
     "text": [
      "a    1\n",
      "b    2\n",
      "c    3\n",
      "dtype: int64\n"
     ]
    }
   ],
   "source": [
    "sa = pd.Series([1,2,3],index = list('abc'))\n",
    "print sa\n",
    "\n",
    "dfa = df.copy()"
   ]
  },
  {
   "cell_type": "code",
   "execution_count": 35,
   "metadata": {
    "collapsed": false
   },
   "outputs": [
    {
     "name": "stdout",
     "output_type": "stream",
     "text": [
      "2\n",
      "2000-01-01    1.029274\n",
      "2000-01-02   -1.870683\n",
      "2000-01-03   -0.232300\n",
      "2000-01-04   -0.633097\n",
      "2000-01-05   -0.748304\n",
      "2000-01-06   -0.869372\n",
      "2000-01-07    0.551150\n",
      "2000-01-08   -0.179190\n",
      "Freq: D, Name: A, dtype: float64\n"
     ]
    }
   ],
   "source": [
    "print sa.b\n",
    "\n",
    "print dfa.A"
   ]
  },
  {
   "cell_type": "code",
   "execution_count": 36,
   "metadata": {
    "collapsed": false
   },
   "outputs": [
    {
     "name": "stdout",
     "output_type": "stream",
     "text": [
      "                   A         B         C         D\n",
      "2000-01-01 -0.333789  1.029274 -0.983921  0.958122\n",
      "2000-01-02  0.093299 -1.870683  1.305894 -0.105345\n",
      "2000-01-03 -0.350315 -0.232300  0.546214  1.076659\n",
      "2000-01-04 -0.574096 -0.633097  0.109302 -0.985091\n",
      "2000-01-05 -0.868160 -0.748304  0.264144  1.981595\n",
      "2000-01-06 -0.348178 -0.869372  0.005276 -1.034909\n",
      "2000-01-07  1.461590  0.551150 -0.089786  0.585488\n",
      "2000-01-08 -1.444503 -0.179190  1.806362 -0.683908\n"
     ]
    }
   ],
   "source": [
    "print panel.one"
   ]
  },
  {
   "cell_type": "code",
   "execution_count": 37,
   "metadata": {
    "collapsed": false
   },
   "outputs": [
    {
     "name": "stdout",
     "output_type": "stream",
     "text": [
      "a    5\n",
      "b    2\n",
      "c    3\n",
      "dtype: int64\n"
     ]
    }
   ],
   "source": [
    "sa.a = 5\n",
    "\n",
    "print sa"
   ]
  },
  {
   "cell_type": "code",
   "execution_count": 41,
   "metadata": {
    "collapsed": false
   },
   "outputs": [
    {
     "data": {
      "text/html": [
       "<div>\n",
       "<table border=\"1\" class=\"dataframe\">\n",
       "  <thead>\n",
       "    <tr style=\"text-align: right;\">\n",
       "      <th></th>\n",
       "      <th>A</th>\n",
       "      <th>B</th>\n",
       "      <th>C</th>\n",
       "      <th>D</th>\n",
       "    </tr>\n",
       "  </thead>\n",
       "  <tbody>\n",
       "    <tr>\n",
       "      <th>2000-01-01</th>\n",
       "      <td>0</td>\n",
       "      <td>-0.333789</td>\n",
       "      <td>-0.983921</td>\n",
       "      <td>0.958122</td>\n",
       "    </tr>\n",
       "    <tr>\n",
       "      <th>2000-01-02</th>\n",
       "      <td>1</td>\n",
       "      <td>0.093299</td>\n",
       "      <td>1.305894</td>\n",
       "      <td>-0.105345</td>\n",
       "    </tr>\n",
       "    <tr>\n",
       "      <th>2000-01-03</th>\n",
       "      <td>2</td>\n",
       "      <td>-0.350315</td>\n",
       "      <td>0.546214</td>\n",
       "      <td>1.076659</td>\n",
       "    </tr>\n",
       "    <tr>\n",
       "      <th>2000-01-04</th>\n",
       "      <td>3</td>\n",
       "      <td>-0.574096</td>\n",
       "      <td>0.109302</td>\n",
       "      <td>-0.985091</td>\n",
       "    </tr>\n",
       "    <tr>\n",
       "      <th>2000-01-05</th>\n",
       "      <td>4</td>\n",
       "      <td>-0.868160</td>\n",
       "      <td>0.264144</td>\n",
       "      <td>1.981595</td>\n",
       "    </tr>\n",
       "    <tr>\n",
       "      <th>2000-01-06</th>\n",
       "      <td>5</td>\n",
       "      <td>-0.348178</td>\n",
       "      <td>0.005276</td>\n",
       "      <td>-1.034909</td>\n",
       "    </tr>\n",
       "    <tr>\n",
       "      <th>2000-01-07</th>\n",
       "      <td>6</td>\n",
       "      <td>1.461590</td>\n",
       "      <td>-0.089786</td>\n",
       "      <td>0.585488</td>\n",
       "    </tr>\n",
       "    <tr>\n",
       "      <th>2000-01-08</th>\n",
       "      <td>7</td>\n",
       "      <td>-1.444503</td>\n",
       "      <td>1.806362</td>\n",
       "      <td>-0.683908</td>\n",
       "    </tr>\n",
       "  </tbody>\n",
       "</table>\n",
       "</div>"
      ],
      "text/plain": [
       "            A         B         C         D\n",
       "2000-01-01  0 -0.333789 -0.983921  0.958122\n",
       "2000-01-02  1  0.093299  1.305894 -0.105345\n",
       "2000-01-03  2 -0.350315  0.546214  1.076659\n",
       "2000-01-04  3 -0.574096  0.109302 -0.985091\n",
       "2000-01-05  4 -0.868160  0.264144  1.981595\n",
       "2000-01-06  5 -0.348178  0.005276 -1.034909\n",
       "2000-01-07  6  1.461590 -0.089786  0.585488\n",
       "2000-01-08  7 -1.444503  1.806362 -0.683908"
      ]
     },
     "execution_count": 41,
     "metadata": {},
     "output_type": "execute_result"
    }
   ],
   "source": [
    "# Make sure A exists already, otherwise it will silently create a new 'A'\n",
    "# Changes the A column into a list of 1- no. of values in dfa.index\n",
    "dfa.A = list(range(len(dfa.index)))\n",
    "\n",
    "dfa"
   ]
  },
  {
   "cell_type": "code",
   "execution_count": 44,
   "metadata": {
    "collapsed": false
   },
   "outputs": [],
   "source": [
    "# To create a new column\n",
    "dfa['E'] = list(range(len(dfa.index)))"
   ]
  },
  {
   "cell_type": "code",
   "execution_count": 45,
   "metadata": {
    "collapsed": false
   },
   "outputs": [
    {
     "name": "stdout",
     "output_type": "stream",
     "text": [
      "   x   y\n",
      "0  1   3\n",
      "1  9  99\n",
      "2  3   5\n"
     ]
    }
   ],
   "source": [
    "x = pd.DataFrame({'x':[1,2,3], 'y':[3,4,5]})\n",
    "\n",
    "# In x, where the index is 1, changing values to 9 and 99\n",
    "x.iloc[1] = dict(x=9, y=99)\n",
    "\n",
    "print x"
   ]
  },
  {
   "cell_type": "markdown",
   "metadata": {},
   "source": [
    "### Slicing ranges"
   ]
  },
  {
   "cell_type": "code",
   "execution_count": 50,
   "metadata": {
    "collapsed": false
   },
   "outputs": [
    {
     "name": "stdout",
     "output_type": "stream",
     "text": [
      "2000-01-01    1.029274\n",
      "2000-01-03   -0.232300\n",
      "2000-01-05   -0.748304\n",
      "2000-01-07    0.551150\n",
      "Freq: 2D, Name: A, dtype: float64\n",
      "2000-01-08   -0.179190\n",
      "2000-01-07    0.551150\n",
      "2000-01-06   -0.869372\n",
      "2000-01-05   -0.748304\n",
      "2000-01-04   -0.633097\n",
      "2000-01-03   -0.232300\n",
      "2000-01-02   -1.870683\n",
      "2000-01-01    1.029274\n",
      "Freq: -1D, Name: A, dtype: float64\n",
      "                   A         B         C         D\n",
      "2000-01-01  1.029274 -0.333789 -0.983921  0.958122\n",
      "2000-01-03 -0.232300 -0.350315  0.546214  1.076659\n",
      "2000-01-05 -0.748304 -0.868160  0.264144  1.981595\n",
      "2000-01-07  0.551150  1.461590 -0.089786  0.585488\n"
     ]
    }
   ],
   "source": [
    "print s[::2] # every 2nd element\n",
    "\n",
    "print s[::-1] # display in reverse order\n",
    "\n",
    "# can also use on dataframes\n",
    "print df[::2]"
   ]
  },
  {
   "cell_type": "code",
   "execution_count": 49,
   "metadata": {
    "collapsed": false
   },
   "outputs": [
    {
     "name": "stdout",
     "output_type": "stream",
     "text": [
      "2000-01-01    0.000000\n",
      "2000-01-02    0.000000\n",
      "2000-01-03    0.000000\n",
      "2000-01-04    0.000000\n",
      "2000-01-05    0.000000\n",
      "2000-01-06   -0.869372\n",
      "2000-01-07    0.551150\n",
      "2000-01-08   -0.179190\n",
      "Freq: D, Name: A, dtype: float64\n"
     ]
    }
   ],
   "source": [
    "# Can set several values at the same time\n",
    "s2 = s.copy()\n",
    "\n",
    "s2[:5] = 0\n",
    "\n",
    "print s2"
   ]
  },
  {
   "cell_type": "code",
   "execution_count": 56,
   "metadata": {
    "collapsed": false
   },
   "outputs": [
    {
     "name": "stdout",
     "output_type": "stream",
     "text": [
      "c   -0.326766\n",
      "d    1.040527\n",
      "e   -1.133564\n",
      "f    1.899713\n",
      "dtype: float64\n"
     ]
    }
   ],
   "source": [
    "# can use .loc to slice by label\n",
    "s1 = pd.Series(np.random.randn(6),index=list('abcdef'))\n",
    "\n",
    "print s1.loc['c':]\n",
    "\n",
    "# This works in the documentation but not here:\n",
    "#print s1.loc['c':] = 0"
   ]
  },
  {
   "cell_type": "code",
   "execution_count": 60,
   "metadata": {
    "collapsed": false
   },
   "outputs": [
    {
     "name": "stdout",
     "output_type": "stream",
     "text": [
      "          A         B         C         D\n",
      "a  1.701714  0.146384 -0.534952  0.304209\n",
      "b -1.820183 -0.520047  1.113084 -0.091504\n",
      "d -0.422794  0.182799  0.273312  0.022009\n",
      "          A         B         C\n",
      "d -0.422794  0.182799  0.273312\n",
      "e -0.515276 -0.212989  0.890612\n",
      "f -1.306985 -0.185366  0.910312\n"
     ]
    }
   ],
   "source": [
    "# In a DataFrame\n",
    "\n",
    "df1 = pd.DataFrame(np.random.randn(6,4),index=list('abcdef'),columns=list('ABCD'))\n",
    "\n",
    "# rows a, b and d for all columns\n",
    "print df1.loc[['a','b','d'],:]\n",
    "\n",
    "# Accessing via label slices.\n",
    "print df1.loc['d':,'A':'C'] # rows d to the end, for columns A to C"
   ]
  },
  {
   "cell_type": "code",
   "execution_count": 62,
   "metadata": {
    "collapsed": false
   },
   "outputs": [
    {
     "data": {
      "text/html": [
       "<div>\n",
       "<table border=\"1\" class=\"dataframe\">\n",
       "  <thead>\n",
       "    <tr style=\"text-align: right;\">\n",
       "      <th></th>\n",
       "      <th>A</th>\n",
       "      <th>B</th>\n",
       "      <th>D</th>\n",
       "    </tr>\n",
       "  </thead>\n",
       "  <tbody>\n",
       "    <tr>\n",
       "      <th>a</th>\n",
       "      <td>1.701714</td>\n",
       "      <td>0.146384</td>\n",
       "      <td>0.304209</td>\n",
       "    </tr>\n",
       "    <tr>\n",
       "      <th>b</th>\n",
       "      <td>-1.820183</td>\n",
       "      <td>-0.520047</td>\n",
       "      <td>-0.091504</td>\n",
       "    </tr>\n",
       "    <tr>\n",
       "      <th>c</th>\n",
       "      <td>-0.051781</td>\n",
       "      <td>0.196170</td>\n",
       "      <td>3.073290</td>\n",
       "    </tr>\n",
       "    <tr>\n",
       "      <th>d</th>\n",
       "      <td>-0.422794</td>\n",
       "      <td>0.182799</td>\n",
       "      <td>0.022009</td>\n",
       "    </tr>\n",
       "    <tr>\n",
       "      <th>e</th>\n",
       "      <td>-0.515276</td>\n",
       "      <td>-0.212989</td>\n",
       "      <td>0.357480</td>\n",
       "    </tr>\n",
       "    <tr>\n",
       "      <th>f</th>\n",
       "      <td>-1.306985</td>\n",
       "      <td>-0.185366</td>\n",
       "      <td>0.205724</td>\n",
       "    </tr>\n",
       "  </tbody>\n",
       "</table>\n",
       "</div>"
      ],
      "text/plain": [
       "          A         B         D\n",
       "a  1.701714  0.146384  0.304209\n",
       "b -1.820183 -0.520047 -0.091504\n",
       "c -0.051781  0.196170  3.073290\n",
       "d -0.422794  0.182799  0.022009\n",
       "e -0.515276 -0.212989  0.357480\n",
       "f -1.306985 -0.185366  0.205724"
      ]
     },
     "execution_count": 62,
     "metadata": {},
     "output_type": "execute_result"
    }
   ],
   "source": [
    "# Getting values with a boolean array\n",
    "df1.loc['a'] > 0  # values of a greater than 0\n",
    "\n",
    "df1.loc[:,df1.loc['a'] > 0] # print any columns where a > 0."
   ]
  },
  {
   "cell_type": "code",
   "execution_count": 64,
   "metadata": {
    "collapsed": false
   },
   "outputs": [
    {
     "name": "stdout",
     "output_type": "stream",
     "text": [
      "1.70171363336\n"
     ]
    }
   ],
   "source": [
    "# for getting a value explicitly. df.loc[row,column] \n",
    "print df1.loc['a','A'] # get the value at index a, column A"
   ]
  },
  {
   "cell_type": "markdown",
   "metadata": {},
   "source": [
    "Selecting By Position (purely integer based indexing)"
   ]
  },
  {
   "cell_type": "code",
   "execution_count": 65,
   "metadata": {
    "collapsed": false
   },
   "outputs": [
    {
     "name": "stdout",
     "output_type": "stream",
     "text": [
      "0    0.000000\n",
      "2    0.000000\n",
      "4    0.000000\n",
      "6   -2.228828\n",
      "8    0.815360\n",
      "dtype: float64\n"
     ]
    }
   ],
   "source": [
    "# A list of 5 normal guassian-distributed numbers, indexeds by 2,4,6,8,10\n",
    "s1 = pd.Series(np.random.randn(5), index=list(range(0,10,2))) # range goes from 0 to 10, in steps of 2\n",
    "\n",
    "s1.iloc[:3] # from 0:3\n",
    "\n",
    "s1.iloc[:3] = 0 # can set numbers using this too\n",
    "\n",
    "print s1"
   ]
  },
  {
   "cell_type": "markdown",
   "metadata": {},
   "source": [
    "Using a DataFrame"
   ]
  },
  {
   "cell_type": "code",
   "execution_count": 70,
   "metadata": {
    "collapsed": false
   },
   "outputs": [
    {
     "name": "stdout",
     "output_type": "stream",
     "text": [
      "          4         6\n",
      "2 -1.872751  1.013644\n",
      "4  0.501878  0.551519\n",
      "6 -0.347082 -0.516324\n",
      "8  0.865070  0.011884\n"
     ]
    }
   ],
   "source": [
    "# guassian distributed numbers in a 6x4 array, indexed 0,12 in 2s. Column names are numbers 0,2,4,6\n",
    "df1 = pd.DataFrame(np.random.randn(6,4), index=list(range(0,12,2)), columns = list(range(0,8,2)))\n",
    "\n",
    "df1.iloc[:3] # first 3 rows in all columns\n",
    "\n",
    "print df1.iloc[1:5,2:4] # df.iloc[row slice, column slice]"
   ]
  },
  {
   "cell_type": "code",
   "execution_count": 76,
   "metadata": {
    "collapsed": false
   },
   "outputs": [
    {
     "name": "stdout",
     "output_type": "stream",
     "text": [
      "0    1.681683\n",
      "2    0.410156\n",
      "4   -1.872751\n",
      "6    1.013644\n",
      "Name: 2, dtype: float64\n"
     ]
    }
   ],
   "source": [
    "# Select via integer list\n",
    "df1.iloc[[1,3,5],[1,3]] # rows 1,3,5 and columns 1,3\n",
    "\n",
    "df1.iloc[:, 1:3] # all rows, columns 1:3\n",
    "\n",
    "print df1.iloc[1] # extract at row[1]"
   ]
  },
  {
   "cell_type": "markdown",
   "metadata": {},
   "source": [
    "Selection by Callable - only in 18.1 !"
   ]
  },
  {
   "cell_type": "code",
   "execution_count": 77,
   "metadata": {
    "collapsed": false
   },
   "outputs": [
    {
     "name": "stdout",
     "output_type": "stream",
     "text": [
      "          A         B         C         D\n",
      "a  0.800652 -1.985718 -0.380520 -1.134334\n",
      "b -0.405658  0.397014  0.460247  0.888087\n",
      "c -1.076673 -1.048207 -0.667525 -0.955009\n",
      "d -0.688161  0.738929  1.584735  0.038519\n",
      "e -1.134248 -0.230179 -0.819237  1.119400\n",
      "f  0.393764 -1.200386 -0.106377 -0.314290\n"
     ]
    }
   ],
   "source": [
    "# 6x4 array with a,b,c..index and A,B,C.. columns. Interesting that list splits up the string.\n",
    "df1 = pd.DataFrame(np.random.randn(6,4),index=list('abcdef'),columns = list('ABCD'))\n",
    "\n",
    "print df1"
   ]
  },
  {
   "cell_type": "code",
   "execution_count": 80,
   "metadata": {
    "collapsed": false
   },
   "outputs": [],
   "source": [
    "# df1.loc[lambda df: df.A > 0, :] # will only work with pandas 18.1"
   ]
  },
  {
   "cell_type": "markdown",
   "metadata": {},
   "source": [
    "Selecting Random Samples"
   ]
  },
  {
   "cell_type": "code",
   "execution_count": 86,
   "metadata": {
    "collapsed": false
   },
   "outputs": [
    {
     "name": "stdout",
     "output_type": "stream",
     "text": [
      "0    0\n",
      "3    3\n",
      "1    1\n",
      "dtype: int64\n",
      "4    4\n",
      "5    5\n",
      "3    3\n",
      "dtype: int64\n"
     ]
    }
   ],
   "source": [
    "s = pd.Series([0,1,2,3,4,5])\n",
    "\n",
    "s.sample() # returns a different number each time\n",
    "\n",
    "print s.sample(n=3) # specify a number of rows.\n",
    "\n",
    "print s.sample(frac=0.5) # Or a fraction of the rows"
   ]
  },
  {
   "cell_type": "markdown",
   "metadata": {},
   "source": [
    "Boolean indexing. Operators |, & and ~ for OR, AND and NOT"
   ]
  },
  {
   "cell_type": "code",
   "execution_count": 94,
   "metadata": {
    "collapsed": false
   },
   "outputs": [
    {
     "name": "stdout",
     "output_type": "stream",
     "text": [
      "4    1\n",
      "5    2\n",
      "6    3\n",
      "dtype: int64\n",
      "0   -3\n",
      "1   -2\n",
      "4    1\n",
      "5    2\n",
      "6    3\n",
      "dtype: int64\n",
      "3    0\n",
      "4    1\n",
      "5    2\n",
      "6    3\n",
      "dtype: int64\n"
     ]
    }
   ],
   "source": [
    "s = pd.Series(range(-3,4)) # numbers from -3 to 4, in steps of 1\n",
    "\n",
    "print s[s > 0]\n",
    "\n",
    "print s[(s <-1) | (s > 0.5)] # where s is less than -1 and s is greater than 0.5.\n",
    "\n",
    "print s[~(s <0)]"
   ]
  },
  {
   "cell_type": "markdown",
   "metadata": {},
   "source": [
    "Same with a dataframe"
   ]
  },
  {
   "cell_type": "code",
   "execution_count": 95,
   "metadata": {
    "collapsed": false
   },
   "outputs": [
    {
     "data": {
      "text/html": [
       "<div>\n",
       "<table border=\"1\" class=\"dataframe\">\n",
       "  <thead>\n",
       "    <tr style=\"text-align: right;\">\n",
       "      <th></th>\n",
       "      <th>A</th>\n",
       "      <th>B</th>\n",
       "      <th>C</th>\n",
       "      <th>D</th>\n",
       "    </tr>\n",
       "  </thead>\n",
       "  <tbody>\n",
       "    <tr>\n",
       "      <th>2000-01-01</th>\n",
       "      <td>1.029274</td>\n",
       "      <td>-0.333789</td>\n",
       "      <td>-0.983921</td>\n",
       "      <td>0.958122</td>\n",
       "    </tr>\n",
       "    <tr>\n",
       "      <th>2000-01-07</th>\n",
       "      <td>0.551150</td>\n",
       "      <td>1.461590</td>\n",
       "      <td>-0.089786</td>\n",
       "      <td>0.585488</td>\n",
       "    </tr>\n",
       "  </tbody>\n",
       "</table>\n",
       "</div>"
      ],
      "text/plain": [
       "                   A         B         C         D\n",
       "2000-01-01  1.029274 -0.333789 -0.983921  0.958122\n",
       "2000-01-07  0.551150  1.461590 -0.089786  0.585488"
      ]
     },
     "execution_count": 95,
     "metadata": {},
     "output_type": "execute_result"
    }
   ],
   "source": [
    "df[df['A'] > 0]"
   ]
  },
  {
   "cell_type": "code",
   "execution_count": 100,
   "metadata": {
    "collapsed": false
   },
   "outputs": [
    {
     "name": "stdout",
     "output_type": "stream",
     "text": [
      "0    False\n",
      "1    False\n",
      "2     True\n",
      "3     True\n",
      "4     True\n",
      "5    False\n",
      "6    False\n",
      "Name: a, dtype: bool\n",
      "       a  b         c\n",
      "2    two  y  1.412342\n",
      "3  three  x -0.589928\n",
      "4    two  y  1.418972\n"
     ]
    }
   ],
   "source": [
    "df2 = pd.DataFrame({'a' : ['one', 'one', 'two', 'three', 'two', 'one', 'six'],\n",
    "                    'b' : ['x', 'y', 'y', 'x', 'y', 'x', 'x'],\n",
    "                    'c' : np.random.randn(7)})\n",
    "\n",
    "# only select those that have a t at the beginning in a\n",
    "# map(function, iterable, ...)\n",
    "    #Apply function to every item of iterable and return a list of the results.\n",
    "# loops over values in a. each values becomes x. if x starts with t, it will be returned. \n",
    "criterion = df2['a'].map(lambda x: x.startswith('t')) # returns a boolean array\n",
    "\n",
    "print criterion\n",
    "\n",
    "print df2[criterion]"
   ]
  },
  {
   "cell_type": "code",
   "execution_count": 101,
   "metadata": {
    "collapsed": false
   },
   "outputs": [
    {
     "data": {
      "text/html": [
       "<div>\n",
       "<table border=\"1\" class=\"dataframe\">\n",
       "  <thead>\n",
       "    <tr style=\"text-align: right;\">\n",
       "      <th></th>\n",
       "      <th>a</th>\n",
       "      <th>b</th>\n",
       "      <th>c</th>\n",
       "    </tr>\n",
       "  </thead>\n",
       "  <tbody>\n",
       "    <tr>\n",
       "      <th>2</th>\n",
       "      <td>two</td>\n",
       "      <td>y</td>\n",
       "      <td>1.412342</td>\n",
       "    </tr>\n",
       "    <tr>\n",
       "      <th>3</th>\n",
       "      <td>three</td>\n",
       "      <td>x</td>\n",
       "      <td>-0.589928</td>\n",
       "    </tr>\n",
       "    <tr>\n",
       "      <th>4</th>\n",
       "      <td>two</td>\n",
       "      <td>y</td>\n",
       "      <td>1.418972</td>\n",
       "    </tr>\n",
       "  </tbody>\n",
       "</table>\n",
       "</div>"
      ],
      "text/plain": [
       "       a  b         c\n",
       "2    two  y  1.412342\n",
       "3  three  x -0.589928\n",
       "4    two  y  1.418972"
      ]
     },
     "execution_count": 101,
     "metadata": {},
     "output_type": "execute_result"
    }
   ],
   "source": [
    "# equivalent to the above, but slower.\n",
    "\n",
    "df2[[x.startswith('t') for x in df2['a']]] # "
   ]
  },
  {
   "cell_type": "code",
   "execution_count": 102,
   "metadata": {
    "collapsed": false
   },
   "outputs": [
    {
     "data": {
      "text/html": [
       "<div>\n",
       "<table border=\"1\" class=\"dataframe\">\n",
       "  <thead>\n",
       "    <tr style=\"text-align: right;\">\n",
       "      <th></th>\n",
       "      <th>a</th>\n",
       "      <th>b</th>\n",
       "      <th>c</th>\n",
       "    </tr>\n",
       "  </thead>\n",
       "  <tbody>\n",
       "    <tr>\n",
       "      <th>3</th>\n",
       "      <td>three</td>\n",
       "      <td>x</td>\n",
       "      <td>-0.589928</td>\n",
       "    </tr>\n",
       "  </tbody>\n",
       "</table>\n",
       "</div>"
      ],
      "text/plain": [
       "       a  b         c\n",
       "3  three  x -0.589928"
      ]
     },
     "execution_count": 102,
     "metadata": {},
     "output_type": "execute_result"
    }
   ],
   "source": [
    "# Multiple criteria\n",
    "\n",
    "df2[criterion & (df2['b'] == 'x')]"
   ]
  },
  {
   "cell_type": "markdown",
   "metadata": {},
   "source": [
    "Select along more than one axis using boolean vectors combined with other indexing expressions"
   ]
  },
  {
   "cell_type": "code",
   "execution_count": 103,
   "metadata": {
    "collapsed": false
   },
   "outputs": [
    {
     "data": {
      "text/html": [
       "<div>\n",
       "<table border=\"1\" class=\"dataframe\">\n",
       "  <thead>\n",
       "    <tr style=\"text-align: right;\">\n",
       "      <th></th>\n",
       "      <th>b</th>\n",
       "      <th>c</th>\n",
       "    </tr>\n",
       "  </thead>\n",
       "  <tbody>\n",
       "    <tr>\n",
       "      <th>3</th>\n",
       "      <td>x</td>\n",
       "      <td>-0.589928</td>\n",
       "    </tr>\n",
       "  </tbody>\n",
       "</table>\n",
       "</div>"
      ],
      "text/plain": [
       "   b         c\n",
       "3  x -0.589928"
      ]
     },
     "execution_count": 103,
     "metadata": {},
     "output_type": "execute_result"
    }
   ],
   "source": [
    "# can select specific columns by using df.loc [rows,columns]\n",
    "df2.loc[criterion &(df2['b']== 'x'),'b':'c']"
   ]
  },
  {
   "cell_type": "markdown",
   "metadata": {},
   "source": [
    "#### Indexing with isin(). Select rows where one or more columns have values you want."
   ]
  },
  {
   "cell_type": "code",
   "execution_count": 111,
   "metadata": {
    "collapsed": false
   },
   "outputs": [
    {
     "name": "stdout",
     "output_type": "stream",
     "text": [
      "4    False\n",
      "3    False\n",
      "2     True\n",
      "1    False\n",
      "0     True\n",
      "dtype: bool\n",
      "2    2\n",
      "0    4\n",
      "dtype: int64\n"
     ]
    }
   ],
   "source": [
    "# creates a list of integers 0 - 5 which are indexed in reverse order by [::-1] - interesting trick!\n",
    "s = pd.Series(np.arange(5), index=np.arange(5)[::-1], dtype='int64')\n",
    "\n",
    "print s.isin([2,4,6]) # boolean array where values are 2,4,6\n",
    "\n",
    "print s[s.isin([2,4,5])] # apply boolean array above to original array"
   ]
  },
  {
   "cell_type": "markdown",
   "metadata": {},
   "source": [
    "Can also use it on indexes, useful if you don't know if the indexes are present or not."
   ]
  },
  {
   "cell_type": "code",
   "execution_count": 112,
   "metadata": {
    "collapsed": false
   },
   "outputs": [
    {
     "data": {
      "text/plain": [
       "4    0\n",
       "2    2\n",
       "dtype: int64"
      ]
     },
     "execution_count": 112,
     "metadata": {},
     "output_type": "execute_result"
    }
   ],
   "source": [
    "s[s.index.isin([2,4,6])]"
   ]
  },
  {
   "cell_type": "markdown",
   "metadata": {},
   "source": [
    "Can be used on MultiIndex to see if a value is in a particular group"
   ]
  },
  {
   "cell_type": "code",
   "execution_count": 113,
   "metadata": {
    "collapsed": false
   },
   "outputs": [
    {
     "name": "stdout",
     "output_type": "stream",
     "text": [
      "0  a    0\n",
      "   b    1\n",
      "   c    2\n",
      "1  a    3\n",
      "   b    4\n",
      "   c    5\n",
      "dtype: int64\n"
     ]
    }
   ],
   "source": [
    "s_mi = pd.Series(np.arange(6), index = pd.MultiIndex.from_product([[0,1],['a','b','c']]))\n",
    "\n",
    "print s_mi"
   ]
  },
  {
   "cell_type": "code",
   "execution_count": 116,
   "metadata": {
    "collapsed": false
   },
   "outputs": [
    {
     "name": "stdout",
     "output_type": "stream",
     "text": [
      "0  a    0\n",
      "   c    2\n",
      "1  a    3\n",
      "   c    5\n",
      "dtype: int64\n"
     ]
    }
   ],
   "source": [
    "# Find where group 1 has a 1-a, 2-b and 0-c. 2-b doesn't exist so it doesn't print out.\n",
    "s_mi.iloc[s_mi.index.isin([(1,'a'),(2,'b'),(0,'c')])]\n",
    "\n",
    "# Go up a level to just select from a,b,c etc\n",
    "\n",
    "print s_mi.iloc[s_mi.index.isin(['a','c','e'], level=1)]"
   ]
  },
  {
   "cell_type": "markdown",
   "metadata": {},
   "source": [
    "Using isin() with a DataFrame"
   ]
  },
  {
   "cell_type": "code",
   "execution_count": 118,
   "metadata": {
    "collapsed": false
   },
   "outputs": [
    {
     "data": {
      "text/html": [
       "<div>\n",
       "<table border=\"1\" class=\"dataframe\">\n",
       "  <thead>\n",
       "    <tr style=\"text-align: right;\">\n",
       "      <th></th>\n",
       "      <th>ids</th>\n",
       "      <th>ids2</th>\n",
       "      <th>vals</th>\n",
       "    </tr>\n",
       "  </thead>\n",
       "  <tbody>\n",
       "    <tr>\n",
       "      <th>0</th>\n",
       "      <td>True</td>\n",
       "      <td>True</td>\n",
       "      <td>True</td>\n",
       "    </tr>\n",
       "    <tr>\n",
       "      <th>1</th>\n",
       "      <td>True</td>\n",
       "      <td>False</td>\n",
       "      <td>False</td>\n",
       "    </tr>\n",
       "    <tr>\n",
       "      <th>2</th>\n",
       "      <td>False</td>\n",
       "      <td>False</td>\n",
       "      <td>True</td>\n",
       "    </tr>\n",
       "    <tr>\n",
       "      <th>3</th>\n",
       "      <td>False</td>\n",
       "      <td>False</td>\n",
       "      <td>False</td>\n",
       "    </tr>\n",
       "  </tbody>\n",
       "</table>\n",
       "</div>"
      ],
      "text/plain": [
       "     ids   ids2   vals\n",
       "0   True   True   True\n",
       "1   True  False  False\n",
       "2  False  False   True\n",
       "3  False  False  False"
      ]
     },
     "execution_count": 118,
     "metadata": {},
     "output_type": "execute_result"
    }
   ],
   "source": [
    "# DataFrame with columns vals, ids and ids2.\n",
    "df = pd.DataFrame({'vals':[1,2,3,4], 'ids' : ['a','b','f','n'],'ids2': ['a','n','c','n']})\n",
    "\n",
    "# A string to be fed to df.isin(). Doesn't matter which column they are in\n",
    "values = ['a','b',1,3]\n",
    "\n",
    "# get values from df\n",
    "df.isin(values)\n"
   ]
  },
  {
   "cell_type": "markdown",
   "metadata": {},
   "source": [
    "Maybe you want to match certain values to certain columns. Make a dict where the key/values = columns/values to search for"
   ]
  },
  {
   "cell_type": "code",
   "execution_count": 119,
   "metadata": {
    "collapsed": false
   },
   "outputs": [
    {
     "data": {
      "text/html": [
       "<div>\n",
       "<table border=\"1\" class=\"dataframe\">\n",
       "  <thead>\n",
       "    <tr style=\"text-align: right;\">\n",
       "      <th></th>\n",
       "      <th>ids</th>\n",
       "      <th>ids2</th>\n",
       "      <th>vals</th>\n",
       "    </tr>\n",
       "  </thead>\n",
       "  <tbody>\n",
       "    <tr>\n",
       "      <th>0</th>\n",
       "      <td>True</td>\n",
       "      <td>False</td>\n",
       "      <td>True</td>\n",
       "    </tr>\n",
       "    <tr>\n",
       "      <th>1</th>\n",
       "      <td>True</td>\n",
       "      <td>False</td>\n",
       "      <td>False</td>\n",
       "    </tr>\n",
       "    <tr>\n",
       "      <th>2</th>\n",
       "      <td>False</td>\n",
       "      <td>False</td>\n",
       "      <td>True</td>\n",
       "    </tr>\n",
       "    <tr>\n",
       "      <th>3</th>\n",
       "      <td>False</td>\n",
       "      <td>False</td>\n",
       "      <td>False</td>\n",
       "    </tr>\n",
       "  </tbody>\n",
       "</table>\n",
       "</div>"
      ],
      "text/plain": [
       "     ids   ids2   vals\n",
       "0   True  False   True\n",
       "1   True  False  False\n",
       "2  False  False   True\n",
       "3  False  False  False"
      ]
     },
     "execution_count": 119,
     "metadata": {},
     "output_type": "execute_result"
    }
   ],
   "source": [
    "values = {'ids':['a','b'], 'vals': [1,3]}\n",
    "\n",
    "df.isin(values)\n"
   ]
  },
  {
   "cell_type": "markdown",
   "metadata": {},
   "source": [
    "Use any() and all() to select a subset of data"
   ]
  },
  {
   "cell_type": "code",
   "execution_count": 121,
   "metadata": {
    "collapsed": false
   },
   "outputs": [
    {
     "data": {
      "text/html": [
       "<div>\n",
       "<table border=\"1\" class=\"dataframe\">\n",
       "  <thead>\n",
       "    <tr style=\"text-align: right;\">\n",
       "      <th></th>\n",
       "      <th>ids</th>\n",
       "      <th>ids2</th>\n",
       "      <th>vals</th>\n",
       "    </tr>\n",
       "  </thead>\n",
       "  <tbody>\n",
       "    <tr>\n",
       "      <th>0</th>\n",
       "      <td>a</td>\n",
       "      <td>a</td>\n",
       "      <td>1</td>\n",
       "    </tr>\n",
       "  </tbody>\n",
       "</table>\n",
       "</div>"
      ],
      "text/plain": [
       "  ids ids2  vals\n",
       "0   a    a     1"
      ]
     },
     "execution_count": 121,
     "metadata": {},
     "output_type": "execute_result"
    }
   ],
   "source": [
    "values = {'ids':['a','b'],'ids2':['a','c'], 'vals': [1,3]}\n",
    "\n",
    "row_mask = df.isin(values).all(1)\n",
    "\n",
    "df[row_mask] # only print out where all 3 of the criteria are met."
   ]
  },
  {
   "cell_type": "markdown",
   "metadata": {},
   "source": [
    "### Using where() to preserve shape"
   ]
  },
  {
   "cell_type": "code",
   "execution_count": 128,
   "metadata": {
    "collapsed": false
   },
   "outputs": [
    {
     "data": {
      "text/html": [
       "<div>\n",
       "<table border=\"1\" class=\"dataframe\">\n",
       "  <thead>\n",
       "    <tr style=\"text-align: right;\">\n",
       "      <th></th>\n",
       "      <th>A</th>\n",
       "      <th>B</th>\n",
       "      <th>C</th>\n",
       "      <th>D</th>\n",
       "    </tr>\n",
       "  </thead>\n",
       "  <tbody>\n",
       "    <tr>\n",
       "      <th>2000-01-01</th>\n",
       "      <td>NaN</td>\n",
       "      <td>NaN</td>\n",
       "      <td>NaN</td>\n",
       "      <td>0.171462</td>\n",
       "    </tr>\n",
       "    <tr>\n",
       "      <th>2000-01-02</th>\n",
       "      <td>NaN</td>\n",
       "      <td>NaN</td>\n",
       "      <td>NaN</td>\n",
       "      <td>NaN</td>\n",
       "    </tr>\n",
       "    <tr>\n",
       "      <th>2000-01-03</th>\n",
       "      <td>0.291439</td>\n",
       "      <td>NaN</td>\n",
       "      <td>NaN</td>\n",
       "      <td>0.484481</td>\n",
       "    </tr>\n",
       "    <tr>\n",
       "      <th>2000-01-04</th>\n",
       "      <td>0.807106</td>\n",
       "      <td>NaN</td>\n",
       "      <td>NaN</td>\n",
       "      <td>0.589299</td>\n",
       "    </tr>\n",
       "    <tr>\n",
       "      <th>2000-01-05</th>\n",
       "      <td>0.022349</td>\n",
       "      <td>0.013931</td>\n",
       "      <td>1.111319</td>\n",
       "      <td>NaN</td>\n",
       "    </tr>\n",
       "    <tr>\n",
       "      <th>2000-01-06</th>\n",
       "      <td>NaN</td>\n",
       "      <td>0.028567</td>\n",
       "      <td>NaN</td>\n",
       "      <td>NaN</td>\n",
       "    </tr>\n",
       "    <tr>\n",
       "      <th>2000-01-07</th>\n",
       "      <td>NaN</td>\n",
       "      <td>0.482857</td>\n",
       "      <td>NaN</td>\n",
       "      <td>0.068507</td>\n",
       "    </tr>\n",
       "    <tr>\n",
       "      <th>2000-01-08</th>\n",
       "      <td>NaN</td>\n",
       "      <td>NaN</td>\n",
       "      <td>2.159477</td>\n",
       "      <td>NaN</td>\n",
       "    </tr>\n",
       "  </tbody>\n",
       "</table>\n",
       "</div>"
      ],
      "text/plain": [
       "                   A         B         C         D\n",
       "2000-01-01       NaN       NaN       NaN  0.171462\n",
       "2000-01-02       NaN       NaN       NaN       NaN\n",
       "2000-01-03  0.291439       NaN       NaN  0.484481\n",
       "2000-01-04  0.807106       NaN       NaN  0.589299\n",
       "2000-01-05  0.022349  0.013931  1.111319       NaN\n",
       "2000-01-06       NaN  0.028567       NaN       NaN\n",
       "2000-01-07       NaN  0.482857       NaN  0.068507\n",
       "2000-01-08       NaN       NaN  2.159477       NaN"
      ]
     },
     "execution_count": 128,
     "metadata": {},
     "output_type": "execute_result"
    }
   ],
   "source": [
    "# Don't need to use with a dataframe, you do with series\n",
    "df = pd.DataFrame(np.random.randn(8, 4), index=dates, columns=['A', 'B', 'C', 'D'])\n",
    "\n",
    "df[df > 0 ] # is the same as df.where(df < 0)"
   ]
  },
  {
   "cell_type": "code",
   "execution_count": 129,
   "metadata": {
    "collapsed": false
   },
   "outputs": [
    {
     "data": {
      "text/html": [
       "<div>\n",
       "<table border=\"1\" class=\"dataframe\">\n",
       "  <thead>\n",
       "    <tr style=\"text-align: right;\">\n",
       "      <th></th>\n",
       "      <th>A</th>\n",
       "      <th>B</th>\n",
       "      <th>C</th>\n",
       "      <th>D</th>\n",
       "    </tr>\n",
       "  </thead>\n",
       "  <tbody>\n",
       "    <tr>\n",
       "      <th>2000-01-01</th>\n",
       "      <td>-0.060105</td>\n",
       "      <td>-0.266181</td>\n",
       "      <td>-0.063383</td>\n",
       "      <td>-0.171462</td>\n",
       "    </tr>\n",
       "    <tr>\n",
       "      <th>2000-01-02</th>\n",
       "      <td>-0.423411</td>\n",
       "      <td>-0.692950</td>\n",
       "      <td>-0.220942</td>\n",
       "      <td>-1.519901</td>\n",
       "    </tr>\n",
       "    <tr>\n",
       "      <th>2000-01-03</th>\n",
       "      <td>-0.291439</td>\n",
       "      <td>-0.145678</td>\n",
       "      <td>-0.154859</td>\n",
       "      <td>-0.484481</td>\n",
       "    </tr>\n",
       "    <tr>\n",
       "      <th>2000-01-04</th>\n",
       "      <td>-0.807106</td>\n",
       "      <td>-1.364055</td>\n",
       "      <td>-0.916221</td>\n",
       "      <td>-0.589299</td>\n",
       "    </tr>\n",
       "    <tr>\n",
       "      <th>2000-01-05</th>\n",
       "      <td>-0.022349</td>\n",
       "      <td>-0.013931</td>\n",
       "      <td>-1.111319</td>\n",
       "      <td>-2.049686</td>\n",
       "    </tr>\n",
       "    <tr>\n",
       "      <th>2000-01-06</th>\n",
       "      <td>-0.005906</td>\n",
       "      <td>-0.028567</td>\n",
       "      <td>-1.203733</td>\n",
       "      <td>-0.321108</td>\n",
       "    </tr>\n",
       "    <tr>\n",
       "      <th>2000-01-07</th>\n",
       "      <td>-1.532649</td>\n",
       "      <td>-0.482857</td>\n",
       "      <td>-1.797368</td>\n",
       "      <td>-0.068507</td>\n",
       "    </tr>\n",
       "    <tr>\n",
       "      <th>2000-01-08</th>\n",
       "      <td>-0.905793</td>\n",
       "      <td>-0.641463</td>\n",
       "      <td>-2.159477</td>\n",
       "      <td>-0.985290</td>\n",
       "    </tr>\n",
       "  </tbody>\n",
       "</table>\n",
       "</div>"
      ],
      "text/plain": [
       "                   A         B         C         D\n",
       "2000-01-01 -0.060105 -0.266181 -0.063383 -0.171462\n",
       "2000-01-02 -0.423411 -0.692950 -0.220942 -1.519901\n",
       "2000-01-03 -0.291439 -0.145678 -0.154859 -0.484481\n",
       "2000-01-04 -0.807106 -1.364055 -0.916221 -0.589299\n",
       "2000-01-05 -0.022349 -0.013931 -1.111319 -2.049686\n",
       "2000-01-06 -0.005906 -0.028567 -1.203733 -0.321108\n",
       "2000-01-07 -1.532649 -0.482857 -1.797368 -0.068507\n",
       "2000-01-08 -0.905793 -0.641463 -2.159477 -0.985290"
      ]
     },
     "execution_count": 129,
     "metadata": {},
     "output_type": "execute_result"
    }
   ],
   "source": [
    "# You can also fill the \"other\" argument to replace false values.\n",
    "\n",
    "df.where(df < 0, -df) # where df is less than 0 make it a -ve value."
   ]
  },
  {
   "cell_type": "markdown",
   "metadata": {},
   "source": [
    "It's easy to set values based on some boolean criteria"
   ]
  },
  {
   "cell_type": "code",
   "execution_count": 130,
   "metadata": {
    "collapsed": false
   },
   "outputs": [
    {
     "name": "stdout",
     "output_type": "stream",
     "text": [
      "                   A         B         C         D\n",
      "2000-01-01  0.000000  0.000000  0.000000  0.171462\n",
      "2000-01-02  0.000000  0.000000  0.000000  0.000000\n",
      "2000-01-03  0.291439  0.000000  0.000000  0.484481\n",
      "2000-01-04  0.807106  0.000000  0.000000  0.589299\n",
      "2000-01-05  0.022349  0.013931  1.111319  0.000000\n",
      "2000-01-06  0.000000  0.028567  0.000000  0.000000\n",
      "2000-01-07  0.000000  0.482857  0.000000  0.068507\n",
      "2000-01-08  0.000000  0.000000  2.159477  0.000000\n"
     ]
    }
   ],
   "source": [
    "df2 = df.copy()\n",
    "\n",
    "df2[df2 < 0] = 0\n",
    "\n",
    "print df2"
   ]
  },
  {
   "cell_type": "code",
   "execution_count": 132,
   "metadata": {
    "collapsed": false
   },
   "outputs": [
    {
     "name": "stdout",
     "output_type": "stream",
     "text": [
      "                   A         B         C         D\n",
      "2000-01-01  0.060105  0.266181  0.063383  0.171462\n",
      "2000-01-02  0.423411  0.692950  0.220942  1.519901\n",
      "2000-01-03  0.291439  0.145678  0.154859  0.484481\n",
      "2000-01-04  0.807106  1.364055  0.916221  0.589299\n",
      "2000-01-05  0.022349  0.013931  1.111319  2.049686\n",
      "2000-01-06  0.005906  0.028567  1.203733  0.321108\n",
      "2000-01-07  1.532649  0.482857  1.797368  0.068507\n",
      "2000-01-08  0.905793  0.641463  2.159477  0.985290\n"
     ]
    }
   ],
   "source": [
    "# you can modify the dataframe inplace\n",
    "\n",
    "df_orig = df.copy()\n",
    "\n",
    "df_orig.where(df > 0, -df, inplace=True)\n",
    "\n",
    "print df_orig"
   ]
  },
  {
   "cell_type": "code",
   "execution_count": 134,
   "metadata": {
    "collapsed": false
   },
   "outputs": [
    {
     "name": "stdout",
     "output_type": "stream",
     "text": [
      "                   A         B         C         D\n",
      "2000-01-01 -0.060105 -0.266181 -0.063383  0.171462\n",
      "2000-01-02 -0.423411 -0.692950 -0.220942 -1.519901\n",
      "2000-01-03  0.291439 -0.145678 -0.154859  0.484481\n",
      "2000-01-04  0.807106 -1.364055 -0.916221  0.589299\n",
      "2000-01-05  0.022349  0.013931  1.111319 -2.049686\n",
      "2000-01-06 -0.005906  0.028567 -1.203733 -0.321108\n",
      "2000-01-07 -1.532649  0.482857 -1.797368  0.068507\n",
      "2000-01-08 -0.905793 -0.641463  2.159477 -0.985290\n",
      "                   A         B         C         D\n",
      "2000-01-01 -0.060105 -0.060105 -0.060105  0.171462\n",
      "2000-01-02 -0.423411 -0.423411 -0.423411 -0.423411\n",
      "2000-01-03  0.291439  0.291439  0.291439  0.484481\n",
      "2000-01-04  0.807106  0.807106  0.807106  0.589299\n",
      "2000-01-05  0.022349  0.013931  1.111319  0.022349\n",
      "2000-01-06 -0.005906  0.028567 -0.005906 -0.005906\n",
      "2000-01-07 -1.532649  0.482857 -1.532649  0.068507\n",
      "2000-01-08 -0.905793 -0.905793  2.159477 -0.905793\n"
     ]
    }
   ],
   "source": [
    "print df \n",
    "\n",
    "df2 = df.copy()\n",
    "\n",
    "# if any value in df2 is greater than 0, keep it. Otherwise, replace the value with the equivalent value from column\n",
    "# 'A'.\n",
    "print df2.where(df2>0,df2['A'], axis='index')\n"
   ]
  },
  {
   "cell_type": "markdown",
   "metadata": {},
   "source": [
    "You could also do this, though it is not as fast:"
   ]
  },
  {
   "cell_type": "code",
   "execution_count": 135,
   "metadata": {
    "collapsed": false
   },
   "outputs": [
    {
     "name": "stdout",
     "output_type": "stream",
     "text": [
      "                   A         B         C         D\n",
      "2000-01-01 -0.060105 -0.060105 -0.060105  0.171462\n",
      "2000-01-02 -0.423411 -0.423411 -0.423411 -0.423411\n",
      "2000-01-03  0.291439  0.291439  0.291439  0.484481\n",
      "2000-01-04  0.807106  0.807106  0.807106  0.589299\n",
      "2000-01-05  0.022349  0.013931  1.111319  0.022349\n",
      "2000-01-06 -0.005906  0.028567 -0.005906 -0.005906\n",
      "2000-01-07 -1.532649  0.482857 -1.532649  0.068507\n",
      "2000-01-08 -0.905793 -0.905793  2.159477 -0.905793\n"
     ]
    }
   ],
   "source": [
    "df2 = df.copy()\n",
    "\n",
    "# looping over each row. apply where to x, if x is greater than 0. Change to y is condition is met. Where y is value in\n",
    "# 'A'\n",
    "print df2.apply(lambda x, y: x.where(x>0,y), y=df['A'])"
   ]
  },
  {
   "cell_type": "markdown",
   "metadata": {},
   "source": [
    "Where can also accept the following:"
   ]
  },
  {
   "cell_type": "code",
   "execution_count": 141,
   "metadata": {
    "collapsed": false
   },
   "outputs": [],
   "source": [
    "df3 = pd.DataFrame({'A':[1,2,3], 'B':[4,5,6], 'C': [7,8,9]})\n",
    "\n",
    "# this doesn't work but is in the documentation\n",
    "df3.where(lambda x: x > 4, lambda x: x + 10) # ValueError: where requires an ndarray like object for its condition"
   ]
  }
 ],
 "metadata": {
  "kernelspec": {
   "display_name": "Python 2",
   "language": "python",
   "name": "python2"
  },
  "language_info": {
   "codemirror_mode": {
    "name": "ipython",
    "version": 2
   },
   "file_extension": ".py",
   "mimetype": "text/x-python",
   "name": "python",
   "nbconvert_exporter": "python",
   "pygments_lexer": "ipython2",
   "version": "2.7.11"
  }
 },
 "nbformat": 4,
 "nbformat_minor": 0
}
