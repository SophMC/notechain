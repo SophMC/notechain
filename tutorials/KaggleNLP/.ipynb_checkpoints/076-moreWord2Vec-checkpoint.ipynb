{
 "cells": [
  {
   "cell_type": "markdown",
   "metadata": {},
   "source": [
    "### Part 3: More Fun With Word Vectors\n",
    "\n",
    "#### Numeric Representation of Words\n",
    "\n",
    "Now that we have a trained model with some understanding of the meaning of words, how should we use it?   \n",
    "Word2Vec model in Part 2 consists of a feature vector for each word in the vocabulary, stored in a numpy array called \"syn0\""
   ]
  },
  {
   "cell_type": "code",
   "execution_count": 52,
   "metadata": {
    "collapsed": false
   },
   "outputs": [
    {
     "name": "stdout",
     "output_type": "stream",
     "text": [
      "<class 'numpy.ndarray'>\n",
      "(16490, 300)\n"
     ]
    }
   ],
   "source": [
    "from gensim.models import Word2Vec\n",
    "import numpy as np\n",
    "from sklearn.ensemble import RandomForestClassifier\n",
    "from sklearn.cluster import KMeans\n",
    "import time\n",
    "import pandas as pd\n",
    "\n",
    "# load the model that we create in Part 2\n",
    "model = Word2Vec.load(\"/home/sophie/projects/kaggleBOW/models/300features_40minwords_10context\")\n",
    "\n",
    "print(type(model.syn0))\n",
    "\n",
    "print(model.syn0.shape)"
   ]
  },
  {
   "cell_type": "code",
   "execution_count": 54,
   "metadata": {
    "collapsed": false
   },
   "outputs": [],
   "source": [
    "# Read in the test and training datasets\n",
    "\n",
    "path=\"/home/sophie/projects/kaggleBOW/\"\n",
    "\n",
    "train = pd.read_csv(\"%slabeledTrainData.tsv\"%path, header = 0, delimiter = \"\\t\", quoting = 3 )\n",
    "\n",
    "test = pd.read_csv(\"%stestData.tsv\"%path, header = 0, delimiter = \"\\t\", quoting = 3)"
   ]
  },
  {
   "cell_type": "markdown",
   "metadata": {},
   "source": [
    "No of rows = 16490 = number of words in the model's vocab.  \n",
    "No of cols = 300 = each word has 300 \"features\".    \n",
    "Individual word vectors can be accessed the following way:"
   ]
  },
  {
   "cell_type": "code",
   "execution_count": 6,
   "metadata": {
    "collapsed": false
   },
   "outputs": [
    {
     "data": {
      "text/plain": [
       "(300,)"
      ]
     },
     "execution_count": 6,
     "metadata": {},
     "output_type": "execute_result"
    }
   ],
   "source": [
    "# returns a 1 x 300 numpy array\n",
    "model[\"flower\"].shape"
   ]
  },
  {
   "cell_type": "markdown",
   "metadata": {},
   "source": [
    "### From Words to Paragraphs, Attempt 1: Vector Averaging\n",
    "\n",
    "Variable-length reviews are a challenged in the IMDB dataset. We want to find  away to take individual word vectors and transform them into a feature set that is the same length for every review.\n",
    "\n",
    "Since each word is a vector in 300-dimensional space, we can use vector operations to combine the words in each review. \n",
    "One method is to average the word vectors in a given review (we removed stop words, which make it noisy):\n",
    "\n",
    "The following code averages the feature vectors:"
   ]
  },
  {
   "cell_type": "code",
   "execution_count": 20,
   "metadata": {
    "collapsed": false
   },
   "outputs": [],
   "source": [
    "def makeFeatureVec(words, model, num_features):\n",
    "    \"\"\"Function to average all of the word vectors in a given paragraph\"\"\"\n",
    "    # Pre-initialize an empty numpy array (for speed)\n",
    "    featureVec = np.zeros((num_features,),dtype=\"float32\")\n",
    "    #\n",
    "    nwords = 0.\n",
    "    #\n",
    "    # Index2word is a list that contains the names of the words in\n",
    "    # the model's vocabulary. Convert it to a set, for speed\n",
    "    index2word_set = set(model.index2word)\n",
    "    #\n",
    "    # Loop over each word in the review and, if it is in the model's\n",
    "    # vocaublary, add its feature vector to the total\n",
    "    for word in words:\n",
    "        if word in index2word_set:\n",
    "            nwords = nwords + 1.\n",
    "            featureVec = np.add(featureVec,model[word])\n",
    "    #\n",
    "    # Divide the result by the number of words to get the average\n",
    "    featureVec = np.divide(featureVec,nwords)\n",
    "    return featureVec\n",
    "    "
   ]
  },
  {
   "cell_type": "code",
   "execution_count": 22,
   "metadata": {
    "collapsed": false
   },
   "outputs": [],
   "source": [
    "def getAvgFeatureVecs(reviews, model, num_features):\n",
    "    \"\"\"Given a set of reviews (each one a list of words), calculate\n",
    "    the average feature vector for each one and return a 2D numpy array\"\"\"\n",
    "    # Initialize a counter\n",
    "    counter = 0.\n",
    "    #\n",
    "    # Preallocate a 2D numpy array, for speed\n",
    "    reviewFeatureVecs = np.zeros((len(reviews),num_features),dtype=\"float32\")\n",
    "    #\n",
    "    # Loop through the reviews\n",
    "    for review in reviews:\n",
    "        # Print a status message every 1000th review\n",
    "        if counter%1000. == 0.:\n",
    "            print (\"Review %d of %d\" % (counter, len(reviews)))\n",
    "       \n",
    "        # Call the function (defined above) that makes average feature vectors\n",
    "        reviewFeatureVecs[counter] = makeFeatureVec(review, model, num_features)\n",
    "        # Increment the counter\n",
    "        counter = counter + 1.\n",
    "    return reviewFeatureVecs"
   ]
  },
  {
   "cell_type": "code",
   "execution_count": 15,
   "metadata": {
    "collapsed": false
   },
   "outputs": [
    {
     "name": "stdout",
     "output_type": "stream",
     "text": [
      "/home/sophie/Python/notechain/tutorials/KaggleNLP\n"
     ]
    }
   ],
   "source": [
    "cd \"/home/sophie/Python/notechain/tutorials/KaggleNLP\""
   ]
  },
  {
   "cell_type": "code",
   "execution_count": 16,
   "metadata": {
    "collapsed": false
   },
   "outputs": [],
   "source": [
    "from word_vectors import review_to_sentences, review_to_wordlist"
   ]
  },
  {
   "cell_type": "markdown",
   "metadata": {},
   "source": [
    "Now we can call these functions to create average vectors for each paragraph. The following operations will take a few mins:"
   ]
  },
  {
   "cell_type": "code",
   "execution_count": 57,
   "metadata": {
    "collapsed": false
   },
   "outputs": [
    {
     "name": "stderr",
     "output_type": "stream",
     "text": [
      "/home/sophie/anaconda3/lib/python3.5/site-packages/bs4/__init__.py:166: UserWarning: No parser was explicitly specified, so I'm using the best available HTML parser for this system (\"lxml\"). This usually isn't a problem, but if you run this code on another system, or in a different virtual environment, it may use a different parser and behave differently.\n",
      "\n",
      "To get rid of this warning, change this:\n",
      "\n",
      " BeautifulSoup([your markup])\n",
      "\n",
      "to this:\n",
      "\n",
      " BeautifulSoup([your markup], \"lxml\")\n",
      "\n",
      "  markup_type=markup_type))\n"
     ]
    },
    {
     "name": "stdout",
     "output_type": "stream",
     "text": [
      "Review 0 of 25000\n",
      "Review 1000 of 25000\n",
      "Review 2000 of 25000\n",
      "Review 3000 of 25000\n",
      "Review 4000 of 25000\n",
      "Review 5000 of 25000\n",
      "Review 6000 of 25000\n",
      "Review 7000 of 25000\n",
      "Review 8000 of 25000\n",
      "Review 9000 of 25000\n",
      "Review 10000 of 25000\n",
      "Review 11000 of 25000\n",
      "Review 12000 of 25000\n",
      "Review 13000 of 25000\n",
      "Review 14000 of 25000\n",
      "Review 15000 of 25000\n",
      "Review 16000 of 25000\n",
      "Review 17000 of 25000\n",
      "Review 18000 of 25000\n",
      "Review 19000 of 25000\n",
      "Review 20000 of 25000\n",
      "Review 21000 of 25000\n",
      "Review 22000 of 25000\n",
      "Review 23000 of 25000\n",
      "Review 24000 of 25000\n",
      "Creating average feature vecs for test reviews\n",
      "Review 0 of 25000\n",
      "Review 1000 of 25000\n",
      "Review 2000 of 25000\n",
      "Review 3000 of 25000\n",
      "Review 4000 of 25000\n",
      "Review 5000 of 25000\n",
      "Review 6000 of 25000\n",
      "Review 7000 of 25000\n",
      "Review 8000 of 25000\n",
      "Review 9000 of 25000\n",
      "Review 10000 of 25000\n",
      "Review 11000 of 25000\n",
      "Review 12000 of 25000\n",
      "Review 13000 of 25000\n",
      "Review 14000 of 25000\n",
      "Review 15000 of 25000\n",
      "Review 16000 of 25000\n",
      "Review 17000 of 25000\n",
      "Review 18000 of 25000\n",
      "Review 19000 of 25000\n",
      "Review 20000 of 25000\n",
      "Review 21000 of 25000\n",
      "Review 22000 of 25000\n",
      "Review 23000 of 25000\n",
      "Review 24000 of 25000\n"
     ]
    }
   ],
   "source": [
    "# Set values for various parameters - see 076-word_vectors.ipynb\n",
    "num_features = 300    # Word vector dimensionality                      \n",
    "min_word_count = 40   # Minimum word count                        \n",
    "num_workers = 4       # Number of threads to run in parallel\n",
    "context = 10          # Context window size                                                                 \n",
    "downsampling = 1e-3   # Downsample setting for frequent words\n",
    "\n",
    "#*************************************************************\n",
    "# Calculate average feature vectors for training and testing sets using the functions above. Notice that we now use\n",
    "# stop word removal.\n",
    "clean_train_reviews = []\n",
    "for review in train[\"review\"]:\n",
    "    clean_train_reviews.append(review_to_wordlist(review, remove_stopwords = True))\n",
    "    \n",
    "trainDataVecs = getAvgFeatureVecs(clean_train_reviews, model, num_features)\n",
    "\n",
    "print(\"Creating average feature vecs for test reviews\")\n",
    "clean_test_reviews = []\n",
    "for review in train[\"review\"]:\n",
    "    clean_test_reviews.append(review_to_wordlist(review, remove_stopwords = True))\n",
    "    \n",
    "trainDataVecs = getAvgFeatureVecs(clean_test_reviews, model, num_features)"
   ]
  },
  {
   "cell_type": "markdown",
   "metadata": {},
   "source": [
    "Next, use the average paragraph vectors to train a random forest. Note that, as in Part 1, we can only use the labeled training reviews to train the model."
   ]
  },
  {
   "cell_type": "code",
   "execution_count": null,
   "metadata": {
    "collapsed": true
   },
   "outputs": [],
   "source": [
    "# Fit a random forest to the training data, using 100 trees.\n",
    "forest = RandomForestClassifier(n_estimators = 100)\n",
    "\n",
    "print(\"Fitting a random forest to labeled training data...\")\n",
    "forest = forest.fit(trainDataVecs, train[\"sentiment\"])\n",
    "\n",
    "# Test & extract results\n",
    "result = forest.predict(testDataVecs)\n",
    "\n",
    "# Write the test results\n",
    "output = pd.DataFrame( data{\"id\":test[\"id\"], \"sentiment\":result})\n",
    "path = \"/home/sophie/projects/kaggleBOW/test_results/\"\n",
    "output.to_csv(\"%sWord2Vec_AverageVectors.csv\"%path, index=False, quoting=3)"
   ]
  },
  {
   "cell_type": "markdown",
   "metadata": {},
   "source": [
    "It was found that this produced results much better than chance, but underperformed Bag of Words by a few percentage points.\n",
    "\n",
    "Since the element-wise average of the vectors didn't produce spectacular reuslts, perhaps we could do it in a more intelligent way? A standard way of weighting word vectors is to apply \"tf-idf\" weights, which measure how important a given word is within a given set of documents. scikit.learn's [TfidfVectorizer](http://scikit-learn.org/stable/modules/generated/sklearn.feature_extraction.text.TfidfVectorizer.html) has a similar interface to CountVectorizer and can extract tf-idf weights. However, there was no substantial improvements found in performance."
   ]
  },
  {
   "cell_type": "markdown",
   "metadata": {},
   "source": [
    "### From Words to Paragraphs, Attempt 2: Clustering\n",
    "\n",
    "Word2Vec create clusters of semantically related words, so another possible approach is to exploit the similarity of words within a cluster. Grouping vectors in this way is know as \"vector quantization\". We will use `K-Means` clustering algorithm to find the centers of the word clusters.\n",
    "\n",
    "In `K-Means` we need to set the parameter K (the number of clusters).    \n",
    "One way to set the number of clusters is described [here](https://github.com/SophMC/notechain/blob/master/tutorials/K-means/MNIST.ipynb). The general idea is to use the number of clusters where the benefit of using more levels off quickly - as seen in an [\"elbow\" plot](http://nbviewer.jupyter.org/github/nborwankar/LearnDataScience/blob/master/notebooks/WD3.%20K-Means%20Clustering%20Analysis%20-%20Worksheet.ipynb).\n",
    "\n",
    "For this example trial and erro suggested that small clusters with an average of 5 words per cluster was better than larger clusters with many words. Clustering can take a while. There is a timer set below to see how long it takes."
   ]
  },
  {
   "cell_type": "code",
   "execution_count": 33,
   "metadata": {
    "collapsed": false
   },
   "outputs": [
    {
     "name": "stdout",
     "output_type": "stream",
     "text": [
      "<class 'numpy.float32'>\n",
      "3298.0\n"
     ]
    }
   ],
   "source": [
    "print(type(word_vectors[0,0]))\n",
    "print(num_clusters)"
   ]
  },
  {
   "cell_type": "code",
   "execution_count": 35,
   "metadata": {
    "collapsed": false
   },
   "outputs": [
    {
     "name": "stdout",
     "output_type": "stream",
     "text": [
      "Time taken for K means clustering:  1593.0480296611786 seconds\n"
     ]
    }
   ],
   "source": [
    "start = time.time() # start time\n",
    "\n",
    "# Set \"k\" (num_clusters) to be 1/5th of the vocabulary size, or an average of 5 words per cluster\n",
    "word_vectors = model.syn0\n",
    "\n",
    "#must be an integer\n",
    "num_clusters = int(word_vectors.shape[0] / 5)  # extract the number of words with word_vectors.shape[0] - [1] to find features.\n",
    "\n",
    "# Initialize a k-means object and use it to extract centroids\n",
    "kmeans_clustering = KMeans(n_clusters = num_clusters)\n",
    "idx = kmeans_clustering.fit_predict(word_vectors)\n",
    "\n",
    "# Get the end time and print how long the process took\n",
    "end = time.time()\n",
    "elapsed = end - start\n",
    "print(\"Time taken for K means clustering: \", elapsed, \"seconds\")"
   ]
  },
  {
   "cell_type": "code",
   "execution_count": 36,
   "metadata": {
    "collapsed": false
   },
   "outputs": [
    {
     "name": "stdout",
     "output_type": "stream",
     "text": [
      "Time taken for K means clustering:  26.550800494352977 mins\n"
     ]
    }
   ],
   "source": [
    "print(\"Time taken for K means clustering: \", elapsed/60, \"mins\")"
   ]
  },
  {
   "cell_type": "markdown",
   "metadata": {},
   "source": [
    "The cluster assignment for each word is now stored in idx, and the vocabulary from our original Word2Vec model is still stored in `model.index2word` from `makeFeatureVec()`. For convenience, we zip these into one dictionary as follows:"
   ]
  },
  {
   "cell_type": "code",
   "execution_count": 37,
   "metadata": {
    "collapsed": true
   },
   "outputs": [],
   "source": [
    "# Create a Word/ Index dictionary, mapping each vocabulary word to a cluster number\n",
    "word_centroid_map = dict(zip(model.index2word, idx))"
   ]
  },
  {
   "cell_type": "code",
   "execution_count": 47,
   "metadata": {
    "collapsed": false
   },
   "outputs": [
    {
     "name": "stdout",
     "output_type": "stream",
     "text": [
      "['neglected', 'perpetrated', 'enlist', 'awfulness', 'deft', 'modicum', 'expressive', 'accused', 'fortune', 'rabbits']\n",
      "1226\n",
      "362\n"
     ]
    }
   ],
   "source": [
    "print(list(word_centroid_map)[0:10])\n",
    "print(word_centroid_map[\"neglected\"])  # the word neglected belongs to cluster number 1226\n",
    "print(word_centroid_map[\"deft\"])"
   ]
  },
  {
   "cell_type": "markdown",
   "metadata": {},
   "source": [
    "This is a little abstract, so let's take a close look at what our clusters contain. Your clusters may differ, as Word2Vec relies on a random number seed. Here is a loop that prints out the words for clusters 0 - 9."
   ]
  },
  {
   "cell_type": "code",
   "execution_count": 48,
   "metadata": {
    "collapsed": false
   },
   "outputs": [
    {
     "name": "stdout",
     "output_type": "stream",
     "text": [
      "\n",
      "Cluster 0\n",
      "['ahem']\n",
      "\n",
      "Cluster 1\n",
      "['brady', 'manson']\n",
      "\n",
      "Cluster 2\n",
      "['authority', 'agenda']\n",
      "\n",
      "Cluster 3\n",
      "['shapes', 'environments']\n",
      "\n",
      "Cluster 4\n",
      "['puts', 'sticks', 'tosses', 'digs', 'threw', 'pushes', 'beats', 'grabs', 'drives', 'throwing', 'throws']\n",
      "\n",
      "Cluster 5\n",
      "['redford', 'culp']\n",
      "\n",
      "Cluster 6\n",
      "['abby', 'oprah', 'nicky', 'silverman', 'sebastian', 'lucinda', 'jade', 'divine', 'bewitched', 'christine', 'bey', 'cassandra', 'gabe']\n",
      "\n",
      "Cluster 7\n",
      "['cartoonish', 'superficial', 'cartoony', 'stereotyped', 'glorified']\n",
      "\n",
      "Cluster 8\n",
      "['banks', 'jose', 'hattie', 'brendan', 'hastings', 'heath', 'brook', 'mare', 'songwriter', 'coltrane', 'watts', 'maurice', 'frederick', 'menjou', 'javier', 'sewell', 'maine', 'fagin', 'hawkins', 'lina', 'burrows', 'schildkraut', 'welch', 'atwill', 'cotten']\n",
      "\n",
      "Cluster 9\n",
      "['tunnels', 'corridors', 'traps', 'panic', 'hallways', 'maze', 'tunnel']\n"
     ]
    }
   ],
   "source": [
    "# For the first 10 clusters\n",
    "for cluster in range(0,10):\n",
    "    # print the cluster number\n",
    "    print (\"\\nCluster %d\" %cluster)\n",
    "    \n",
    "    # Find all of the words for that cluster number, and print them out\n",
    "    words = []\n",
    "    for i in range(0, len(word_centroid_map.values())):\n",
    "        if (list(word_centroid_map.values())[i] == cluster):\n",
    "            words.append(list(word_centroid_map.keys())[i])\n",
    "    print(words)"
   ]
  },
  {
   "cell_type": "markdown",
   "metadata": {},
   "source": [
    "Now we have a cluster (or \"centroid\") assignment for each word and we can define a function to convert reviews into bags-of-centroids. This works just like Bag of Words but uses semantically related clusters instead of individual words."
   ]
  },
  {
   "cell_type": "code",
   "execution_count": 49,
   "metadata": {
    "collapsed": true
   },
   "outputs": [],
   "source": [
    "def create_bag_of_centroids(wordlist, word_centroid_map):\n",
    "    \n",
    "    # The number of clusters is equal to the highest cluster index in the word/ centroid map\n",
    "    num_centroids = max(word_centroid_map.values()) + 1\n",
    "    \n",
    "    # Pre-allocate the bag of centroids vector (for speed)\n",
    "    bag_of_centroids = np.zeros(num_centroids, dtype = \"float32\")\n",
    "    \n",
    "    # Loop over the words in the review. If the word is in the vocab, find which cluster it belongs to, and \n",
    "    # increment that cluster count by one\n",
    "    for word in wordlist:\n",
    "        if word in word_centroid_map:\n",
    "            index = word_centroid_map[word]\n",
    "            bag_of_centroids[index] += 1\n",
    "    # Return the \"bag of centroids\"\n",
    "    return bag_of_centroids"
   ]
  },
  {
   "cell_type": "markdown",
   "metadata": {},
   "source": [
    "The function above will give us a numpy array for each review, and in each array there is a number of features (equal to the number of clusters).          \n",
    "Finally, we create bags of centroids for our training and test set, then train a random forest and extract results."
   ]
  },
  {
   "cell_type": "code",
   "execution_count": 58,
   "metadata": {
    "collapsed": false
   },
   "outputs": [],
   "source": [
    "# Pre-allocate an array for the training set bags of centroids (for speed)\n",
    "train_centroids = np.zeros ((train[\"review\"].size, num_clusters), dtype = \"float32\")\n",
    "\n",
    "# Transform the training set reviews into bags of centroids\n",
    "counter = 0 \n",
    "for review in clean_train_reviews:\n",
    "    train_centroids[counter] = create_bag_of_centroids(review, word_centroid_map)\n",
    "    counter += 1\n",
    "    \n",
    "# Repeat for test reviews\n",
    "test_centroids = np.zeros((test[\"review\"].size, num_clusters), dtype = \"float32\")\n",
    "\n",
    "counter = 0\n",
    "for review in clean_test_reviews:\n",
    "    test_centroids[counter] = create_bag_of_centroids(review, word_centroid_map)\n",
    "    counter += 1"
   ]
  },
  {
   "cell_type": "code",
   "execution_count": null,
   "metadata": {
    "collapsed": true
   },
   "outputs": [],
   "source": []
  }
 ],
 "metadata": {
  "anaconda-cloud": {},
  "kernelspec": {
   "display_name": "Python [Root]",
   "language": "python",
   "name": "Python [Root]"
  },
  "language_info": {
   "codemirror_mode": {
    "name": "ipython",
    "version": 3
   },
   "file_extension": ".py",
   "mimetype": "text/x-python",
   "name": "python",
   "nbconvert_exporter": "python",
   "pygments_lexer": "ipython3",
   "version": "3.5.2"
  }
 },
 "nbformat": 4,
 "nbformat_minor": 0
}
