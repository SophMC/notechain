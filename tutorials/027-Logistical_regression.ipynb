{
 "cells": [
  {
   "cell_type": "markdown",
   "metadata": {},
   "source": [
    "## Logistical Regression\n",
    "\n",
    "### What are the odds that something will happen? Answering Yes/No questions\n",
    "\n",
    "####  - will I get the loan I want at a favorable interest rate?\n",
    "    i.e. Can I get a loan, form the Lending Club, of $10000 at 12% or less, with a FICO Score of 720?\n",
    "    or : What is the probability of getting a Loan of $10000 at 12% or less with a FICO Score of 720?"
   ]
  },
  {
   "cell_type": "markdown",
   "metadata": {},
   "source": [
    "Setting a probability of 0.67 for the threshold which tells us we WILL get the loan. Setting it at 0.8 would mean we were \"more certain\" that it will happen"
   ]
  },
  {
   "cell_type": "code",
   "execution_count": 16,
   "metadata": {
    "collapsed": false
   },
   "outputs": [
    {
     "name": "stdout",
     "output_type": "stream",
     "text": [
      "Populating the interactive namespace from numpy and matplotlib\n"
     ]
    },
    {
     "data": {
      "text/html": [
       "<div>\n",
       "<table border=\"1\" class=\"dataframe\">\n",
       "  <thead>\n",
       "    <tr style=\"text-align: right;\">\n",
       "      <th></th>\n",
       "      <th>Amount.Requested</th>\n",
       "      <th>Amount.Funded.By.Investors</th>\n",
       "      <th>Interest.Rate</th>\n",
       "      <th>Loan.Length</th>\n",
       "      <th>Loan.Purpose</th>\n",
       "      <th>Debt.To.Income.Ratio</th>\n",
       "      <th>State</th>\n",
       "      <th>Home.Ownership</th>\n",
       "      <th>Monthly.Income</th>\n",
       "      <th>Open.CREDIT.Lines</th>\n",
       "      <th>Revolving.CREDIT.Balance</th>\n",
       "      <th>Inquiries.in.the.Last.6.Months</th>\n",
       "      <th>Employment.Length</th>\n",
       "      <th>FICO.Score</th>\n",
       "    </tr>\n",
       "  </thead>\n",
       "  <tbody>\n",
       "    <tr>\n",
       "      <th>0</th>\n",
       "      <td>20000</td>\n",
       "      <td>20000.0</td>\n",
       "      <td>8.90</td>\n",
       "      <td>36</td>\n",
       "      <td>debt_consolidation</td>\n",
       "      <td>14.90%</td>\n",
       "      <td>SC</td>\n",
       "      <td>MORTGAGE</td>\n",
       "      <td>6541.67</td>\n",
       "      <td>14.0</td>\n",
       "      <td>14272.0</td>\n",
       "      <td>2.0</td>\n",
       "      <td>&lt; 1 year</td>\n",
       "      <td>735</td>\n",
       "    </tr>\n",
       "    <tr>\n",
       "      <th>1</th>\n",
       "      <td>19200</td>\n",
       "      <td>19200.0</td>\n",
       "      <td>12.12</td>\n",
       "      <td>36</td>\n",
       "      <td>debt_consolidation</td>\n",
       "      <td>28.36%</td>\n",
       "      <td>TX</td>\n",
       "      <td>MORTGAGE</td>\n",
       "      <td>4583.33</td>\n",
       "      <td>12.0</td>\n",
       "      <td>11140.0</td>\n",
       "      <td>1.0</td>\n",
       "      <td>2 years</td>\n",
       "      <td>715</td>\n",
       "    </tr>\n",
       "    <tr>\n",
       "      <th>2</th>\n",
       "      <td>10000</td>\n",
       "      <td>9975.0</td>\n",
       "      <td>9.99</td>\n",
       "      <td>36</td>\n",
       "      <td>debt_consolidation</td>\n",
       "      <td>14.30%</td>\n",
       "      <td>KS</td>\n",
       "      <td>MORTGAGE</td>\n",
       "      <td>3833.33</td>\n",
       "      <td>10.0</td>\n",
       "      <td>9346.0</td>\n",
       "      <td>0.0</td>\n",
       "      <td>5 years</td>\n",
       "      <td>695</td>\n",
       "    </tr>\n",
       "    <tr>\n",
       "      <th>3</th>\n",
       "      <td>12000</td>\n",
       "      <td>12000.0</td>\n",
       "      <td>11.71</td>\n",
       "      <td>36</td>\n",
       "      <td>credit_card</td>\n",
       "      <td>18.78%</td>\n",
       "      <td>NJ</td>\n",
       "      <td>RENT</td>\n",
       "      <td>3195.00</td>\n",
       "      <td>11.0</td>\n",
       "      <td>14469.0</td>\n",
       "      <td>0.0</td>\n",
       "      <td>9 years</td>\n",
       "      <td>695</td>\n",
       "    </tr>\n",
       "    <tr>\n",
       "      <th>4</th>\n",
       "      <td>6000</td>\n",
       "      <td>6000.0</td>\n",
       "      <td>15.31</td>\n",
       "      <td>36</td>\n",
       "      <td>other</td>\n",
       "      <td>20.05%</td>\n",
       "      <td>CT</td>\n",
       "      <td>OWN</td>\n",
       "      <td>4891.67</td>\n",
       "      <td>17.0</td>\n",
       "      <td>10391.0</td>\n",
       "      <td>2.0</td>\n",
       "      <td>3 years</td>\n",
       "      <td>670</td>\n",
       "    </tr>\n",
       "  </tbody>\n",
       "</table>\n",
       "</div>"
      ],
      "text/plain": [
       "   Amount.Requested  Amount.Funded.By.Investors  Interest.Rate  Loan.Length  \\\n",
       "0             20000                     20000.0           8.90           36   \n",
       "1             19200                     19200.0          12.12           36   \n",
       "2             10000                      9975.0           9.99           36   \n",
       "3             12000                     12000.0          11.71           36   \n",
       "4              6000                      6000.0          15.31           36   \n",
       "\n",
       "         Loan.Purpose Debt.To.Income.Ratio State Home.Ownership  \\\n",
       "0  debt_consolidation               14.90%    SC       MORTGAGE   \n",
       "1  debt_consolidation               28.36%    TX       MORTGAGE   \n",
       "2  debt_consolidation               14.30%    KS       MORTGAGE   \n",
       "3         credit_card               18.78%    NJ           RENT   \n",
       "4               other               20.05%    CT            OWN   \n",
       "\n",
       "   Monthly.Income  Open.CREDIT.Lines  Revolving.CREDIT.Balance  \\\n",
       "0         6541.67               14.0                   14272.0   \n",
       "1         4583.33               12.0                   11140.0   \n",
       "2         3833.33               10.0                    9346.0   \n",
       "3         3195.00               11.0                   14469.0   \n",
       "4         4891.67               17.0                   10391.0   \n",
       "\n",
       "   Inquiries.in.the.Last.6.Months Employment.Length  FICO.Score  \n",
       "0                             2.0          < 1 year         735  \n",
       "1                             1.0           2 years         715  \n",
       "2                             0.0           5 years         695  \n",
       "3                             0.0           9 years         695  \n",
       "4                             2.0           3 years         670  "
      ]
     },
     "execution_count": 16,
     "metadata": {},
     "output_type": "execute_result"
    }
   ],
   "source": [
    "# Using the cleaned up Lending Club data for input.\n",
    "\n",
    "% pylab inline\n",
    "import pandas as pd\n",
    "dfr = pd.read_csv('/home/sophie/projects/LendingClub/data/clean_LD.csv')\n",
    "\n",
    "# The tutorial has Interest.Rate in %, me in decimals. Fix\n",
    "\n",
    "dfr['Interest.Rate'] = dfr[\"Interest.Rate\"]*100\n",
    "\n",
    "dfr.head()"
   ]
  },
  {
   "cell_type": "code",
   "execution_count": 17,
   "metadata": {
    "collapsed": false
   },
   "outputs": [],
   "source": [
    "# Add a column to indicate (True/False) whether the interest rate is <= 12\n",
    "\n",
    "dfr['TF'] = dfr['Interest.Rate'] <= 12  # checked and works."
   ]
  },
  {
   "cell_type": "code",
   "execution_count": 18,
   "metadata": {
    "collapsed": false
   },
   "outputs": [],
   "source": [
    "# now we check the rows that have interest rate == 10 (a random choice for some number < 12)\n",
    "# This is a check to confirm that TF value is True where it should be\n",
    "\n",
    "d = dfr[dfr['Interest.Rate']==10] # yes, this checks out"
   ]
  },
  {
   "cell_type": "markdown",
   "metadata": {},
   "source": [
    "Now we create a Logit model using the data and model software. 'TF' column is the dependent (response) variable and 'FICO.Score' and 'Loan.Amount' are independent (predictor) variables."
   ]
  },
  {
   "cell_type": "code",
   "execution_count": 19,
   "metadata": {
    "collapsed": false
   },
   "outputs": [
    {
     "name": "stdout",
     "output_type": "stream",
     "text": [
      "Optimization terminated successfully.\n",
      "         Current function value: 0.307638\n",
      "         Iterations 8\n"
     ]
    }
   ],
   "source": [
    "import statsmodels.api as sm\n",
    "# statsmodels requires us to add a constant column representing the intercept\n",
    "dfr['intercept'] = 1.0\n",
    "\n",
    "# identify the independent variables\n",
    "ind_cols=['FICO.Score','Amount.Requested','intercept']\n",
    "# sm.Logit(endog,exog, **kwargs). endog = 1D response var, exog = nobs x k array(included intercept added by user)\n",
    "logit = sm.Logit(dfr['TF'],dfr[ind_cols])\n",
    "result = logit.fit()"
   ]
  },
  {
   "cell_type": "markdown",
   "metadata": {},
   "source": [
    "So, what are the results? What are the fitted coefficients computed by the software?"
   ]
  },
  {
   "cell_type": "code",
   "execution_count": 21,
   "metadata": {
    "collapsed": false
   },
   "outputs": [
    {
     "name": "stdout",
     "output_type": "stream",
     "text": [
      "FICO.Score           0.096533\n",
      "Amount.Requested    -0.000191\n",
      "intercept          -66.352340\n",
      "dtype: float64\n"
     ]
    }
   ],
   "source": [
    "# get the fitted coefficients from the results\n",
    "coeff = result.params\n",
    "print coeff"
   ]
  },
  {
   "cell_type": "markdown",
   "metadata": {},
   "source": [
    "From the results, the linear part of our predictor is:   \n",
    "    $z = -60.125 + 0.096533 * FicoScore - 0.000191 * AmountRequested $    \n",
    "This is multivariate linear regression.     \n",
    "Finally, the probability of our desired outcome, i.e. getting a loan at 12% interest or less, is:\n",
    "\n",
    "$p(z) = {1\\over1 + e^{(b_0+b_1*FicoScore+b_2*LoanAmount)}}$  \n",
    "\n",
    "where $b_0 = -60.125$, $b_1 = 0.087423$ and $b_2 = -0.000174$   \n"
   ]
  },
  {
   "cell_type": "markdown",
   "metadata": {},
   "source": [
    "We need to create a function in code to encapsulate all this.\n",
    "It will take the following input:\n",
    "    - A borrowers FICO score\n",
    "    - The desired loan amount\n",
    "    - The coefficient vector\n",
    "It will return the probability of getting a loan, between 0-1"
   ]
  },
  {
   "cell_type": "code",
   "execution_count": 22,
   "metadata": {
    "collapsed": true
   },
   "outputs": [],
   "source": [
    "def pz(fico, amt, coeff):\n",
    "    # compute the linear expression by multiplying the inputs by their respective coefficients.\n",
    "    # note that the coefficient array has the intercept coefficient at the nd\n",
    "    z = coeff[0]* fico + coeff[1]*amt + coeff[2]\n",
    "    return 1/(1+exp(-1*z))\n"
   ]
  },
  {
   "cell_type": "markdown",
   "metadata": {},
   "source": [
    "Now we use our data FICO = 720 and Loan Amount=10000 to get a probability using the z value and the logistic formula"
   ]
  },
  {
   "cell_type": "code",
   "execution_count": 23,
   "metadata": {
    "collapsed": false
   },
   "outputs": [
    {
     "data": {
      "text/plain": [
       "0.77597903100189791"
      ]
     },
     "execution_count": 23,
     "metadata": {},
     "output_type": "execute_result"
    }
   ],
   "source": [
    "pz(720,10000,coeff)"
   ]
  },
  {
   "cell_type": "markdown",
   "metadata": {},
   "source": [
    "This value of 0.7759 tells us we have a good chance of getting the loan we want (considering anything over 0.67 was a yes).\n",
    "Now we will experiement with various sets of input data for FICO score and Loan Amount requested"
   ]
  },
  {
   "cell_type": "code",
   "execution_count": 24,
   "metadata": {
    "collapsed": false
   },
   "outputs": [
    {
     "name": "stdout",
     "output_type": "stream",
     "text": [
      "Trying multiple FICO Loan Amount combinations: \n",
      "----\n",
      "fico=720, amt=10,000\n",
      "0.775979031002\n",
      "fico=720, amt=20,000\n",
      "0.339239916338\n",
      "fico=720, amt=30,000\n",
      "0.0707153575586\n",
      "fico=820, amt=10,000\n",
      "0.999981462395\n",
      "fico=820, amt=20,000\n",
      "0.999874943716\n",
      "fico=820, amt=30,000\n",
      "0.999156875551\n"
     ]
    }
   ],
   "source": [
    "print(\"Trying multiple FICO Loan Amount combinations: \")\n",
    "print('----')\n",
    "print(\"fico=720, amt=10,000\")\n",
    "print(pz(720,10000,coeff))\n",
    "print(\"fico=720, amt=20,000\")\n",
    "print(pz(720,20000,coeff))\n",
    "print(\"fico=720, amt=30,000\")\n",
    "print(pz(720,30000,coeff))\n",
    "print(\"fico=820, amt=10,000\")\n",
    "print(pz(820,10000,coeff))\n",
    "print(\"fico=820, amt=20,000\")\n",
    "print(pz(820,20000,coeff))\n",
    "print(\"fico=820, amt=30,000\")\n",
    "print(pz(820,30000,coeff))"
   ]
  },
  {
   "cell_type": "markdown",
   "metadata": {},
   "source": [
    "With a lower FICO Score of 720 the person will have a lower probability of getting the loan. With a Higher FICO score,\n",
    "you are more likely to be accepted for loans up to $30 000"
   ]
  },
  {
   "cell_type": "code",
   "execution_count": 30,
   "metadata": {
    "collapsed": false
   },
   "outputs": [
    {
     "name": "stdout",
     "output_type": "stream",
     "text": [
      "FICO 820,Amount $50000 = 0.984144 probability \n"
     ]
    }
   ],
   "source": [
    "print \"FICO 820,Amount $50000 = %f probability \"% (pz(829,50000,coeff))"
   ]
  },
  {
   "cell_type": "code",
   "execution_count": 31,
   "metadata": {
    "collapsed": false
   },
   "outputs": [
    {
     "name": "stdout",
     "output_type": "stream",
     "text": [
      "FICO 820,Amount $60000 = 0.901955 probability \n"
     ]
    }
   ],
   "source": [
    "print \"FICO 820,Amount $60000 = %f probability \"% (pz(829,60000,coeff))"
   ]
  },
  {
   "cell_type": "code",
   "execution_count": 32,
   "metadata": {
    "collapsed": false
   },
   "outputs": [
    {
     "name": "stdout",
     "output_type": "stream",
     "text": [
      "FICO 820,Amount $70000 = 0.576903 probability \n"
     ]
    }
   ],
   "source": [
    "print \"FICO 820,Amount $70000 = %f probability \"% (pz(829,70000,coeff))"
   ]
  },
  {
   "cell_type": "code",
   "execution_count": 33,
   "metadata": {
    "collapsed": false
   },
   "outputs": [
    {
     "name": "stdout",
     "output_type": "stream",
     "text": [
      "FICO 820,Amount $630000 = 0.838407 probability \n"
     ]
    }
   ],
   "source": [
    "print \"FICO 820,Amount $630000 = %f probability \"% (pz(829,63000,coeff))"
   ]
  },
  {
   "cell_type": "code",
   "execution_count": 34,
   "metadata": {
    "collapsed": false
   },
   "outputs": [
    {
     "name": "stdout",
     "output_type": "stream",
     "text": [
      "FICO 820,Amount $65000 = 0.779818 probability \n"
     ]
    }
   ],
   "source": [
    "print \"FICO 820,Amount $65000 = %f probability \"% (pz(829,65000,coeff))"
   ]
  },
  {
   "cell_type": "markdown",
   "metadata": {},
   "source": [
    "The results above suggest that the liklihood of being accepted for a loan, with a FICO score of 820, falls sharply between \\$60000 and \\$70000. Anything over \\$65000 could be risky. "
   ]
  },
  {
   "cell_type": "markdown",
   "metadata": {},
   "source": [
    "### Challenge Exercise\n",
    "\n",
    "Create a yes/no plot for loan amount on x-axis and probability of loan on y-axis for a FICO score of 820 and 720."
   ]
  },
  {
   "cell_type": "code",
   "execution_count": 53,
   "metadata": {
    "collapsed": false
   },
   "outputs": [
    {
     "data": {
      "image/png": "[encoded data removed]",
      "text/plain": [
       "<matplotlib.figure.Figure at 0x7f7b4fa19710>"
      ]
     },
     "metadata": {},
     "output_type": "display_data"
    }
   ],
   "source": [
    "for amt in range(0,90000,5000):\n",
    "    b = pz(820,amt,coeff)\n",
    "    c = pz(720,amt,coeff)\n",
    "    d = pz(780,amt,coeff)\n",
    "    plt.scatter(amt,b,s=30)\n",
    "    plt.scatter(amt,c,s=30, color='red')\n",
    "    plt.scatter(amt,d,s=30, color='orange')\n",
    "    plt.title(\"Probability of Loan Acceptance\")\n",
    "    plt.xlabel(\"Loan Amount ($)\")\n",
    "    plt.ylabel(\"Probability\")\n",
    "    plt.xlim=(0,10000)\n",
    "    plt.ylim=(0,1)\n",
    "    plt.legend(['FICO 820','FICO 720','FICO 780'])"
   ]
  },
  {
   "cell_type": "code",
   "execution_count": 99,
   "metadata": {
    "collapsed": false
   },
   "outputs": [
    {
     "data": {
      "image/png": "[encoded data removed]",
      "text/plain": [
       "<matplotlib.figure.Figure at 0x7f7b4c810750>"
      ]
     },
     "metadata": {},
     "output_type": "display_data"
    }
   ],
   "source": [
    "# Can do a similar thing with plt.plot and different symbols. Easy to get the axis right down to 0. \n",
    "\n",
    "leg_labs = ['FICO 820','FICO 720','FICO 780']\n",
    "for amt in range(0,90000,5000):\n",
    "    b = pz(820,amt,coeff)\n",
    "    c = pz(720,amt,coeff)\n",
    "    d = pz(780,amt,coeff)\n",
    "    plt.plot(amt,b,'bo')\n",
    "    plt.plot(amt,c,'r^')\n",
    "    plt.plot(amt,d,'g<')\n",
    "    plt.legend(leg_labs)"
   ]
  },
  {
   "cell_type": "markdown",
   "metadata": {},
   "source": [
    "#### Extra Challenge\n",
    "How would you create a plot that showed the probability of getting a loan as a function of BOTH FICO score and loan amount varying - what tools woudl you need?"
   ]
  }
 ],
 "metadata": {
  "kernelspec": {
   "display_name": "Python 2",
   "language": "python",
   "name": "python2"
  },
  "language_info": {
   "codemirror_mode": {
    "name": "ipython",
    "version": 2
   },
   "file_extension": ".py",
   "mimetype": "text/x-python",
   "name": "python",
   "nbconvert_exporter": "python",
   "pygments_lexer": "ipython2",
   "version": "2.7.11"
  }
 },
 "nbformat": 4,
 "nbformat_minor": 0
}
