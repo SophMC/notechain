{
 "cells": [
  {
   "cell_type": "code",
   "execution_count": 8,
   "metadata": {
    "collapsed": false
   },
   "outputs": [],
   "source": [
    "import os\n",
    "import sys\n",
    "module_path = os.path.abspath(os.path.join('..'))\n",
    "if module_path not in sys.path:\n",
    "    sys.path.append(module_path)\n",
    "    \n",
    "from thinkbayes import Pmf, Suite"
   ]
  },
  {
   "cell_type": "markdown",
   "metadata": {},
   "source": [
    "#### \"A railroad numbers its locomotives in order 1...n One day you see a locomotive with the number 60. Estimate how many locomotives the railroad has\"\n",
    "\n",
    "From this statement we know the railroad has at least 60 locomotives. But how many more?    \n",
    "Apply Baysian reasoning:   \n",
    "\n",
    "1) What did we know about N before we saw the data? - Use the **Prior**\n",
    "\n",
    "2) For any given value of N, what is the likelihood of seeing the data (a locomotive with the number 60)? - use the **Likelihood**\n",
    "\n",
    "We don't have much on which to base a prior, but lets start with something and work from there\n"
   ]
  },
  {
   "cell_type": "code",
   "execution_count": 9,
   "metadata": {
    "collapsed": false
   },
   "outputs": [],
   "source": [
    "# Assume N is equally likely to be any value from 1 to 1000\n",
    "\n",
    "hypos = range(1, 1000)\n",
    "\n",
    "# Now Likelihood. If the have N locomotives and we are equally likely to see any of them, then the chance of seeing\n",
    "# any particular one is 1 / N.\n",
    "\n",
    "class Train(Suite):\n",
    "    def Likelihood(self, data, hypo):\n",
    "        if hypo < data:\n",
    "            return 0\n",
    "        else:\n",
    "            return 1.0/hypo\n",
    "\n"
   ]
  },
  {
   "cell_type": "code",
   "execution_count": 10,
   "metadata": {
    "collapsed": false
   },
   "outputs": [],
   "source": [
    "# Now to update:\n",
    "suite = Train(hypos)\n",
    "b = suite.Update(60)"
   ]
  },
  {
   "cell_type": "markdown",
   "metadata": {},
   "source": [
    "<img src=\"thinkbayesLoco.png\">"
   ]
  },
  {
   "cell_type": "markdown",
   "metadata": {},
   "source": [
    "There are too many results to be plotted (see graph above, stolen from the book).\n",
    "\n",
    "As you can see, the most likely value is 60. But, what are the chances that you just happened to see the train with the highest number? Not very good. \n",
    "\n",
    "An alternative is to compute the mean of the posterior distribution:"
   ]
  },
  {
   "cell_type": "code",
   "execution_count": 11,
   "metadata": {
    "collapsed": false
   },
   "outputs": [
    {
     "name": "stdout",
     "output_type": "stream",
     "text": [
      "333.41989326371095\n"
     ]
    }
   ],
   "source": [
    "print(suite.Mean())"
   ]
  },
  {
   "cell_type": "code",
   "execution_count": 12,
   "metadata": {
    "collapsed": false
   },
   "outputs": [
    {
     "name": "stdout",
     "output_type": "stream",
     "text": [
      "333.41989326371095\n"
     ]
    }
   ],
   "source": [
    "# or the long way ....\n",
    "def Mean(suite):\n",
    "    total = 0\n",
    "    for hypo, prob in suite.Items():\n",
    "        total += hypo * prob\n",
    "    return total\n",
    "print (Mean(suite))"
   ]
  },
  {
   "cell_type": "markdown",
   "metadata": {},
   "source": [
    "### Maybe we should rethink that PRIOR\n",
    "\n",
    "#### We need to: *Get more data* and/or *Get more background information*\n",
    "\n",
    "For example, we also see trains 30 and 90. We can update the distribution like this:"
   ]
  },
  {
   "cell_type": "code",
   "execution_count": 19,
   "metadata": {
    "collapsed": false
   },
   "outputs": [
    {
     "name": "stdout",
     "output_type": "stream",
     "text": [
      "206.8038772952583\n"
     ]
    }
   ],
   "source": [
    "# Use a prior with upper bound 500\n",
    "hypos = range(1, 500)\n",
    "suite = Train(hypos)\n",
    "b = suite.Update(60)\n",
    "print(suite.Mean())\n",
    "\n",
    "# Perhaps 1000 was an unrealistic starting point. An upper bound does quite a different value."
   ]
  },
  {
   "cell_type": "code",
   "execution_count": 20,
   "metadata": {
    "collapsed": false
   },
   "outputs": [
    {
     "name": "stdout",
     "output_type": "stream",
     "text": [
      "551.9730485662769\n"
     ]
    }
   ],
   "source": [
    "# Use a prior with upper bound 500\n",
    "hypos = range(1, 2000)\n",
    "suite = Train(hypos)\n",
    "b = suite.Update(60)\n",
    "print(suite.Mean())"
   ]
  },
  {
   "cell_type": "code",
   "execution_count": 14,
   "metadata": {
    "collapsed": false
   },
   "outputs": [
    {
     "name": "stdout",
     "output_type": "stream",
     "text": [
      "333.41989326371095\n",
      "178.5473531797158\n",
      "164.3055864227336\n"
     ]
    }
   ],
   "source": [
    "# initiate suite again\n",
    "suite = Train(hypos)\n",
    "\n",
    "for data in [60, 30, 90]:\n",
    "    suite.Update(data)\n",
    "    print(suite.Mean())"
   ]
  },
  {
   "cell_type": "code",
   "execution_count": null,
   "metadata": {
    "collapsed": true
   },
   "outputs": [],
   "source": []
  }
 ],
 "metadata": {
  "kernelspec": {
   "display_name": "Python 3",
   "language": "python",
   "name": "python3"
  },
  "language_info": {
   "codemirror_mode": {
    "name": "ipython",
    "version": 3
   },
   "file_extension": ".py",
   "mimetype": "text/x-python",
   "name": "python",
   "nbconvert_exporter": "python",
   "pygments_lexer": "ipython3",
   "version": "3.5.1"
  }
 },
 "nbformat": 4,
 "nbformat_minor": 0
}
