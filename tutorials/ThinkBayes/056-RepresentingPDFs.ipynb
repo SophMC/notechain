{
 "cells": [
  {
   "cell_type": "code",
   "execution_count": 10,
   "metadata": {
    "collapsed": true
   },
   "outputs": [],
   "source": [
    "import os\n",
    "import sys\n",
    "module_path = os.path.abspath(os.path.join('..'))\n",
    "if module_path not in sys.path:\n",
    "    sys.path.append(module_path)\n",
    "    \n",
    "from thinkbayes import Pmf, Suite, Percentile, CredibleInterval, EstimatedPdf\n",
    "from thinkplot import Pmf as Plot_Pmf \n",
    "from thinkplot import Show as Plot_Show "
   ]
  },
  {
   "cell_type": "markdown",
   "metadata": {
    "collapsed": true
   },
   "source": [
    "## Chap 6 Decision Analysis\n",
    "\n",
    "### Representing PDFs\n",
    "\n",
    "**PDFs** are a continuous range rather than a discrete range, as PMFs are. In PMFs each value is mapped directly to its probability. \n",
    "\n",
    "**PDFs** are written as functions i.e. f(x) = \n",
    "Where for a given value of x, the function computes the probability density.\n",
    "\n",
    "**PDF** is an abstract type - Creates an interface, but not a compete implimentation. Pdf interface contains two methods\n",
    "Density and MakePmf"
   ]
  },
  {
   "cell_type": "code",
   "execution_count": 11,
   "metadata": {
    "collapsed": true
   },
   "outputs": [],
   "source": [
    "class Pdf(object):\n",
    "    def Density(self,x):\n",
    "        raise UnimplementedMethodException()\n",
    "        \n",
    "    def MakePmf(self,xs):\n",
    "        pmf = Pmf()\n",
    "        for x in xs:\n",
    "            pmf.Set(x, self.Density(x))\n",
    "        pmf.Normalize()\n",
    "        return pmf"
   ]
  },
  {
   "cell_type": "markdown",
   "metadata": {},
   "source": [
    "`Density` take a value, `x`, and returns the corresponding density. `MakePmf` makes a discrete approximation to the `PDF`.\n",
    "Pdf provides an implimentation of `MakePmf`, but not `Density`, which has to be provided by a child class.\n",
    "\n",
    "A **concrete type** is a child class that extends an abstract type and provides an implimentation of the missing methods. For example, `GaussianPdf` extends `pdf` and provides `Density`."
   ]
  },
  {
   "cell_type": "code",
   "execution_count": 12,
   "metadata": {
    "collapsed": true
   },
   "outputs": [],
   "source": [
    "# Here we provide an implimentation of Density to create a concrete type. This is also a child of class Pdf\n",
    "class GaussianPdf(Pdf):\n",
    "    \n",
    "    def __init__(self, mu, sigma):\n",
    "        self.mu = mu\n",
    "        self.sigma = sigma\n",
    "    \n",
    "    def Density(self, x):\n",
    "        return scipy.stats.norm.pdf(x, self.mu, self.sigma) # This is the line not included in thinkbayes.py"
   ]
  },
  {
   "cell_type": "markdown",
   "metadata": {},
   "source": [
    "`__init__` takes mu and sigma (mean and sd of the dist) and stores them as attributes.\n",
    "\n",
    "`Density` uses a function from scipy.stats to evaluate the Gaussian PDF. Called \"norm\" as Gaussian is also called the \"normal\" distribution.\n",
    "\n",
    "Gaussian is defined by a simple math function, so it is both easy and useful (many quantities in the real world have Gaussian distributions).\n",
    "\n",
    "With real data there is no guarantee that it is Gaussian distributed. So, we use a sample to estimate the PDF of the whole population. \n",
    "\n",
    "In *The Price is Right* data we have 313 prices for the first show-case. We can think of these values as a sample from the population of all possible showcase prices.\n",
    "\n",
    "**Kernel Density Estimation (KDE)** is an algorithm that takes a sample and finds an appropriately smooth PDF that fits the data. \n",
    "`thinkbayes.py` provides a class called `EstimatedPdf` that uses it: "
   ]
  },
  {
   "cell_type": "code",
   "execution_count": 13,
   "metadata": {
    "collapsed": true
   },
   "outputs": [],
   "source": [
    "class EstimatedPdf(Pdf):\n",
    "    \n",
    "    def __init__(self, sample):\n",
    "        self.kde(scipy.stats.gaussian_kde(sample))\n",
    "        \n",
    "    def Density(self, x):\n",
    "        return self.kde.evaluate(x)"
   ]
  },
  {
   "cell_type": "markdown",
   "metadata": {},
   "source": [
    "`__init__` takes a sample and computes a kernel density estimate. The result is a `gaussian_kde` object that provides an `evaluate` method.\n",
    "\n",
    "`Density` takes a value, calls `gaussian_kde.evaluate`, and returns the resulting density.\n",
    "\n",
    "Figure 6.1:"
   ]
  },
  {
   "cell_type": "markdown",
   "metadata": {},
   "source": [
    "<img src=\"thinkbayesprice.png\">"
   ]
  },
  {
   "cell_type": "markdown",
   "metadata": {},
   "source": [
    "Here is an outline of the code used to generate Figure 6.1:"
   ]
  },
  {
   "cell_type": "code",
   "execution_count": 15,
   "metadata": {
    "collapsed": false
   },
   "outputs": [],
   "source": [
    "# Don't run this cell!\n",
    "prices = ReadData()\n",
    "\n",
    "# This initializes an object which makes a smoothed kde distribution based on the data(price)\n",
    "pdf = EstimatedPdf(prices)\n",
    "\n",
    "low, high = 0, 75000\n",
    "n = 101\n",
    "# linspace means \"linear space\". Takes a range (low and high) and the number of points, n, and returns a new numpy array \n",
    "# with n elements equally spaced between low and high.\n",
    "xs = numpy.linspace(low, high, n)\n"
   ]
  },
  {
   "cell_type": "markdown",
   "metadata": {},
   "source": [
    "These discrete values in list xs are passed to the MakePmf method of the initial pdf object (which was created using a sample and kde estimation) to allow us to make a pmf:"
   ]
  },
  {
   "cell_type": "code",
   "execution_count": null,
   "metadata": {
    "collapsed": true
   },
   "outputs": [],
   "source": [
    "pmf = pdf.MakePmf(xs)"
   ]
  },
  {
   "cell_type": "markdown",
   "metadata": {},
   "source": [
    "A pdf object, estimated by KDE.pmf approximating the Pdf by evaluating the density at a sequence fo equally space \n",
    "values"
   ]
  }
 ],
 "metadata": {
  "kernelspec": {
   "display_name": "Python 2",
   "language": "python",
   "name": "python2"
  },
  "language_info": {
   "codemirror_mode": {
    "name": "ipython",
    "version": 2
   },
   "file_extension": ".py",
   "mimetype": "text/x-python",
   "name": "python",
   "nbconvert_exporter": "python",
   "pygments_lexer": "ipython2",
   "version": "2.7.12"
  }
 },
 "nbformat": 4,
 "nbformat_minor": 0
}
