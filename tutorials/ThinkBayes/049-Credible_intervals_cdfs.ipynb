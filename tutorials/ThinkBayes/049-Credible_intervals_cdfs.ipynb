{
 "cells": [
  {
   "cell_type": "markdown",
   "metadata": {},
   "source": [
    "### Credible Intervals\n",
    "\n",
    "Once you have computed a posterior distribution, it is often useful to summarize the results with a single point estimate or an interval. For point estimates it is common to use the mean, median, or the value with maximum likelihood.\n",
    "\n",
    "A **credible interval** are the values where there is a 90% chance that the unknown value falls between them. \n",
    "\n",
    "To compute a **credible interval** add up the probabilities in the posterior distribution and record the values that correspond to the 5th and 95th percentiles.\n",
    "\n",
    "We can use ThinkBayes"
   ]
  },
  {
   "cell_type": "code",
   "execution_count": 6,
   "metadata": {
    "collapsed": true
   },
   "outputs": [],
   "source": [
    "def Percentile(pmf, percentage):\n",
    "    p = percentage / 100.0\n",
    "    total = 0\n",
    "    for val, prob in pmf.Items():\n",
    "        total += prob\n",
    "        if total >= p:\n",
    "            return val"
   ]
  },
  {
   "cell_type": "markdown",
   "metadata": {},
   "source": [
    "Now import the locomotive suite of hypotheses so we can apply the Percentile function to it. "
   ]
  },
  {
   "cell_type": "code",
   "execution_count": 11,
   "metadata": {
    "collapsed": true
   },
   "outputs": [],
   "source": [
    "import os\n",
    "import sys\n",
    "module_path = os.path.abspath(os.path.join('..'))\n",
    "if module_path not in sys.path:\n",
    "    sys.path.append(module_path)\n",
    "    \n",
    "from thinkbayes import Pmf, Suite"
   ]
  },
  {
   "cell_type": "code",
   "execution_count": 12,
   "metadata": {
    "collapsed": true
   },
   "outputs": [],
   "source": [
    "# Taken from the first \"Estimation\" tutorial\n",
    "class Dice(Suite): \n",
    "    def Likelihood(self, data, hypo):\n",
    "        if hypo < data:\n",
    "            return 0 \n",
    "        else:\n",
    "            return 1.0/hypo\n",
    "\n",
    "# The likelihood function is the same in the Train as the Dice\n",
    "class Train(Dice):\n",
    "    def __init__(self, hypos, alpha = 1.0):  # Adding alpha to the arguments\n",
    "        Pmf.__init__(self)\n",
    "        for hypo in hypos:\n",
    "            self.Set(hypo, hypo**(-alpha))  # adding in the power law here to alter the prior\n",
    "        self.Normalize()"
   ]
  },
  {
   "cell_type": "code",
   "execution_count": 13,
   "metadata": {
    "collapsed": true
   },
   "outputs": [],
   "source": [
    "hypos = range(1, 1001) # PRIOR p(H)\n",
    "suite = Train(hypos)\n",
    "\n",
    "for data in [60, 30, 90]:\n",
    "    suite.Update(data)"
   ]
  },
  {
   "cell_type": "markdown",
   "metadata": {},
   "source": [
    "Now we can use the Percentile function we defined above."
   ]
  },
  {
   "cell_type": "code",
   "execution_count": 10,
   "metadata": {
    "collapsed": false
   },
   "outputs": [
    {
     "name": "stdout",
     "output_type": "stream",
     "text": [
      "(91, 242)\n"
     ]
    }
   ],
   "source": [
    "# To use Percentile\n",
    "interval = Percentile(suite, 5), Percentile(suite, 95)\n",
    "print (interval)"
   ]
  },
  {
   "cell_type": "markdown",
   "metadata": {},
   "source": [
    "For the locomotive problem, using a power law prior and 3 trains, the 90% credible interval is (91, 243) - (5th ,95th). This very wide range correctly suggests the massive uncertainty in how many trains there are all together. "
   ]
  },
  {
   "cell_type": "markdown",
   "metadata": {},
   "source": [
    "### Cumulative distribution functions\n",
    "\n",
    "In the previous section we computed percentiles by iterating through the values and probabilities in a Pmf. If we need to compute more than a few percentiles, it is more efficient to use a cumulative distribution function (Cdf).\n",
    "\n",
    "Cdfs and Pmfs are equivalent in the sense that they contain the same information about the distribution, and you can convert on to the other. The advantage of the Cdf is that you can compute percentiles more efficiently.\n",
    "\n",
    "thinkbayes provides a Cdf class that represents a cumulative distribution function. Pmf provides a method that makes the corresponsing Cdf:"
   ]
  },
  {
   "cell_type": "code",
   "execution_count": 15,
   "metadata": {
    "collapsed": false
   },
   "outputs": [
    {
     "name": "stdout",
     "output_type": "stream",
     "text": [
      "(91, 242)\n"
     ]
    }
   ],
   "source": [
    "cdf = suite.MakeCdf()\n",
    "\n",
    "# Cdf provides a function named Percentile\n",
    "interval = cdf.Percentile(5), cdf.Percentile(95)\n",
    "\n",
    "print(interval)"
   ]
  }
 ],
 "metadata": {
  "kernelspec": {
   "display_name": "Python 2",
   "language": "python",
   "name": "python2"
  },
  "language_info": {
   "codemirror_mode": {
    "name": "ipython",
    "version": 2
   },
   "file_extension": ".py",
   "mimetype": "text/x-python",
   "name": "python",
   "nbconvert_exporter": "python",
   "pygments_lexer": "ipython2",
   "version": "2.7.11"
  }
 },
 "nbformat": 4,
 "nbformat_minor": 0
}
