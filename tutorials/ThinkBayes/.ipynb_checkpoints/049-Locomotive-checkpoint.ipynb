{
 "cells": [
  {
   "cell_type": "code",
   "execution_count": 22,
   "metadata": {
    "collapsed": false
   },
   "outputs": [],
   "source": [
    "import os\n",
    "import sys\n",
    "module_path = os.path.abspath(os.path.join('..'))\n",
    "if module_path not in sys.path:\n",
    "    sys.path.append(module_path)\n",
    "    \n",
    "from thinkbayes import Pmf, Suite"
   ]
  },
  {
   "cell_type": "markdown",
   "metadata": {},
   "source": [
    "#### \"A railroad numbers its locomotives in order 1...n One day you see a locomotive with the number 60. Estimate how many locomotives the railroad has\"\n",
    "\n",
    "From this statement we know the railroad has at least 60 locomotives. But how many more?    \n",
    "Apply Baysian reasoning:   \n",
    "\n",
    "1) What did we know about N before we saw the data? - Use the **Prior**\n",
    "\n",
    "2) For any given value of N, what is the likelihood of seeing the data (a locomotive with the number 60)? - use the **Likelihood**\n",
    "\n",
    "We don't have much on which to base a prior, but lets start with something and work from there\n"
   ]
  },
  {
   "cell_type": "code",
   "execution_count": 23,
   "metadata": {
    "collapsed": false
   },
   "outputs": [],
   "source": [
    "# Assume N is equally likely to be any value from 1 to 1000\n",
    "\n",
    "hypos = range(1, 1000)\n",
    "\n",
    "# Now Likelihood. If the have N locomotives and we are equally likely to see any of them, then the chance of seeing\n",
    "# any particular one is 1 / N.\n",
    "\n",
    "class Train(Suite):\n",
    "    def Likelihood(self, data, hypo):\n",
    "        if hypo < data:\n",
    "            return 0\n",
    "        else:\n",
    "            return 1.0/hypo\n",
    "\n"
   ]
  },
  {
   "cell_type": "code",
   "execution_count": 24,
   "metadata": {
    "collapsed": false
   },
   "outputs": [],
   "source": [
    "# Now to update:\n",
    "suite = Train(hypos)\n",
    "b = suite.Update(60)"
   ]
  },
  {
   "cell_type": "markdown",
   "metadata": {},
   "source": [
    "<img src=\"thinkbayesLoco.png\">"
   ]
  },
  {
   "cell_type": "markdown",
   "metadata": {},
   "source": [
    "There are too many results to be plotted (see graph above, stolen from the book).\n",
    "\n",
    "As you can see, the most likely value is 60. But, what are the chances that you just happened to see the train with the highest number? Not very good. \n",
    "\n",
    "An alternative is to compute the mean of the posterior distribution:"
   ]
  },
  {
   "cell_type": "code",
   "execution_count": 25,
   "metadata": {
    "collapsed": false
   },
   "outputs": [
    {
     "name": "stdout",
     "output_type": "stream",
     "text": [
      "333.1836235027341\n"
     ]
    }
   ],
   "source": [
    "print(suite.Mean())"
   ]
  },
  {
   "cell_type": "code",
   "execution_count": 26,
   "metadata": {
    "collapsed": false
   },
   "outputs": [
    {
     "name": "stdout",
     "output_type": "stream",
     "text": [
      "333.1836235027341\n"
     ]
    }
   ],
   "source": [
    "# or the long way ....\n",
    "def Mean(suite):\n",
    "    total = 0\n",
    "    for hypo, prob in suite.Items():\n",
    "        total += hypo * prob\n",
    "    return total\n",
    "print (Mean(suite))"
   ]
  },
  {
   "cell_type": "code",
   "execution_count": 27,
   "metadata": {
    "collapsed": false
   },
   "outputs": [
    {
     "name": "stdout",
     "output_type": "stream",
     "text": [
      "206.8038772952583\n"
     ]
    }
   ],
   "source": [
    "# Use a prior with upper bound 500\n",
    "hypos = range(1, 500)\n",
    "suite = Train(hypos)\n",
    "b = suite.Update(60)\n",
    "print(suite.Mean())"
   ]
  },
  {
   "cell_type": "code",
   "execution_count": 28,
   "metadata": {
    "collapsed": false
   },
   "outputs": [
    {
     "name": "stdout",
     "output_type": "stream",
     "text": [
      "551.9730485662769\n"
     ]
    }
   ],
   "source": [
    "# Use a prior with upper bound 500\n",
    "hypos = range(1, 2000)\n",
    "suite = Train(hypos)\n",
    "b = suite.Update(60)\n",
    "print(suite.Mean())"
   ]
  },
  {
   "cell_type": "markdown",
   "metadata": {},
   "source": [
    "### Maybe we should rethink that PRIOR\n",
    "\n",
    "#### We need to: *Get more data* and/or *Get more background information*\n",
    "\n",
    "For example, we also see trains 30 and 90. We can update the distribution like this:"
   ]
  },
  {
   "cell_type": "code",
   "execution_count": 33,
   "metadata": {
    "collapsed": false
   },
   "outputs": [
    {
     "name": "stdout",
     "output_type": "stream",
     "text": [
      "POSTERIOR = 164, with a PRIOR of 1000\n",
      "POSTERIOR = 151, with a PRIOR of 500\n",
      "POSTERIOR = 171, with a PRIOR of 2000\n"
     ]
    }
   ],
   "source": [
    "# initiate suite again\n",
    "hypos = range(1, 1000) # PRIOR p(H)\n",
    "suite = Train(hypos)\n",
    "\n",
    "for data in [60, 30, 90]:\n",
    "    suite.Update(data)\n",
    "    \n",
    "print(\"POSTERIOR = %d, with a PRIOR of 1000\"%(suite.Mean()))\n",
    "    \n",
    "hypos = range(1, 500) # PRIOR p(H)\n",
    "suite = Train(hypos)\n",
    "\n",
    "for data in [60, 30, 90]:\n",
    "    suite.Update(data)\n",
    "    \n",
    "print(\"POSTERIOR = %d, with a PRIOR of 500\"%(suite.Mean())) # POSTERIOR of p(H) = 500 trains on the network\n",
    "    \n",
    "hypos = range(1, 2000) # PRIOR p(H)\n",
    "suite = Train(hypos)\n",
    "\n",
    "for data in [60, 30, 90]:\n",
    "    suite.Update(data)\n",
    "    \n",
    "print(\"POSTERIOR = %d, with a PRIOR of 2000\"%(suite.Mean()))    "
   ]
  },
  {
   "cell_type": "markdown",
   "metadata": {
    "collapsed": true
   },
   "source": [
    "As we add more data [60,30,90], the posterior reduces. It is not surprising give that these are all all less than the prior[500,1000,2000] that it brings the posterior down."
   ]
  },
  {
   "cell_type": "markdown",
   "metadata": {},
   "source": [
    "### An Alternative Prior\n",
    "\n",
    "If we can't get more data, we need to improve the priors by gathering more background information. \n",
    "With some effort, we could probably find a list of companies that operate in the area, or interview an expert in rail shipping to gather information about the typical size of companies. \n",
    "\n",
    "Even without railroad specific economics, we could make some educated guesses. In fact, the distribution of company sizes tends to follow a power law, as reported in Science.   \n",
    "\n",
    "This law suggests that if there are 1000 companies with fewer than 10 locomotives, there might be 100 companies with 100 locomotives, 10 companies with 1000 and possibly one company with 10 000 trains. "
   ]
  },
  {
   "cell_type": "markdown",
   "metadata": {},
   "source": [
    "This means, the number of companies with a given size is inversely proportional to size:\n",
    "\n",
    "\\begin{equation} PMF(x) \\:\\alpha \\left(\\frac{1}{x}\\right)^\\alpha \\end{equation}\n",
    "\n",
    "where $PMF(x)$ is the probability mass function of $x$ and $\\alpha$ is a parameter that is ofter near 1.\n",
    "\n",
    "We can construct a power law prior like this:  "
   ]
  },
  {
   "cell_type": "code",
   "execution_count": 35,
   "metadata": {
    "collapsed": false
   },
   "outputs": [],
   "source": [
    "# Taken from the first \"Estimation\" tutorial\n",
    "class Dice(Suite): \n",
    "    def Likelihood(self, data, hypo):\n",
    "        if hypo < data:\n",
    "            return 0 \n",
    "        else:\n",
    "            return 1.0/hypo\n",
    "\n",
    "# The likelihood function is the same in the Train as the Dice\n",
    "class Train(Dice):\n",
    "    def __init__(self, hypos, alpha = 1.0):  # Adding alpha to the arguments\n",
    "        Pmf.__init__(self)\n",
    "        for hypo in hypos:\n",
    "            self.Set(hypo, hypo**(-alpha))  # adding in the power law here to alter the prior\n",
    "        self.Normalize()\n"
   ]
  },
  {
   "cell_type": "code",
   "execution_count": 36,
   "metadata": {
    "collapsed": true
   },
   "outputs": [],
   "source": [
    "# Code to construct the prior\n",
    "hypos = range(1,1001)\n",
    "suite = Train(hypos)"
   ]
  },
  {
   "cell_type": "markdown",
   "metadata": {},
   "source": [
    "Again the upper bound is arbitrary, but with a power law prior, the posterior is less sensitive to this choice. \n",
    "\n",
    "Using the background information represented in the power law prior, we can all but eliminate values of N > 700."
   ]
  },
  {
   "cell_type": "markdown",
   "metadata": {},
   "source": [
    "<img src=\"thinkbayesLoco2.png\">"
   ]
  },
  {
   "cell_type": "code",
   "execution_count": 38,
   "metadata": {
    "collapsed": false
   },
   "outputs": [
    {
     "name": "stdout",
     "output_type": "stream",
     "text": [
      "POSTERIOR = 133, with a PRIOR of 1000\n",
      "POSTERIOR = 130, with a PRIOR of 500\n",
      "POSTERIOR = 133, with a PRIOR of 2000\n"
     ]
    }
   ],
   "source": [
    "# Some number for the above plot. Using the power law as a prior.\n",
    "# initiate suite again\n",
    "hypos = range(1, 1001) # PRIOR p(H)\n",
    "suite = Train(hypos)\n",
    "\n",
    "for data in [60, 30, 90]:\n",
    "    suite.Update(data)\n",
    "    \n",
    "print(\"POSTERIOR = %d, with a PRIOR of 1000\"%(suite.Mean()))\n",
    "    \n",
    "hypos = range(1, 501) # PRIOR p(H)\n",
    "suite = Train(hypos)\n",
    "\n",
    "for data in [60, 30, 90]:\n",
    "    suite.Update(data)\n",
    "    \n",
    "print(\"POSTERIOR = %d, with a PRIOR of 500\"%(suite.Mean())) # POSTERIOR of p(H) = 500 trains on the network\n",
    "    \n",
    "hypos = range(1, 2001) # PRIOR p(H)\n",
    "suite = Train(hypos)\n",
    "\n",
    "for data in [60, 30, 90]:\n",
    "    suite.Update(data)\n",
    "    \n",
    "print(\"POSTERIOR = %d, with a PRIOR of 2000\"%(suite.Mean()))  "
   ]
  },
  {
   "cell_type": "markdown",
   "metadata": {},
   "source": [
    "Now the differences are much smaller. Adding the power law to the prior makes it more realistic as it is based on general information about the size of companies and it behaves better in practice. Basically the more companies there are, the fewer trains they are likely to have. \n",
    "\n",
    "I am not sure what the size of companies has to do with the number of trains in our prior however. We don't have any information of how many companies operate in one area. "
   ]
  },
  {
   "cell_type": "code",
   "execution_count": null,
   "metadata": {
    "collapsed": true
   },
   "outputs": [],
   "source": []
  }
 ],
 "metadata": {
  "kernelspec": {
   "display_name": "Python 3",
   "language": "python",
   "name": "python3"
  },
  "language_info": {
   "codemirror_mode": {
    "name": "ipython",
    "version": 3
   },
   "file_extension": ".py",
   "mimetype": "text/x-python",
   "name": "python",
   "nbconvert_exporter": "python",
   "pygments_lexer": "ipython3",
   "version": "3.5.1"
  }
 },
 "nbformat": 4,
 "nbformat_minor": 0
}
