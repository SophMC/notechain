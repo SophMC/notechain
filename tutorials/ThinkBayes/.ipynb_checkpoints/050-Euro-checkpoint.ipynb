{
 "cells": [
  {
   "cell_type": "markdown",
   "metadata": {},
   "source": [
    "### The Euro Coin problem\n",
    "\n",
    "Belgian euro coin spun 250 times. Head 140 times, tails 110 times.\n",
    "One stats lecturer claimed:   \n",
    "\"Looks suspicious to me, if it was unbiased, the chance of getting such an extreme result would be less than 7%\"\n",
    "\n",
    "So, do these data give evidence that the coin is biased rather than fair? \n",
    "\n",
    "First, estimate the probability that the coin lands face up. Second, evaluate whether the data support the hypothesis that the coin is biased."
   ]
  },
  {
   "cell_type": "code",
   "execution_count": 1,
   "metadata": {
    "collapsed": true
   },
   "outputs": [],
   "source": [
    "import os\n",
    "import sys\n",
    "module_path = os.path.abspath(os.path.join('..'))\n",
    "if module_path not in sys.path:\n",
    "    sys.path.append(module_path)\n",
    "    \n",
    "from thinkbayes import Pmf, Suite, Percentile, CredibleInterval\n",
    "from thinkplot import Pmf as Plot_Pmf \n",
    "from thinkplot import Show as Plot_Show "
   ]
  },
  {
   "cell_type": "markdown",
   "metadata": {},
   "source": [
    "The likelihood function is relatively easy. If $H_x$ is true, the probability of heads is x/100 and the probability of tails is 1-x/100."
   ]
  },
  {
   "cell_type": "code",
   "execution_count": 2,
   "metadata": {
    "collapsed": true
   },
   "outputs": [],
   "source": [
    "class Euro(Suite):\n",
    "    def Likelihood(self, data, hypo):\n",
    "        x = hypo\n",
    "        if data == 'H':\n",
    "            return x/100.0\n",
    "        else:\n",
    "            return 1 - x/100.0\n",
    "    "
   ]
  },
  {
   "cell_type": "code",
   "execution_count": 3,
   "metadata": {
    "collapsed": false
   },
   "outputs": [
    {
     "name": "stdout",
     "output_type": "stream",
     "text": [
      "HHHHHHHHHHHHHHHHHHHHHHHHHHHHHHHHHHHHHHHHHHHHHHHHHHHHHHHHHHHHHHHHHHHHHHHHHHHHHHHHHHHHHHHHHHHHHHHHHHHHHHHHHHHHHHHHHHHHHHHHHHHHHHHHHHHHHHHHHHHHTTTTTTTTTTTTTTTTTTTTTTTTTTTTTTTTTTTTTTTTTTTTTTTTTTTTTTTTTTTTTTTTTTTTTTTTTTTTTTTTTTTTTTTTTTTTTTTTTTTTTTTTTTTTTT\n"
     ]
    }
   ],
   "source": [
    "# Make a suite of hypotheses. Each is the same. 100 uniform priors.\n",
    "suite = Euro(range(0, 101))\n",
    "\n",
    "# We make some data to update it with. \n",
    "dataset = 'H' * 140 + 'T' * 110\n",
    "\n",
    "print(dataset)"
   ]
  },
  {
   "cell_type": "code",
   "execution_count": 4,
   "metadata": {
    "collapsed": true
   },
   "outputs": [],
   "source": [
    "# Update all of the 100 hypotheses, one at a time, with each piece of data. i.e. update with H, then another H, so on...\n",
    "for data in dataset:\n",
    "    suite.Update(data)\n",
    "\n",
    "# The posterior results are shown below"
   ]
  },
  {
   "cell_type": "markdown",
   "metadata": {},
   "source": [
    "<img src=\"thinkbayeseuro.png\">"
   ]
  },
  {
   "cell_type": "markdown",
   "metadata": {},
   "source": [
    "Once each of the 100 prior hypotheses have received all of the data, it gives 100 posterior values. "
   ]
  },
  {
   "cell_type": "markdown",
   "metadata": {},
   "source": [
    "### Summarizing the posterior\n",
    "\n",
    "Again, there are several ways to summarize the posterior distribution. \n",
    "One option is to find the most likely value in the posterior distribution.  \n",
    "There is a function in thinkbayes.py"
   ]
  },
  {
   "cell_type": "code",
   "execution_count": 5,
   "metadata": {
    "collapsed": false
   },
   "outputs": [],
   "source": [
    "def MaximumLikelihood(pmf):\n",
    "    \"\"\"Returns the value with the highest probability.\"\"\"\n",
    "    prob, val = max((prob,val) for val, prob in pmf.Items())\n",
    "    return val\n"
   ]
  },
  {
   "cell_type": "code",
   "execution_count": 6,
   "metadata": {
    "collapsed": false
   },
   "outputs": [
    {
     "name": "stdout",
     "output_type": "stream",
     "text": [
      "56\n"
     ]
    }
   ],
   "source": [
    "b = MaximumLikelihood(suite) # takes the probability mass function as the argument\n",
    "print (b)"
   ]
  },
  {
   "cell_type": "markdown",
   "metadata": {},
   "source": [
    "Gives 56, which is also the observed % of heads, 140/250 = 56%.   \n",
    "This suggests (correctly) that the observed percentage is the maximum likelihood estimator for the population\n",
    "\n",
    "We might also summarize the posterior by computing the mean and median"
   ]
  },
  {
   "cell_type": "code",
   "execution_count": 9,
   "metadata": {
    "collapsed": false
   },
   "outputs": [
    {
     "name": "stdout",
     "output_type": "stream",
     "text": [
      "Mean 55.952380952380956\n",
      "Median 56\n"
     ]
    }
   ],
   "source": [
    "print('Mean', suite.Mean())\n",
    "\n",
    "# Returns the value that corresponds to percentile p. Percentil(suite, p)\n",
    "print('Median', Percentile(suite, 50))"
   ]
  },
  {
   "cell_type": "markdown",
   "metadata": {},
   "source": [
    "Finally, we can compute a credible interval"
   ]
  },
  {
   "cell_type": "code",
   "execution_count": 8,
   "metadata": {
    "collapsed": false
   },
   "outputs": [
    {
     "name": "stdout",
     "output_type": "stream",
     "text": [
      "CI (51, 61)\n"
     ]
    }
   ],
   "source": [
    "# Computes the central credible interval\n",
    "print('CI', CredibleInterval(suite, 90))"
   ]
  },
  {
   "cell_type": "markdown",
   "metadata": {},
   "source": [
    "Back to the question - is the coin fair? With a posterior credible interval not including 50%, it suggests not.\n",
    "But this this does not answer the question of whether the data can give evidence that the coin is biased rather than fair. To answer that we have to be more precise about what it means to say that data consitute evidence for a hypothesis - subject of the next chapter. "
   ]
  },
  {
   "cell_type": "markdown",
   "metadata": {
    "collapsed": false
   },
   "source": [
    "### One Last Thing\n",
    "\n",
    "Since we want to know whether the coin is fair, it might be tempting to ask for the probability that x is 50%"
   ]
  },
  {
   "cell_type": "code",
   "execution_count": 10,
   "metadata": {
    "collapsed": false
   },
   "outputs": [
    {
     "name": "stdout",
     "output_type": "stream",
     "text": [
      "0.02097652612954468\n"
     ]
    }
   ],
   "source": [
    "print(suite.Prob(50))"
   ]
  },
  {
   "cell_type": "markdown",
   "metadata": {},
   "source": [
    "This value is almost meaningless - the decision to evaluate 101 hypotheses was arbitrary. We could have divided the range into more or fewer pieces, and if so, the prob for any given hypothesis would be greater or less."
   ]
  },
  {
   "cell_type": "markdown",
   "metadata": {},
   "source": [
    "### Swamping the priors\n",
    "\n",
    "It is reasonable to choose a prior that gives higher probability to values of x near 50% and lower probability to extreme values.\n",
    "\n",
    "As an example, constructing a triangular prior."
   ]
  },
  {
   "cell_type": "markdown",
   "metadata": {},
   "source": [
    "<img src=\"thinkbayeseuro2.png\">"
   ]
  },
  {
   "cell_type": "code",
   "execution_count": 11,
   "metadata": {
    "collapsed": true
   },
   "outputs": [],
   "source": [
    "def TrianglePrior():\n",
    "    suite = Euro()\n",
    "    for x in range(0,51):\n",
    "        suite.Set(x,x)\n",
    "    for x in range(51, 101):\n",
    "        suite.Set(x, 100-x)\n",
    "    suite.Normalize()"
   ]
  },
  {
   "cell_type": "markdown",
   "metadata": {},
   "source": [
    "Even with substantially different prior, the posterior distributions are very similar (practically the same).\n",
    "This is an example of swamping the priors: with enough data, people who start with different priors will tend to converge on the same posterior"
   ]
  },
  {
   "cell_type": "markdown",
   "metadata": {},
   "source": [
    "### The Beta distribution\n",
    "\n",
    "This optimation can solve problems even faster.   \n",
    "So far we have used a Pmf object to represent a discrete set of values for x. This time we will use a continuous distribution: the beta distribution.\n",
    "\n",
    "The beta distribution is defined on the interval 0 - 1, so it is a natural choice for describing proportions and probabilities.\n",
    "\n",
    "If you use a binomial likelihood function to update your prior, the beta distribution is a **conjugate prior**. This is when prior and posterior distributions are in the same family.\n",
    "\n",
    "If it is a beta-distribution you can update with **two** additions.\n",
    "\n",
    "Taking advantage of this using thinkbayes.py:"
   ]
  },
  {
   "cell_type": "code",
   "execution_count": 12,
   "metadata": {
    "collapsed": true
   },
   "outputs": [],
   "source": [
    "class Beta(object):\n",
    "    def __init__(self, alpha=1, beta=1):\n",
    "        self.alpha = alpha\n",
    "        self.beta = beta\n",
    "\n",
    "# By default __init__ makes a uniform distribution. Update performs a Baysian update:\n",
    "    def Update(self, data):\n",
    "        heads, tails = data\n",
    "        self.alpha += heads\n",
    "        self.beta +=tails\n",
    "        \n",
    "# data is a pair of integers representing the number of heads and tails."
   ]
  },
  {
   "cell_type": "markdown",
   "metadata": {},
   "source": [
    "So, we have yet another way to solve the Euro problem:"
   ]
  },
  {
   "cell_type": "code",
   "execution_count": 15,
   "metadata": {
    "collapsed": false
   },
   "outputs": [
    {
     "name": "stdout",
     "output_type": "stream",
     "text": [
      "0.5595238095238095\n"
     ]
    }
   ],
   "source": [
    "from thinkbayes import Beta\n",
    "\n",
    "beta = Beta()\n",
    "beta.Update((140,110))\n",
    "# Beta also provides Mean, which computes a simple function of alpha and beta:\n",
    "print(beta.Mean())"
   ]
  },
  {
   "cell_type": "markdown",
   "metadata": {},
   "source": [
    "This gives a posterior mean 56%, which is the same result we got from using Pmfs.\n",
    "\n",
    "Beta also provides EvalPdf, which evaluates the PDF of the beta distribution"
   ]
  }
 ],
 "metadata": {
  "kernelspec": {
   "display_name": "Python 3",
   "language": "python",
   "name": "python3"
  },
  "language_info": {
   "codemirror_mode": {
    "name": "ipython",
    "version": 3
   },
   "file_extension": ".py",
   "mimetype": "text/x-python",
   "name": "python",
   "nbconvert_exporter": "python",
   "pygments_lexer": "ipython3",
   "version": "3.5.1"
  }
 },
 "nbformat": 4,
 "nbformat_minor": 0
}
