{
 "cells": [
  {
   "cell_type": "code",
   "execution_count": 8,
   "metadata": {
    "collapsed": true
   },
   "outputs": [],
   "source": [
    "import os\n",
    "import sys\n",
    "module_path = os.path.abspath(os.path.join('..'))\n",
    "if module_path not in sys.path:\n",
    "    sys.path.append(module_path)\n",
    "    \n",
    "from thinkbayes import Pmf, Suite, Percentile, CredibleInterval, EstimatedPdf, MakeCdfFromList\n",
    "import numpy as np"
   ]
  },
  {
   "cell_type": "markdown",
   "metadata": {},
   "source": [
    "## Chap 6: Decision Analysis\n",
    "\n",
    "How to decide on the price of a showcase?\n",
    "Bayesian thinking towards an answer:    \n",
    "1) Prior beliefs on what the showcase prices could be: Analyse previous prices on the show.    \n",
    "2) Likelihood/Update: Seeing the prizes, how should you update? i.e. How to interpret the data?    \n",
    "3) Results from Update on the Prior: the Posterior. How to choose from the posterior distribution?    \n",
    "\n",
    "All of these steps require subjective decisions. \n",
    "\n",
    "**Modeling the contestants**   \n",
    "If you were a contestant on the show you could use this distribution (fig 6.1) to quantify your prior belief about the price of each showcase (before you even see the prizes). "
   ]
  },
  {
   "cell_type": "markdown",
   "metadata": {},
   "source": [
    "<img src=\"thinkbayesprice.png\">"
   ]
  },
  {
   "cell_type": "markdown",
   "metadata": {},
   "source": [
    "We want to model the contestant as a price-guessing instrument with known error characteristics. \n",
    "Under this model we have to answer this question: \"If the actual price is `price`, what is the likelihood that the contestant's estimate would be `guess`\"\n",
    "\n",
    "We define `guess` as `error = price - guess`\n",
    "\n",
    "and can then ask: \"What is the likelihood that the contestant's estimate is off by `error`?\"\n",
    "\n",
    "To answer this we use historical data. and a cumulative distribution of `diff` from these data:\n",
    "\n",
    "`diff = price - bid`\n",
    "\n",
    "When `diff` is negative, the bid is too high. We use this distribution to estimate the reliability of the contestants guesses. We make some assumptions: \n",
    "\n",
    "- distribution of `error` if Gaussian with mean 0\n",
    "- same variance as `diff`\n",
    "\n",
    "The `Player` class implements this model:"
   ]
  },
  {
   "cell_type": "code",
   "execution_count": 4,
   "metadata": {
    "collapsed": true
   },
   "outputs": [],
   "source": [
    "class Player(object):\n",
    "    \n",
    "    def __init__(self, prices, bids, diffs):\n",
    "        self.pdf_price = EstimatedPdf(prices)\n",
    "        self.cdf_diff = MakeCdfFromList(diffs)\n",
    "        \n",
    "        mu = 0\n",
    "        sigma = np.std(diffs)\n",
    "        self.pdf_error = GaussianPdf(mu, sigma)\n"
   ]
  },
  {
   "cell_type": "markdown",
   "metadata": {},
   "source": [
    "`prices` = sequence of showcase prices   \n",
    "`bids` = sequence of bids     \n",
    "`diffs` = sequence of `diffs`m where `diff` = `price` - `bid`"
   ]
  },
  {
   "cell_type": "markdown",
   "metadata": {},
   "source": [
    "Again, we use the variance of diff the estimate the variance of error. This estimate is not perfect because contestants bids are sometimes strategic: in that case diff does not refelct error. \n",
    "\n",
    "An alternative would be for someone to estimate their own distribution of error by watching previous shows and recording their guesses and the actual prices.\n",
    "\n",
    "## Likelihood\n",
    "\n",
    "Now we are ready to write the likelihood function. As usual we define a new class that extends `thinkbayes.Suite`:"
   ]
  },
  {
   "cell_type": "code",
   "execution_count": null,
   "metadata": {
    "collapsed": true
   },
   "outputs": [],
   "source": [
    "class Price(thinkbayes.Suite):\n",
    "    \n",
    "    def __init__(self, pmf, player):\n",
    "        thinkbayes.Suite.__init__(self, pmf)\n",
    "        self.player = player"
   ]
  },
  {
   "cell_type": "markdown",
   "metadata": {},
   "source": [
    "`pmf` represents the prior distribution and `player` is a Player object as described previously"
   ]
  },
  {
   "cell_type": "code",
   "execution_count": 5,
   "metadata": {
    "collapsed": true
   },
   "outputs": [],
   "source": [
    "def Likelihood(self, data, hypo):\n",
    "    price = hypo\n",
    "    guess = data\n",
    "    \n",
    "    error = price - guess\n",
    "    like = self.player.ErrorDensity(error)\n",
    "    \n",
    "    return like"
   ]
  },
  {
   "cell_type": "markdown",
   "metadata": {},
   "source": [
    "`hypo` is the hypothetical price of the showcase. `data` is the contestant's best guess at the price. `error` is the difference, and `like` is the likelihood of the data, given the hypothesis.\n",
    "\n",
    "`ErrorDensity` is defined in `Player`:"
   ]
  },
  {
   "cell_type": "code",
   "execution_count": null,
   "metadata": {
    "collapsed": true
   },
   "outputs": [],
   "source": [
    "class Player:\n",
    "    def ErrorDensity(self, error):\n",
    "        return self.pdf_error.Density(error)"
   ]
  },
  {
   "cell_type": "markdown",
   "metadata": {},
   "source": [
    "`ErrorDensity` works by evaluating `pdf_error` at the given value of `error`. The result is a probability density, so it is not really a probability. \n",
    "\n",
    "Remember that `Likelihood` doesn't need to compute a probability; it only has to compute something *proportional* to a probability. As long as the constant of proportionality is the same for all likelihoods, it gets cancelled out when we normalise the posterior distribution. Therefor a probability density is a perfectly good likelihood."
   ]
  },
  {
   "cell_type": "markdown",
   "metadata": {},
   "source": [
    "### Update\n",
    "\n",
    "`Player` provides a method that takes the contestant's guess and computes the posterior distribution"
   ]
  },
  {
   "cell_type": "markdown",
   "metadata": {
    "collapsed": true
   },
   "source": [
    "To Update, we have to answer these questions:\n",
    "\n",
    "1) What data should we consider and how should we quantify it?     \n",
    "2) Can we compute a likelihood function; i.e for each hypo value of price, can we compute the conditional likelihood of the data?"
   ]
  },
  {
   "cell_type": "code",
   "execution_count": 6,
   "metadata": {
    "collapsed": true
   },
   "outputs": [],
   "source": [
    "# class Player\n",
    "    def MakeBeliefs(self, guess):\n",
    "        pmf = self.PmfPrice()\n",
    "        self.prior = Price(pmf, self)\n",
    "        self.posterior = self.prior.Copy()\n",
    "        self.posterior.Update(guess)\n",
    "\n",
    "# PmfPrice generate a discrete approximation to the PDF of price, which we use to construct the prior.\n",
    "# PmfPrice uses MakePmf, which evaluates pdf_price at a sequence of values:"
   ]
  },
  {
   "cell_type": "code",
   "execution_count": null,
   "metadata": {
    "collapsed": true
   },
   "outputs": [],
   "source": [
    "# class Player\n",
    "\n",
    "    n = 101\n",
    "    price_xs = np.linspace(0, 75000, n)\n",
    "    \n",
    "    def PmfPrice(self):\n",
    "        return self.pdf_price.MakePmf(self.price_xs)"
   ]
  },
  {
   "cell_type": "markdown",
   "metadata": {},
   "source": [
    "To construct the posterior, we make a copy of the prior and then invoke `Update`, which invokes `Likelihood` for each hypothesis, multiplies the priors by the likelihoods and renormalizes.\n",
    "\n",
    "Original scenario: you are Player 1 and when you see your showcase, your best guess is that the total price of the prizes is \\$20000.\n",
    "\n",
    "Fig 6.3 shows prior and posterior beliefs about the actual price. The posterior is shifted to the left because your guess is on the low end of the prior range. "
   ]
  },
  {
   "cell_type": "markdown",
   "metadata": {},
   "source": [
    "<img src=\"thinkbayesprice2.png\">"
   ]
  },
  {
   "cell_type": "markdown",
   "metadata": {},
   "source": [
    "We are treating the historical data as the prior and updating it based on your guesses, but we could equivalently use your guess as a prior and update it based on historical data.\n",
    "\n",
    "If you think of it that way, it is less surprising that the most likely value in the posterior is not your original guess."
   ]
  }
 ],
 "metadata": {
  "kernelspec": {
   "display_name": "Python 3",
   "language": "python",
   "name": "python3"
  },
  "language_info": {
   "codemirror_mode": {
    "name": "ipython",
    "version": 3
   },
   "file_extension": ".py",
   "mimetype": "text/x-python",
   "name": "python",
   "nbconvert_exporter": "python",
   "pygments_lexer": "ipython3",
   "version": "3.5.1"
  }
 },
 "nbformat": 4,
 "nbformat_minor": 0
}
