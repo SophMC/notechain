{
 "cells": [
  {
   "cell_type": "markdown",
   "metadata": {},
   "source": [
    "Here we are setting up the framework to investigate what happens to the probability that the car is behind A,B,C depending on some new data. This new data is Monty opening door B and there being no car behind it. The likelihood that this new data is factored into the Likelihood function. "
   ]
  },
  {
   "cell_type": "code",
   "execution_count": 20,
   "metadata": {
    "collapsed": true
   },
   "outputs": [],
   "source": [
    "# This tells Python of that additional module import path. \n",
    "import os\n",
    "import sys\n",
    "module_path = os.path.abspath(os.path.join('..'))\n",
    "if module_path not in sys.path:\n",
    "    sys.path.append(module_path)\n",
    "    \n",
    "from thinkbayes import Pmf"
   ]
  },
  {
   "cell_type": "markdown",
   "metadata": {},
   "source": [
    "In this example the car is equally likely to be behind doors A, B or C for the PRIOR, p(H).          \n",
    "Working out the Likelihood is tricky:\n",
    " - If car is behind A, there is a 50% chance that Monty will pick B or C and both have no car.\n",
    " - If car is behind B, there is a 0% chance than Monty will pick B and there will be no car!\n",
    " - If car is behind C, there is a 100% chance that Monty will pick B and there will be no car. You have picked A so he has not choice but to pick C. \n",
    "\n",
    "Likelihood is set up here that if you pick B, likelihood will be 0.5 ,0 ,1 for ABC.             \n",
    "What happens if data is not B? What are we saying in real terms if we do that?       \n",
    "As the hypothesis is that \"car is behind door x\" then the liklihood that Monty chooses that door and there is no car behind it is always going to be 0. That leaves an equal chance of the car being behind B or C. "
   ]
  },
  {
   "cell_type": "code",
   "execution_count": 16,
   "metadata": {
    "collapsed": false
   },
   "outputs": [],
   "source": [
    "class Monty(Pmf):\n",
    "    \n",
    "    def __init__(self,hypos):\n",
    "        Pmf.__init__(self)\n",
    "        for hypo in hypos:\n",
    "            self.Set(hypo,1)\n",
    "        self.Normalize()\n",
    "        \n",
    "    def Update(self,data):\n",
    "        for hypo in self.Values():\n",
    "            like = self.Likelihood(data,hypo)\n",
    "            self.Mult(hypo, like)\n",
    "        self.Normalize()\n",
    "        \n",
    "        # So far code is the same as in the Cookie problem\n",
    "        # Likelihood, however, requires some work:\n",
    "        \n",
    "    def Likelihood(self, data, hypo):\n",
    "        if hypo == data:\n",
    "            return 0 \n",
    "        elif hypo == 'A':\n",
    "            return 0.5\n",
    "        else:\n",
    "            return 1     "
   ]
  },
  {
   "cell_type": "code",
   "execution_count": 17,
   "metadata": {
    "collapsed": true
   },
   "outputs": [],
   "source": [
    "hypos = 'ABC'  # for hypo in hypos will break this up into 'A', 'B', 'C'.\n",
    "pmf = Monty(hypos) # Class Monty inherits from class Pmf."
   ]
  },
  {
   "cell_type": "code",
   "execution_count": 18,
   "metadata": {
    "collapsed": true
   },
   "outputs": [],
   "source": [
    "# Calling update is pretty much the same\n",
    "data = 'A'\n",
    "pmf.Update(data)"
   ]
  },
  {
   "cell_type": "code",
   "execution_count": 19,
   "metadata": {
    "collapsed": false
   },
   "outputs": [
    {
     "name": "stdout",
     "output_type": "stream",
     "text": [
      "C 0.5\n",
      "B 0.5\n",
      "A 0.0\n"
     ]
    }
   ],
   "source": [
    "# Now to print out the results (Same as Cookie problem)\n",
    "for hypo, prob in pmf.Items():\n",
    "    print (hypo, prob)"
   ]
  },
  {
   "cell_type": "markdown",
   "metadata": {},
   "source": [
    "The only thing that is different here is that writing Likelihood is a little more complicated. "
   ]
  }
 ],
 "metadata": {
  "kernelspec": {
   "display_name": "Python 3",
   "language": "python",
   "name": "python3"
  },
  "language_info": {
   "codemirror_mode": {
    "name": "ipython",
    "version": 3
   },
   "file_extension": ".py",
   "mimetype": "text/x-python",
   "name": "python",
   "nbconvert_exporter": "python",
   "pygments_lexer": "ipython3",
   "version": "3.5.1"
  }
 },
 "nbformat": 4,
 "nbformat_minor": 0
}
