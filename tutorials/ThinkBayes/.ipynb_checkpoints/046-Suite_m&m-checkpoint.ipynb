{
 "cells": [
  {
   "cell_type": "markdown",
   "metadata": {},
   "source": [
    "#### Using the Suite framework to solve the M&M problem\n",
    "\n",
    "- Two bags of m&ms (one from 94 and one from 96), with different proportions of colors.\n",
    "- You get an m&m from each bag. A yellow and a green, but you don't know which bag they came from. \n",
    "\n",
    "What is the probability that the yellow is from bag 1?"
   ]
  },
  {
   "cell_type": "code",
   "execution_count": 20,
   "metadata": {
    "collapsed": true
   },
   "outputs": [],
   "source": [
    "import os\n",
    "import sys\n",
    "module_path = os.path.abspath(os.path.join('..'))\n",
    "if module_path not in sys.path:\n",
    "    sys.path.append(module_path)\n",
    "    \n",
    "from thinkbayes import Pmf, Suite"
   ]
  },
  {
   "cell_type": "markdown",
   "metadata": {},
   "source": [
    "First, encode the color mixes from before and after 1995:"
   ]
  },
  {
   "cell_type": "code",
   "execution_count": 21,
   "metadata": {
    "collapsed": false
   },
   "outputs": [],
   "source": [
    "class M_and_M(Suite):\n",
    "    \n",
    "    # Encode the color mixes from before and after 1995\n",
    "    mix94 = dict(brown=30, yellow=20, red=20, green=10, orange=10, tan=10)\n",
    "    mix96 = dict(blue=24, green=20, orange=16, yellow=14, red=13)\n",
    "    \n",
    "    #Next, encode the hypotheses\n",
    "    hypoA = dict(bag1=mix94, bag2=mix96)\n",
    "    hypoB = dict(bag1=mix96, bag2=mix94)\n",
    "    \n",
    "    # Map the name of the hypothesis to the representation\n",
    "    hypotheses = dict(A=hypoA, B=hypoB)\n",
    "    \n",
    "    # In this case the hypothesis, hypo, is  astring, either A or B. The data is a tuple that spcifies a bag and a color.\n",
    "    def Likelihood(self, data, hypo):\n",
    "        bag, color = data\n",
    "        mix = self.hypotheses[hypo][bag]\n",
    "        like = mix[color]\n",
    "        return like\n",
    "    "
   ]
  },
  {
   "cell_type": "markdown",
   "metadata": {},
   "source": [
    "Code to create the Suite and update it:"
   ]
  },
  {
   "cell_type": "code",
   "execution_count": 22,
   "metadata": {
    "collapsed": false
   },
   "outputs": [
    {
     "name": "stdout",
     "output_type": "stream",
     "text": [
      "A 0.7407407407407407\n",
      "B 0.2592592592592592\n"
     ]
    }
   ],
   "source": [
    "suite = M_and_M('AB')  # All of the hypotheses are passed to suite.\n",
    "\n",
    "suite.Update(('bag1','yellow')) # This tuple is unpacked inside Likelihood into bag, color. \n",
    "suite.Update(('bag2','green'))\n",
    "\n",
    "suite.Print()"
   ]
  },
  {
   "cell_type": "markdown",
   "metadata": {},
   "source": [
    "We have picked a yellow from bag1 and a green from bag2.                        \n",
    "A is the probability that bag1 = 94, bag2 = 96           \n",
    "B is the probability that bag1 = 96, bag2 = 94                      \n",
    "\n",
    "The posterior probability of A is approximately 20/27 - same result as earlier. "
   ]
  },
  {
   "cell_type": "code",
   "execution_count": null,
   "metadata": {
    "collapsed": true
   },
   "outputs": [],
   "source": []
  }
 ],
 "metadata": {
  "kernelspec": {
   "display_name": "Python 3",
   "language": "python",
   "name": "python3"
  },
  "language_info": {
   "codemirror_mode": {
    "name": "ipython",
    "version": 3
   },
   "file_extension": ".py",
   "mimetype": "text/x-python",
   "name": "python",
   "nbconvert_exporter": "python",
   "pygments_lexer": "ipython3",
   "version": "3.5.1"
  }
 },
 "nbformat": 4,
 "nbformat_minor": 0
}
