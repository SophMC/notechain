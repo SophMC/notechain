{
 "cells": [
  {
   "cell_type": "markdown",
   "metadata": {},
   "source": [
    "## Computational Statistics\n",
    "\n",
    "### Distributions"
   ]
  },
  {
   "cell_type": "markdown",
   "metadata": {},
   "source": [
    "Count the number of times each word appears in a sequence"
   ]
  },
  {
   "cell_type": "code",
   "execution_count": 1,
   "metadata": {
    "collapsed": false
   },
   "outputs": [],
   "source": [
    "# This tells Python of that additional module import path. \n",
    "import os\n",
    "import sys\n",
    "module_path = os.path.abspath(os.path.join('..'))\n",
    "if module_path not in sys.path:\n",
    "    sys.path.append(module_path)\n",
    "    \n",
    "from bin.thinkbayes import Pmf\n",
    "\n",
    "# Creates an instance of class Pmf (pmf) to represent the distribution of outcomes for a six-sided die:\n",
    "# class Pmf inherits from _DictWrapper (an object which contains a dictionary)\n",
    "pmf = Pmf()\n",
    "\n",
    "# Set --> {1: 1/6.0, 2:1/6.0, 3:1/6.0....}\n",
    "for x in [1,2,3,4,5,6]:\n",
    "    pmf.Set(x,1/6.0)  # Set function is within the _DictWrapper class. So pmf inherits it."
   ]
  },
  {
   "cell_type": "code",
   "execution_count": 18,
   "metadata": {
    "collapsed": false
   },
   "outputs": [
    {
     "name": "stdout",
     "output_type": "stream",
     "text": [
      "dict_keys(['Bowl 2', 'Bowl 1'])\n",
      "dict_items([('Bowl 2', 0.4), ('Bowl 1', 0.6000000000000001)])\n",
      "<zip object at 0x7f57d2dae308>\n"
     ]
    }
   ],
   "source": [
    "# How to access values from pmf? You need to use the right methods. i.e.\n",
    "# \n",
    "print (pmf.Values()) # just gives the keys. \n",
    "print (pmf.Items()) # gives the key: value pairs in the dictionary\n",
    "print (pmf.Render()) # create items for plotting"
   ]
  },
  {
   "cell_type": "code",
   "execution_count": 20,
   "metadata": {
    "collapsed": false
   },
   "outputs": [],
   "source": [
    "# help(pmf) # A list of the available classes and methods."
   ]
  },
  {
   "cell_type": "markdown",
   "metadata": {},
   "source": [
    "#### The Cookie Problem"
   ]
  },
  {
   "cell_type": "code",
   "execution_count": 3,
   "metadata": {
    "collapsed": true
   },
   "outputs": [],
   "source": [
    "pmf = Pmf()\n",
    "\n",
    "# Hypothesis B1 and B2 (Bowl 1 and Bowl 2).\n",
    "# This is the prior distribution (contains the priors for each hypothesis)\n",
    "pmf.Set('Bowl 1', 0.5) # p(B1)\n",
    "pmf.Set('Bowl 2', 0.5) # p(B2)\n"
   ]
  },
  {
   "cell_type": "markdown",
   "metadata": {},
   "source": [
    "To update the distribution based on new data (vanilla cookie) we multiply each prior by the corresponding likelihood.\n",
    "Now we have new data - A vanilla cookie! - we can update each of B1 and B2, i.e. determining p(B1|D) and p(B2|D).      \n",
    "So for B1, this would be:       \n",
    "    p(B1|D) = prior\\*Prob of Vanilla from B1/ Prob of Vanilla from either bowl                    \n",
    "    p(B1|D) = p(B1)\\*p(D|B1)/p(D)                   \n",
    "    p(B1) = 1/2 (there are two bowls)                   \n",
    "    p(D|B1) = 3/4 (ratio is 30:10 vanilla to choc)                      \n",
    "    p(D) = 5/8 (80 cookies altogether in both bowls, 50 are vanilla)                        \n",
    "    So:           \n",
    "    posterior = (1/2*3/2)/(5/8)               \n",
    "    \n",
    "    \n",
    "    p(B2|D) = prior*Prob of Vanilla from B1/ Prob of Vanilla from either bowl\n",
    "\n",
    "The likelihood of drawing a vanilla cookie from Bowl 1 is 3/4 and Bowl 2 is 1/2.\n"
   ]
  },
  {
   "cell_type": "code",
   "execution_count": 4,
   "metadata": {
    "collapsed": true
   },
   "outputs": [],
   "source": [
    "# Mult get the probability for the given hypothesis and multiplies by the given likelihood\n",
    "pmf.Mult('Bowl 1', 0.75)\n",
    "pmf.Mult('Bowl 2', 0.5)"
   ]
  },
  {
   "cell_type": "markdown",
   "metadata": {},
   "source": [
    "After this update, the distribution is no longer normalized, but because these hypotheses are mutally exclusive and collectively exhaustive, we can renormalize:"
   ]
  },
  {
   "cell_type": "code",
   "execution_count": 5,
   "metadata": {
    "collapsed": false
   },
   "outputs": [
    {
     "data": {
      "text/plain": [
       "0.625"
      ]
     },
     "execution_count": 5,
     "metadata": {},
     "output_type": "execute_result"
    }
   ],
   "source": [
    "pmf.Normalize()"
   ]
  },
  {
   "cell_type": "markdown",
   "metadata": {
    "collapsed": true
   },
   "source": [
    "The result is a distribution that contains the posterior probability for each hypothesis, now called the POSTERIOR DISTRIBUTION"
   ]
  },
  {
   "cell_type": "code",
   "execution_count": 21,
   "metadata": {
    "collapsed": false
   },
   "outputs": [
    {
     "name": "stdout",
     "output_type": "stream",
     "text": [
      "0.6000000000000001\n",
      "dict_keys(['Bowl 2', 'Bowl 1'])\n"
     ]
    }
   ],
   "source": [
    "# Get the posterior probability for Bowl 1.\n",
    "print (pmf.Prob('Bowl 1'))\n",
    "\n",
    "print (pmf.Values())"
   ]
  },
  {
   "cell_type": "code",
   "execution_count": null,
   "metadata": {
    "collapsed": true
   },
   "outputs": [],
   "source": []
  }
 ],
 "metadata": {
  "kernelspec": {
   "display_name": "Python 3",
   "language": "python",
   "name": "python3"
  },
  "language_info": {
   "codemirror_mode": {
    "name": "ipython",
    "version": 3
   },
   "file_extension": ".py",
   "mimetype": "text/x-python",
   "name": "python",
   "nbconvert_exporter": "python",
   "pygments_lexer": "ipython3",
   "version": "3.5.1"
  }
 },
 "nbformat": 4,
 "nbformat_minor": 0
}
