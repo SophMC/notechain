{
 "cells": [
  {
   "cell_type": "markdown",
   "metadata": {},
   "source": [
    "How to write code for the previous section, to make it more general"
   ]
  },
  {
   "cell_type": "code",
   "execution_count": 68,
   "metadata": {
    "collapsed": true
   },
   "outputs": [],
   "source": [
    "# This tells Python of that additional module import path. \n",
    "import os\n",
    "import sys\n",
    "module_path = os.path.abspath(os.path.join('..'))\n",
    "if module_path not in sys.path:\n",
    "    sys.path.append(module_path)\n",
    "    \n",
    "from thinkbayes import Pmf"
   ]
  },
  {
   "cell_type": "code",
   "execution_count": 69,
   "metadata": {
    "collapsed": false
   },
   "outputs": [],
   "source": [
    "# A cookie object is a Pmf that maps from hypotheses to their probabilities. The __init__ method \n",
    "# gives each hypothesis the same prior probability. \n",
    "class Cookie(Pmf):\n",
    "    def __init__(self,hypos):\n",
    "        # initialise a hypotheses object (a dictionary)\n",
    "        Pmf.__init__(self)\n",
    "        for hypo in hypos:\n",
    "            self.Set(hypo,1)\n",
    "        self.Normalize()\n",
    "\n",
    "# Within the Cookie class we provide an Update method which takes data as a parameter and updates the probabilities:        \n",
    "    def Update(self,data):\n",
    "        for hypo in self.Values():  # Loop through each hypothesis in the suite\n",
    "            like = self.Likelihood(data,hypo)\n",
    "            self.Mult(hypo,like)    # Multiplies the probability by the likelihood of the\n",
    "        self.Normalize()            # data under the hypothesis\n",
    "\n",
    "        \n",
    "        # dictionary \"mixes\" maps to another two dictionaries for Bowl 1 and Bowl 2.\n",
    "    mixes = {\n",
    "    'Bowl 1': dict(vanilla = 0.75, chocolate = 0.25),\n",
    "    'Bowl 2': dict(vanilla = 0.5, chocolate = 0.5)\n",
    "    } \n",
    "        \n",
    "#Likelihood uses mixes, which is a dictionary that maps from the name fo a bowl to the mix of cookies in the bowl.        \n",
    "    def Likelihood(self, data, hypo):\n",
    "        mix = self.mixes[hypo]   # Update loops through the hypotheses, each one called hypo. It is fed into likelihood\n",
    "        like = mix[data]         # here. like = mix[vanilla] (see pmf.Update('vanilla'))\n",
    "        return like              #   \n"
   ]
  },
  {
   "cell_type": "code",
   "execution_count": 70,
   "metadata": {
    "collapsed": true
   },
   "outputs": [],
   "source": [
    "hypos = ['Bowl 1', 'Bowl 2']  # Given to every Cookie object. There are always these two hypotheses.\n",
    "pmf = Cookie(hypos)           # new pmf object which has Bowl 1 and Bowl 2 as it's hypotheses names and these are \n",
    "                              # initially set to 1."
   ]
  },
  {
   "cell_type": "code",
   "execution_count": 71,
   "metadata": {
    "collapsed": false
   },
   "outputs": [],
   "source": [
    "pmf.Update('vanilla')  # Calling on the vanilla key from the seperate Bowl 1 and Bowl 2 dictionaries."
   ]
  },
  {
   "cell_type": "markdown",
   "metadata": {},
   "source": [
    "Now that we have followed the following steps\n",
    " - Created a Cookies object called pmf with the initial hypotheses named Bowl 1 and Bowl 2\n",
    " - We updated the pmf dictionary with vanilla probabilities, taken from the mixes mapping dictionary.\n",
    " - With the liklihood (chance of data) updated with the probabilities of vanilla, from the mixes dictionary, and then\n",
    "   multiplied using the Mult function (computes the top part of the Bayes rhs equation). All that is left is to divide\n",
    "   by the probability of any data, which is done by self.normalize.\n",
    "\n",
    "...we can print the posterior probability of each hypothesis:"
   ]
  },
  {
   "cell_type": "code",
   "execution_count": 72,
   "metadata": {
    "collapsed": false
   },
   "outputs": [
    {
     "name": "stdout",
     "output_type": "stream",
     "text": [
      "Bowl 2 0.4\n",
      "Bowl 1 0.6000000000000001\n"
     ]
    }
   ],
   "source": [
    "for hypo, prob in pmf.Items():\n",
    "    print (hypo, prob)"
   ]
  },
  {
   "cell_type": "markdown",
   "metadata": {},
   "source": [
    "This code is more complicated than before, but it can be reused if we want to draw more than one cookie from the same bowl (with replacement):"
   ]
  },
  {
   "cell_type": "code",
   "execution_count": 73,
   "metadata": {
    "collapsed": true
   },
   "outputs": [],
   "source": [
    "# Say you pick out some more cookies, in this order - vanilla, chocolate, vanilla\n",
    "\n",
    "# dataset = ['vanilla', 'chocolate', 'vanilla']\n",
    "dataset = ['vanilla', 'chocolate']\n",
    "for data in dataset:\n",
    "    pmf.Update(data)"
   ]
  },
  {
   "cell_type": "code",
   "execution_count": 74,
   "metadata": {
    "collapsed": false
   },
   "outputs": [
    {
     "name": "stdout",
     "output_type": "stream",
     "text": [
      "Bowl 2 0.4705882352941177\n",
      "Bowl 1 0.5294117647058825\n"
     ]
    }
   ],
   "source": [
    "for hypo, prob in pmf.Items():\n",
    "    print (hypo, prob)"
   ]
  },
  {
   "cell_type": "code",
   "execution_count": 75,
   "metadata": {
    "collapsed": true
   },
   "outputs": [],
   "source": [
    "dataset = ['vanilla', 'chocolate', 'vanilla']\n",
    "for data in dataset:\n",
    "    pmf.Update(data)"
   ]
  },
  {
   "cell_type": "code",
   "execution_count": 76,
   "metadata": {
    "collapsed": false
   },
   "outputs": [
    {
     "name": "stdout",
     "output_type": "stream",
     "text": [
      "Bowl 2 0.4413793103448276\n",
      "Bowl 1 0.5586206896551724\n"
     ]
    }
   ],
   "source": [
    "for hypo, prob in pmf.Items(): # Probability that the latest cookies came from Bowl 1 or Bowl 2.\n",
    "    print (hypo, prob)"
   ]
  },
  {
   "cell_type": "markdown",
   "metadata": {},
   "source": [
    "Each time you take a new cookie out (see dataset list above) we get the probabilities \"Bowl 1\" \"Bowl 2\" that it came from either of those bowls. "
   ]
  }
 ],
 "metadata": {
  "kernelspec": {
   "display_name": "Python 2",
   "language": "python",
   "name": "python2"
  },
  "language_info": {
   "codemirror_mode": {
    "name": "ipython",
    "version": 2
   },
   "file_extension": ".py",
   "mimetype": "text/x-python",
   "name": "python",
   "nbconvert_exporter": "python",
   "pygments_lexer": "ipython2",
   "version": "2.7.11"
  }
 },
 "nbformat": 4,
 "nbformat_minor": 0
}
