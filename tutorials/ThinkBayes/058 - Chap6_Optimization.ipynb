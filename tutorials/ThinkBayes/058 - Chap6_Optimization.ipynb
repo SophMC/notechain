{
 "cells": [
  {
   "cell_type": "markdown",
   "metadata": {},
   "source": [
    "## Optimal Bidding\n",
    "\n",
    "Now we will use the posterior distribution to compute the optimal bid, defined as the bid that maximizes expect return.\n",
    "\n",
    "First we present the methods top-down (showing how they are used, before how they work).\n",
    "\n",
    "To compute optimal bids, the class called `GainCalculator` was created:"
   ]
  },
  {
   "cell_type": "code",
   "execution_count": 1,
   "metadata": {
    "collapsed": true
   },
   "outputs": [],
   "source": [
    "class GainCalculator(object):\n",
    "    \"\"\"Encapsulates computation of expected gain.\"\"\"\n",
    "    def __init__(self, player, opponent):\n",
    "        self.player = player\n",
    "        self.opponent = opponent"
   ]
  },
  {
   "cell_type": "markdown",
   "metadata": {},
   "source": [
    "`player` and `opponent` are `Player` objects.\n",
    "\n",
    "`GainCalculator` provides `ExpectedGains`, which computes a sequence of bids and expected gain for each bid:"
   ]
  },
  {
   "cell_type": "code",
   "execution_count": 2,
   "metadata": {
    "collapsed": true
   },
   "outputs": [],
   "source": [
    "def ExpectedGains(self, low=0, high=75000, n=101):\n",
    "    \"\"\"Computes expected gains for a range of bids.\n",
    "        low: low bid\n",
    "        high: high bid\n",
    "        n: number of bids to evaluates\n",
    "        returns: tuple (sequence of bids, sequence of gains)\n",
    "    \n",
    "        \"\"\"\n",
    "    bids = numpy.linspace(low, high, n) # a list of bids going up in 101\n",
    "    \n",
    "    gains = [self.ExpectedGain(bid) for bid in bids] # ExpectedGain is defined below\n",
    "    \n",
    "    return bids, gains"
   ]
  },
  {
   "cell_type": "markdown",
   "metadata": {},
   "source": [
    "`low` and `high` specify the range of possible bids; `n` is the number of bids to try."
   ]
  },
  {
   "cell_type": "markdown",
   "metadata": {},
   "source": [
    "`ExpectedGains` calls `ExpectedGain`, which computes expected gain for a given bid:"
   ]
  },
  {
   "cell_type": "code",
   "execution_count": 3,
   "metadata": {
    "collapsed": true
   },
   "outputs": [],
   "source": [
    "def ExpectedGain(self, bid):\n",
    "    \"\"\"Computes the expected return of a given bid.\n",
    "        bid: your bid\n",
    "        \"\"\"\n",
    "    suite = self.player.posterior # this was created in def MakeBeliefs from self.prior = Price(pmf, self)\n",
    "    total = 0\n",
    "    for price, prob in sorted(suite.Items()): \n",
    "        gain = self.Gain(bid, price)\n",
    "        total += prob * gain\n",
    "    return total"
   ]
  },
  {
   "cell_type": "markdown",
   "metadata": {},
   "source": [
    "`ExpectedGain` loops through the values in the posterior and computers the gain for each bid, given the actual prices of the showcase. It weights each gain with the corresponding probability and returns the total.\n",
    "\n",
    "`ExpectedGain` invokes `Gain`, which takes a bid and an actual price and returns the expected gain:"
   ]
  },
  {
   "cell_type": "code",
   "execution_count": 5,
   "metadata": {
    "collapsed": true
   },
   "outputs": [],
   "source": [
    "def Gain(self, bid, price):\n",
    "    if bid > price:\n",
    "        return 0\n",
    "    diff = price - bid\n",
    "    prob = self.ProbWin(diff)\n",
    "    \n",
    "    if diff <= 250:\n",
    "        return 2 * price * prob\n",
    "    else:\n",
    "        return price * prob"
   ]
  },
  {
   "cell_type": "markdown",
   "metadata": {},
   "source": [
    "If you overbid, you get nothing. Otherwise, we computer the difference between your bid nad the price, which determines your probability of winning.\n",
    "\n",
    "If `diff` is less than $250, you win both showcases. \n",
    "\n",
    "Finally, we have to compute the probability of winning based on diff:"
   ]
  },
  {
   "cell_type": "code",
   "execution_count": 6,
   "metadata": {
    "collapsed": true
   },
   "outputs": [],
   "source": [
    "def ProbWin(self, diff):\n",
    "    prob = (self.opponent.ProbOverbid() + self.opponent.ProbWorseThan(diff))\n",
    "    return prob"
   ]
  },
  {
   "cell_type": "markdown",
   "metadata": {},
   "source": [
    "If your opponent overbids, you win. Otherwise, you have to hope that your opponent is off by more than `diff`. `Player` provides methods to compute both probabilities:"
   ]
  },
  {
   "cell_type": "code",
   "execution_count": 8,
   "metadata": {
    "collapsed": false
   },
   "outputs": [],
   "source": [
    "# class Player\n",
    "   # def ProbOverbid(self):\n",
    "    #    return self.cdf_diff.Prob(-1)\n",
    "    \n",
    "    #def ProbWorseThan(self, diff):\n",
    "     #   return 1 - self.cdf_diff.Prob(diff)"
   ]
  },
  {
   "cell_type": "markdown",
   "metadata": {},
   "source": [
    "This code is from the view fo the opponent: \"What is the probability that I overbid?\"  and \"What is the probability that my bid is off by more than `diff`\"\n",
    "\n",
    "Both answers are based on the CDF of `diff`. If the opponents `diff` is less than or equal, you win. If the opponent's `diff` is worse than yours, you win. Otherwise you lose.\n",
    "\n",
    "Finally, here is the code that computes the optimal bids:"
   ]
  },
  {
   "cell_type": "code",
   "execution_count": 10,
   "metadata": {
    "collapsed": false
   },
   "outputs": [],
   "source": [
    "# class Player\n",
    "    def OptimalBid(self, guess, opponent):\n",
    "        self.MakeBeliefs(guess)\n",
    "        calc = GainCalculator(self, opponent)\n",
    "        bids, gains = calc.ExpectedGains()\n",
    "        gain, bid = max(zip(gains, bids))\n",
    "        return bid, gain"
   ]
  },
  {
   "cell_type": "markdown",
   "metadata": {},
   "source": [
    "Given a guess and an opponent, `OptimalBid` computes the posterior distribution, instantiates a `GainCalculator`, computes expected gains for a range of bids and returns the optimal bid and expected gain, Whew!\n",
    "\n",
    "Figure 6.4 shows the results for both players, based on a scenario where Player 1's best guess is \\$20000 and Player 2's best guess is \\$40000"
   ]
  },
  {
   "cell_type": "markdown",
   "metadata": {},
   "source": [
    "<img src=\"thinkbayesprice3.png\">"
   ]
  },
  {
   "cell_type": "markdown",
   "metadata": {},
   "source": []
  }
 ],
 "metadata": {
  "kernelspec": {
   "display_name": "Python 3",
   "language": "python",
   "name": "python3"
  },
  "language_info": {
   "codemirror_mode": {
    "name": "ipython",
    "version": 3
   },
   "file_extension": ".py",
   "mimetype": "text/x-python",
   "name": "python",
   "nbconvert_exporter": "python",
   "pygments_lexer": "ipython3",
   "version": "3.5.1"
  }
 },
 "nbformat": 4,
 "nbformat_minor": 0
}
