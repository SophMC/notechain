{
 "cells": [
  {
   "cell_type": "code",
   "execution_count": null,
   "metadata": {
    "collapsed": true
   },
   "outputs": [],
   "source": [
    "### The Dice Problem\n",
    "\n",
    "I have 5 dice - a 4-sided, 6-sided, 8-sided and 20-sided.   \n",
    "If I select a die from the box at random and get a 6, what is the probability that it was each of the dice.\n",
    "Here we will:    \n",
    "1) Choose a representation for the hypotheses       \n",
    "2) Choose a representation for the data    \n",
    "3) Write a likelihood function   \n",
    "\n",
    "Previously we used strings to represent hypotheses and data, here we will use numbers.   \n",
    "Specifically 4,6,8,12 and 20 to represent hypotheses:"
   ]
  },
  {
   "cell_type": "code",
   "execution_count": 7,
   "metadata": {
    "collapsed": true
   },
   "outputs": [],
   "source": [
    "import os\n",
    "import sys\n",
    "module_path = os.path.abspath(os.path.join('..'))\n",
    "if module_path not in sys.path:\n",
    "    sys.path.append(module_path)\n",
    "    \n",
    "from thinkbayes import Pmf, Suite"
   ]
  },
  {
   "cell_type": "code",
   "execution_count": 8,
   "metadata": {
    "collapsed": false
   },
   "outputs": [],
   "source": [
    "class Dice(Suite):\n",
    "    \n",
    "    #notice there are no class variables here. \n",
    "    \n",
    "    def Likelihood(self, data, hypo):\n",
    "        if hypo < data:\n",
    "            return 0 \n",
    "        else:\n",
    "            return 1.0/hypo\n",
    "\n",
    "\n",
    "# We use integers to represent hypotheses\n",
    "suite = Dice([4 ,6 ,8 ,12 ,20 ])"
   ]
  },
  {
   "cell_type": "markdown",
   "metadata": {},
   "source": [
    "If hypo < data this means the roll is greater than the number of sides on the die. This is not possible to the likelihood is 0.\n",
    "\n",
    "Otherwise the question is, \"Given that there are hypo sides, what is the chance of rolling data?\"   \n",
    "The answer is 1/hypo, regardless of data."
   ]
  },
  {
   "cell_type": "code",
   "execution_count": 9,
   "metadata": {
    "collapsed": false
   },
   "outputs": [
    {
     "name": "stdout",
     "output_type": "stream",
     "text": [
      "4 0.0\n",
      "6 0.3921568627450979\n",
      "8 0.2941176470588235\n",
      "12 0.19607843137254896\n",
      "20 0.11764705882352941\n"
     ]
    }
   ],
   "source": [
    "# Update hypothesis if I roll a 6\n",
    "suite.Update(6)\n",
    "suite.Print()"
   ]
  },
  {
   "cell_type": "markdown",
   "metadata": {},
   "source": [
    "After we roll a 6, the probability for the 4-sided die is 0. 6-sided is most likely, though there is still almost a 12% chance for the 20-sided die"
   ]
  },
  {
   "cell_type": "code",
   "execution_count": 13,
   "metadata": {
    "collapsed": false
   },
   "outputs": [
    {
     "name": "stdout",
     "output_type": "stream",
     "text": [
      "4 0.0\n",
      "6 0.0\n",
      "8 0.9965835404647062\n",
      "12 0.0034137843517224823\n",
      "20 2.6751835712673812e-06\n",
      "-----\n",
      "4 0.0\n",
      "6 0.0\n",
      "8 0.9977204760988618\n",
      "12 0.0022784526069342752\n",
      "20 1.0712942038485414e-06\n",
      "-----\n",
      "4 0.0\n",
      "6 0.0\n",
      "8 0.9984794472645385\n",
      "12 0.0015201238918041802\n",
      "20 4.2884365717293543e-07\n",
      "-----\n",
      "4 0.0\n",
      "6 0.0\n",
      "8 0.9989858984203864\n",
      "12 0.0010139299551430545\n",
      "20 1.7162447051522972e-07\n",
      "-----\n",
      "4 0.0\n",
      "6 0.0\n",
      "8 0.9993237494202397\n",
      "12 0.0006761819067551149\n",
      "20 6.867300515001654e-08\n",
      "-----\n",
      "4 0.0\n",
      "6 0.0\n",
      "8 0.999549082940396\n",
      "12 0.00045088958420803747\n",
      "20 2.7475395980645105e-08\n",
      "-----\n"
     ]
    }
   ],
   "source": [
    "# What if we roll a few more times an get 6,8,7,7,5 and 4 from the same dice?\n",
    "for roll in [6,8,7,7,5,4]:\n",
    "    suite.Update(roll)\n",
    "    suite.Print()\n",
    "    print('-----')\n"
   ]
  },
  {
   "cell_type": "markdown",
   "metadata": {},
   "source": [
    "Now the probability is 94% that we roll the 8-sided die and less than 1% for the 20-sided."
   ]
  }
 ],
 "metadata": {
  "kernelspec": {
   "display_name": "Python 3",
   "language": "python",
   "name": "python3"
  },
  "language_info": {
   "codemirror_mode": {
    "name": "ipython",
    "version": 3
   },
   "file_extension": ".py",
   "mimetype": "text/x-python",
   "name": "python",
   "nbconvert_exporter": "python",
   "pygments_lexer": "ipython3",
   "version": "3.5.1"
  }
 },
 "nbformat": 4,
 "nbformat_minor": 0
}
