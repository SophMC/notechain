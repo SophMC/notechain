{
 "cells": [
  {
   "cell_type": "markdown",
   "metadata": {},
   "source": [
    "### Chap 6: Decision Analysis\n",
    "\n",
    "How to decide on the price of a showcase?\n",
    "Bayesian thinking towards an answer:\n",
    "1) Prior beliefs on what the showcase prices could be: Analyse previous prices on the show.\n",
    "2) Likelihood/Update: Seeing the prizes, how should you update? i.e. How to interpret the data?\n",
    "3) Results from Update on the Prior: the Posterior. How to choose from the posterior distribution?\n",
    "\n",
    "All of these steps require subjective decisions. \n",
    "\n",
    "**Modeling the contestants**\n",
    "If you were a contestant on the show you could use this distribution (fig 6.1) to quantify your prior belief about the price of each showcase (before you even see the prizes). \n",
    "To Update, we have to answer these questions:\n",
    "\n",
    "1) What data should we consider and how should we quantify it?\n",
    "2) Can we compute a likelihood function; ie.e for each hypo value of `price`, can we compute the conditional likelihood of the data?"
   ]
  },
  {
   "cell_type": "code",
   "execution_count": null,
   "metadata": {
    "collapsed": true
   },
   "outputs": [],
   "source": []
  }
 ],
 "metadata": {
  "kernelspec": {
   "display_name": "Python 3",
   "language": "python",
   "name": "python3"
  },
  "language_info": {
   "codemirror_mode": {
    "name": "ipython",
    "version": 3
   },
   "file_extension": ".py",
   "mimetype": "text/x-python",
   "name": "python",
   "nbconvert_exporter": "python",
   "pygments_lexer": "ipython3",
   "version": "3.5.1"
  }
 },
 "nbformat": 4,
 "nbformat_minor": 0
}
