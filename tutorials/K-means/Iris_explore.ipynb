{
 "cells": [
  {
   "cell_type": "code",
   "execution_count": 18,
   "metadata": {
    "collapsed": false
   },
   "outputs": [
    {
     "name": "stdout",
     "output_type": "stream",
     "text": [
      "Populating the interactive namespace from numpy and matplotlib\n"
     ]
    },
    {
     "name": "stderr",
     "output_type": "stream",
     "text": [
      "WARNING: pylab import has clobbered these variables: ['plt']\n",
      "`%matplotlib` prevents importing * from pylab and numpy\n"
     ]
    },
    {
     "data": {
      "text/plain": [
       "<matplotlib.legend.Legend at 0x7f0cbb217240>"
      ]
     },
     "execution_count": 18,
     "metadata": {},
     "output_type": "execute_result"
    },
    {
     "data": {
      "image/png": "[encoded data removed]",
      "text/plain": [
       "<matplotlib.figure.Figure at 0x7f0cbb55d668>"
      ]
     },
     "metadata": {},
     "output_type": "display_data"
    }
   ],
   "source": [
    "%pylab inline\n",
    "import pandas as pd\n",
    "import matplotlib.pylab as plt\n",
    "\n",
    "df = pd.read_csv('/home/sophie/projects/LearnDataScience-master/datasets/iris.csv')\n",
    "\n",
    "setosa = df[df.Species=='Iris-setosa']\n",
    "versicolor = df[df.Species=='Iris-versicolor']\n",
    "virginica = df[df.Species=='Iris-virginica']\n",
    "\n",
    "# Use attributes other than Sepal Length and Petal Length\n",
    "# There are SepalWidth  SepalWidth  PetalLength  PetalWidth\n",
    "s = plot(setosa['SepalWidth'],setosa['SepalLength'],'bo')\n",
    "vi = plot(virginica['SepalWidth'],virginica['SepalLength'],'go')\n",
    "ve = plot(versicolor['SepalWidth'],versicolor['SepalLength'],'ro')\n",
    "lx = ve[0].axes.set_xlabel('Sepal Width')\n",
    "ly = ve[0].axes.set_ylabel('Sepal Length')\n",
    "plt.legend(['setosa','virginica','versicolor'], numpoints=1)"
   ]
  },
  {
   "cell_type": "code",
   "execution_count": 19,
   "metadata": {
    "collapsed": false
   },
   "outputs": [
    {
     "name": "stdout",
     "output_type": "stream",
     "text": [
      "<class 'pandas.core.frame.DataFrame'>\n",
      "   SepalLength  SepalWidth  PetalLength  PetalWidth      Species\n",
      "0          5.1         3.5          1.4         0.2  Iris-setosa\n",
      "1          4.9         3.0          1.4         0.2  Iris-setosa\n",
      "2          4.7         3.2          1.3         0.2  Iris-setosa\n",
      "Index(['SepalLength', 'SepalWidth', 'PetalLength', 'PetalWidth', 'Species'], dtype='object')\n"
     ]
    }
   ],
   "source": [
    "print (type(setosa))\n",
    "print (setosa[0:3])\n",
    "print (df.columns)"
   ]
  },
  {
   "cell_type": "code",
   "execution_count": null,
   "metadata": {
    "collapsed": true
   },
   "outputs": [],
   "source": []
  }
 ],
 "metadata": {
  "kernelspec": {
   "display_name": "Python 3",
   "language": "python",
   "name": "python3"
  },
  "language_info": {
   "codemirror_mode": {
    "name": "ipython",
    "version": 3
   },
   "file_extension": ".py",
   "mimetype": "text/x-python",
   "name": "python",
   "nbconvert_exporter": "python",
   "pygments_lexer": "ipython3",
   "version": "3.5.1"
  }
 },
 "nbformat": 4,
 "nbformat_minor": 0
}
