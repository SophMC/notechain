{
 "cells": [
  {
   "cell_type": "markdown",
   "metadata": {},
   "source": [
    "Plotting the number of counts in each boxplot. http://stackoverflow.com/questions/29286217/is-there-a-good-way-to-display-sample-size-on-grouped-boxplots-using-python-matp "
   ]
  },
  {
   "cell_type": "code",
   "execution_count": 49,
   "metadata": {
    "collapsed": false
   },
   "outputs": [
    {
     "name": "stdout",
     "output_type": "stream",
     "text": [
      "[11, 50, 39]\n",
      "100.0\n",
      "3\n"
     ]
    },
    {
     "data": {
      "text/plain": [
       "[<matplotlib.text.Text at 0x7fa6aaf904d0>,\n",
       " <matplotlib.text.Text at 0x7fa6aafa98d0>,\n",
       " <matplotlib.text.Text at 0x7fa6aaf1a450>]"
      ]
     },
     "execution_count": 49,
     "metadata": {},
     "output_type": "execute_result"
    },
    {
     "data": {
      "image/png": "[encoded data removed]",
      "text/plain": [
       "<matplotlib.figure.Figure at 0x7fa6ab649b10>"
      ]
     },
     "metadata": {},
     "output_type": "display_data"
    }
   ],
   "source": [
    "import pandas as pd\n",
    "\n",
    "from numpy.random import rand, randint\n",
    "\n",
    "# Had to include these two lines for plot to print in notebook! \n",
    "import matplotlib.pyplot as plt \n",
    "%matplotlib inline\n",
    "\n",
    "# Make 100 random numbers, no larger than 1. Place them in a column named value\n",
    "df = pd.DataFrame(rand(100,1),columns = ['value'])\n",
    "\n",
    "\n",
    "cut1 = randint(2,47) # create a random int between 2 and 47\n",
    "cut2 = randint(52,97) # random integer between 52 amd 97\n",
    "\n",
    "# A is always less than B, B less than C\n",
    "# ix is the most general indexer which supports loc,iloc and ix. \n",
    "# Good for dealing with mixed positional and label-based indexes.\n",
    "# When an axis is integer only, best to use iloc or loc\n",
    "\n",
    "df.ix[:cut1, 'class'] = 'A'  # if the index is up to cut 1, assign a value A and put it in column='class'\n",
    "df.ix[cut1+1:cut2, 'class']='B'\n",
    "df.ix[cut2+1:, 'class'] = 'C'\n",
    "\n",
    "#Put into groups A, B, C for further working\n",
    "dfg = df.groupby('class')\n",
    "\n",
    "counts = [len(v) for k,v in dfg] # k is the key for the group, v is a dataframe describing the values.\n",
    "total = float(sum(counts)) # \n",
    "cases = len(counts)\n",
    "\n",
    "print counts # the number of values in each group A, B and C.\n",
    "print total # Adding the values and making it a float\n",
    "print cases # How many groups are there?\n",
    "\n",
    "# For each group count (stored as a list in counts), divide by the total\n",
    "# Widths counts/100. \n",
    "widths = [c/total for c in counts]\n",
    "\n",
    "# Very clever using the number of counts to give the box width!!\n",
    "# cax is an AxesSubplot object.\n",
    "cax = df.boxplot(column = 'value', by='class', widths=widths) # widths is a matplotlib keyword, fine here though!\n",
    "\n",
    "cax.set_xticklabels(['%s\\n$n$=%d'%(k, len(v)) for k,v in dfg]) # set_xticklabels is applied to an axes object.\n",
    "# http://matplotlib.org/api/axes_api.html \n",
    "\n",
    "# %s = k and %d = len(v)\n",
    "\n",
    "# len(v)) for k,v in dfg = this is the key to looping over the groupby objects, exploring each group. k is the group name\n",
    "# and v is in informatio in that group"
   ]
  },
  {
   "cell_type": "code",
   "execution_count": null,
   "metadata": {
    "collapsed": true
   },
   "outputs": [],
   "source": []
  },
  {
   "cell_type": "code",
   "execution_count": null,
   "metadata": {
    "collapsed": true
   },
   "outputs": [],
   "source": []
  }
 ],
 "metadata": {
  "kernelspec": {
   "display_name": "Python 2",
   "language": "python",
   "name": "python2"
  },
  "language_info": {
   "codemirror_mode": {
    "name": "ipython",
    "version": 2
   },
   "file_extension": ".py",
   "mimetype": "text/x-python",
   "name": "python",
   "nbconvert_exporter": "python",
   "pygments_lexer": "ipython2",
   "version": "2.7.11"
  }
 },
 "nbformat": 4,
 "nbformat_minor": 0
}
