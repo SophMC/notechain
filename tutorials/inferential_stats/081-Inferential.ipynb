{
 "cells": [
  {
   "cell_type": "markdown",
   "metadata": {},
   "source": [
    "### Udacity Inferential Statistics\n"
   ]
  },
  {
   "cell_type": "code",
   "execution_count": 22,
   "metadata": {
    "collapsed": true
   },
   "outputs": [],
   "source": [
    "import numpy as np\n",
    "import pandas as pd\n",
    "import math\n",
    "import matplotlib.pyplot as plt\n",
    "import statsmodels.api as sm\n",
    "%matplotlib inline"
   ]
  },
  {
   "cell_type": "code",
   "execution_count": 4,
   "metadata": {
    "collapsed": false
   },
   "outputs": [],
   "source": [
    "# Import the data into a series\n",
    "\n",
    "Klout = pd.read_csv('Klout scores (Lesson 7) - Sheet1.csv',  squeeze = True, header=0)"
   ]
  },
  {
   "cell_type": "code",
   "execution_count": 8,
   "metadata": {
    "collapsed": false
   },
   "outputs": [
    {
     "name": "stdout",
     "output_type": "stream",
     "text": [
      "0    60.908747\n",
      "1    23.222238\n",
      "2    51.553491\n",
      "3    22.629690\n",
      "4    53.338099\n",
      "Name: 25.10417915, dtype: float64\n",
      "<class 'pandas.core.series.Series'>\n"
     ]
    }
   ],
   "source": [
    "print (Klout[0:5])\n",
    "print (type(Klout))"
   ]
  },
  {
   "cell_type": "code",
   "execution_count": 9,
   "metadata": {
    "collapsed": false
   },
   "outputs": [
    {
     "data": {
      "text/plain": [
       "37.73110342440305"
      ]
     },
     "execution_count": 9,
     "metadata": {},
     "output_type": "execute_result"
    }
   ],
   "source": [
    "# mean\n",
    "np.mean(Klout)"
   ]
  },
  {
   "cell_type": "code",
   "execution_count": 10,
   "metadata": {
    "collapsed": false
   },
   "outputs": [
    {
     "data": {
      "text/plain": [
       "16.039573139265414"
      ]
     },
     "execution_count": 10,
     "metadata": {},
     "output_type": "execute_result"
    }
   ],
   "source": [
    "# Standard Deviation\n",
    "np.std(Klout)"
   ]
  },
  {
   "cell_type": "code",
   "execution_count": 14,
   "metadata": {
    "collapsed": false
   },
   "outputs": [
    {
     "data": {
      "text/plain": [
       "<matplotlib.axes._subplots.AxesSubplot at 0x7f73281d1240>"
      ]
     },
     "execution_count": 14,
     "metadata": {},
     "output_type": "execute_result"
    },
    {
     "data": {
      "image/png": "[encoded data removed]",
      "text/plain": [
       "<matplotlib.figure.Figure at 0x7f73281b4d68>"
      ]
     },
     "metadata": {},
     "output_type": "display_data"
    }
   ],
   "source": [
    "# frequency distribution\n",
    "Klout.plot.hist(bins = 16)"
   ]
  },
  {
   "cell_type": "markdown",
   "metadata": {},
   "source": [
    "### What is the standard deviation of the sample means?\n",
    "\n",
    "This is the Standard Error and is calculated `std/sqrt(n)` where std is the population std and n is the number of samples.\n"
   ]
  },
  {
   "cell_type": "code",
   "execution_count": 19,
   "metadata": {
    "collapsed": false
   },
   "outputs": [
    {
     "name": "stdout",
     "output_type": "stream",
     "text": [
      "2.7111826965358787\n"
     ]
    }
   ],
   "source": [
    "# standard error\n",
    "std_sample_mean = (np.std(Klout))/math.sqrt(35)\n",
    "print (std_sample_mean)"
   ]
  },
  {
   "cell_type": "code",
   "execution_count": 42,
   "metadata": {
    "collapsed": false
   },
   "outputs": [
    {
     "data": {
      "text/plain": [
       "(array([ 5.,  1.,  5.,  8.,  5.,  2.,  2.,  4.,  0.,  3.]),\n",
       " array([ 32.51597319,  33.63397444,  34.75197568,  35.86997692,\n",
       "         36.98797817,  38.10597941,  39.22398065,  40.3419819 ,\n",
       "         41.45998314,  42.57798439,  43.69598563]),\n",
       " <a list of 10 Patch objects>)"
      ]
     },
     "execution_count": 42,
     "metadata": {},
     "output_type": "execute_result"
    },
    {
     "data": {
      "image/png": "[encoded data removed]",
      "text/plain": [
       "<matplotlib.figure.Figure at 0x7f73213e0fd0>"
      ]
     },
     "metadata": {},
     "output_type": "display_data"
    }
   ],
   "source": [
    "# plot the distribution of the sampling distribution\n",
    "mu, sigma = 37.72, 2.71 # mean and standard deviation\n",
    "s = np.random.normal(mu, sigma, 35)\n",
    "\n",
    "bins = 1000\n",
    "plt.hist(s)"
   ]
  },
  {
   "cell_type": "code",
   "execution_count": 43,
   "metadata": {
    "collapsed": false
   },
   "outputs": [
    {
     "name": "stdout",
     "output_type": "stream",
     "text": [
      "1.0144316763387164\n"
     ]
    }
   ],
   "source": [
    "# Standard error with a population size of 250\n",
    "\n",
    "std_error = (np.std(Klout))/math.sqrt(250)\n",
    "print(std_error)"
   ]
  },
  {
   "cell_type": "code",
   "execution_count": 44,
   "metadata": {
    "collapsed": false
   },
   "outputs": [
    {
     "name": "stdout",
     "output_type": "stream",
     "text": [
      "2.815457413249213\n"
     ]
    }
   ],
   "source": [
    "# z-score\n",
    "zscore = 40.0-mu/1.0144\n",
    "print(zscore)\n",
    "\n",
    "# the value in the tutorial is 2.26, not sure how."
   ]
  },
  {
   "cell_type": "markdown",
   "metadata": {},
   "source": [
    "### Correlation\n",
    "\n",
    "- Look at age, when you arrive at a party\n",
    "- Look at age, number of pets"
   ]
  },
  {
   "cell_type": "code",
   "execution_count": 3,
   "metadata": {
    "collapsed": false
   },
   "outputs": [],
   "source": [
    "# read in the csv file\n",
    "correlations = pd.read_csv('Correlations.csv', header=0)"
   ]
  },
  {
   "cell_type": "code",
   "execution_count": 8,
   "metadata": {
    "collapsed": false
   },
   "outputs": [
    {
     "data": {
      "text/html": [
       "<div>\n",
       "<table border=\"1\" class=\"dataframe\">\n",
       "  <thead>\n",
       "    <tr style=\"text-align: right;\">\n",
       "      <th></th>\n",
       "      <th>dentist</th>\n",
       "      <th>temp</th>\n",
       "      <th>age</th>\n",
       "      <th>year</th>\n",
       "      <th>pets</th>\n",
       "      <th>eggs</th>\n",
       "      <th>icons</th>\n",
       "      <th>emails</th>\n",
       "      <th>party</th>\n",
       "    </tr>\n",
       "  </thead>\n",
       "  <tbody>\n",
       "    <tr>\n",
       "      <th>0</th>\n",
       "      <td>1</td>\n",
       "      <td>30.0</td>\n",
       "      <td>26</td>\n",
       "      <td>1987</td>\n",
       "      <td>0</td>\n",
       "      <td>0</td>\n",
       "      <td>8</td>\n",
       "      <td>0</td>\n",
       "      <td>30</td>\n",
       "    </tr>\n",
       "    <tr>\n",
       "      <th>1</th>\n",
       "      <td>10</td>\n",
       "      <td>10.0</td>\n",
       "      <td>69</td>\n",
       "      <td>1944</td>\n",
       "      <td>0</td>\n",
       "      <td>0</td>\n",
       "      <td>8</td>\n",
       "      <td>0</td>\n",
       "      <td>0</td>\n",
       "    </tr>\n",
       "    <tr>\n",
       "      <th>2</th>\n",
       "      <td>10</td>\n",
       "      <td>20.0</td>\n",
       "      <td>39</td>\n",
       "      <td>1974</td>\n",
       "      <td>1</td>\n",
       "      <td>0</td>\n",
       "      <td>34</td>\n",
       "      <td>500</td>\n",
       "      <td>60</td>\n",
       "    </tr>\n",
       "    <tr>\n",
       "      <th>3</th>\n",
       "      <td>5</td>\n",
       "      <td>NaN</td>\n",
       "      <td>26</td>\n",
       "      <td>1987</td>\n",
       "      <td>0</td>\n",
       "      <td>12</td>\n",
       "      <td>22</td>\n",
       "      <td>1267</td>\n",
       "      <td>0</td>\n",
       "    </tr>\n",
       "    <tr>\n",
       "      <th>4</th>\n",
       "      <td>3</td>\n",
       "      <td>15.0</td>\n",
       "      <td>31</td>\n",
       "      <td>1982</td>\n",
       "      <td>0</td>\n",
       "      <td>3</td>\n",
       "      <td>28</td>\n",
       "      <td>1</td>\n",
       "      <td>30</td>\n",
       "    </tr>\n",
       "  </tbody>\n",
       "</table>\n",
       "</div>"
      ],
      "text/plain": [
       "   dentist  temp  age  year  pets  eggs icons  emails  party\n",
       "0        1  30.0   26  1987     0     0     8       0     30\n",
       "1       10  10.0   69  1944     0     0     8       0      0\n",
       "2       10  20.0   39  1974     1     0    34     500     60\n",
       "3        5   NaN   26  1987     0    12    22    1267      0\n",
       "4        3  15.0   31  1982     0     3    28       1     30"
      ]
     },
     "execution_count": 8,
     "metadata": {},
     "output_type": "execute_result"
    }
   ],
   "source": [
    "correlations.head(5)"
   ]
  },
  {
   "cell_type": "code",
   "execution_count": 9,
   "metadata": {
    "collapsed": false
   },
   "outputs": [
    {
     "data": {
      "text/plain": [
       "dentist      int64\n",
       "temp       float64\n",
       "age          int64\n",
       "year         int64\n",
       "pets         int64\n",
       "eggs         int64\n",
       "icons       object\n",
       "emails       int64\n",
       "party        int64\n",
       "dtype: object"
      ]
     },
     "execution_count": 9,
     "metadata": {},
     "output_type": "execute_result"
    }
   ],
   "source": [
    "correlations.dtypes\n",
    "\n",
    "# Why is icons an object? It looks like a number"
   ]
  },
  {
   "cell_type": "code",
   "execution_count": 10,
   "metadata": {
    "collapsed": false
   },
   "outputs": [
    {
     "data": {
      "text/plain": [
       "dentist    61\n",
       "temp       57\n",
       "age        61\n",
       "year       61\n",
       "pets       61\n",
       "eggs       61\n",
       "icons      61\n",
       "emails     61\n",
       "party      61\n",
       "dtype: int64"
      ]
     },
     "execution_count": 10,
     "metadata": {},
     "output_type": "execute_result"
    }
   ],
   "source": [
    "correlations.count()\n",
    "\n",
    "# temp has some nans in it"
   ]
  },
  {
   "cell_type": "code",
   "execution_count": 12,
   "metadata": {
    "collapsed": false
   },
   "outputs": [],
   "source": [
    "# create two scatter plots with a correlation line through the middle\n",
    "\n",
    "age_pets = correlations[[\"age\",\"pets\"]].corr()\n",
    "\n",
    "age_party = correlations[[\"age\",\"party\"]].corr()"
   ]
  },
  {
   "cell_type": "code",
   "execution_count": 17,
   "metadata": {
    "collapsed": false
   },
   "outputs": [
    {
     "name": "stdout",
     "output_type": "stream",
     "text": [
      "0.375764613798\n",
      "-0.164214126066\n"
     ]
    }
   ],
   "source": [
    "print(age_pets[\"age\"][1])\n",
    "print(age_party[\"age\"][1])"
   ]
  },
  {
   "cell_type": "code",
   "execution_count": 18,
   "metadata": {
    "collapsed": false
   },
   "outputs": [
    {
     "name": "stdout",
     "output_type": "stream",
     "text": [
      "            age     party\n",
      "age    1.000000 -0.164214\n",
      "party -0.164214  1.000000\n"
     ]
    }
   ],
   "source": [
    "print(age_party)"
   ]
  },
  {
   "cell_type": "code",
   "execution_count": 21,
   "metadata": {
    "collapsed": false
   },
   "outputs": [
    {
     "data": {
      "text/plain": [
       "<matplotlib.axes._subplots.AxesSubplot at 0x7fee239df080>"
      ]
     },
     "execution_count": 21,
     "metadata": {},
     "output_type": "execute_result"
    },
    {
     "data": {
      "image/png": "[encoded data removed]",
      "text/plain": [
       "<matplotlib.figure.Figure at 0x7fee239ed320>"
      ]
     },
     "metadata": {},
     "output_type": "display_data"
    }
   ],
   "source": [
    "correlations.plot.scatter(x='age', y='pets')"
   ]
  },
  {
   "cell_type": "code",
   "execution_count": 60,
   "metadata": {
    "collapsed": false
   },
   "outputs": [
    {
     "name": "stdout",
     "output_type": "stream",
     "text": [
      "                            OLS Regression Results                            \n",
      "==============================================================================\n",
      "Dep. Variable:                   pets   R-squared:                       0.141\n",
      "Model:                            OLS   Adj. R-squared:                  0.127\n",
      "Method:                 Least Squares   F-statistic:                     9.700\n",
      "Date:                Fri, 09 Sep 2016   Prob (F-statistic):            0.00284\n",
      "Time:                        16:22:07   Log-Likelihood:                -108.99\n",
      "No. Observations:                  61   AIC:                             222.0\n",
      "Df Residuals:                      59   BIC:                             226.2\n",
      "Df Model:                           1                                         \n",
      "Covariance Type:            nonrobust                                         \n",
      "==============================================================================\n",
      "                 coef    std err          t      P>|t|      [95.0% Conf. Int.]\n",
      "------------------------------------------------------------------------------\n",
      "const         -1.0329      0.614     -1.683      0.098        -2.261     0.195\n",
      "age            0.0505      0.016      3.115      0.003         0.018     0.083\n",
      "==============================================================================\n",
      "Omnibus:                       37.920   Durbin-Watson:                   1.819\n",
      "Prob(Omnibus):                  0.000   Jarque-Bera (JB):              101.711\n",
      "Skew:                           1.900   Prob(JB):                     8.20e-23\n",
      "Kurtosis:                       8.057   Cond. No.                         124.\n",
      "==============================================================================\n",
      "\n",
      "Warnings:\n",
      "[1] Standard Errors assume that the covariance matrix of the errors is correctly specified.\n",
      "const   -1.032887\n",
      "age      0.050503\n",
      "dtype: float64\n"
     ]
    }
   ],
   "source": [
    "# Use sm to make an OLS model\n",
    "results = sm.OLS(correlations[\"pets\"],sm.add_constant(correlations[\"age\"])).fit()\n",
    "\n",
    "print (results.summary())\n",
    "\n",
    "print (results.params)"
   ]
  },
  {
   "cell_type": "code",
   "execution_count": 89,
   "metadata": {
    "collapsed": false
   },
   "outputs": [
    {
     "name": "stdout",
     "output_type": "stream",
     "text": [
      "                            OLS Regression Results                            \n",
      "==============================================================================\n",
      "Dep. Variable:                  party   R-squared:                       0.027\n",
      "Model:                            OLS   Adj. R-squared:                  0.010\n",
      "Method:                 Least Squares   F-statistic:                     1.635\n",
      "Date:                Sat, 10 Sep 2016   Prob (F-statistic):              0.206\n",
      "Time:                        12:27:21   Log-Likelihood:                -301.28\n",
      "No. Observations:                  61   AIC:                             606.6\n",
      "Df Residuals:                      59   BIC:                             610.8\n",
      "Df Model:                           1                                         \n",
      "Covariance Type:            nonrobust                                         \n",
      "==============================================================================\n",
      "                 coef    std err          t      P>|t|      [95.0% Conf. Int.]\n",
      "------------------------------------------------------------------------------\n",
      "const         46.7532     14.356      3.257      0.002        18.026    75.480\n",
      "age           -0.4850      0.379     -1.279      0.206        -1.244     0.274\n",
      "==============================================================================\n",
      "Omnibus:                       33.401   Durbin-Watson:                   1.901\n",
      "Prob(Omnibus):                  0.000   Jarque-Bera (JB):               88.945\n",
      "Skew:                           1.625   Prob(JB):                     4.85e-20\n",
      "Kurtosis:                       7.944   Cond. No.                         124.\n",
      "==============================================================================\n",
      "\n",
      "Warnings:\n",
      "[1] Standard Errors assume that the covariance matrix of the errors is correctly specified.\n"
     ]
    }
   ],
   "source": [
    "# do the same for age and party\n",
    "# Use sm to make an OLS model\n",
    "results_party = sm.OLS(correlations[\"party\"],sm.add_constant(correlations[\"age\"])).fit()\n",
    "\n",
    "print (results_party.summary())"
   ]
  },
  {
   "cell_type": "markdown",
   "metadata": {},
   "source": [
    "**r** = pearson correlation coefficient. Determines the strength and direction of the relationship -1 to 1. Close to 0 means very weak relationship.      \n",
    "**$r^2$** = Coefficient of determination. From 0 to 1 and gives the proportion of variance in one variable which is explained by variance in the other. Tells us: How well does the regression line represent the data?"
   ]
  },
  {
   "cell_type": "code",
   "execution_count": 28,
   "metadata": {
    "collapsed": false
   },
   "outputs": [
    {
     "name": "stdout",
     "output_type": "stream",
     "text": [
      "0.37549966711\n"
     ]
    }
   ],
   "source": [
    "# the above table give r^2 of 0.141\n",
    "r = np.sqrt(0.141)\n",
    "print (r)"
   ]
  },
  {
   "cell_type": "code",
   "execution_count": 33,
   "metadata": {
    "collapsed": false
   },
   "outputs": [
    {
     "name": "stdout",
     "output_type": "stream",
     "text": [
      "const   -1.032887\n",
      "age      0.050503\n",
      "dtype: float64\n",
      "0.0505032343646\n"
     ]
    }
   ],
   "source": [
    "print (results.params) # gives the intercept (const?) and the gradient?\n",
    "print (results.params[1])"
   ]
  },
  {
   "cell_type": "code",
   "execution_count": 36,
   "metadata": {
    "collapsed": false
   },
   "outputs": [
    {
     "data": {
      "text/plain": [
       "<matplotlib.collections.PathCollection at 0x7fee19c56d30>"
      ]
     },
     "execution_count": 36,
     "metadata": {},
     "output_type": "execute_result"
    },
    {
     "data": {
      "image/png": "[encoded data removed]",
      "text/plain": [
       "<matplotlib.figure.Figure at 0x7fee2398b128>"
      ]
     },
     "metadata": {},
     "output_type": "display_data"
    }
   ],
   "source": [
    "plt.scatter(correlations[\"age\"],correlations[\"pets\"])"
   ]
  },
  {
   "cell_type": "code",
   "execution_count": 69,
   "metadata": {
    "collapsed": false
   },
   "outputs": [
    {
     "data": {
      "text/plain": [
       "[<matplotlib.lines.Line2D at 0x7fee18fcd278>]"
      ]
     },
     "execution_count": 69,
     "metadata": {},
     "output_type": "execute_result"
    },
    {
     "data": {
      "image/png": "[encoded data removed]",
      "text/plain": [
       "<matplotlib.figure.Figure at 0x7fee18fcd748>"
      ]
     },
     "metadata": {},
     "output_type": "display_data"
    }
   ],
   "source": [
    "plt.scatter(correlations[\"age\"],correlations[\"pets\"])\n",
    "\n",
    "plt.plot(correlations[\"age\"], correlations[\"age\"]*results.params[1] + results.params[0])"
   ]
  },
  {
   "cell_type": "code",
   "execution_count": 86,
   "metadata": {
    "collapsed": false
   },
   "outputs": [
    {
     "name": "stdout",
     "output_type": "stream",
     "text": [
      "0.0505032343646 -1.03288703497\n"
     ]
    }
   ],
   "source": [
    "print (m,b)"
   ]
  },
  {
   "cell_type": "markdown",
   "metadata": {},
   "source": [
    "Would also be nice to put r and $r^2$ on the graph"
   ]
  },
  {
   "cell_type": "code",
   "execution_count": 61,
   "metadata": {
    "collapsed": false
   },
   "outputs": [
    {
     "data": {
      "text/plain": [
       "['HC0_se',\n",
       " 'HC1_se',\n",
       " 'HC2_se',\n",
       " 'HC3_se',\n",
       " '_HCCM',\n",
       " '__class__',\n",
       " '__delattr__',\n",
       " '__dict__',\n",
       " '__dir__',\n",
       " '__doc__',\n",
       " '__eq__',\n",
       " '__format__',\n",
       " '__ge__',\n",
       " '__getattribute__',\n",
       " '__gt__',\n",
       " '__hash__',\n",
       " '__init__',\n",
       " '__le__',\n",
       " '__lt__',\n",
       " '__module__',\n",
       " '__ne__',\n",
       " '__new__',\n",
       " '__reduce__',\n",
       " '__reduce_ex__',\n",
       " '__repr__',\n",
       " '__setattr__',\n",
       " '__sizeof__',\n",
       " '__str__',\n",
       " '__subclasshook__',\n",
       " '__weakref__',\n",
       " '_cache',\n",
       " '_data_attr',\n",
       " '_get_robustcov_results',\n",
       " '_is_nested',\n",
       " '_wexog_singular_values',\n",
       " 'aic',\n",
       " 'bic',\n",
       " 'bse',\n",
       " 'centered_tss',\n",
       " 'compare_f_test',\n",
       " 'compare_lm_test',\n",
       " 'compare_lr_test',\n",
       " 'condition_number',\n",
       " 'conf_int',\n",
       " 'conf_int_el',\n",
       " 'cov_HC0',\n",
       " 'cov_HC1',\n",
       " 'cov_HC2',\n",
       " 'cov_HC3',\n",
       " 'cov_kwds',\n",
       " 'cov_params',\n",
       " 'cov_type',\n",
       " 'df_model',\n",
       " 'df_resid',\n",
       " 'diagn',\n",
       " 'eigenvals',\n",
       " 'el_test',\n",
       " 'ess',\n",
       " 'f_pvalue',\n",
       " 'f_test',\n",
       " 'fittedvalues',\n",
       " 'fvalue',\n",
       " 'get_influence',\n",
       " 'get_robustcov_results',\n",
       " 'initialize',\n",
       " 'k_constant',\n",
       " 'llf',\n",
       " 'load',\n",
       " 'model',\n",
       " 'mse_model',\n",
       " 'mse_resid',\n",
       " 'mse_total',\n",
       " 'nobs',\n",
       " 'normalized_cov_params',\n",
       " 'outlier_test',\n",
       " 'params',\n",
       " 'predict',\n",
       " 'pvalues',\n",
       " 'remove_data',\n",
       " 'resid',\n",
       " 'resid_pearson',\n",
       " 'rsquared',\n",
       " 'rsquared_adj',\n",
       " 'save',\n",
       " 'scale',\n",
       " 'ssr',\n",
       " 'summary',\n",
       " 'summary2',\n",
       " 't_test',\n",
       " 'tvalues',\n",
       " 'uncentered_tss',\n",
       " 'use_t',\n",
       " 'wald_test',\n",
       " 'wresid']"
      ]
     },
     "execution_count": 61,
     "metadata": {},
     "output_type": "execute_result"
    }
   ],
   "source": [
    "# the names of all of the parameters from the model that are available\n",
    "dir(results)"
   ]
  },
  {
   "cell_type": "code",
   "execution_count": 88,
   "metadata": {
    "collapsed": false
   },
   "outputs": [
    {
     "name": "stdout",
     "output_type": "stream",
     "text": [
      "<bound method OLSResults.conf_int_el of <statsmodels.regression.linear_model.OLSResults object at 0x7fee19926470>>\n"
     ]
    }
   ],
   "source": [
    "# 95% confidence intervals for the correlation\n",
    "confidence95 = results.conf_int_el\n",
    "\n",
    "print(confidence95)"
   ]
  },
  {
   "cell_type": "code",
   "execution_count": 68,
   "metadata": {
    "collapsed": false
   },
   "outputs": [
    {
     "data": {
      "text/plain": [
       "<matplotlib.text.Text at 0x7fee18a17710>"
      ]
     },
     "execution_count": 68,
     "metadata": {},
     "output_type": "execute_result"
    },
    {
     "data": {
      "image/png": "[encoded data removed]",
      "text/plain": [
       "<matplotlib.figure.Figure at 0x7fee19049080>"
      ]
     },
     "metadata": {},
     "output_type": "display_data"
    }
   ],
   "source": [
    "# fit with np.polyfit\n",
    "m, b = np.polyfit(correlations[\"age\"], correlations[\"pets\"], 1)\n",
    "\n",
    "plt.plot(correlations[\"age\"], correlations[\"pets\"], '.')\n",
    "plt.plot(correlations[\"age\"], m*correlations[\"age\"] + b, '-')\n",
    "plt.text(20,6,\"r = %s\"%str(r))\n",
    "plt.text(20,5.5,\"$r^2$ = %s\"%str(results.rsquared))  # from results.rsquared"
   ]
  },
  {
   "cell_type": "code",
   "execution_count": 67,
   "metadata": {
    "collapsed": true
   },
   "outputs": [],
   "source": [
    "import seaborn as sns"
   ]
  },
  {
   "cell_type": "code",
   "execution_count": 73,
   "metadata": {
    "collapsed": false
   },
   "outputs": [
    {
     "data": {
      "text/plain": [
       "<matplotlib.axes._subplots.AxesSubplot at 0x7fee18726278>"
      ]
     },
     "execution_count": 73,
     "metadata": {},
     "output_type": "execute_result"
    },
    {
     "data": {
      "image/png": "[encoded data removed]",
      "text/plain": [
       "<matplotlib.figure.Figure at 0x7fee18787b38>"
      ]
     },
     "metadata": {},
     "output_type": "display_data"
    }
   ],
   "source": [
    "# rug allows you to see where exactly each value is in the bin. Could help you decide how/where to bin.\n",
    "sns.distplot(correlations[\"age\"], bins = 20, kde = False, rug = True)\n"
   ]
  },
  {
   "cell_type": "code",
   "execution_count": 77,
   "metadata": {
    "collapsed": false
   },
   "outputs": [
    {
     "name": "stderr",
     "output_type": "stream",
     "text": [
      "/home/sophie/anaconda3/lib/python3.5/site-packages/statsmodels/nonparametric/kdetools.py:20: VisibleDeprecationWarning: using a non-integer number instead of an integer will result in an error in the future\n",
      "  y = X[:m/2+1] + np.r_[0,X[m/2+1:],0]*1j\n"
     ]
    },
    {
     "data": {
      "text/plain": [
       "<seaborn.axisgrid.JointGrid at 0x7fee18208b00>"
      ]
     },
     "execution_count": 77,
     "metadata": {},
     "output_type": "execute_result"
    },
    {
     "data": {
      "image/png": "[encoded data removed]",
      "text/plain": [
       "<matplotlib.figure.Figure at 0x7fee1820d390>"
      ]
     },
     "metadata": {},
     "output_type": "display_data"
    },
    {
     "data": {
      "image/png": "[encoded data removed]",
      "text/plain": [
       "<matplotlib.figure.Figure at 0x7fee182089b0>"
      ]
     },
     "metadata": {},
     "output_type": "display_data"
    }
   ],
   "source": [
    "sns.jointplot(x=\"age\", y=\"pets\", data=correlations, kind = \"reg\")\n",
    "sns.jointplot(x=\"age\", y=\"party\", data=correlations, kind = \"reg\")"
   ]
  },
  {
   "cell_type": "code",
   "execution_count": 79,
   "metadata": {
    "collapsed": false
   },
   "outputs": [
    {
     "data": {
      "image/png": "[encoded data removed]",
      "text/plain": [
       "<matplotlib.figure.Figure at 0x7fee17848160>"
      ]
     },
     "metadata": {},
     "output_type": "display_data"
    }
   ],
   "source": [
    "sns.pairplot(correlations[[\"age\",\"party\",\"pets\"]],kind = \"reg\");"
   ]
  },
  {
   "cell_type": "markdown",
   "metadata": {},
   "source": [
    "What happens to the correlation coefficient if we add an outlier in the Age/Pets relationship?"
   ]
  },
  {
   "cell_type": "code",
   "execution_count": 90,
   "metadata": {
    "collapsed": false
   },
   "outputs": [
    {
     "data": {
      "text/plain": [
       "['dentist', 'temp', 'age', 'year', 'pets', 'eggs', 'icons', 'emails', 'party']"
      ]
     },
     "execution_count": 90,
     "metadata": {},
     "output_type": "execute_result"
    }
   ],
   "source": [
    "list(correlations)"
   ]
  },
  {
   "cell_type": "code",
   "execution_count": 92,
   "metadata": {
    "collapsed": true
   },
   "outputs": [],
   "source": [
    "# add the extra data to the dataframe\n",
    "s2 = pd.Series([None,None,20,None,8,None,None,None,None], index = list(correlations))\n",
    "\n",
    "correlations2 = correlations.append(s2, ignore_index=True)"
   ]
  },
  {
   "cell_type": "code",
   "execution_count": 96,
   "metadata": {
    "collapsed": false
   },
   "outputs": [
    {
     "name": "stdout",
     "output_type": "stream",
     "text": [
      "age     62\n",
      "pets    62\n",
      "dtype: int64\n",
      "age     61\n",
      "pets    61\n",
      "dtype: int64\n"
     ]
    }
   ],
   "source": [
    "print(correlations2[[\"age\",\"pets\"]].count()) \n",
    "print(correlations[[\"age\",\"pets\"]].count()) \n",
    "# confirmation we have the extra data in!"
   ]
  },
  {
   "cell_type": "code",
   "execution_count": 99,
   "metadata": {
    "collapsed": false
   },
   "outputs": [
    {
     "name": "stdout",
     "output_type": "stream",
     "text": [
      "                            OLS Regression Results                            \n",
      "==============================================================================\n",
      "Dep. Variable:                   pets   R-squared:                       0.054\n",
      "Model:                            OLS   Adj. R-squared:                  0.038\n",
      "Method:                 Least Squares   F-statistic:                     3.397\n",
      "Date:                Sat, 10 Sep 2016   Prob (F-statistic):             0.0703\n",
      "Time:                        14:38:51   Log-Likelihood:                -122.48\n",
      "No. Observations:                  62   AIC:                             249.0\n",
      "Df Residuals:                      60   BIC:                             253.2\n",
      "Df Model:                           1                                         \n",
      "Covariance Type:            nonrobust                                         \n",
      "==============================================================================\n",
      "                 coef    std err          t      P>|t|      [95.0% Conf. Int.]\n",
      "------------------------------------------------------------------------------\n",
      "const         -0.3683      0.726     -0.507      0.614        -1.820     1.083\n",
      "age            0.0355      0.019      1.843      0.070        -0.003     0.074\n",
      "==============================================================================\n",
      "Omnibus:                       50.743   Durbin-Watson:                   1.622\n",
      "Prob(Omnibus):                  0.000   Jarque-Bera (JB):              184.207\n",
      "Skew:                           2.488   Prob(JB):                     1.00e-40\n",
      "Kurtosis:                       9.822   Cond. No.                         121.\n",
      "==============================================================================\n",
      "\n",
      "Warnings:\n",
      "[1] Standard Errors assume that the covariance matrix of the errors is correctly specified.\n"
     ]
    }
   ],
   "source": [
    "results_pets_outlier = sm.OLS(correlations2[\"pets\"],sm.add_constant(correlations2[\"age\"])).fit()\n",
    "\n",
    "print (results_pets_outlier.summary())"
   ]
  },
  {
   "cell_type": "code",
   "execution_count": 100,
   "metadata": {
    "collapsed": false
   },
   "outputs": [
    {
     "name": "stderr",
     "output_type": "stream",
     "text": [
      "/home/sophie/anaconda3/lib/python3.5/site-packages/statsmodels/nonparametric/kdetools.py:20: VisibleDeprecationWarning: using a non-integer number instead of an integer will result in an error in the future\n",
      "  y = X[:m/2+1] + np.r_[0,X[m/2+1:],0]*1j\n"
     ]
    },
    {
     "data": {
      "text/plain": [
       "<seaborn.axisgrid.JointGrid at 0x7fee17a88a20>"
      ]
     },
     "execution_count": 100,
     "metadata": {},
     "output_type": "execute_result"
    },
    {
     "data": {
      "image/png": "[encoded data removed]",
      "text/plain": [
       "<matplotlib.figure.Figure at 0x7fee17c18518>"
      ]
     },
     "metadata": {},
     "output_type": "display_data"
    }
   ],
   "source": [
    "# Actually the above doesn't give us the plain old r\n",
    "# So lets visualise it in seaborn (also gives us r)\n",
    "sns.jointplot(x=\"age\", y=\"pets\", data=correlations2, kind = \"reg\")"
   ]
  },
  {
   "cell_type": "markdown",
   "metadata": {},
   "source": [
    "Relationship between gestation and longevity"
   ]
  },
  {
   "cell_type": "code",
   "execution_count": 102,
   "metadata": {
    "collapsed": false
   },
   "outputs": [
    {
     "name": "stdout",
     "output_type": "stream",
     "text": [
      "081-Inferential.ipynb  Gestation.csv\r\n",
      "Correlations.csv       Klout scores (Lesson 7) - Sheet1.csv\r\n"
     ]
    }
   ],
   "source": [
    "ls"
   ]
  },
  {
   "cell_type": "code",
   "execution_count": 120,
   "metadata": {
    "collapsed": true
   },
   "outputs": [],
   "source": [
    "gestation = pd.read_csv(\"Gestation.csv\", header=0)"
   ]
  },
  {
   "cell_type": "code",
   "execution_count": 121,
   "metadata": {
    "collapsed": false
   },
   "outputs": [
    {
     "data": {
      "text/plain": [
       "['Animal', 'Gestation (days)', 'Longevity (years)']"
      ]
     },
     "execution_count": 121,
     "metadata": {},
     "output_type": "execute_result"
    }
   ],
   "source": [
    "list(gestation)"
   ]
  },
  {
   "cell_type": "code",
   "execution_count": 122,
   "metadata": {
    "collapsed": false
   },
   "outputs": [],
   "source": [
    "# Change the names of Gestation and Longevity columns\n",
    "# split the string up into before and after the space and just take the first part.\n",
    "#x.split(',')[1] means split the string where the , is. Take the 2nd item. i.e\n",
    "#[name[1].split(',')[1].split('.')[0].strip()]\n",
    "\n",
    "gestation.columns = [x.split(\" \")[0] for x in list(gestation)]"
   ]
  },
  {
   "cell_type": "code",
   "execution_count": 123,
   "metadata": {
    "collapsed": false
   },
   "outputs": [
    {
     "data": {
      "text/plain": [
       "['Animal', 'Gestation', 'Longevity']"
      ]
     },
     "execution_count": 123,
     "metadata": {},
     "output_type": "execute_result"
    }
   ],
   "source": [
    "list(gestation) # Yes!"
   ]
  },
  {
   "cell_type": "code",
   "execution_count": 124,
   "metadata": {
    "collapsed": false
   },
   "outputs": [
    {
     "name": "stderr",
     "output_type": "stream",
     "text": [
      "/home/sophie/anaconda3/lib/python3.5/site-packages/statsmodels/nonparametric/kdetools.py:20: VisibleDeprecationWarning: using a non-integer number instead of an integer will result in an error in the future\n",
      "  y = X[:m/2+1] + np.r_[0,X[m/2+1:],0]*1j\n"
     ]
    },
    {
     "data": {
      "text/plain": [
       "<seaborn.axisgrid.JointGrid at 0x7fee179a5630>"
      ]
     },
     "execution_count": 124,
     "metadata": {},
     "output_type": "execute_result"
    },
    {
     "data": {
      "image/png": "[encoded data removed]",
      "text/plain": [
       "<matplotlib.figure.Figure at 0x7fee179a5f60>"
      ]
     },
     "metadata": {},
     "output_type": "display_data"
    }
   ],
   "source": [
    "# make a plot of the relationship between Gestation and Longevity\n",
    "sns.jointplot(x=\"Gestation\", y=\"Longevity\", data=gestation, kind = \"reg\")"
   ]
  },
  {
   "cell_type": "markdown",
   "metadata": {},
   "source": [
    "From this plot and r and p statistics we can conclude that animals that gestate longer, are likely to live longer"
   ]
  },
  {
   "cell_type": "code",
   "execution_count": 125,
   "metadata": {
    "collapsed": false
   },
   "outputs": [
    {
     "name": "stdout",
     "output_type": "stream",
     "text": [
      "                            OLS Regression Results                            \n",
      "==============================================================================\n",
      "Dep. Variable:              Longevity   R-squared:                       0.347\n",
      "Model:                            OLS   Adj. R-squared:                  0.330\n",
      "Method:                 Least Squares   F-statistic:                     20.22\n",
      "Date:                Sat, 10 Sep 2016   Prob (F-statistic):           6.31e-05\n",
      "Time:                        16:32:05   Log-Likelihood:                -132.29\n",
      "No. Observations:                  40   AIC:                             268.6\n",
      "Df Residuals:                      38   BIC:                             272.0\n",
      "Df Model:                           1                                         \n",
      "Covariance Type:            nonrobust                                         \n",
      "==============================================================================\n",
      "                 coef    std err          t      P>|t|      [95.0% Conf. Int.]\n",
      "------------------------------------------------------------------------------\n",
      "const          7.0132      1.806      3.883      0.000         3.357    10.670\n",
      "Gestation      0.0336      0.007      4.497      0.000         0.018     0.049\n",
      "==============================================================================\n",
      "Omnibus:                       21.884   Durbin-Watson:                   1.914\n",
      "Prob(Omnibus):                  0.000   Jarque-Bera (JB):               40.027\n",
      "Skew:                           1.424   Prob(JB):                     2.03e-09\n",
      "Kurtosis:                       6.989   Cond. No.                         408.\n",
      "==============================================================================\n",
      "\n",
      "Warnings:\n",
      "[1] Standard Errors assume that the covariance matrix of the errors is correctly specified.\n"
     ]
    }
   ],
   "source": [
    "# use an OLS stats model to get all the stats I need on the relationship\n",
    "G_L = sm.OLS(gestation[\"Longevity\"],sm.add_constant(gestation[\"Gestation\"])).fit()\n",
    "\n",
    "print (G_L.summary())"
   ]
  },
  {
   "cell_type": "code",
   "execution_count": null,
   "metadata": {
    "collapsed": true
   },
   "outputs": [],
   "source": []
  }
 ],
 "metadata": {
  "anaconda-cloud": {},
  "kernelspec": {
   "display_name": "Python [Root]",
   "language": "python",
   "name": "Python [Root]"
  },
  "language_info": {
   "codemirror_mode": {
    "name": "ipython",
    "version": 3
   },
   "file_extension": ".py",
   "mimetype": "text/x-python",
   "name": "python",
   "nbconvert_exporter": "python",
   "pygments_lexer": "ipython3",
   "version": "3.5.2"
  }
 },
 "nbformat": 4,
 "nbformat_minor": 0
}
