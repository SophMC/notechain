{
 "cells": [
  {
   "cell_type": "code",
   "execution_count": 109,
   "metadata": {
    "collapsed": false
   },
   "outputs": [
    {
     "name": "stdout",
     "output_type": "stream",
     "text": [
      "Populating the interactive namespace from numpy and matplotlib\n",
      "              name\n",
      "1  tBodyAcc-mean()\n",
      "2  tBodyAcc-mean()\n",
      "3  tBodyAcc-mean()\n",
      "4   tBodyAcc-std()\n",
      "5   tBodyAcc-std()\n",
      "               name\n",
      "1   tBodyAcc-mean()\n",
      "4    tBodyAcc-std()\n",
      "7    tBodyAcc-mad()\n",
      "10   tBodyAcc-max()\n",
      "13   tBodyAcc-min()\n"
     ]
    }
   ],
   "source": [
    "%pylab inline\n",
    "import pandas as pd\n",
    "\n",
    "# \n",
    "df = pd.read_csv('/home/sophie/projects/Samsung/data/UCI_HAR_Dataset/UCI_HAR_Dataset/features_copy.txt',sep=\" \",\n",
    "                 names = ['name'], dtype='str')\n",
    "\n",
    "print df[0:5] # Shows us some duplicates\n",
    "\n",
    "# This works to drop duplicate columns. Have to specify the column name. \n",
    "df.drop_duplicates(['name'],inplace=True)\n",
    "\n",
    "print df[0:5] # Line above removes the duplicates"
   ]
  },
  {
   "cell_type": "code",
   "execution_count": 110,
   "metadata": {
    "collapsed": false
   },
   "outputs": [
    {
     "name": "stdout",
     "output_type": "stream",
     "text": [
      "                            name\n",
      "303    fBodyAcc-bandsEnergy()-18\n",
      "304   fBodyAcc-bandsEnergy()-916\n",
      "305  fBodyAcc-bandsEnergy()-1724\n",
      "306  fBodyAcc-bandsEnergy()-2532\n",
      "307  fBodyAcc-bandsEnergy()-3340\n",
      "308  fBodyAcc-bandsEnergy()-4148\n",
      "309  fBodyAcc-bandsEnergy()-4956\n",
      "310  fBodyAcc-bandsEnergy()-5764\n",
      "311   fBodyAcc-bandsEnergy()-116\n",
      "312  fBodyAcc-bandsEnergy()-1732\n",
      "Empty DataFrame\n",
      "Columns: [name]\n",
      "Index: []\n"
     ]
    }
   ],
   "source": [
    "# Print out the lines that have numbers in them.\n",
    "print df[df.name.str.contains('[0-9]')][0:10]   # You have to specify the column. \n",
    "\n",
    "\n",
    "# remove numbers, brackets and \"-\" from all columns\n",
    "\n",
    "df.name = df.name.str.replace('[()]', '') # remove brackets\n",
    "df.name = df.name.str.replace('-','')     # remove -\n",
    "df.name = df.name.str.replace('[0-9]','') # remove any numbers\n",
    "\n",
    "# Select something which has a number in it.\n",
    "print df[df.name.str.contains('[0-9]')]   # This is empty now.\n"
   ]
  }
 ],
 "metadata": {
  "kernelspec": {
   "display_name": "Python 2",
   "language": "python",
   "name": "python2"
  },
  "language_info": {
   "codemirror_mode": {
    "name": "ipython",
    "version": 2
   },
   "file_extension": ".py",
   "mimetype": "text/x-python",
   "name": "python",
   "nbconvert_exporter": "python",
   "pygments_lexer": "ipython2",
   "version": "2.7.11"
  }
 },
 "nbformat": 4,
 "nbformat_minor": 0
}
