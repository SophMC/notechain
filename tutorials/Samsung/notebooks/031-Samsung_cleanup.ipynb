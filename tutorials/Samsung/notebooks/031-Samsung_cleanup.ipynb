{
 "cells": [
  {
   "cell_type": "code",
   "execution_count": 26,
   "metadata": {
    "collapsed": false
   },
   "outputs": [
    {
     "name": "stdout",
     "output_type": "stream",
     "text": [
      "Populating the interactive namespace from numpy and matplotlib\n"
     ]
    }
   ],
   "source": [
    "# Changed the order in which things are done, from the previous workbook 030-Samsung_cleanup, as it does make a difference\n",
    "# for later commands. \n",
    "\n",
    "%pylab inline\n",
    "import pandas as pd\n",
    "\n",
    "# copy 2 is just a copy of features.\n",
    "df = pd.read_csv('/home/sophie/projects/Samsung/data/UCI_HAR_Dataset/UCI_HAR_Dataset/features_copy2.txt',sep=\" \",\n",
    "                 names = ['name'], dtype='str')\n",
    "\n",
    "# First will drop duplicates\n",
    "df.drop_duplicates(['name'],inplace=True)\n",
    "\n",
    "# remove numbers, brackets, \"-\" and \",\" from all columns\n",
    "\n",
    "df.name = df.name.str.replace('[()]', '') # remove brackets\n",
    "df.name = df.name.str.replace('[0-9]','') # remove any numbers\n",
    "\n",
    "df.drop_duplicates(['name'],inplace=True)\n"
   ]
  },
  {
   "cell_type": "code",
   "execution_count": 27,
   "metadata": {
    "collapsed": false
   },
   "outputs": [
    {
     "name": "stdout",
     "output_type": "stream",
     "text": [
      "                    name\n",
      "345  fBodyAccJerk-mean-X\n",
      "346  fBodyAccJerk-mean-Y\n",
      "347  fBodyAccJerk-mean-Z\n",
      "348   fBodyAccJerk-std-X\n",
      "349   fBodyAccJerk-std-Y\n"
     ]
    }
   ],
   "source": [
    "# Print out lines that contain \"Jerk\" and \"Mean\" to look for reasons why I may have dumped them\n",
    "print df[df.name.str.contains('f.*Jerk')][0:5]\n"
   ]
  },
  {
   "cell_type": "code",
   "execution_count": 28,
   "metadata": {
    "collapsed": false
   },
   "outputs": [
    {
     "name": "stdout",
     "output_type": "stream",
     "text": [
      "37\n"
     ]
    }
   ],
   "source": [
    "# Dropping the lines i'm confident we definitely don't need. The documentation is actually a bit confusing and \n",
    "# conflicting. If I can't do it this way, can just use their list. \n",
    "# Had to keep \"-\" in in order to only remove columns with -X, -Y, -Z\n",
    "df= df.name[df.name.str.contains('-X|-Y|-Z|min|max|mad|sma|iqr|entropy|energy|band|Coeff') == False]\n",
    "\n",
    "print len(df) # How many are left now?"
   ]
  },
  {
   "cell_type": "code",
   "execution_count": 37,
   "metadata": {
    "collapsed": false
   },
   "outputs": [],
   "source": [
    "# Now to get rid of Body and Mag and change mean to Mean and std to SD. \n",
    "# Can also remove \"-\" and \",\"\n",
    "\n",
    "df = df.str.replace('Body', '')\n",
    "df = df.str.replace('Mag', '')\n",
    "df = df.str.replace('mean', 'Mean')\n",
    "df = df.str.replace('std', 'SD')\n",
    "df = df.str.replace('-', '')\n",
    "df = df.str.replace(',', '')"
   ]
  },
  {
   "cell_type": "code",
   "execution_count": 40,
   "metadata": {
    "collapsed": false
   },
   "outputs": [
    {
     "name": "stdout",
     "output_type": "stream",
     "text": [
      "31\n"
     ]
    }
   ],
   "source": [
    "b = [\"tGyroMean\", \"tGyroSD\", \"tGyroJerkMean\", \"tGyroJerkSD\",\n",
    "\"fAccMean\", \"fAccSD\", \"fJerkMean\", \"fJerkSD\",\n",
    "\"fGyroMean\", \"fGyroSD\", \"fGyroJerkMean\", \"fGyroJerkSD\",\n",
    "\"fGyroMeanFreq\", \"fGyroJerkMeanFreq\", \"fAccMeanFreq\", \"fJerkMeanFreq\",\n",
    "\"fAccSkewness\", \"fAccKurtosis\", \"fJerkSkewness\", \"fJerkKurtosis\",\n",
    "\"fGyroSkewness\", \"fGyroKurtosis\", \"fGyroJerkSkewness\", \"fGyroJerkKurtosis\",\n",
    "\"angleAccGravity\", \"angleJerkGravity\", \"angleGyroGravity\", \"angleGyroJerkGravity\",\n",
    "\"angleXGravity\", \"angleYGravity\", \"angleZGravity\"]\n",
    "\n",
    "print len(b) # Not sure why this is 31, when the documentation says there were 37 in the end."
   ]
  }
 ],
 "metadata": {
  "kernelspec": {
   "display_name": "Python 2",
   "language": "python",
   "name": "python2"
  },
  "language_info": {
   "codemirror_mode": {
    "name": "ipython",
    "version": 2
   },
   "file_extension": ".py",
   "mimetype": "text/x-python",
   "name": "python",
   "nbconvert_exporter": "python",
   "pygments_lexer": "ipython2",
   "version": "2.7.11"
  }
 },
 "nbformat": 4,
 "nbformat_minor": 0
}
