{
 "cells": [
  {
   "cell_type": "code",
   "execution_count": 209,
   "metadata": {
    "collapsed": false
   },
   "outputs": [
    {
     "name": "stdout",
     "output_type": "stream",
     "text": [
      "Populating the interactive namespace from numpy and matplotlib\n",
      "                name\n",
      "1  tBodyAcc-mean()-X\n",
      "2  tBodyAcc-mean()-Y\n",
      "3  tBodyAcc-mean()-Z\n",
      "4   tBodyAcc-std()-X\n",
      "5   tBodyAcc-std()-Y\n",
      "                name\n",
      "1  tBodyAcc-mean()-X\n",
      "2  tBodyAcc-mean()-Y\n",
      "3  tBodyAcc-mean()-Z\n",
      "4   tBodyAcc-std()-X\n",
      "5   tBodyAcc-std()-Y\n"
     ]
    }
   ],
   "source": [
    "#Trying the same thing again but not changin so much in the beginning in Kate.\n",
    "\n",
    "%pylab inline\n",
    "import pandas as pd\n",
    "\n",
    "# \n",
    "df = pd.read_csv('/home/sophie/projects/Samsung/data/UCI_HAR_Dataset/UCI_HAR_Dataset/features_copy2.txt',sep=\" \",\n",
    "                 names = ['name'], dtype='str')\n",
    "\n",
    "print df[0:5] # Shows us some duplicates\n",
    "\n",
    "# This works to drop duplicate columns. Have to specify the column name. \n",
    "df.drop_duplicates(['name'],inplace=True)\n",
    "\n",
    "print df[0:5] # Line above removes the duplicates"
   ]
  },
  {
   "cell_type": "code",
   "execution_count": 210,
   "metadata": {
    "collapsed": false
   },
   "outputs": [
    {
     "name": "stdout",
     "output_type": "stream",
     "text": [
      "ring eating ring\n"
     ]
    }
   ],
   "source": [
    "# An example to test the re module\n",
    "import re\n",
    "\n",
    "v = \"running eating reading\"\n",
    "v = re.sub(r\"r.*?ing\", \"ring\", v)\n",
    "print v\n"
   ]
  },
  {
   "cell_type": "code",
   "execution_count": 211,
   "metadata": {
    "collapsed": false
   },
   "outputs": [
    {
     "name": "stdout",
     "output_type": "stream",
     "text": [
      "                      name\n",
      "26  tBodyAcc-arCoeff()-X,1\n",
      "27  tBodyAcc-arCoeff()-X,2\n",
      "28  tBodyAcc-arCoeff()-X,3\n",
      "29  tBodyAcc-arCoeff()-X,4\n",
      "30  tBodyAcc-arCoeff()-Y,1\n",
      "31  tBodyAcc-arCoeff()-Y,2\n",
      "32  tBodyAcc-arCoeff()-Y,3\n",
      "33  tBodyAcc-arCoeff()-Y,4\n",
      "34  tBodyAcc-arCoeff()-Z,1\n",
      "35  tBodyAcc-arCoeff()-Z,2\n",
      "                      name\n",
      "26  tBodyAcc-arCoeff()-X,1\n",
      "27  tBodyAcc-arCoeff()-X,2\n",
      "28  tBodyAcc-arCoeff()-X,3\n",
      "29  tBodyAcc-arCoeff()-X,4\n",
      "30  tBodyAcc-arCoeff()-Y,1\n",
      "31  tBodyAcc-arCoeff()-Y,2\n",
      "32  tBodyAcc-arCoeff()-Y,3\n",
      "33  tBodyAcc-arCoeff()-Y,4\n",
      "34  tBodyAcc-arCoeff()-Z,1\n",
      "35  tBodyAcc-arCoeff()-Z,2\n",
      "Empty DataFrame\n",
      "Columns: [name]\n",
      "Index: []\n"
     ]
    }
   ],
   "source": [
    "# Print out the lines that have numbers in them.\n",
    "print df[df.name.str.contains('[0-9]')][0:10]   # You have to specify the column. \n",
    "print df[df.name.str.contains(',')][0:10]\n",
    "\n",
    "# remove numbers, brackets, \"-\" and \",\" from all columns\n",
    "\n",
    "df.name = df.name.str.replace('[()]', '') # remove brackets\n",
    "df.name = df.name.str.replace('-','')     # remove -\n",
    "df.name = df.name.str.replace('[0-9]','') # remove any numbers\n",
    "\n",
    "# Select something which has a number in it.\n",
    "print df[df.name.str.contains('[0-9]')]   # This is empty now.\n"
   ]
  },
  {
   "cell_type": "code",
   "execution_count": 212,
   "metadata": {
    "collapsed": false
   },
   "outputs": [
    {
     "name": "stdout",
     "output_type": "stream",
     "text": [
      "                   name\n",
      "201     tBodyAccMagmean\n",
      "202      tBodyAccMagstd\n",
      "203      tBodyAccMagmad\n",
      "204      tBodyAccMagmax\n",
      "205      tBodyAccMagmin\n",
      "206      tBodyAccMagsma\n",
      "207   tBodyAccMagenergy\n",
      "208      tBodyAccMagiqr\n",
      "209  tBodyAccMagentropy\n",
      "210  tBodyAccMagarCoeff\n",
      "Empty DataFrame\n",
      "Columns: [name]\n",
      "Index: []\n"
     ]
    }
   ],
   "source": [
    "# Try changing some strings using the re module\n",
    "# the dot represents any character, with a * afterwards indicating any number of any character.\n",
    "# Find all examples which have \"Body\", followed by an unknown number of characters, then \"Mag\"\n",
    "print df[df.name.str.contains('Body.*Mag')][0:10] # show 10 values with BodyMag in them\n",
    "\n",
    "# To get rid of these words:\n",
    "\n",
    "df.name = df.name.str.replace('Body', '')\n",
    "df.name = df.name.str.replace('Mag', '')\n",
    "\n",
    "\n",
    "print df[df.name.str.contains('Body')] # This is emply now\n"
   ]
  },
  {
   "cell_type": "code",
   "execution_count": 213,
   "metadata": {
    "collapsed": false
   },
   "outputs": [
    {
     "name": "stdout",
     "output_type": "stream",
     "text": [
      "         name\n",
      "1   tAccmeanX\n",
      "2   tAccmeanY\n",
      "3   tAccmeanZ\n",
      "4    tAccstdX\n",
      "5    tAccstdY\n",
      "6    tAccstdZ\n",
      "7    tAccmadX\n",
      "8    tAccmadY\n",
      "9    tAccmadZ\n",
      "10   tAccmaxX\n",
      "                 name\n",
      "303  fAccbandsEnergy,\n",
      "304  fAccbandsEnergy,\n",
      "305  fAccbandsEnergy,\n",
      "306  fAccbandsEnergy,\n",
      "307  fAccbandsEnergy,\n",
      "308  fAccbandsEnergy,\n",
      "309  fAccbandsEnergy,\n",
      "310  fAccbandsEnergy,\n",
      "311  fAccbandsEnergy,\n",
      "312  fAccbandsEnergy,\n"
     ]
    }
   ],
   "source": [
    "# We want to drop any lines which have and X, Y or Z at the end. \n",
    "# Can we identify them first? '[XYZ]' is the same as [X|Y|Z]\n",
    "print df[df.name.str.contains('[XYZ]|min|max|mad|band|')][0:10] # case sensitive\n",
    "\n",
    "print df[df.name.str.contains('band')][0:10]\n",
    "\n",
    "# Now dropping those lines...df is now a series. Also drop -min, -max, -ma etc.\n",
    "df= df.name[df.name.str.contains('[XYZ]|min|max|mad|sma|iqr|entropy|energy|band|Coeff') == False]\n",
    "\n",
    "\n",
    "# We don't want to replace them, we want to drop the rows!\n",
    "#df.name = df.name.str.replace('X|Y|Z', '')\n",
    "#if len(df[df.name.str.contains('X|Y|Z')])==0: print \"No more XYZs!\""
   ]
  },
  {
   "cell_type": "code",
   "execution_count": 214,
   "metadata": {
    "collapsed": false
   },
   "outputs": [
    {
     "name": "stdout",
     "output_type": "stream",
     "text": [
      "(34,)\n",
      "<class 'pandas.core.series.Series'>\n"
     ]
    }
   ],
   "source": [
    "print df.shape\n",
    "print type(df) # This is a series now"
   ]
  },
  {
   "cell_type": "code",
   "execution_count": 215,
   "metadata": {
    "collapsed": false
   },
   "outputs": [
    {
     "name": "stdout",
     "output_type": "stream",
     "text": [
      "201           tAccmean\n",
      "202            tAccstd\n",
      "214    tGravityAccmean\n",
      "215     tGravityAccstd\n",
      "227       tAccJerkmean\n",
      "228        tAccJerkstd\n",
      "240          tGyromean\n",
      "241           tGyrostd\n",
      "253      tGyroJerkmean\n",
      "254       tGyroJerkstd\n",
      "Name: name, dtype: object\n",
      "All mean and std have been converted!\n"
     ]
    }
   ],
   "source": [
    "# We also want to convert mean\n",
    "#tAccBodyMag-mean -> tAccMean\n",
    "#fAccBodyMag-std -> fAccSD\n",
    "#etc.\n",
    "print df[df.str.contains('mean|std')][0:10] # showing us some examples\n",
    "\n",
    "df = df.str.replace('mean', 'Mean')\n",
    "df = df.str.replace('std', 'SD')\n",
    "\n",
    "if len(df[df.str.contains('mean|std')]) == 0: print \"All mean and std have been converted!\"\n"
   ]
  },
  {
   "cell_type": "code",
   "execution_count": 216,
   "metadata": {
    "collapsed": false
   },
   "outputs": [
    {
     "name": "stdout",
     "output_type": "stream",
     "text": [
      "(34,)\n",
      "201                          tAccMean\n",
      "202                            tAccSD\n",
      "214                   tGravityAccMean\n",
      "215                     tGravityAccSD\n",
      "227                      tAccJerkMean\n",
      "228                        tAccJerkSD\n",
      "240                         tGyroMean\n",
      "241                           tGyroSD\n",
      "253                     tGyroJerkMean\n",
      "254                       tGyroJerkSD\n",
      "503                          fAccMean\n",
      "504                            fAccSD\n",
      "513                      fAccMeanFreq\n",
      "514                      fAccskewness\n",
      "515                      fAcckurtosis\n",
      "516                      fAccJerkMean\n",
      "517                        fAccJerkSD\n",
      "526                  fAccJerkMeanFreq\n",
      "527                  fAccJerkskewness\n",
      "528                  fAccJerkkurtosis\n",
      "529                         fGyroMean\n",
      "530                           fGyroSD\n",
      "539                     fGyroMeanFreq\n",
      "540                     fGyroskewness\n",
      "541                     fGyrokurtosis\n",
      "542                     fGyroJerkMean\n",
      "543                       fGyroJerkSD\n",
      "552                 fGyroJerkMeanFreq\n",
      "553                 fGyroJerkskewness\n",
      "554                 fGyroJerkkurtosis\n",
      "555             angletAccMean,gravity\n",
      "556     angletAccJerkMean,gravityMean\n",
      "557        angletGyroMean,gravityMean\n",
      "558    angletGyroJerkMean,gravityMean\n",
      "Name: name, dtype: object\n"
     ]
    }
   ],
   "source": [
    "# How many rows are left now?\n",
    "print df.shape\n",
    "print df"
   ]
  },
  {
   "cell_type": "code",
   "execution_count": 217,
   "metadata": {
    "collapsed": false
   },
   "outputs": [
    {
     "name": "stdout",
     "output_type": "stream",
     "text": [
      "31\n"
     ]
    }
   ],
   "source": [
    "# Match the final list that we have with what we are supposed to have\n",
    "\n",
    "b = [\"tGyroMean\", \"tGyroSD\", \"tGyroJerkMean\", \"tGyroJerkSD\",\n",
    "\"fAccMean\", \"fAccSD\", \"fJerkMean\", \"fJerkSD\",\n",
    "\"fGyroMean\", \"fGyroSD\", \"fGyroJerkMean\", \"fGyroJerkSD\",\n",
    "\"fGyroMeanFreq\", \"fGyroJerkMeanFreq\", \"fAccMeanFreq\", \"fJerkMeanFreq\",\n",
    "\"fAccSkewness\", \"fAccKurtosis\", \"fJerkSkewness\", \"fJerkKurtosis\",\n",
    "\"fGyroSkewness\", \"fGyroKurtosis\", \"fGyroJerkSkewness\", \"fGyroJerkKurtosis\",\n",
    "\"angleAccGravity\", \"angleJerkGravity\", \"angleGyroGravity\", \"angleGyroJerkGravity\",\n",
    "\"angleXGravity\", \"angleYGravity\", \"angleZGravity\"]\n",
    "print len(b)"
   ]
  },
  {
   "cell_type": "code",
   "execution_count": null,
   "metadata": {
    "collapsed": true
   },
   "outputs": [],
   "source": []
  }
 ],
 "metadata": {
  "kernelspec": {
   "display_name": "Python 2",
   "language": "python",
   "name": "python2"
  },
  "language_info": {
   "codemirror_mode": {
    "name": "ipython",
    "version": 2
   },
   "file_extension": ".py",
   "mimetype": "text/x-python",
   "name": "python",
   "nbconvert_exporter": "python",
   "pygments_lexer": "ipython2",
   "version": "2.7.11"
  }
 },
 "nbformat": 4,
 "nbformat_minor": 0
}
