{
 "cells": [
  {
   "cell_type": "code",
   "execution_count": 2,
   "metadata": {
    "collapsed": false
   },
   "outputs": [
    {
     "name": "stdout",
     "output_type": "stream",
     "text": [
      "Populating the interactive namespace from numpy and matplotlib\n"
     ]
    }
   ],
   "source": [
    "%pylab inline\n",
    "import pandas as pd\n",
    "\n",
    "samtrain = pd.read_csv('/home/sophie/projects/LearnDataScience-master/datasets/samsung/samtrain.csv')\n",
    "samval = pd.read_csv('/home/sophie/projects/LearnDataScience-master/datasets/samsung/samval.csv')\n",
    "samtest=pd.read_csv('/home/sophie/projects/LearnDataScience-master/datasets/samsung/samtest.csv')\n",
    "\n",
    "# Use the RandomForests package from the scikits.learn collection of algorithms\n",
    "# Package name is sklearn.ensemble.RandomForestClassifier\n",
    "\n",
    "# For the we need ot convert the target column ('activity') to integer values\n",
    "# because RandomForest requires that.\n",
    "\n",
    "# We map activity to an integer according to :\n",
    "# laying = 1, sitting = 2, standing = 3, walk = 4, walkup = 5, walkdown = 6\n",
    "# Code is in supporting library randomforest.py\n",
    "\n",
    "# These names are converted to numbers via randomforest.py\n"
   ]
  },
  {
   "cell_type": "code",
   "execution_count": 3,
   "metadata": {
    "collapsed": false
   },
   "outputs": [
    {
     "name": "stdout",
     "output_type": "stream",
     "text": [
      "0    1\n",
      "1    2\n",
      "Name: Unnamed: 0, dtype: int64\n",
      "0   -0.959434\n",
      "1   -0.979289\n",
      "Name: tAccMean, dtype: float64\n"
     ]
    }
   ],
   "source": [
    "print samtrain.iloc[0:2,0] # what is that first column?\n",
    "\n",
    "# Remove the spare column ('unnamed' - howd it get there?) from vals and test\n",
    "samtrain.drop(samtrain.columns[0], axis=1, inplace=True)\n",
    "samval.drop(samval.columns[0], axis=1, inplace=True)\n",
    "samtest.drop(samtest.columns[0], axis=1, inplace=True)\n",
    "\n",
    "print samtrain.iloc[0:2,0] # now it is removed"
   ]
  },
  {
   "cell_type": "code",
   "execution_count": 118,
   "metadata": {
    "collapsed": false
   },
   "outputs": [
    {
     "name": "stdout",
     "output_type": "stream",
     "text": [
      "/home/sophie/projects/Samsung/bin\n"
     ]
    }
   ],
   "source": [
    "cd /home/sophie/projects/Samsung/bin/"
   ]
  },
  {
   "cell_type": "code",
   "execution_count": 119,
   "metadata": {
    "collapsed": false
   },
   "outputs": [],
   "source": [
    "# importing the supporting randomforests.py\n",
    "import randomforests as rf\n",
    "\n",
    "samtrain = rf.remap_col(samtrain, 'activity')\n",
    "samval = rf.remap_col(samval,'activity')\n",
    "samtest = rf.remap_col(samtest,'activity')\n"
   ]
  },
  {
   "cell_type": "code",
   "execution_count": 120,
   "metadata": {
    "collapsed": false
   },
   "outputs": [
    {
     "name": "stdout",
     "output_type": "stream",
     "text": [
      "(1315, 37)\n",
      "(1902, 37)\n",
      "(1485, 37)\n",
      "0    3\n",
      "1    3\n",
      "2    3\n",
      "3    3\n",
      "4    3\n",
      "Name: activity, dtype: int64\n"
     ]
    }
   ],
   "source": [
    "# These are different lengths because they have a different number of volunteers data in them\n",
    "print samtrain.shape\n",
    "print samval.shape\n",
    "print samtest.shape\n",
    "\n",
    "# Now 'activity is in int form'\n",
    "print samtrain['activity'][0:5]"
   ]
  },
  {
   "cell_type": "code",
   "execution_count": 121,
   "metadata": {
    "collapsed": false
   },
   "outputs": [],
   "source": [
    "import sklearn.ensemble as sk\n",
    "\n",
    "rfc = sk.RandomForestClassifier(n_estimators = 500, oob_score=True) # Using 500 trees. This is the base model?\n",
    "\n",
    "train_data = samtrain[samtrain.columns[0:-2]] # dropping activity and subject columns\n",
    "train_truth = samtrain['activity']            # putting activity into a new var\n",
    "\n",
    "# Important to realise that .fit() is a METHOD being applied to rfc. rfc=model (as far as I can tell)\n",
    "model = rfc.fit(train_data, train_truth)      # fit(X, y[, sample_weight]) \tBuild a forest from the training set (X, y).\n",
    "                                              # X = training input samples, y = classification labels (target values)"
   ]
  },
  {
   "cell_type": "markdown",
   "metadata": {},
   "source": [
    "So what is the difference between model and rfc? Nothing. See the next two cells. "
   ]
  },
  {
   "cell_type": "code",
   "execution_count": 122,
   "metadata": {
    "collapsed": false
   },
   "outputs": [
    {
     "name": "stdout",
     "output_type": "stream",
     "text": [
      "RandomForestClassifier(bootstrap=True, class_weight=None, criterion='gini',\n",
      "            max_depth=None, max_features='auto', max_leaf_nodes=None,\n",
      "            min_samples_leaf=1, min_samples_split=2,\n",
      "            min_weight_fraction_leaf=0.0, n_estimators=500, n_jobs=1,\n",
      "            oob_score=True, random_state=None, verbose=0, warm_start=False)\n",
      "RandomForestClassifier(bootstrap=True, class_weight=None, criterion='gini',\n",
      "            max_depth=None, max_features='auto', max_leaf_nodes=None,\n",
      "            min_samples_leaf=1, min_samples_split=2,\n",
      "            min_weight_fraction_leaf=0.0, n_estimators=500, n_jobs=1,\n",
      "            oob_score=True, random_state=None, verbose=0, warm_start=False)\n"
     ]
    }
   ],
   "source": [
    "# These are exactly the same\n",
    "print model\n",
    "print rfc"
   ]
  },
  {
   "cell_type": "markdown",
   "metadata": {},
   "source": [
    "At this point we have seperated the data into input samples and classification labels(target values for the trees)\n",
    "We fit them together into model using rfc.fit() to build our forest."
   ]
  },
  {
   "cell_type": "code",
   "execution_count": 123,
   "metadata": {
    "collapsed": false
   },
   "outputs": [
    {
     "data": {
      "text/plain": [
       "0.97870722433460078"
      ]
     },
     "execution_count": 123,
     "metadata": {},
     "output_type": "execute_result"
    }
   ],
   "source": [
    "# Lets look at the oob (out of bag) score to see an estimate of the accuracy of our model\n",
    "rfc.oob_score_"
   ]
  },
  {
   "cell_type": "code",
   "execution_count": 124,
   "metadata": {
    "collapsed": false
   },
   "outputs": [
    {
     "data": {
      "text/plain": [
       "0.97870722433460078"
      ]
     },
     "execution_count": 124,
     "metadata": {},
     "output_type": "execute_result"
    }
   ],
   "source": [
    "model.oob_score_"
   ]
  },
  {
   "cell_type": "code",
   "execution_count": 125,
   "metadata": {
    "collapsed": false
   },
   "outputs": [
    {
     "name": "stdout",
     "output_type": "stream",
     "text": [
      "[ 0.04032681  0.05118829  0.04156427  0.04440338  0.02406173  0.01086383\n",
      "  0.03055529  0.01689195  0.0515442   0.05658437  0.01735149  0.00851179\n",
      "  0.00824265  0.04819139  0.03443411  0.00602119  0.00429613  0.00407388\n",
      "  0.01127409  0.00787828  0.03229847  0.00561677  0.00529572  0.01536894\n",
      "  0.01823302  0.00853026  0.00915033  0.00890646  0.00438409  0.00400397\n",
      "  0.01041084  0.00705159  0.13070362  0.17654349  0.04524329]\n",
      "[ 0.04032681  0.05118829  0.04156427  0.04440338  0.02406173  0.01086383\n",
      "  0.03055529  0.01689195  0.0515442   0.05658437  0.01735149  0.00851179\n",
      "  0.00824265  0.04819139  0.03443411  0.00602119  0.00429613  0.00407388\n",
      "  0.01127409  0.00787828  0.03229847  0.00561677  0.00529572  0.01536894\n",
      "  0.01823302  0.00853026  0.00915033  0.00890646  0.00438409  0.00400397\n",
      "  0.01041084  0.00705159  0.13070362  0.17654349  0.04524329]\n",
      "35\n",
      "37\n"
     ]
    }
   ],
   "source": [
    "# Feature Importance. What are the top 10 important features?\n",
    "\n",
    "fi = enumerate(rfc.feature_importances_)  # give a value of importance to each feature\n",
    "cols = samtrain.columns                   # create a similar array just of array names\n",
    "[(value,cols[i]) for (i, value) in fi if value > 0.04]\n",
    "\n",
    "print rfc.feature_importances_ # this tells us the importance of each feature\n",
    "print model.feature_importances_ \n",
    "\n",
    "print len(rfc.feature_importances_)  # How is rfc linked to model?\n",
    "print len(cols)   # Note sure why we use activity and subject here too. \n"
   ]
  },
  {
   "cell_type": "code",
   "execution_count": 126,
   "metadata": {
    "collapsed": true
   },
   "outputs": [],
   "source": [
    "# same procedure as from the training data\n",
    "val_data = samval[samval.columns[0:-2]]  # leave out last two columns, subject and activity\n",
    "val_truth = samval['activity']\n",
    "\n",
    "# This time we use predict() and val_truth is not needed. why?\n",
    "val_pred = rfc.predict(val_data)"
   ]
  },
  {
   "cell_type": "code",
   "execution_count": 127,
   "metadata": {
    "collapsed": true
   },
   "outputs": [],
   "source": [
    "test_data = samtest[samtest.columns[0:-2]]\n",
    "test_truth = samtest['activity']\n",
    "test_pred = rfc.predict(test_data)"
   ]
  },
  {
   "cell_type": "markdown",
   "metadata": {},
   "source": [
    "** Prediction Errors and Computer Error Measures **"
   ]
  },
  {
   "cell_type": "code",
   "execution_count": 128,
   "metadata": {
    "collapsed": false
   },
   "outputs": [
    {
     "name": "stdout",
     "output_type": "stream",
     "text": [
      "mean accuracy score for validation set = 0.832282 \n",
      "mean accuracy score for test set = 0.891582\n"
     ]
    }
   ],
   "source": [
    "print (\"mean accuracy score for validation set = %f \" % (rfc.score(val_data, val_truth)))\n",
    "print (\"mean accuracy score for test set = %f\" % (rfc.score(test_data, test_truth)))"
   ]
  },
  {
   "cell_type": "code",
   "execution_count": 129,
   "metadata": {
    "collapsed": true
   },
   "outputs": [],
   "source": [
    "# Use the confusion matrix to see how observations were misclassified as other activities\n",
    "\n",
    "import sklearn.metrics as skm\n",
    "test_cm = skm.confusion_matrix(test_truth, test_pred)"
   ]
  },
  {
   "cell_type": "markdown",
   "metadata": {},
   "source": [
    "Visualise the confusion matrix"
   ]
  },
  {
   "cell_type": "code",
   "execution_count": 130,
   "metadata": {
    "collapsed": false
   },
   "outputs": [
    {
     "data": {
      "image/png": "[encoded data removed]",
      "text/plain": [
       "<matplotlib.figure.Figure at 0x7fcc2046f890>"
      ]
     },
     "metadata": {},
     "output_type": "display_data"
    }
   ],
   "source": [
    "import pylab as pl\n",
    "pl.matshow(test_cm)\n",
    "pl.title('Confusion matrix for test data\\n'\n",
    "        + '                               ')\n",
    "pl.colorbar\n",
    "pl.show()\n",
    "\n"
   ]
  },
  {
   "cell_type": "markdown",
   "metadata": {},
   "source": [
    "We now want to compute some other measures of prediction goodness"
   ]
  },
  {
   "cell_type": "code",
   "execution_count": 131,
   "metadata": {
    "collapsed": false
   },
   "outputs": [
    {
     "name": "stdout",
     "output_type": "stream",
     "text": [
      "Accuracy = 0.891582\n"
     ]
    }
   ],
   "source": [
    "# Accuracy\n",
    "print (\"Accuracy = %f\" %(skm.accuracy_score(test_truth,test_pred)))"
   ]
  },
  {
   "cell_type": "code",
   "execution_count": 132,
   "metadata": {
    "collapsed": false
   },
   "outputs": [
    {
     "name": "stdout",
     "output_type": "stream",
     "text": [
      "Precision = 0.894418\n"
     ]
    },
    {
     "name": "stderr",
     "output_type": "stream",
     "text": [
      "/home/sophie/anaconda2/lib/python2.7/site-packages/sklearn/metrics/classification.py:1203: DeprecationWarning: The default `weighted` averaging is deprecated, and from version 0.18, use of precision, recall or F-score with multiclass or multilabel data or pos_label=None will result in an exception. Please set an explicit value for `average`, one of (None, 'micro', 'macro', 'weighted', 'samples'). In cross validation use, for instance, scoring=\"f1_weighted\" instead of scoring=\"f1\".\n",
      "  sample_weight=sample_weight)\n"
     ]
    }
   ],
   "source": [
    "# Precision\n",
    "print (\"Precision = %f\" %(skm.precision_score(test_truth,test_pred)))"
   ]
  },
  {
   "cell_type": "code",
   "execution_count": 133,
   "metadata": {
    "collapsed": false
   },
   "outputs": [
    {
     "name": "stdout",
     "output_type": "stream",
     "text": [
      "Recall = 0.891582\n"
     ]
    },
    {
     "name": "stderr",
     "output_type": "stream",
     "text": [
      "/home/sophie/anaconda2/lib/python2.7/site-packages/sklearn/metrics/classification.py:1304: DeprecationWarning: The default `weighted` averaging is deprecated, and from version 0.18, use of precision, recall or F-score with multiclass or multilabel data or pos_label=None will result in an exception. Please set an explicit value for `average`, one of (None, 'micro', 'macro', 'weighted', 'samples'). In cross validation use, for instance, scoring=\"f1_weighted\" instead of scoring=\"f1\".\n",
      "  sample_weight=sample_weight)\n"
     ]
    }
   ],
   "source": [
    "# Recall\n",
    "print (\"Recall = %f\" %(skm.recall_score(test_truth,test_pred)))"
   ]
  },
  {
   "cell_type": "code",
   "execution_count": 134,
   "metadata": {
    "collapsed": false
   },
   "outputs": [
    {
     "name": "stdout",
     "output_type": "stream",
     "text": [
      "F1 score = 0.892030\n"
     ]
    },
    {
     "name": "stderr",
     "output_type": "stream",
     "text": [
      "/home/sophie/anaconda2/lib/python2.7/site-packages/sklearn/metrics/classification.py:756: DeprecationWarning: The default `weighted` averaging is deprecated, and from version 0.18, use of precision, recall or F-score with multiclass or multilabel data or pos_label=None will result in an exception. Please set an explicit value for `average`, one of (None, 'micro', 'macro', 'weighted', 'samples'). In cross validation use, for instance, scoring=\"f1_weighted\" instead of scoring=\"f1\".\n",
      "  sample_weight=sample_weight)\n"
     ]
    }
   ],
   "source": [
    "# F1 Score\n",
    "print (\"F1 score = %f\" %(skm.f1_score(test_truth,test_pred)))"
   ]
  }
 ],
 "metadata": {
  "kernelspec": {
   "display_name": "Python 2",
   "language": "python",
   "name": "python2"
  },
  "language_info": {
   "codemirror_mode": {
    "name": "ipython",
    "version": 2
   },
   "file_extension": ".py",
   "mimetype": "text/x-python",
   "name": "python",
   "nbconvert_exporter": "python",
   "pygments_lexer": "ipython2",
   "version": "2.7.11"
  }
 },
 "nbformat": 4,
 "nbformat_minor": 0
}
