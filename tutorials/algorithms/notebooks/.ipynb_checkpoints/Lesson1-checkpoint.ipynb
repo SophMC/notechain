{
 "cells": [
  {
   "cell_type": "markdown",
   "metadata": {},
   "source": [
    "Lesson 1: Case Study"
   ]
  },
  {
   "cell_type": "code",
   "execution_count": 1,
   "metadata": {
    "collapsed": true
   },
   "outputs": [],
   "source": [
    "def naive(a,b):\n",
    "    x = a\n",
    "    y = b\n",
    "    z = 0\n",
    "    while x > 0:\n",
    "        z = z + y\n",
    "        x = x - 1\n",
    "    return z"
   ]
  },
  {
   "cell_type": "code",
   "execution_count": 6,
   "metadata": {
    "collapsed": false
   },
   "outputs": [
    {
     "name": "stdout",
     "output_type": "stream",
     "text": [
      "32\n"
     ]
    }
   ],
   "source": [
    "print(naive(16,2))"
   ]
  },
  {
   "cell_type": "markdown",
   "metadata": {},
   "source": [
    "#### Russian Peasants Algorithm\n",
    "(Ancient Egyption Multiplication)"
   ]
  },
  {
   "cell_type": "code",
   "execution_count": 7,
   "metadata": {
    "collapsed": true
   },
   "outputs": [],
   "source": [
    "def russian(a,b):\n",
    "    x = a\n",
    "    y = b\n",
    "    z = 0\n",
    "    while x > 0:\n",
    "        if x % 2 == 1: z = z + y # if x is odd add y to z\n",
    "        y = y << 1\n",
    "        x = x >> 1\n",
    "    return z\n",
    "    "
   ]
  },
  {
   "cell_type": "code",
   "execution_count": 17,
   "metadata": {
    "collapsed": false
   },
   "outputs": [
    {
     "name": "stdout",
     "output_type": "stream",
     "text": [
      "140\n"
     ]
    }
   ],
   "source": [
    "print(russian(20,7))"
   ]
  },
  {
   "cell_type": "markdown",
   "metadata": {},
   "source": [
    "binary numbers:\n",
    "1(2$^0$), 2(2$^1$), 4(2$^2$), 8(2$^3$), 16(2$^4$), 32(2$^5$), 64(2$^6$), 128(2$^7$), 256(2$^8$) \n",
    "\n"
   ]
  },
  {
   "cell_type": "code",
   "execution_count": 16,
   "metadata": {
    "collapsed": false
   },
   "outputs": [
    {
     "name": "stdout",
     "output_type": "stream",
     "text": [
      "256\n"
     ]
    }
   ],
   "source": [
    "print(2**8)"
   ]
  },
  {
   "cell_type": "code",
   "execution_count": 19,
   "metadata": {
    "collapsed": false
   },
   "outputs": [
    {
     "name": "stdout",
     "output_type": "stream",
     "text": [
      "24.5\n"
     ]
    }
   ],
   "source": [
    "print(int(49)/int(2))"
   ]
  },
  {
   "cell_type": "code",
   "execution_count": 21,
   "metadata": {
    "collapsed": false
   },
   "outputs": [
    {
     "name": "stdout",
     "output_type": "stream",
     "text": [
      "1\n",
      "None\n",
      "9\n"
     ]
    }
   ],
   "source": [
    "import math\n",
    "\n",
    "def time(n):\n",
    "    \"\"\" Return the number of steps \n",
    "    necessary to calculate\n",
    "    `print countdown(n)`\"\"\"\n",
    "    steps = 0\n",
    "    \n",
    "    if n >= 10: steps = math.ceil(n/5.0)*2 + 3\n",
    "    if (n < 10) & (n > 5) : steps = 7.0\n",
    "    if (n <= 5) : steps = 5.0\n",
    "    \n",
    "    # answer.\n",
    "    #steps = 3 + 2 * math.ceil(n/5.0)\n",
    "    \n",
    "    return steps\n",
    "\n",
    "def countdown(x):\n",
    "    y = 0\n",
    "    while x > 0:\n",
    "        x = x - 5\n",
    "        y = y + 1\n",
    "    print (y)\n",
    "\n",
    "print (countdown(5))\n",
    "print (time(12))"
   ]
  },
  {
   "cell_type": "code",
   "execution_count": null,
   "metadata": {
    "collapsed": true
   },
   "outputs": [],
   "source": []
  }
 ],
 "metadata": {
  "kernelspec": {
   "display_name": "Python [Root]",
   "language": "python",
   "name": "Python [Root]"
  },
  "language_info": {
   "codemirror_mode": {
    "name": "ipython",
    "version": 3
   },
   "file_extension": ".py",
   "mimetype": "text/x-python",
   "name": "python",
   "nbconvert_exporter": "python",
   "pygments_lexer": "ipython3",
   "version": "3.5.2"
  }
 },
 "nbformat": 4,
 "nbformat_minor": 0
}
