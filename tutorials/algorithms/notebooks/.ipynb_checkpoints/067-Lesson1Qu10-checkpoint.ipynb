{
 "cells": [
  {
   "cell_type": "code",
   "execution_count": 2,
   "metadata": {
    "collapsed": false
   },
   "outputs": [
    {
     "name": "stdout",
     "output_type": "stream",
     "text": [
      "[0, 1, 1, 5, 1, 7, 4, 5, 4, 8, 1, 6, 3, 7, 5, 9, 2, 4, 0, 4, 2, 5, 3, 6, 8, 9]\n",
      "[0, 1, 2, 3, 4, 5, 6, 7, 8, 9, 0]\n",
      "None\n"
     ]
    }
   ],
   "source": [
    "# Find Eulerian Tour\n",
    "#\n",
    "# Write a function that takes in a graph\n",
    "# represented as a list of tuples\n",
    "# and return a list of nodes that\n",
    "# you would follow on an Eulerian Tour\n",
    "#\n",
    "# For example, if the input graph was\n",
    "# [(1, 2), (2, 3), (3, 1)]\n",
    "# A possible Eulerian tour would be [1, 2, 3, 1]\n",
    "\n",
    "def find_eulerian_tour(graph):\n",
    "    \n",
    "    new_list = []\n",
    "    for x,y in graph:\n",
    "        new_list.append(x)\n",
    "        new_list.append(y)\n",
    "    print (new_list)\n",
    "    nodes = list(set(new_list))\n",
    "    \n",
    "    nodes.append(min(nodes))\n",
    "    return nodes\n",
    "\n",
    "\n",
    "def test():\n",
    "    graph = [(0, 1), (1, 5), (1, 7), (4, 5),\n",
    "(4, 8), (1, 6), (3, 7), (5, 9),\n",
    "(2, 4), (0, 4), (2, 5), (3, 6), (8, 9)]\n",
    "    tour = find_eulerian_tour(graph)\n",
    "    print (tour)\n",
    "    \n",
    "print (test())"
   ]
  },
  {
   "cell_type": "markdown",
   "metadata": {},
   "source": [
    "Trying a different tact, from [here](http://codereview.stackexchange.com/questions/95598/order-a-list-of-tuples-or-a-numpy-array-in-a-specific-format)"
   ]
  },
  {
   "cell_type": "code",
   "execution_count": 3,
   "metadata": {
    "collapsed": true
   },
   "outputs": [],
   "source": [
    "from collections import defaultdict\n",
    "\n",
    "def graph(edges):\n",
    "    \"\"\"Given a list of edges, return a map from vertex to a set of\n",
    "    adjacent vertices.\n",
    "\n",
    "    >>> graph([(1, 2), (1, 3), (3, 4), (2, 4)])\n",
    "    defaultdict(<class 'set'>, {1: {2, 3}, 2: {1, 4}, 3: {1, 4}, 4: {2, 3}})\n",
    "\n",
    "    \"\"\"\n",
    "    g = defaultdict(set)\n",
    "    for v, w in edges:\n",
    "        g[v].add(w)\n",
    "        g[w].add(v)\n",
    "    return g"
   ]
  },
  {
   "cell_type": "code",
   "execution_count": 4,
   "metadata": {
    "collapsed": true
   },
   "outputs": [],
   "source": [
    "def eulerian_path(edges, v):\n",
    "    \"\"\"Generate an Eulerian path over the given collection of edges,\n",
    "    starting at the vertex v.\n",
    "\n",
    "    >>> list(eulerian_path([(1, 2), (1, 3), (3, 4), (2, 4)], 1))\n",
    "    [(1, 2), (2, 4), (4, 3), (3, 1)]\n",
    "\n",
    "    \"\"\"\n",
    "    g = graph(edges)\n",
    "    while True:\n",
    "        try:\n",
    "            w = g[v].pop()\n",
    "        except KeyError:\n",
    "            return\n",
    "        g[w].remove(v)\n",
    "        yield v, w\n",
    "        v = w"
   ]
  },
  {
   "cell_type": "code",
   "execution_count": 6,
   "metadata": {
    "collapsed": false
   },
   "outputs": [
    {
     "name": "stdout",
     "output_type": "stream",
     "text": [
      "[(1, 2), (2, 3), (3, 1)]\n"
     ]
    }
   ],
   "source": [
    "edges = [(1, 2), (2, 3), (3, 1), (4, 5), (5, 6), (6, 4)]\n",
    "print(list(eulerian_path(edges,1)))\n",
    "\n",
    "#from this I can make this into a list, then a set, to get the eulerian tour"
   ]
  },
  {
   "cell_type": "code",
   "execution_count": 20,
   "metadata": {
    "collapsed": false
   },
   "outputs": [
    {
     "name": "stdout",
     "output_type": "stream",
     "text": [
      "0\n",
      "[(0, 1), (1, 5), (5, 2), (2, 4), (4, 8), (8, 9), (9, 5), (5, 4), (4, 0)]\n",
      "[0, 1, 5, 2, 4, 8, 9, 5, 4, 0]\n",
      "[0, 1, 5, 2, 4, 8, 9, 5, 4, 0]\n"
     ]
    }
   ],
   "source": [
    "# Find Eulerian Tour\n",
    "#\n",
    "# Write a function that takes in a graph\n",
    "# represented as a list of tuples\n",
    "# and return a list of nodes that\n",
    "# you would follow on an Eulerian Tour\n",
    "#\n",
    "# For example, if the input graph was\n",
    "# [(1, 2), (2, 3), (3, 1)]\n",
    "# A possible Eulerian tour would be [1, 2, 3, 1]\n",
    "\n",
    "from collections import defaultdict\n",
    "\n",
    "def graph(edges):\n",
    "    \"\"\"Given a list of edges, return a map from vertex to a set of\n",
    "    adjacent vertices.\n",
    "\n",
    "    >>> graph([(1, 2), (1, 3), (3, 4), (2, 4)])\n",
    "    defaultdict(<class 'set'>, {1: {2, 3}, 2: {1, 4}, 3: {1, 4}, 4: {2, 3}})\n",
    "\n",
    "    \"\"\"\n",
    "    g = defaultdict(set)\n",
    "    for v, w in edges:\n",
    "        g[v].add(w)\n",
    "        g[w].add(v)\n",
    "    return g\n",
    "\n",
    "def eulerian_path(edges, v):\n",
    "    \"\"\"Generate an Eulerian path over the given collection of edges,\n",
    "    starting at the vertex v.\n",
    "\n",
    "    >>> list(eulerian_path([(1, 2), (1, 3), (3, 4), (2, 4)], 1))\n",
    "    [(1, 2), (2, 4), (4, 3), (3, 1)]\n",
    "\n",
    "    \"\"\"\n",
    "    g = graph(edges)\n",
    "    while True:\n",
    "        try:\n",
    "            w = g[v].pop()\n",
    "        except KeyError:\n",
    "            return\n",
    "        g[w].remove(v)\n",
    "        yield v, w\n",
    "        v = w\n",
    "\n",
    "def find_min(graph):\n",
    "    \"\"\"We need to find the minimum value as a starting point, v\n",
    "    for eulerian_path\"\"\"\n",
    "    new_list = []\n",
    "    for x,y in graph:\n",
    "        new_list.append(x)\n",
    "        new_list.append(y)\n",
    "    print(min(new_list))    \n",
    "    return min(new_list)\n",
    "\n",
    "def find_eulerian_tour(graph):\n",
    "    \"\"\" Take the graph from eulerian_path and find\n",
    "    just the numbers in the right order\"\"\"\n",
    "    \n",
    "    new_list = []\n",
    "    min_val = find_min(graph)\n",
    "    eul_graph = list(eulerian_path(graph,min_val))\n",
    "    print(eul_graph)\n",
    "    \n",
    "    for x,y in eul_graph:\n",
    "        new_list.append(x)\n",
    "        if y == min_val:\n",
    "            new_list.append(y)\n",
    "    \n",
    "    print (new_list)\n",
    "    return new_list\n",
    "\n",
    "def test():\n",
    "    graph = [(0, 1), (1, 5), (1, 7), (4, 5),\n",
    "(4, 8), (1, 6), (3, 7), (5, 9),\n",
    "(2, 4), (0, 4), (2, 5), (3, 6), (8, 9)]\n",
    "    tour = find_eulerian_tour(graph)\n",
    "    return tour\n",
    "    \n",
    "print (test())\n"
   ]
  },
  {
   "cell_type": "markdown",
   "metadata": {},
   "source": [
    "This above only pass 1 out of 4 tests!"
   ]
  },
  {
   "cell_type": "code",
   "execution_count": 21,
   "metadata": {
    "collapsed": true
   },
   "outputs": [],
   "source": [
    "def get_degree(graph):\n",
    "    degree = {}\n",
    "    for x, y in graph:\n",
    "        degree[x] = degree.get(x, 0) + 1\n",
    "        degree[y] = degree.get(y, 0) + 1\n",
    "    return degree\n",
    "    \n",
    "def eulerian_tour_is_possible(graph):\n",
    "    degree = get_degree(graph)\n",
    "    odd = 0\n",
    "    for entry in degree: \n",
    "        if degree[entry] % 2 != 0: \n",
    "            odd += 1\n",
    "    if odd == 0: return True\n",
    "    return False\n",
    "\n",
    "def find_next_edge(node, graph):\n",
    "    edges = find_all_edges(node, graph)\n",
    "    for edge in edges:\n",
    "        if node in edge:\n",
    "            return edge\n",
    "    return None\n",
    "        \n",
    "def find_all_edges(node, graph):\n",
    "    edges = []\n",
    "    for edge in graph:\n",
    "        if node in edge:\n",
    "            edges.append(edge)\n",
    "    return edges\n",
    "            \n",
    "def find_eulerian_tour(graph):\n",
    "    if eulerian_tour_is_possible(graph):\n",
    "        for i in range(len(graph)):\n",
    "            tour = []\n",
    "            graph_copy = graph[:]   # make copy of graph to do work on\n",
    "            start_edge = graph_copy.pop(i)   # change starting edge as loop iterates\n",
    "            tour.append(start_edge[0])\n",
    "            tour.append(start_edge[1])\n",
    "            while len(graph_copy) > 0:\n",
    "                edge = find_next_edge(tour[-1], graph_copy)\n",
    "                if edge == None: break  # we've reached a node where no more possible edges exist\n",
    "                if tour[-1] == edge[0]:\n",
    "                    tour.append(edge[1])\n",
    "                else:\n",
    "                    tour.append(edge[0])\n",
    "                graph_copy.pop(graph_copy.index(edge))\n",
    "            if graph_copy == []: return tour # we've used all edges, tour found! \n",
    "        return None \n",
    "    else:\n",
    "        return None\n",
    "\n"
   ]
  },
  {
   "cell_type": "code",
   "execution_count": 22,
   "metadata": {
    "collapsed": false
   },
   "outputs": [
    {
     "name": "stdout",
     "output_type": "stream",
     "text": [
      "[1, 5, 4, 8, 9, 5, 2, 4, 0, 1, 7, 3, 6, 1]\n"
     ]
    }
   ],
   "source": [
    "def test():\n",
    "    graph = [(0, 1), (1, 5), (1, 7), (4, 5),\n",
    "(4, 8), (1, 6), (3, 7), (5, 9),\n",
    "(2, 4), (0, 4), (2, 5), (3, 6), (8, 9)]\n",
    "    tour = find_eulerian_tour(graph)\n",
    "    return tour\n",
    "    \n",
    "print (test())"
   ]
  },
  {
   "cell_type": "markdown",
   "metadata": {},
   "source": [
    "This solution and discussion is found [here](https://discussions.udacity.com/t/problem-set-1-challenge-find-eulerian-tour/26214/7)\n",
    "- Goes through the edges fo the graph in order, trying each edge as the starting point. \n",
    "- If the staring point leads to a complete eulerian tour, it returns it.\n",
    "- Otherwise, it tries again starting with the next edge in the graph\n",
    "\n",
    "- While going through the tour, it selects the next edge as the first edge it comes to in the graph that leaves from the current node (that hasn't already been used). \n",
    "- Is there a better selection method to find the best edge out of all possible edges form the current node?"
   ]
  },
  {
   "cell_type": "code",
   "execution_count": null,
   "metadata": {
    "collapsed": true
   },
   "outputs": [],
   "source": []
  }
 ],
 "metadata": {
  "anaconda-cloud": {},
  "kernelspec": {
   "display_name": "Python [Root]",
   "language": "python",
   "name": "Python [Root]"
  },
  "language_info": {
   "codemirror_mode": {
    "name": "ipython",
    "version": 3
   },
   "file_extension": ".py",
   "mimetype": "text/x-python",
   "name": "python",
   "nbconvert_exporter": "python",
   "pygments_lexer": "ipython3",
   "version": "3.5.2"
  }
 },
 "nbformat": 4,
 "nbformat_minor": 0
}
