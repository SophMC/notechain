{
 "cells": [
  {
   "cell_type": "markdown",
   "metadata": {},
   "source": [
    "## Exploring Survival On The Titanic (Python) - cont\n",
    "#### Converting into python, from r, some of the ideas from Megan Risdals brilliant analysis - https://www.kaggle.com/mrisdal/titanic/exploring-survival-on-the-titanic/comments to see if I can improve my score.\n",
    "\n",
    "- Missing Value Imputation\n",
    "- Prediction"
   ]
  },
  {
   "cell_type": "code",
   "execution_count": 63,
   "metadata": {
    "collapsed": false
   },
   "outputs": [
    {
     "name": "stdout",
     "output_type": "stream",
     "text": [
      "Libraries Ready!\n"
     ]
    }
   ],
   "source": [
    "# Import libraries\n",
    "\n",
    "import numpy as np\n",
    "from numpy.random import random_integers\n",
    "from collections import Counter\n",
    "import pandas as pd\n",
    "import matplotlib.pyplot as plt\n",
    "from sklearn.ensemble import RandomForestClassifier\n",
    "%matplotlib inline\n",
    "\n",
    "print('Libraries Ready!')"
   ]
  },
  {
   "cell_type": "code",
   "execution_count": 64,
   "metadata": {
    "collapsed": false
   },
   "outputs": [],
   "source": [
    "# Load the full training and test dataset, saved to csv on day58\n",
    "full = pd.read_csv('/home/sophie/Python/notechain/Titanic/data/058_full.csv', header=0)"
   ]
  },
  {
   "cell_type": "code",
   "execution_count": 65,
   "metadata": {
    "collapsed": false
   },
   "outputs": [
    {
     "name": "stdout",
     "output_type": "stream",
     "text": [
      "['Age', 'Cabin', 'Embarked', 'Fare', 'Name', 'Parch', 'PassengerId', 'Pclass', 'Sex', 'SibSp', 'Survived', 'Ticket', 'Title', 'Surname', 'FamSize', 'FamSize_D', 'Survive_txt', 'Deck']\n",
      "Age            1046\n",
      "Cabin           295\n",
      "Embarked       1309\n",
      "Fare           1308\n",
      "Name           1309\n",
      "Parch          1309\n",
      "PassengerId    1309\n",
      "Pclass         1309\n",
      "Sex            1309\n",
      "SibSp          1309\n",
      "Survived        891\n",
      "Ticket         1309\n",
      "Title          1309\n",
      "Surname        1309\n",
      "FamSize        1309\n",
      "FamSize_D      1309\n",
      "Survive_txt     891\n",
      "Deck            289\n",
      "dtype: int64\n",
      "    Age Cabin Embarked     Fare  \\\n",
      "0  22.0   NaN        S   7.2500   \n",
      "1  38.0   C85        C  71.2833   \n",
      "2  26.0   NaN        S   7.9250   \n",
      "3  35.0  C123        S  53.1000   \n",
      "4  35.0   NaN        S   8.0500   \n",
      "\n",
      "                                                Name  Parch  PassengerId  \\\n",
      "0                            Braund, Mr. Owen Harris      0            1   \n",
      "1  Cumings, Mrs. John Bradley (Florence Briggs Th...      0            2   \n",
      "2                             Heikkinen, Miss. Laina      0            3   \n",
      "3       Futrelle, Mrs. Jacques Heath (Lily May Peel)      0            4   \n",
      "4                           Allen, Mr. William Henry      0            5   \n",
      "\n",
      "   Pclass     Sex  SibSp  Survived            Ticket Title    Surname  \\\n",
      "0       3    male      1       0.0         A/5 21171    Mr     Braund   \n",
      "1       1  female      1       1.0          PC 17599   Mrs    Cumings   \n",
      "2       3  female      0       1.0  STON/O2. 3101282  Miss  Heikkinen   \n",
      "3       1  female      1       1.0            113803   Mrs   Futrelle   \n",
      "4       3    male      0       0.0            373450    Mr      Allen   \n",
      "\n",
      "   FamSize     FamSize_D Survive_txt Deck  \n",
      "0        2  Small Family        Died  NaN  \n",
      "1        2  Small Family    Survived    C  \n",
      "2        1        Single    Survived  NaN  \n",
      "3        2  Small Family    Survived    C  \n",
      "4        1        Single        Died  NaN  \n"
     ]
    }
   ],
   "source": [
    "print(list(full))\n",
    "print(full.count())\n",
    "print(full.head())"
   ]
  },
  {
   "cell_type": "code",
   "execution_count": 66,
   "metadata": {
    "collapsed": false
   },
   "outputs": [
    {
     "data": {
      "text/plain": [
       "263"
      ]
     },
     "execution_count": 66,
     "metadata": {},
     "output_type": "execute_result"
    }
   ],
   "source": [
    "# Show number of missing Age values\n",
    "len(full[full['Age'].isnull()])"
   ]
  },
  {
   "cell_type": "markdown",
   "metadata": {},
   "source": [
    "We could definitely use rpart (recursive partitioning for regression) to predict missing ages, but I’m going to use the mice package for this task just for something different. You can read more about multiple imputation using chained equations in r here (PDF). Since we haven’t done it yet, I’ll first factorize the factor variables and then perform mice imputation."
   ]
  },
  {
   "cell_type": "code",
   "execution_count": 67,
   "metadata": {
    "collapsed": false
   },
   "outputs": [
    {
     "name": "stdout",
     "output_type": "stream",
     "text": [
      "Pclass        int64\n",
      "Sex          object\n",
      "Embarked     object\n",
      "Title        object\n",
      "Surname      object\n",
      "FamSize       int64\n",
      "FamSize_D    object\n",
      "dtype: object\n",
      "   Pclass     Sex Embarked Title    Surname  FamSize     FamSize_D\n",
      "0       3    male        S    Mr     Braund        2  Small Family\n",
      "1       1  female        C   Mrs    Cumings        2  Small Family\n",
      "2       3  female        S  Miss  Heikkinen        1        Single\n"
     ]
    }
   ],
   "source": [
    "# Which variables need to be converted into dummies?\n",
    "print(full[['Pclass','Sex','Embarked','Title','Surname','FamSize','FamSize_D']].dtypes)\n",
    "print(full[['Pclass','Sex','Embarked','Title','Surname','FamSize','FamSize_D']][0:3])\n",
    "\n",
    "# don't need to convert Pclass or FamSize to dummies. We can use FamSize instead of FamSize_D\n",
    "# Going to miss out surname too as this will give us loads more columns."
   ]
  },
  {
   "cell_type": "code",
   "execution_count": 68,
   "metadata": {
    "collapsed": false
   },
   "outputs": [],
   "source": [
    "# get the columns in the right format. Megan uses 'PassengerId','Pclass','Sex','Embarked','Title',\n",
    "# 'Surname','Family','FsizeD'\n",
    "dummies_Sex = pd.get_dummies(full['Sex'], prefix='Sex')\n",
    "dummies_Embarked = pd.get_dummies(full['Embarked'], prefix= 'Embarked') \n",
    "dummies_Title = pd.get_dummies(full['Title'], prefix= 'Title')\n"
   ]
  },
  {
   "cell_type": "code",
   "execution_count": 69,
   "metadata": {
    "collapsed": false
   },
   "outputs": [
    {
     "name": "stdout",
     "output_type": "stream",
     "text": [
      "['Sex_female', 'Sex_male']\n",
      "['Embarked_C', 'Embarked_Q', 'Embarked_S']\n",
      "['Title_Master', 'Title_Miss', 'Title_Mr', 'Title_Mrs', 'Title_Rare']\n",
      "['Age', 'Cabin', 'Embarked', 'Fare', 'Name', 'Parch', 'PassengerId', 'Pclass', 'Sex', 'SibSp', 'Survived', 'Ticket', 'Title', 'Surname', 'FamSize', 'FamSize_D', 'Survive_txt', 'Deck', 'Sex_female', 'Sex_male', 'Embarked_C', 'Embarked_Q', 'Embarked_S', 'Title_Master', 'Title_Miss', 'Title_Mr', 'Title_Mrs', 'Title_Rare']\n"
     ]
    }
   ],
   "source": [
    "print(list(dummies_Sex))\n",
    "print(list(dummies_Embarked))\n",
    "print(list(dummies_Title))\n",
    "# Add these a new data frame with dummies\n",
    "full_dums = pd.concat([full, dummies_Sex, dummies_Embarked, dummies_Title], axis=1)\n",
    "print(list(full_dums))"
   ]
  },
  {
   "cell_type": "code",
   "execution_count": 70,
   "metadata": {
    "collapsed": false
   },
   "outputs": [],
   "source": [
    "# Now drop the Sex, Embarked and Title original columns\n",
    "full_dums = full_dums.drop(['Title','Sex','Embarked'], axis=1)"
   ]
  },
  {
   "cell_type": "code",
   "execution_count": 71,
   "metadata": {
    "collapsed": false
   },
   "outputs": [
    {
     "name": "stdout",
     "output_type": "stream",
     "text": [
      "['Age', 'Cabin', 'Fare', 'Name', 'Parch', 'PassengerId', 'Pclass', 'SibSp', 'Survived', 'Ticket', 'Surname', 'FamSize', 'FamSize_D', 'Survive_txt', 'Deck', 'Sex_female', 'Sex_male', 'Embarked_C', 'Embarked_Q', 'Embarked_S', 'Title_Master', 'Title_Miss', 'Title_Mr', 'Title_Mrs', 'Title_Rare']\n",
      "Age             float64\n",
      "Cabin            object\n",
      "Fare            float64\n",
      "Name             object\n",
      "Parch             int64\n",
      "PassengerId       int64\n",
      "Pclass            int64\n",
      "SibSp             int64\n",
      "Survived        float64\n",
      "Ticket           object\n",
      "Surname          object\n",
      "FamSize           int64\n",
      "FamSize_D        object\n",
      "Survive_txt      object\n",
      "Deck             object\n",
      "Sex_female      float64\n",
      "Sex_male        float64\n",
      "Embarked_C      float64\n",
      "Embarked_Q      float64\n",
      "Embarked_S      float64\n",
      "Title_Master    float64\n",
      "Title_Miss      float64\n",
      "Title_Mr        float64\n",
      "Title_Mrs       float64\n",
      "Title_Rare      float64\n",
      "dtype: object\n",
      "Age             1046\n",
      "Cabin            295\n",
      "Fare            1308\n",
      "Name            1309\n",
      "Parch           1309\n",
      "PassengerId     1309\n",
      "Pclass          1309\n",
      "SibSp           1309\n",
      "Survived         891\n",
      "Ticket          1309\n",
      "Surname         1309\n",
      "FamSize         1309\n",
      "FamSize_D       1309\n",
      "Survive_txt      891\n",
      "Deck             289\n",
      "Sex_female      1309\n",
      "Sex_male        1309\n",
      "Embarked_C      1309\n",
      "Embarked_Q      1309\n",
      "Embarked_S      1309\n",
      "Title_Master    1309\n",
      "Title_Miss      1309\n",
      "Title_Mr        1309\n",
      "Title_Mrs       1309\n",
      "Title_Rare      1309\n",
      "dtype: int64\n"
     ]
    }
   ],
   "source": [
    "print(list(full_dums))\n",
    "print(full_dums.dtypes)\n",
    "print(full_dums.count())"
   ]
  },
  {
   "cell_type": "code",
   "execution_count": 72,
   "metadata": {
    "collapsed": false
   },
   "outputs": [],
   "source": [
    "# Make a dataframe with just the columns we want to pass to MICE\n",
    "# drop some more columns\n",
    "full_dums = full_dums[['Age', 'Fare', 'Parch','Pclass', 'SibSp', 'Survived', 'FamSize', \n",
    "                            'Sex_female', 'Sex_male', 'Embarked_C', 'Embarked_Q', 'Embarked_S', 'Title_Master',\n",
    "                            'Title_Miss', 'Title_Mr', 'Title_Mrs', 'Title_Rare']].astype(float)\n",
    "# Turn all to floats. Didn't fix."
   ]
  },
  {
   "cell_type": "code",
   "execution_count": 73,
   "metadata": {
    "collapsed": false
   },
   "outputs": [],
   "source": [
    "full_dums = full_dums[['Age', 'Parch','Pclass', 'SibSp', 'FamSize', \n",
    "                            'Sex_female', 'Sex_male', 'Embarked_C', 'Embarked_Q', 'Embarked_S', 'Title_Master',\n",
    "                            'Title_Miss', 'Title_Mr', 'Title_Mrs', 'Title_Rare']].astype(float) "
   ]
  },
  {
   "cell_type": "code",
   "execution_count": 74,
   "metadata": {
    "collapsed": false
   },
   "outputs": [
    {
     "name": "stdout",
     "output_type": "stream",
     "text": [
      "Age             1046\n",
      "Parch           1309\n",
      "Pclass          1309\n",
      "SibSp           1309\n",
      "FamSize         1309\n",
      "Sex_female      1309\n",
      "Sex_male        1309\n",
      "Embarked_C      1309\n",
      "Embarked_Q      1309\n",
      "Embarked_S      1309\n",
      "Title_Master    1309\n",
      "Title_Miss      1309\n",
      "Title_Mr        1309\n",
      "Title_Mrs       1309\n",
      "Title_Rare      1309\n",
      "dtype: int64\n",
      "Age             80.0\n",
      "Parch            9.0\n",
      "Pclass           3.0\n",
      "SibSp            8.0\n",
      "FamSize         11.0\n",
      "Sex_female       1.0\n",
      "Sex_male         1.0\n",
      "Embarked_C       1.0\n",
      "Embarked_Q       1.0\n",
      "Embarked_S       1.0\n",
      "Title_Master     1.0\n",
      "Title_Miss       1.0\n",
      "Title_Mr         1.0\n",
      "Title_Mrs        1.0\n",
      "Title_Rare       1.0\n",
      "dtype: float64\n"
     ]
    }
   ],
   "source": [
    "# Make another dataFrame with just complete values\n",
    "print(full_dums.count())\n",
    "print(full_dums.max())"
   ]
  },
  {
   "cell_type": "code",
   "execution_count": 75,
   "metadata": {
    "collapsed": true
   },
   "outputs": [],
   "source": [
    "# Trying a much smaller array"
   ]
  },
  {
   "cell_type": "code",
   "execution_count": 76,
   "metadata": {
    "collapsed": false
   },
   "outputs": [
    {
     "name": "stdout",
     "output_type": "stream",
     "text": [
      "(1309, 15)\n"
     ]
    }
   ],
   "source": [
    "print(full_dums.shape)"
   ]
  },
  {
   "cell_type": "code",
   "execution_count": 77,
   "metadata": {
    "collapsed": false
   },
   "outputs": [],
   "source": [
    "from fancyimpute import MICE, SimpleFill, SoftImpute,IterativeSVD,MatrixFactorization\n",
    "\n",
    "\n",
    "solver = SoftImpute(verbose=False)\n",
    "\n",
    "#apply SoftImpute\n",
    "full_SI = solver.complete(full_dums)"
   ]
  },
  {
   "cell_type": "code",
   "execution_count": 79,
   "metadata": {
    "collapsed": false
   },
   "outputs": [
    {
     "name": "stdout",
     "output_type": "stream",
     "text": [
      "[MICE] Completing matrix with shape (1309, 15)\n",
      "[MICE] Starting imputation round 1/110, elapsed time 0.001\n",
      "[MICE] Starting imputation round 2/110, elapsed time 0.003\n",
      "[MICE] Starting imputation round 3/110, elapsed time 0.005\n",
      "[MICE] Starting imputation round 4/110, elapsed time 0.007\n",
      "[MICE] Starting imputation round 5/110, elapsed time 0.008\n",
      "[MICE] Starting imputation round 6/110, elapsed time 0.009\n",
      "[MICE] Starting imputation round 7/110, elapsed time 0.011\n",
      "[MICE] Starting imputation round 8/110, elapsed time 0.012\n",
      "[MICE] Starting imputation round 9/110, elapsed time 0.013\n",
      "[MICE] Starting imputation round 10/110, elapsed time 0.014\n",
      "[MICE] Starting imputation round 11/110, elapsed time 0.015\n",
      "[MICE] Starting imputation round 12/110, elapsed time 0.016\n",
      "[MICE] Starting imputation round 13/110, elapsed time 0.018\n",
      "[MICE] Starting imputation round 14/110, elapsed time 0.019\n",
      "[MICE] Starting imputation round 15/110, elapsed time 0.020\n",
      "[MICE] Starting imputation round 16/110, elapsed time 0.021\n",
      "[MICE] Starting imputation round 17/110, elapsed time 0.022\n",
      "[MICE] Starting imputation round 18/110, elapsed time 0.023\n",
      "[MICE] Starting imputation round 19/110, elapsed time 0.024\n",
      "[MICE] Starting imputation round 20/110, elapsed time 0.025\n",
      "[MICE] Starting imputation round 21/110, elapsed time 0.026\n",
      "[MICE] Starting imputation round 22/110, elapsed time 0.027\n",
      "[MICE] Starting imputation round 23/110, elapsed time 0.028\n",
      "[MICE] Starting imputation round 24/110, elapsed time 0.030\n",
      "[MICE] Starting imputation round 25/110, elapsed time 0.031\n",
      "[MICE] Starting imputation round 26/110, elapsed time 0.032\n",
      "[MICE] Starting imputation round 27/110, elapsed time 0.033\n",
      "[MICE] Starting imputation round 28/110, elapsed time 0.034\n",
      "[MICE] Starting imputation round 29/110, elapsed time 0.035\n",
      "[MICE] Starting imputation round 30/110, elapsed time 0.036\n",
      "[MICE] Starting imputation round 31/110, elapsed time 0.036\n",
      "[MICE] Starting imputation round 32/110, elapsed time 0.037\n",
      "[MICE] Starting imputation round 33/110, elapsed time 0.038\n",
      "[MICE] Starting imputation round 34/110, elapsed time 0.039\n",
      "[MICE] Starting imputation round 35/110, elapsed time 0.040\n",
      "[MICE] Starting imputation round 36/110, elapsed time 0.040\n",
      "[MICE] Starting imputation round 37/110, elapsed time 0.041\n",
      "[MICE] Starting imputation round 38/110, elapsed time 0.042\n",
      "[MICE] Starting imputation round 39/110, elapsed time 0.043\n",
      "[MICE] Starting imputation round 40/110, elapsed time 0.043\n",
      "[MICE] Starting imputation round 41/110, elapsed time 0.044\n",
      "[MICE] Starting imputation round 42/110, elapsed time 0.045\n",
      "[MICE] Starting imputation round 43/110, elapsed time 0.046\n",
      "[MICE] Starting imputation round 44/110, elapsed time 0.046\n",
      "[MICE] Starting imputation round 45/110, elapsed time 0.047\n",
      "[MICE] Starting imputation round 46/110, elapsed time 0.048\n",
      "[MICE] Starting imputation round 47/110, elapsed time 0.048\n",
      "[MICE] Starting imputation round 48/110, elapsed time 0.049\n",
      "[MICE] Starting imputation round 49/110, elapsed time 0.050\n",
      "[MICE] Starting imputation round 50/110, elapsed time 0.051\n",
      "[MICE] Starting imputation round 51/110, elapsed time 0.051\n",
      "[MICE] Starting imputation round 52/110, elapsed time 0.052\n",
      "[MICE] Starting imputation round 53/110, elapsed time 0.053\n",
      "[MICE] Starting imputation round 54/110, elapsed time 0.054\n",
      "[MICE] Starting imputation round 55/110, elapsed time 0.054\n",
      "[MICE] Starting imputation round 56/110, elapsed time 0.055\n",
      "[MICE] Starting imputation round 57/110, elapsed time 0.056\n",
      "[MICE] Starting imputation round 58/110, elapsed time 0.056\n",
      "[MICE] Starting imputation round 59/110, elapsed time 0.057\n",
      "[MICE] Starting imputation round 60/110, elapsed time 0.058\n",
      "[MICE] Starting imputation round 61/110, elapsed time 0.059\n",
      "[MICE] Starting imputation round 62/110, elapsed time 0.059\n",
      "[MICE] Starting imputation round 63/110, elapsed time 0.060\n",
      "[MICE] Starting imputation round 64/110, elapsed time 0.061\n",
      "[MICE] Starting imputation round 65/110, elapsed time 0.061\n",
      "[MICE] Starting imputation round 66/110, elapsed time 0.062\n",
      "[MICE] Starting imputation round 67/110, elapsed time 0.063\n",
      "[MICE] Starting imputation round 68/110, elapsed time 0.064\n",
      "[MICE] Starting imputation round 69/110, elapsed time 0.064\n",
      "[MICE] Starting imputation round 70/110, elapsed time 0.065\n",
      "[MICE] Starting imputation round 71/110, elapsed time 0.066\n",
      "[MICE] Starting imputation round 72/110, elapsed time 0.067\n",
      "[MICE] Starting imputation round 73/110, elapsed time 0.067\n",
      "[MICE] Starting imputation round 74/110, elapsed time 0.068\n",
      "[MICE] Starting imputation round 75/110, elapsed time 0.069\n",
      "[MICE] Starting imputation round 76/110, elapsed time 0.070\n",
      "[MICE] Starting imputation round 77/110, elapsed time 0.070\n",
      "[MICE] Starting imputation round 78/110, elapsed time 0.071\n",
      "[MICE] Starting imputation round 79/110, elapsed time 0.071\n",
      "[MICE] Starting imputation round 80/110, elapsed time 0.072\n",
      "[MICE] Starting imputation round 81/110, elapsed time 0.073\n",
      "[MICE] Starting imputation round 82/110, elapsed time 0.074\n",
      "[MICE] Starting imputation round 83/110, elapsed time 0.074\n",
      "[MICE] Starting imputation round 84/110, elapsed time 0.075\n",
      "[MICE] Starting imputation round 85/110, elapsed time 0.076\n",
      "[MICE] Starting imputation round 86/110, elapsed time 0.076\n",
      "[MICE] Starting imputation round 87/110, elapsed time 0.077\n",
      "[MICE] Starting imputation round 88/110, elapsed time 0.078\n",
      "[MICE] Starting imputation round 89/110, elapsed time 0.078\n",
      "[MICE] Starting imputation round 90/110, elapsed time 0.079\n",
      "[MICE] Starting imputation round 91/110, elapsed time 0.080\n",
      "[MICE] Starting imputation round 92/110, elapsed time 0.080\n",
      "[MICE] Starting imputation round 93/110, elapsed time 0.081\n",
      "[MICE] Starting imputation round 94/110, elapsed time 0.082\n",
      "[MICE] Starting imputation round 95/110, elapsed time 0.082\n",
      "[MICE] Starting imputation round 96/110, elapsed time 0.083\n",
      "[MICE] Starting imputation round 97/110, elapsed time 0.084\n",
      "[MICE] Starting imputation round 98/110, elapsed time 0.084\n",
      "[MICE] Starting imputation round 99/110, elapsed time 0.085\n",
      "[MICE] Starting imputation round 100/110, elapsed time 0.086\n",
      "[MICE] Starting imputation round 101/110, elapsed time 0.086\n",
      "[MICE] Starting imputation round 102/110, elapsed time 0.087\n",
      "[MICE] Starting imputation round 103/110, elapsed time 0.088\n",
      "[MICE] Starting imputation round 104/110, elapsed time 0.088\n",
      "[MICE] Starting imputation round 105/110, elapsed time 0.089\n",
      "[MICE] Starting imputation round 106/110, elapsed time 0.090\n",
      "[MICE] Starting imputation round 107/110, elapsed time 0.090\n",
      "[MICE] Starting imputation round 108/110, elapsed time 0.091\n",
      "[MICE] Starting imputation round 109/110, elapsed time 0.092\n",
      "[MICE] Starting imputation round 110/110, elapsed time 0.093\n"
     ]
    }
   ],
   "source": [
    "solver = MICE()\n",
    "\n",
    "#apply SoftImpute\n",
    "full_MICE = solver.complete(full_dums)"
   ]
  },
  {
   "cell_type": "code",
   "execution_count": 90,
   "metadata": {
    "collapsed": false
   },
   "outputs": [
    {
     "name": "stdout",
     "output_type": "stream",
     "text": [
      "0    22.000000\n",
      "1    38.000000\n",
      "2    26.000000\n",
      "3    35.000000\n",
      "4    35.000000\n",
      "5    34.259274\n",
      "6    54.000000\n",
      "7     2.000000\n",
      "8    27.000000\n",
      "9    14.000000\n",
      "Name: AgeFill, dtype: float64\n"
     ]
    }
   ],
   "source": [
    "full_dums['AgeFill'] = full_dums['Age']\n",
    "\n",
    "full_dums['AgeFill'][full_dums['Age'].isnull()] = full_MICE\n",
    "#full_dums['Age'][full_dums['Age'].isnull()]\n",
    "print(full_dums['AgeFill'][0:10])"
   ]
  },
  {
   "cell_type": "code",
   "execution_count": 82,
   "metadata": {
    "collapsed": false
   },
   "outputs": [
    {
     "name": "stdout",
     "output_type": "stream",
     "text": [
      "0     22.000000\n",
      "1     38.000000\n",
      "2     26.000000\n",
      "3     35.000000\n",
      "4     35.000000\n",
      "5     34.259274\n",
      "6     54.000000\n",
      "7      2.000000\n",
      "8     27.000000\n",
      "9     14.000000\n",
      "10     4.000000\n",
      "11    58.000000\n",
      "12    20.000000\n",
      "13    39.000000\n",
      "14    14.000000\n",
      "15    55.000000\n",
      "16     2.000000\n",
      "17    31.357312\n",
      "18    31.000000\n",
      "19    30.848319\n",
      "Name: AgeFill, dtype: float64\n",
      "0     22.0\n",
      "1     38.0\n",
      "2     26.0\n",
      "3     35.0\n",
      "4     35.0\n",
      "5      NaN\n",
      "6     54.0\n",
      "7      2.0\n",
      "8     27.0\n",
      "9     14.0\n",
      "10     4.0\n",
      "11    58.0\n",
      "12    20.0\n",
      "13    39.0\n",
      "14    14.0\n",
      "15    55.0\n",
      "16     2.0\n",
      "17     NaN\n",
      "18    31.0\n",
      "19     NaN\n",
      "Name: Age, dtype: float64\n"
     ]
    }
   ],
   "source": [
    "print(full_dums['AgeFill'][0:20])\n",
    "print(full_dums['Age'][0:20])"
   ]
  },
  {
   "cell_type": "code",
   "execution_count": 84,
   "metadata": {
    "collapsed": true
   },
   "outputs": [],
   "source": [
    "solver = SimpleFill()\n",
    "# apply SimpleFill\n",
    "full_SF = solver.complete(full_dums)"
   ]
  },
  {
   "cell_type": "code",
   "execution_count": 85,
   "metadata": {
    "collapsed": false
   },
   "outputs": [],
   "source": [
    "solver = MatrixFactorization(min_value = 0, verbose=False)\n",
    "full_MF = solver.complete(full_dums)"
   ]
  },
  {
   "cell_type": "code",
   "execution_count": 86,
   "metadata": {
    "collapsed": true
   },
   "outputs": [],
   "source": [
    "solver = IterativeSVD(verbose=False)\n",
    "full_IS =solver.complete(full_dums)"
   ]
  },
  {
   "cell_type": "code",
   "execution_count": 87,
   "metadata": {
    "collapsed": false
   },
   "outputs": [],
   "source": [
    "# Add the new columns to the dataFrame\n",
    "full['Age_SI'] = full_SI[:,0]\n",
    "full['Age_SF'] = full_SF[:,0]\n",
    "full['Age_MF'] = full_MF[:,0]\n",
    "full['Age_IS'] = full_IS[:,0]"
   ]
  },
  {
   "cell_type": "code",
   "execution_count": 88,
   "metadata": {
    "collapsed": false
   },
   "outputs": [
    {
     "data": {
      "text/plain": [
       "<matplotlib.figure.Figure at 0x7f2369197ef0>"
      ]
     },
     "execution_count": 88,
     "metadata": {},
     "output_type": "execute_result"
    },
    {
     "data": {
      "text/plain": [
       "<matplotlib.figure.Figure at 0x7f2369066c18>"
      ]
     },
     "metadata": {},
     "output_type": "display_data"
    },
    {
     "data": {
      "text/plain": [
       "<matplotlib.figure.Figure at 0x7f2369197ef0>"
      ]
     },
     "metadata": {},
     "output_type": "display_data"
    }
   ],
   "source": [
    "#full['Age'].plot.hist(alpha=0.5)\n",
    "\n",
    "plt.figure()\n",
    "#full['Age_IS'].plot.hist(alpha=0.5)\n",
    "\n",
    "plt.figure()\n",
    "#full['Age_MF'].plot.hist(alpha=0.5)"
   ]
  },
  {
   "cell_type": "code",
   "execution_count": 89,
   "metadata": {
    "collapsed": false
   },
   "outputs": [
    {
     "data": {
      "image/png": "[encoded data removed]",
      "text/plain": [
       "<matplotlib.figure.Figure at 0x7f2351a624a8>"
      ]
     },
     "metadata": {},
     "output_type": "display_data"
    }
   ],
   "source": [
    "fig, axes = plt.subplots(ncols=3, nrows=2, figsize=(12, 4))\n",
    "\n",
    "full['Age'].plot.hist(alpha=0.5, ax=axes[0, 0], title = 'Age')\n",
    "full['Age_IS'].plot.hist(alpha=0.5, ax=axes[0, 1], title = 'Iterative SVD')\n",
    "full['Age_MF'].plot.hist(alpha=0.5, ax=axes[0, 2], title = 'MatrixFactorization')\n",
    "full['Age_SI'].plot.hist(alpha=0.5, ax=axes[1, 0], title = 'SoftImpute')\n",
    "full['Age_SF'].plot.hist(alpha=0.5, ax=axes[1, 1], title = 'SimpleFill')\n",
    "full_dums['AgeFill'].plot.hist(alpha=0.5, ax=axes[1, 2], title = 'MICE')\n",
    "\n",
    "fig.tight_layout()"
   ]
  },
  {
   "cell_type": "code",
   "execution_count": 115,
   "metadata": {
    "collapsed": false
   },
   "outputs": [
    {
     "name": "stdout",
     "output_type": "stream",
     "text": [
      "count    263.000000\n",
      "mean       0.320987\n",
      "std        0.096304\n",
      "min        0.148530\n",
      "25%        0.265662\n",
      "50%        0.320775\n",
      "75%        0.343480\n",
      "max        0.786968\n",
      "Name: Age_IS, dtype: float64\n",
      "count    263.000000\n",
      "mean       9.125542\n",
      "std        4.707886\n",
      "min        0.000000\n",
      "25%        5.510048\n",
      "50%        9.300503\n",
      "75%       11.925666\n",
      "max       28.940061\n",
      "Name: Age_MF, dtype: float64\n",
      "count    263.000000\n",
      "mean       2.785520\n",
      "std        0.860402\n",
      "min        1.400583\n",
      "25%        2.147847\n",
      "50%        2.786330\n",
      "75%        2.988088\n",
      "max        7.166107\n",
      "Name: Age_SI, dtype: float64\n",
      "count    2.630000e+02\n",
      "mean     2.988114e+01\n",
      "std      1.174631e-13\n",
      "min      2.988114e+01\n",
      "25%      2.988114e+01\n",
      "50%      2.988114e+01\n",
      "75%      2.988114e+01\n",
      "max      2.988114e+01\n",
      "Name: Age_SF, dtype: float64\n"
     ]
    }
   ],
   "source": [
    "# Did SoftImpute and IterativeSVD fill in the missing values with 0?\n",
    "\n",
    "SI_values = full['Age_SI'][full['Age'].isnull()]\n",
    "IS_values = full['Age_IS'][full['Age'].isnull()]\n",
    "MF_values = full['Age_MF'][full['Age'].isnull()]\n",
    "SF_values = full['Age_SF'][full['Age'].isnull()]\n",
    "\n",
    "print(IS_values.describe())\n",
    "print(MF_values.describe())\n",
    "print(SI_values.describe())\n",
    "print(SF_values.describe())"
   ]
  },
  {
   "cell_type": "markdown",
   "metadata": {},
   "source": [
    "### Feature Engineering round 2\n",
    "\n",
    "Now that we know everyone’s age, we can create a couple of new age-dependent variables: Child and Mother. A child will simply be someone under 18 years of age and a mother is a passenger who is 1) female, 2) is over 18, 3) has more than 0 children (no kidding!), and 4) does not have the title ‘Miss"
   ]
  },
  {
   "cell_type": "code",
   "execution_count": 12,
   "metadata": {
    "collapsed": true
   },
   "outputs": [],
   "source": [
    "# First we'll look at the relationship between age & survival\n",
    "# For both male and female\n"
   ]
  },
  {
   "cell_type": "code",
   "execution_count": 13,
   "metadata": {
    "collapsed": true
   },
   "outputs": [],
   "source": [
    "# Create the column child, and indicate whether child or adult\n",
    "\n",
    "# Show counts"
   ]
  },
  {
   "cell_type": "code",
   "execution_count": 14,
   "metadata": {
    "collapsed": true
   },
   "outputs": [],
   "source": [
    "# Adding Mother variable"
   ]
  },
  {
   "cell_type": "markdown",
   "metadata": {},
   "source": [
    "All of the variables we care about should be taken care of and there should be no missing data. I’m going to double check just to be sure:"
   ]
  },
  {
   "cell_type": "markdown",
   "metadata": {},
   "source": [
    "### Prediction\n",
    "\n",
    "Our first step is to split the data back into the original test and training sets."
   ]
  },
  {
   "cell_type": "code",
   "execution_count": 15,
   "metadata": {
    "collapsed": true
   },
   "outputs": [],
   "source": [
    "# check data"
   ]
  },
  {
   "cell_type": "code",
   "execution_count": 16,
   "metadata": {
    "collapsed": true
   },
   "outputs": [],
   "source": [
    "# Build a model using RandomForest\n",
    "\n",
    "# Show model error"
   ]
  },
  {
   "cell_type": "markdown",
   "metadata": {},
   "source": [
    "### Variable Importance\n",
    "\n",
    "Let’s look at relative variable importance by plotting the mean decrease in Gini calculated across all trees."
   ]
  },
  {
   "cell_type": "code",
   "execution_count": 17,
   "metadata": {
    "collapsed": true
   },
   "outputs": [],
   "source": [
    "# Get importance\n",
    "\n",
    "# Create a rank variable based on importance\n",
    "\n",
    "# Use ggplot2 to visualize the relative importance of variables"
   ]
  },
  {
   "cell_type": "code",
   "execution_count": null,
   "metadata": {
    "collapsed": true
   },
   "outputs": [],
   "source": [
    "# Predict using the test set\n",
    "\n",
    "# Save the solution to a dataframe with two columns: PassengerId and Survived (prediction)\n",
    "\n"
   ]
  }
 ],
 "metadata": {
  "anaconda-cloud": {},
  "kernelspec": {
   "display_name": "Python [Root]",
   "language": "python",
   "name": "Python [Root]"
  },
  "language_info": {
   "codemirror_mode": {
    "name": "ipython",
    "version": 3
   },
   "file_extension": ".py",
   "mimetype": "text/x-python",
   "name": "python",
   "nbconvert_exporter": "python",
   "pygments_lexer": "ipython3",
   "version": "3.5.2"
  }
 },
 "nbformat": 4,
 "nbformat_minor": 0
}
