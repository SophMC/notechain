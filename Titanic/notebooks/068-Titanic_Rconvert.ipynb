{
 "cells": [
  {
   "cell_type": "markdown",
   "metadata": {},
   "source": [
    "Read in the data from [061-MICE](061-MICE.ipynb), fill in the Age values and move onto Feature Engineering round 2.\n"
   ]
  },
  {
   "cell_type": "code",
   "execution_count": 110,
   "metadata": {
    "collapsed": false
   },
   "outputs": [
    {
     "name": "stdout",
     "output_type": "stream",
     "text": [
      "Libraries Ready!\n"
     ]
    }
   ],
   "source": [
    "# Import libraries\n",
    "\n",
    "import numpy as np\n",
    "from numpy.random import random_integers\n",
    "from collections import Counter\n",
    "import pandas as pd\n",
    "import matplotlib.pyplot as plt\n",
    "from sklearn.ensemble import RandomForestClassifier\n",
    "from sklearn.cross_validation import cross_val_score\n",
    "from fancyimpute import MICE, SimpleFill, SoftImpute,IterativeSVD,MatrixFactorization\n",
    "\n",
    "%matplotlib inline\n",
    "\n",
    "print('Libraries Ready!')"
   ]
  },
  {
   "cell_type": "code",
   "execution_count": 111,
   "metadata": {
    "collapsed": true
   },
   "outputs": [],
   "source": [
    "# read in the data from day 058...\n",
    "df = pd.read_csv('/home/sophie/Python/notechain/Titanic/data/058_full.csv', header=0)\n"
   ]
  },
  {
   "cell_type": "markdown",
   "metadata": {},
   "source": [
    "Mice does seem to be the closest in frequency distribution to the original data so we will read in the matrix from day 61 which I used to do the comparisons with other imputation methods. "
   ]
  },
  {
   "cell_type": "code",
   "execution_count": 112,
   "metadata": {
    "collapsed": false
   },
   "outputs": [],
   "source": [
    "# Let's just check with filling in with MICE\n",
    "# Load the full training and test dataset, saved to csv on day 61 - this is in a numbers-only matrix ready for MICE\n",
    "df2 = pd.read_csv('/home/sophie/Python/notechain/Titanic/data/061_full.csv', header=0)"
   ]
  },
  {
   "cell_type": "code",
   "execution_count": 113,
   "metadata": {
    "collapsed": false
   },
   "outputs": [
    {
     "name": "stdout",
     "output_type": "stream",
     "text": [
      "1046\n",
      "1046\n",
      "['Age', 'Cabin', 'Embarked', 'Fare', 'Name', 'Parch', 'PassengerId', 'Pclass', 'Sex', 'SibSp', 'Survived', 'Ticket', 'Title', 'Surname', 'FamSize', 'FamSize_D', 'Survive_txt', 'Deck']\n",
      "['Age', 'Parch', 'Pclass', 'SibSp', 'FamSize', 'Sex_female', 'Sex_male', 'Embarked_C', 'Embarked_Q', 'Embarked_S', 'Title_Master', 'Title_Miss', 'Title_Mr', 'Title_Mrs', 'Title_Rare']\n",
      "1046\n"
     ]
    }
   ],
   "source": [
    "print(df2['Age'].count())\n",
    "print(df['Age'].count())\n",
    "print(list(df))\n",
    "print(list(df2))\n",
    "print(df['Age'].count())"
   ]
  },
  {
   "cell_type": "code",
   "execution_count": 114,
   "metadata": {
    "collapsed": true
   },
   "outputs": [],
   "source": [
    "#change the dataframe into an array that MICE can handle (doesn't take dataframes)\n",
    "fda = df2.as_matrix()\n",
    "\n",
    "solver = MICE(verbose=0)\n",
    "\n",
    "fdac = solver.complete(fda) # This works perfectly well.\n",
    "\n",
    "# convert fdac back to dataframe\n",
    "\n",
    "fullm = pd.DataFrame(fdac, columns = [x for x in list(df2)])"
   ]
  },
  {
   "cell_type": "code",
   "execution_count": 115,
   "metadata": {
    "collapsed": false
   },
   "outputs": [],
   "source": [
    "# So, we'll add MICE age to our dataframe which has all the other things we want, df\n",
    "df['Age'] = fullm['Age']"
   ]
  },
  {
   "cell_type": "code",
   "execution_count": 116,
   "metadata": {
    "collapsed": false
   },
   "outputs": [
    {
     "name": "stdout",
     "output_type": "stream",
     "text": [
      "1299    24.127538\n",
      "1300     3.000000\n",
      "1301    23.540127\n",
      "1302    37.000000\n",
      "1303    28.000000\n",
      "1304    29.034569\n",
      "1305    39.000000\n",
      "1306    38.500000\n",
      "1307    28.492737\n",
      "Name: Age, dtype: float64\n",
      "1299    24.127538\n",
      "1300     3.000000\n",
      "1301    23.540127\n",
      "1302    37.000000\n",
      "1303    28.000000\n",
      "1304    29.034569\n",
      "1305    39.000000\n",
      "1306    38.500000\n",
      "1307    28.492737\n",
      "Name: Age, dtype: float64\n"
     ]
    }
   ],
   "source": [
    "print(fullm['Age'][-10:-1])\n",
    "print(df['Age'][-10:-1])"
   ]
  },
  {
   "cell_type": "markdown",
   "metadata": {},
   "source": [
    "### Feature Engineering round 2\n",
    "\n",
    "Now that we know everyone’s age, we can create a couple of new age-dependent variables: Child and Mother. A child will simply be someone under 18 years of age and a mother is a passenger who is 1) female, 2) is over 18, 3) has more than 0 children (no kidding!), and 4) does not have the title ‘Miss"
   ]
  },
  {
   "cell_type": "code",
   "execution_count": 117,
   "metadata": {
    "collapsed": false
   },
   "outputs": [],
   "source": [
    "# First we'll look at the relationship between age & survival\n",
    "# For both male and female\n",
    "\n",
    "# get_dummies splits up a column into two seperate columns of 1 and 0, where they are true or false. \n",
    "dummies_Sex = pd.get_dummies(df['Sex'], prefix='Sex')\n",
    "\n",
    "# Add the dummies to the data Frame\n",
    "df = pd.concat([df, dummies_Sex], axis=1) # now listed in the columns as Sex_female and Sex_male"
   ]
  },
  {
   "cell_type": "code",
   "execution_count": 118,
   "metadata": {
    "collapsed": false
   },
   "outputs": [
    {
     "name": "stdout",
     "output_type": "stream",
     "text": [
      "1299    24.127538\n",
      "1300     3.000000\n",
      "1301    23.540127\n",
      "1302    37.000000\n",
      "1303    28.000000\n",
      "1304    29.034569\n",
      "1305    39.000000\n",
      "1306    38.500000\n",
      "1307    28.492737\n",
      "Name: Age, dtype: float64\n"
     ]
    }
   ],
   "source": [
    "print(df['Age'][-10:-1])"
   ]
  },
  {
   "cell_type": "code",
   "execution_count": 119,
   "metadata": {
    "collapsed": false
   },
   "outputs": [],
   "source": [
    "# Make to columns to hold Ages of people who died/survived\n",
    "# Add two extra columns with Survived blacked out. \n",
    "df['Age_d'] = df['Age'][df['Survived'] == 0]  # The ages of people who died\n",
    "df['Age_s'] = df['Age'][df['Survived'] == 1]  # The ages of people who survived"
   ]
  },
  {
   "cell_type": "code",
   "execution_count": 121,
   "metadata": {
    "collapsed": false
   },
   "outputs": [
    {
     "data": {
      "text/plain": [
       "<seaborn.axisgrid.FacetGrid at 0x7fa3bcfe3ac8>"
      ]
     },
     "execution_count": 121,
     "metadata": {},
     "output_type": "execute_result"
    },
    {
     "data": {
      "image/png": "[encoded data removed]",
      "text/plain": [
       "<matplotlib.figure.Figure at 0x7fa3bd0256d8>"
      ]
     },
     "metadata": {},
     "output_type": "display_data"
    }
   ],
   "source": [
    "# Make some histograms to look at how survival is related to Age, seperated by sex\n",
    "import seaborn as sns\n",
    "g = sns.FacetGrid(df, row=\"Sex\", col=\"Survived\")\n",
    "g.map(plt.hist, \"Age\")"
   ]
  },
  {
   "cell_type": "markdown",
   "metadata": {},
   "source": [
    "I wanted to create something similar with pandas, but the features aren't ready yet in the current version. Still being worked on. "
   ]
  },
  {
   "cell_type": "code",
   "execution_count": 122,
   "metadata": {
    "collapsed": false
   },
   "outputs": [
    {
     "data": {
      "text/plain": [
       "Sex     Survived\n",
       "female  0.0         [[Axes(0.125,0.563043;0.336957x0.336957), Axes...\n",
       "        1.0         [[Axes(0.125,0.563043;0.336957x0.336957), Axes...\n",
       "male    0.0         [[Axes(0.125,0.563043;0.336957x0.336957), Axes...\n",
       "        1.0         [[Axes(0.125,0.563043;0.336957x0.336957), Axes...\n",
       "dtype: object"
      ]
     },
     "execution_count": 122,
     "metadata": {},
     "output_type": "execute_result"
    },
    {
     "data": {
      "image/png": "[encoded data removed]",
      "text/plain": [
       "<matplotlib.figure.Figure at 0x7fa3bcfe3cf8>"
      ]
     },
     "metadata": {},
     "output_type": "display_data"
    },
    {
     "data": {
      "image/png": "[encoded data removed]",
      "text/plain": [
       "<matplotlib.figure.Figure at 0x7fa3bcd19fd0>"
      ]
     },
     "metadata": {},
     "output_type": "display_data"
    },
    {
     "data": {
      "image/png": "[encoded data removed]",
      "text/plain": [
       "<matplotlib.figure.Figure at 0x7fa3bcbec9b0>"
      ]
     },
     "metadata": {},
     "output_type": "display_data"
    },
    {
     "data": {
      "image/png": "[encoded data removed]",
      "text/plain": [
       "<matplotlib.figure.Figure at 0x7fa3bcab1320>"
      ]
     },
     "metadata": {},
     "output_type": "display_data"
    }
   ],
   "source": [
    "# try using hist on a groupby object\n",
    "group = df.groupby(['Sex','Survived'])\n",
    "\n",
    "group.hist(column = 'Age', layout = (2,2))"
   ]
  },
  {
   "cell_type": "code",
   "execution_count": 132,
   "metadata": {
    "collapsed": false
   },
   "outputs": [
    {
     "name": "stderr",
     "output_type": "stream",
     "text": [
      "/home/sophie/anaconda3/lib/python3.5/site-packages/ipykernel/__main__.py:3: SettingWithCopyWarning: \n",
      "A value is trying to be set on a copy of a slice from a DataFrame\n",
      "\n",
      "See the caveats in the documentation: http://pandas.pydata.org/pandas-docs/stable/indexing.html#indexing-view-versus-copy\n",
      "  app.launch_new_instance()\n",
      "/home/sophie/anaconda3/lib/python3.5/site-packages/ipykernel/__main__.py:4: SettingWithCopyWarning: \n",
      "A value is trying to be set on a copy of a slice from a DataFrame\n",
      "\n",
      "See the caveats in the documentation: http://pandas.pydata.org/pandas-docs/stable/indexing.html#indexing-view-versus-copy\n"
     ]
    },
    {
     "data": {
      "text/plain": [
       "Survived  Child\n",
       "0.0       Adult    484\n",
       "          Child     65\n",
       "1.0       Adult    278\n",
       "          Child     64\n",
       "Name: Child, dtype: int64"
      ]
     },
     "execution_count": 132,
     "metadata": {},
     "output_type": "execute_result"
    }
   ],
   "source": [
    "# Create the column child, and indicate whether child or adult\n",
    "df['Child'] = 0\n",
    "df['Child'][df['Age'] >= 18] = 'Adult'\n",
    "df['Child'][df['Age'] < 18] = 'Child'\n",
    "\n",
    "#print(df['Child'])\n",
    "group = df.groupby(['Survived','Child'])\n",
    "\n",
    "# Show counts\n",
    "group['Child'].count() # These aren't quite the same - check."
   ]
  },
  {
   "cell_type": "code",
   "execution_count": 12,
   "metadata": {
    "collapsed": true
   },
   "outputs": [],
   "source": [
    "# Adding Mother variable\n"
   ]
  },
  {
   "cell_type": "markdown",
   "metadata": {},
   "source": [
    "All of the variables we care about should be taken care of and there should be no missing data. I’m going to double check just to be sure:"
   ]
  },
  {
   "cell_type": "markdown",
   "metadata": {},
   "source": [
    "### Prediction\n",
    "\n",
    "Our first step is to split the data back into the original test and training sets."
   ]
  },
  {
   "cell_type": "code",
   "execution_count": 13,
   "metadata": {
    "collapsed": true
   },
   "outputs": [],
   "source": [
    "# check data"
   ]
  },
  {
   "cell_type": "code",
   "execution_count": 14,
   "metadata": {
    "collapsed": true
   },
   "outputs": [],
   "source": [
    "# Build a model using RandomForest\n",
    "\n",
    "# Show model error"
   ]
  },
  {
   "cell_type": "markdown",
   "metadata": {},
   "source": [
    "### Variable Importance\n",
    "\n",
    "Let’s look at relative variable importance by plotting the mean decrease in Gini calculated across all trees."
   ]
  },
  {
   "cell_type": "code",
   "execution_count": 15,
   "metadata": {
    "collapsed": true
   },
   "outputs": [],
   "source": [
    "# Get importance\n",
    "\n",
    "# Create a rank variable based on importance\n",
    "\n",
    "# Use ggplot2 to visualize the relative importance of variables"
   ]
  },
  {
   "cell_type": "code",
   "execution_count": 16,
   "metadata": {
    "collapsed": true
   },
   "outputs": [],
   "source": [
    "# Predict using the test set\n",
    "\n",
    "# Save the solution to a dataframe with two columns: PassengerId and Survived (prediction)"
   ]
  }
 ],
 "metadata": {
  "anaconda-cloud": {},
  "kernelspec": {
   "display_name": "Python [Root]",
   "language": "python",
   "name": "Python [Root]"
  },
  "language_info": {
   "codemirror_mode": {
    "name": "ipython",
    "version": 3
   },
   "file_extension": ".py",
   "mimetype": "text/x-python",
   "name": "python",
   "nbconvert_exporter": "python",
   "pygments_lexer": "ipython3",
   "version": "3.5.2"
  }
 },
 "nbformat": 4,
 "nbformat_minor": 0
}
