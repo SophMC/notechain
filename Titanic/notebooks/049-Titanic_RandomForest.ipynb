{
 "cells": [
  {
   "cell_type": "markdown",
   "metadata": {},
   "source": [
    "## Using Random Forest to predict Titanic survivors\n",
    "\n",
    "For Random Forest requires floats as input variables (strings need to be converted) and missing data needs to be filled.\n",
    "\n",
    "#### How do I clean and fill?\n",
    "\n",
    "If there is a lot of missing data you will want to try and fill it in. Sometimes that may not be possible, but in others such as Far price could be estimated if you know the class, or Age could be estimated using the median age. \n",
    "\n",
    "#### Data is complete and in floats, let's predict..\n",
    "\n",
    "Three simple steps:    \n",
    "1) Initialize the model    \n",
    "2) Fit it to the training data       \n",
    "3) Predict new values         \n",
    "\n",
    "Nearly all scikit-learn share a few common named functions, once they are initialized. These are:  \n",
    "\n",
    "- modelname.fit()\n",
    "- modelname.predict()\n",
    "- modelname.score()\n",
    "\n",
    "#### Getting started\n",
    "\n",
    "Read in training data with Name, Cabin and Ticket columns removed. Gender and Embarked columns are converted to numbers. \n",
    "Drop PassengerId column."
   ]
  },
  {
   "cell_type": "code",
   "execution_count": 98,
   "metadata": {
    "collapsed": true
   },
   "outputs": [],
   "source": [
    "import pandas as pd\n",
    "import numpy as np\n",
    "\n",
    "df = pd.read_csv('/home/sophie/projects/Titanic/data/train.csv', header=0)"
   ]
  },
  {
   "cell_type": "code",
   "execution_count": 99,
   "metadata": {
    "collapsed": false
   },
   "outputs": [
    {
     "name": "stdout",
     "output_type": "stream",
     "text": [
      "['PassengerId', 'Survived', 'Pclass', 'Name', 'Sex', 'Age', 'SibSp', 'Parch', 'Ticket', 'Fare', 'Cabin', 'Embarked']\n",
      "PassengerId      int64\n",
      "Survived         int64\n",
      "Pclass           int64\n",
      "Name            object\n",
      "Sex             object\n",
      "Age            float64\n",
      "SibSp            int64\n",
      "Parch            int64\n",
      "Ticket          object\n",
      "Fare           float64\n",
      "Cabin           object\n",
      "Embarked        object\n",
      "dtype: object\n"
     ]
    }
   ],
   "source": [
    "print(list(df))\n",
    "print(df.dtypes)"
   ]
  },
  {
   "cell_type": "code",
   "execution_count": 100,
   "metadata": {
    "collapsed": false
   },
   "outputs": [
    {
     "name": "stdout",
     "output_type": "stream",
     "text": [
      "['Survived', 'Pclass', 'Age', 'SibSp', 'Parch', 'Fare', 'Embarked', 'Gender']\n"
     ]
    }
   ],
   "source": [
    "# Change Gender into 1/0 from sex\n",
    "df['Gender'] = df['Sex'].map({'female': 0, 'male': 1}).astype(float)\n",
    "\n",
    "#Drop columns\n",
    "df = df.drop(['Name','Cabin','Ticket','PassengerId','Sex'], axis=1)\n",
    "\n",
    "print(list(df))"
   ]
  },
  {
   "cell_type": "code",
   "execution_count": 101,
   "metadata": {
    "collapsed": false
   },
   "outputs": [
    {
     "data": {
      "text/html": [
       "<div>\n",
       "<table border=\"1\" class=\"dataframe\">\n",
       "  <thead>\n",
       "    <tr style=\"text-align: right;\">\n",
       "      <th></th>\n",
       "      <th>Survived</th>\n",
       "      <th>Pclass</th>\n",
       "      <th>Age</th>\n",
       "      <th>SibSp</th>\n",
       "      <th>Parch</th>\n",
       "      <th>Fare</th>\n",
       "      <th>Embarked</th>\n",
       "      <th>Gender</th>\n",
       "    </tr>\n",
       "  </thead>\n",
       "  <tbody>\n",
       "    <tr>\n",
       "      <th>61</th>\n",
       "      <td>1</td>\n",
       "      <td>1</td>\n",
       "      <td>38.0</td>\n",
       "      <td>0</td>\n",
       "      <td>0</td>\n",
       "      <td>80.0</td>\n",
       "      <td>NaN</td>\n",
       "      <td>0.0</td>\n",
       "    </tr>\n",
       "    <tr>\n",
       "      <th>829</th>\n",
       "      <td>1</td>\n",
       "      <td>1</td>\n",
       "      <td>62.0</td>\n",
       "      <td>0</td>\n",
       "      <td>0</td>\n",
       "      <td>80.0</td>\n",
       "      <td>NaN</td>\n",
       "      <td>0.0</td>\n",
       "    </tr>\n",
       "  </tbody>\n",
       "</table>\n",
       "</div>"
      ],
      "text/plain": [
       "     Survived  Pclass   Age  SibSp  Parch  Fare Embarked  Gender\n",
       "61          1       1  38.0      0      0  80.0      NaN     0.0\n",
       "829         1       1  62.0      0      0  80.0      NaN     0.0"
      ]
     },
     "execution_count": 101,
     "metadata": {},
     "output_type": "execute_result"
    }
   ],
   "source": [
    "# Are there many null values in Embarked?\n",
    "df.isnull().sum()\n",
    "\n",
    "# Print the rows where Embarked is null\n",
    "df[df['Embarked'].isnull()]"
   ]
  },
  {
   "cell_type": "code",
   "execution_count": 104,
   "metadata": {
    "collapsed": false
   },
   "outputs": [],
   "source": [
    "# That is not too many, so we can remove those rows\n",
    "df = df.dropna(subset = ['Embarked'])\n",
    "\n",
    "#This also removes rows with a nan in Embarked column\n",
    "#df = df[pd.notnull(df['Embarked'])]"
   ]
  },
  {
   "cell_type": "code",
   "execution_count": 105,
   "metadata": {
    "collapsed": false
   },
   "outputs": [
    {
     "name": "stdout",
     "output_type": "stream",
     "text": [
      "Empty DataFrame\n",
      "Columns: [Survived, Pclass, Age, SibSp, Parch, Fare, Embarked, Gender]\n",
      "Index: []\n"
     ]
    }
   ],
   "source": [
    "# Check that the nans have been removed\n",
    "print(df[df['Embarked'].isnull()])"
   ]
  },
  {
   "cell_type": "code",
   "execution_count": 106,
   "metadata": {
    "collapsed": false
   },
   "outputs": [
    {
     "name": "stdout",
     "output_type": "stream",
     "text": [
      "0    3.0\n",
      "1    1.0\n",
      "2    3.0\n",
      "Name: Embarked, dtype: float64\n"
     ]
    }
   ],
   "source": [
    "# Turn Embarked into float numbers\n",
    "df['Embarked'] = df['Embarked'].map({'C': 1 ,'Q': 2 ,'S': 3}).astype(float)\n",
    "print(df.Embarked[0:3])"
   ]
  },
  {
   "cell_type": "code",
   "execution_count": 107,
   "metadata": {
    "collapsed": false
   },
   "outputs": [
    {
     "data": {
      "text/plain": [
       "Survived      int64\n",
       "Pclass        int64\n",
       "Age         float64\n",
       "SibSp         int64\n",
       "Parch         int64\n",
       "Fare        float64\n",
       "Embarked    float64\n",
       "Gender      float64\n",
       "dtype: object"
      ]
     },
     "execution_count": 107,
     "metadata": {},
     "output_type": "execute_result"
    }
   ],
   "source": [
    "# What still needs to be turned into a float?\n",
    "df.dtypes"
   ]
  },
  {
   "cell_type": "code",
   "execution_count": 108,
   "metadata": {
    "collapsed": false
   },
   "outputs": [
    {
     "data": {
      "text/plain": [
       "Survived      0\n",
       "Pclass        0\n",
       "Age         177\n",
       "SibSp         0\n",
       "Parch         0\n",
       "Fare          0\n",
       "Embarked      0\n",
       "Gender        0\n",
       "dtype: int64"
      ]
     },
     "execution_count": 108,
     "metadata": {},
     "output_type": "execute_result"
    }
   ],
   "source": [
    "# Are there any columns with nans left?\n",
    "df.isnull().sum()"
   ]
  },
  {
   "cell_type": "markdown",
   "metadata": {},
   "source": [
    "We still need to fill in the blank values of Age. We could fill them in with the median. Also see what difference it makes using the median, or mean. \n",
    "\n",
    "We will use the median age for each class to fill in.    \n",
    "First, make a table to store the median values"
   ]
  },
  {
   "cell_type": "code",
   "execution_count": 109,
   "metadata": {
    "collapsed": false
   },
   "outputs": [
    {
     "data": {
      "text/plain": [
       "array([[ 0.,  0.,  0.],\n",
       "       [ 0.,  0.,  0.]])"
      ]
     },
     "execution_count": 109,
     "metadata": {},
     "output_type": "execute_result"
    }
   ],
   "source": [
    "#Make a table filled with zeros\n",
    "median_ages = np.zeros((2,3)) # male/female for each class\n",
    "median_ages"
   ]
  },
  {
   "cell_type": "code",
   "execution_count": 110,
   "metadata": {
    "collapsed": false
   },
   "outputs": [
    {
     "data": {
      "text/plain": [
       "array([[ 35. ,  28. ,  21.5],\n",
       "       [ 40. ,  30. ,  25. ]])"
      ]
     },
     "execution_count": 110,
     "metadata": {},
     "output_type": "execute_result"
    }
   ],
   "source": [
    "# Loop over the table to fill in the values\n",
    "\n",
    "for i in range(0, 2):\n",
    "    for j in range(0, 3):\n",
    "        median_ages[i,j] = df[(df['Gender'] == i) & (df['Pclass'] == j + 1)]['Age'].dropna().median()\n",
    "        \n",
    "median_ages"
   ]
  },
  {
   "cell_type": "code",
   "execution_count": 113,
   "metadata": {
    "collapsed": true
   },
   "outputs": [],
   "source": [
    "# Make a copy of Age \n",
    "df['AgeFill'] = df['Age']"
   ]
  },
  {
   "cell_type": "code",
   "execution_count": 114,
   "metadata": {
    "collapsed": true
   },
   "outputs": [],
   "source": [
    "# Fill the new column with the correct values. \n",
    "\n",
    "for i in range(0, 2):\n",
    "    for j in range(0, 3):\n",
    "        # we need df.loc here to specify the row AND the column. \n",
    "        # only where age is null, gender is 1/0 and class is 1-3, that AgeFill will be set to the median age.\n",
    "        df.loc[(df.Age.isnull()) & (df.Gender == i) & (df.Pclass == j + 1), 'AgeFill'] = median_ages[i,j]\n",
    "\n"
   ]
  },
  {
   "cell_type": "code",
   "execution_count": 115,
   "metadata": {
    "collapsed": false
   },
   "outputs": [
    {
     "data": {
      "text/plain": [
       "Survived      0\n",
       "Pclass        0\n",
       "Age         177\n",
       "SibSp         0\n",
       "Parch         0\n",
       "Fare          0\n",
       "Embarked      0\n",
       "Gender        0\n",
       "AgeFill       0\n",
       "dtype: int64"
      ]
     },
     "execution_count": 115,
     "metadata": {},
     "output_type": "execute_result"
    }
   ],
   "source": [
    "# Now, are there null values still left in AgeFill?\n",
    "df.isnull().sum()"
   ]
  },
  {
   "cell_type": "code",
   "execution_count": 116,
   "metadata": {
    "collapsed": false
   },
   "outputs": [
    {
     "data": {
      "text/plain": [
       "Survived    float64\n",
       "Pclass      float64\n",
       "SibSp       float64\n",
       "Parch       float64\n",
       "Fare        float64\n",
       "Embarked    float64\n",
       "Gender      float64\n",
       "AgeFill     float64\n",
       "dtype: object"
      ]
     },
     "execution_count": 116,
     "metadata": {},
     "output_type": "execute_result"
    }
   ],
   "source": [
    "# We can drop the Age column now we have AgeFill\n",
    "df = df.drop(['Age'], axis=1)\n",
    "\n",
    "# This seems to successfully transform the whole dataframe into floats. Perhaps best as the final step?\n",
    "df= df.astype(float)\n",
    "df.dtypes"
   ]
  },
  {
   "cell_type": "markdown",
   "metadata": {},
   "source": [
    "Now we have a data in a format we can use!"
   ]
  },
  {
   "cell_type": "code",
   "execution_count": 123,
   "metadata": {
    "collapsed": false
   },
   "outputs": [
    {
     "name": "stdout",
     "output_type": "stream",
     "text": [
      "6.0\n"
     ]
    }
   ],
   "source": [
    "# One person had 6 Children on board.\n",
    "print(max(df['Parch']))"
   ]
  },
  {
   "cell_type": "code",
   "execution_count": 131,
   "metadata": {
    "collapsed": false
   },
   "outputs": [
    {
     "name": "stdout",
     "output_type": "stream",
     "text": [
      "['Survived', 'Pclass', 'SibSp', 'Parch', 'Fare', 'Embarked', 'Gender', 'AgeFill']\n",
      "   Pclass  SibSp  Parch     Fare  Embarked  Gender  AgeFill\n",
      "0     3.0    1.0    0.0   7.2500       3.0     1.0     22.0\n",
      "1     1.0    1.0    0.0  71.2833       1.0     0.0     38.0\n",
      "2     3.0    0.0    0.0   7.9250       3.0     0.0     26.0\n",
      "3     1.0    1.0    0.0  53.1000       3.0     0.0     35.0\n",
      "4     3.0    0.0    0.0   8.0500       3.0     1.0     35.0\n"
     ]
    }
   ],
   "source": [
    "print(list(df))\n",
    "print(df.iloc[:,1:][0:5])  df.iloc(rows,columns)"
   ]
  },
  {
   "cell_type": "markdown",
   "metadata": {},
   "source": [
    "Before we can use the test data, it has to go through the same rigorous process as above. \n",
    "Will put make a script for it and see if it could be used for both the training and test data."
   ]
  },
  {
   "cell_type": "code",
   "execution_count": 132,
   "metadata": {
    "collapsed": false
   },
   "outputs": [],
   "source": [
    "# import the random forest package\n",
    "from sklearn.ensemble import RandomForestClassifier\n",
    "\n",
    "# Create the random forest object which will include all the parameters for the fit\n",
    "forest = RandomForestClassifier(n_estimators = 100)"
   ]
  },
  {
   "cell_type": "code",
   "execution_count": 134,
   "metadata": {
    "collapsed": false
   },
   "outputs": [],
   "source": [
    "# Fit the training data to the Survived labels and create the decision trees. (x,y)(train_inputs, classification labels)\n",
    "forest = forest.fit(df.iloc[:,1:], df.iloc[:,0])"
   ]
  },
  {
   "cell_type": "code",
   "execution_count": 212,
   "metadata": {
    "collapsed": false
   },
   "outputs": [],
   "source": [
    "#Read in the test data which was cleaned up as the training set was in this notebook. The script is\n",
    "# /home/sophie/projects/Titanic/data/clean_test.py\n",
    "test_data = pd.read_csv('/home/sophie/projects/Titanic/data/clean_test.csv', usecols = ['PassengerId','Pclass','SibSp','Parch',\n",
    "                        'Fare','Embarked', 'Gender','AgeFill'], sep = \" \", header=0).astype(np.float32)\n"
   ]
  },
  {
   "cell_type": "code",
   "execution_count": 213,
   "metadata": {
    "collapsed": false
   },
   "outputs": [
    {
     "name": "stdout",
     "output_type": "stream",
     "text": [
      "['PassengerId', 'Pclass', 'SibSp', 'Parch', 'Fare', 'Embarked', 'Gender', 'AgeFill']\n"
     ]
    }
   ],
   "source": [
    "print(list(test_data))"
   ]
  },
  {
   "cell_type": "code",
   "execution_count": 214,
   "metadata": {
    "collapsed": false
   },
   "outputs": [],
   "source": [
    "# Take the same decision trees and run it on the test data. Skip the passengerId column\n",
    "output = forest.predict(test_data.iloc[:,1:])"
   ]
  },
  {
   "cell_type": "code",
   "execution_count": 215,
   "metadata": {
    "collapsed": false
   },
   "outputs": [
    {
     "name": "stdout",
     "output_type": "stream",
     "text": [
      "(417,)\n",
      "(417,)\n",
      "<class 'numpy.ndarray'>\n"
     ]
    }
   ],
   "source": [
    "# Put the input series (PassengerId) and prediction values (Survived) into a dataframe and turn into Integers\n",
    "d = {'PassengerId': test_data['PassengerId'], 'Survived': output}\n",
    "\n",
    "output = pd.DataFrame(data=d)\n",
    "\n",
    "output = output.astype(int)"
   ]
  },
  {
   "cell_type": "code",
   "execution_count": 217,
   "metadata": {
    "collapsed": true
   },
   "outputs": [],
   "source": [
    "output.to_csv('/home/sophie/projects/Titanic/data/genderclassmod_RF.csv', sep = \" \", index = False)"
   ]
  },
  {
   "cell_type": "code",
   "execution_count": null,
   "metadata": {
    "collapsed": true
   },
   "outputs": [],
   "source": []
  }
 ],
 "metadata": {
  "kernelspec": {
   "display_name": "Python 3",
   "language": "python",
   "name": "python3"
  },
  "language_info": {
   "codemirror_mode": {
    "name": "ipython",
    "version": 3
   },
   "file_extension": ".py",
   "mimetype": "text/x-python",
   "name": "python",
   "nbconvert_exporter": "python",
   "pygments_lexer": "ipython3",
   "version": "3.5.1"
  }
 },
 "nbformat": 4,
 "nbformat_minor": 0
}
