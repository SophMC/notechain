{
 "cells": [
  {
   "cell_type": "markdown",
   "metadata": {
    "collapsed": true
   },
   "source": [
    "### Another Submission - adding more features to Random Forest. \n",
    "\n",
    "All this is taken from https://www.kaggle.com/creepykoala/titanic/study-of-tree-and-forest-algorithms/notebook \n",
    "I just write it in line by line by myself as it helps me learn and I can query things as I go. "
   ]
  },
  {
   "cell_type": "code",
   "execution_count": 1,
   "metadata": {
    "collapsed": false
   },
   "outputs": [
    {
     "name": "stdout",
     "output_type": "stream",
     "text": [
      "Libraries Ready!\n"
     ]
    }
   ],
   "source": [
    "# Import libraries\n",
    "\n",
    "import numpy as np\n",
    "from numpy.random import random_integers\n",
    "import pandas as pd\n",
    "import matplotlib.pyplot as plt\n",
    "import sklearn\n",
    "from sklearn.cross_validation import train_test_split\n",
    "from sklearn.tree import DecisionTreeClassifier\n",
    "from sklearn.ensemble import RandomForestClassifier, GradientBoostingClassifier\n",
    "from scipy.stats import pointbiserialr, spearmanr\n",
    "%matplotlib inline\n",
    "\n",
    "print('Libraries Ready!')"
   ]
  },
  {
   "cell_type": "code",
   "execution_count": 2,
   "metadata": {
    "collapsed": true
   },
   "outputs": [],
   "source": [
    "# Load training data\n",
    "\n",
    "df = pd.read_csv('/home/sophie/projects/Titanic/data/train.csv', header=0)"
   ]
  },
  {
   "cell_type": "markdown",
   "metadata": {},
   "source": [
    "People with stronger titles tend to have more help on board. Hence, we will categorize passengers based on titles."
   ]
  },
  {
   "cell_type": "code",
   "execution_count": 3,
   "metadata": {
    "collapsed": false
   },
   "outputs": [
    {
     "name": "stdout",
     "output_type": "stream",
     "text": [
      "0      Mr\n",
      "1     Mrs\n",
      "2    Miss\n",
      "3     Mrs\n",
      "4      Mr\n",
      "Name: Title, dtype: object\n",
      "0                              Braund, Mr. Owen Harris\n",
      "1    Cumings, Mrs. John Bradley (Florence Briggs Th...\n",
      "2                               Heikkinen, Miss. Laina\n",
      "3         Futrelle, Mrs. Jacques Heath (Lily May Peel)\n",
      "4                             Allen, Mr. William Henry\n",
      "Name: Name, dtype: object\n"
     ]
    }
   ],
   "source": [
    "Title_Dictionary = {\n",
    "                    \"Capt\":       \"Officer\",\n",
    "                    \"Col\":        \"Officer\",\n",
    "                    \"Major\":      \"Officer\",\n",
    "                    \"Jonkheer\":   \"Royalty\",\n",
    "                    \"Don\":        \"Royalty\",\n",
    "                    \"Sir\" :       \"Royalty\",\n",
    "                    \"Dr\":         \"Officer\",\n",
    "                    \"Rev\":        \"Officer\",\n",
    "                    \"the Countess\":\"Royalty\",\n",
    "                    \"Dona\":       \"Royalty\",\n",
    "                    \"Mme\":        \"Mrs\",\n",
    "                    \"Mlle\":       \"Miss\",\n",
    "                    \"Ms\":         \"Mrs\",\n",
    "                    \"Mr\" :        \"Mr\",\n",
    "                    \"Mrs\" :       \"Mrs\",\n",
    "                    \"Miss\" :      \"Miss\",\n",
    "                    \"Master\" :    \"Master\",\n",
    "                    \"Lady\" :      \"Royalty\"\n",
    "                    }\n",
    "\n",
    "# for each name, i.e. Braund, Mr. Owen Harris, we extract the title using x.split and strip and use it as a key to the \n",
    "# Title Dictionary. \n",
    "# x.split(',')[1] means split the string where the , is. Take the 2nd item. i.e. Mr. Owen Harris\n",
    "# split('.')[0] means split by the . and take the first item.\n",
    "# strip() to remove all the other characters. \n",
    "df['Title'] = df['Name'].apply(lambda x: Title_Dictionary[x.split(',')[1].split('.')[0].strip()])\n",
    "\n",
    "print(df['Title'][0:5])\n",
    "print(df['Name'][0:5])"
   ]
  },
  {
   "cell_type": "code",
   "execution_count": 4,
   "metadata": {
    "collapsed": false
   },
   "outputs": [
    {
     "data": {
      "text/plain": [
       "[['Futrelle,', 'Mrs.', 'Jacques', 'Heath', '(Lily', 'May', 'Peel)']]"
      ]
     },
     "execution_count": 4,
     "metadata": {},
     "output_type": "execute_result"
    }
   ],
   "source": [
    "name = ['Braund, Mr. Owen Harris', 'Futrelle, Mrs. Jacques Heath (Lily May Peel)']\n",
    "[name[1].split(',')[1].split('.')[0].strip()]\n",
    "[name[1].split()]"
   ]
  },
  {
   "cell_type": "markdown",
   "metadata": {
    "collapsed": true
   },
   "source": [
    "Include the ticket prefix as a new column"
   ]
  },
  {
   "cell_type": "code",
   "execution_count": 202,
   "metadata": {
    "collapsed": false
   },
   "outputs": [
    {
     "name": "stdout",
     "output_type": "stream",
     "text": [
      "0    A/5 21171\n",
      "1     PC 17599\n",
      "Name: Ticket, dtype: object\n"
     ]
    }
   ],
   "source": [
    "print (df['Ticket'][0:2])"
   ]
  },
  {
   "cell_type": "code",
   "execution_count": 203,
   "metadata": {
    "collapsed": false
   },
   "outputs": [
    {
     "name": "stdout",
     "output_type": "stream",
     "text": [
      "0         A/5\n",
      "1          PC\n",
      "2    STON/O2.\n",
      "3      NoClue\n",
      "4      NoClue\n",
      "Name: TicketPrefix, dtype: object\n"
     ]
    }
   ],
   "source": [
    "# Extract the letters from the beginning of each element of 'Ticket'\n",
    "def Ticket_Prefix(s):\n",
    "    s=s.split()[0] # if you don't include anything in split()\n",
    "    if s.isdigit():\n",
    "        return 'NoClue'\n",
    "    else:\n",
    "        return s\n",
    "    \n",
    "df['TicketPrefix'] = df['Ticket'].apply(lambda x: Ticket_Prefix(x))\n",
    "\n",
    "print(df['TicketPrefix'][0:5])"
   ]
  },
  {
   "cell_type": "markdown",
   "metadata": {},
   "source": [
    "Fill in missing age with median age, based on Title, Pclass and Sex.\n",
    "\n",
    "- Make a mask with non-null values for Age. Make a new dataframe out of this new mask.\n",
    "- Make a groupby object from these values and calculate the median for each group"
   ]
  },
  {
   "cell_type": "code",
   "execution_count": 204,
   "metadata": {
    "collapsed": true
   },
   "outputs": [],
   "source": [
    "# Make an array where null values are False.\n",
    "mask_Age = df.Age.notnull()\n",
    "\n",
    "# New dataframe where all rows have a value for age. \n",
    "Age_Sex_Title_Pclass = df.loc[mask_Age, [\"Age\", \"Title\", \"Sex\", \"Pclass\"]]\n",
    "\n",
    "# Groupby object to group by Title, Pclass and Sex\n",
    "Filler_Ages_1 = Age_Sex_Title_Pclass.groupby(by = [\"Title\", \"Pclass\", \"Sex\"]).median()\n",
    "\n",
    "# This moves both Sex and Pclass into column headers and does so in that order. \n",
    "Filler_Ages = Filler_Ages_1.Age.unstack(level = -1).unstack(level = -1)\n"
   ]
  },
  {
   "cell_type": "code",
   "execution_count": 205,
   "metadata": {
    "collapsed": false
   },
   "outputs": [
    {
     "name": "stdout",
     "output_type": "stream",
     "text": [
      "    Age Title     Sex  Pclass\n",
      "0  22.0    Mr    male       3\n",
      "1  38.0   Mrs  female       1\n",
      "2  26.0  Miss  female       3\n",
      "3  35.0   Mrs  female       1\n",
      "4  35.0    Mr    male       3\n",
      "714\n"
     ]
    }
   ],
   "source": [
    "print(Age_Sex_Title_Pclass[0:5])\n",
    "print(len(df[mask_Age]))"
   ]
  },
  {
   "cell_type": "code",
   "execution_count": 206,
   "metadata": {
    "collapsed": false
   },
   "outputs": [
    {
     "name": "stdout",
     "output_type": "stream",
     "text": [
      "   Title     Sex  Pclass\n",
      "5     Mr    male       3\n",
      "17    Mr    male       2\n",
      "19   Mrs  female       3\n",
      "26    Mr    male       3\n",
      "28  Miss  female       3\n"
     ]
    }
   ],
   "source": [
    "mask_Age = df.Age.isnull()  # A mask where null values are True\n",
    "\n",
    "# New DataFrame with missing values for age\n",
    "Age_Sex_Title_Pclass_missing = df.loc[mask_Age, [\"Title\", \"Sex\", \"Pclass\"]]\n",
    "\n",
    "print(Age_Sex_Title_Pclass_missing[0:5])"
   ]
  },
  {
   "cell_type": "code",
   "execution_count": 207,
   "metadata": {
    "collapsed": false
   },
   "outputs": [
    {
     "name": "stdout",
     "output_type": "stream",
     "text": [
      "    Age Title     Sex  Pclass\n",
      "0  22.0    Mr    male       3\n",
      "1  38.0   Mrs  female       1\n",
      "2  26.0  Miss  female       3\n",
      "3  35.0   Mrs  female       1\n",
      "4  35.0    Mr    male       3\n",
      "Before unstacking---------\n",
      "                        Age\n",
      "Title   Pclass Sex         \n",
      "Master  1      male     4.0\n",
      "        2      male     1.0\n",
      "        3      male     4.0\n",
      "Miss    1      female  30.0\n",
      "        2      female  24.0\n",
      "        3      female  18.0\n",
      "Mr      1      male    40.0\n",
      "        2      male    31.0\n",
      "        3      male    26.0\n",
      "Mrs     1      female  40.0\n",
      "        2      female  31.5\n",
      "        3      female  31.0\n",
      "Officer 1      female  49.0\n",
      "               male    51.0\n",
      "        2      male    46.5\n",
      "Royalty 1      female  40.5\n",
      "               male    40.0\n",
      "After unstacking---------\n",
      "Sex     female              male            \n",
      "Pclass       1     2     3     1     2     3\n",
      "Title                                       \n",
      "Master     NaN   NaN   NaN   4.0   1.0   4.0\n",
      "Miss      30.0  24.0  18.0   NaN   NaN   NaN\n",
      "Mr         NaN   NaN   NaN  40.0  31.0  26.0\n",
      "Mrs       40.0  31.5  31.0   NaN   NaN   NaN\n",
      "Officer   49.0   NaN   NaN  51.0  46.5   NaN\n",
      "Royalty   40.5   NaN   NaN  40.0   NaN   NaN\n"
     ]
    }
   ],
   "source": [
    "print(Age_Sex_Title_Pclass[0:5])\n",
    "print(\"Before unstacking---------\")\n",
    "print (Filler_Ages_1)\n",
    "print(\"After unstacking---------\")\n",
    "print (Filler_Ages)"
   ]
  },
  {
   "cell_type": "markdown",
   "metadata": {},
   "source": [
    "- Make a function, Age_filler, which is applied to each of the missing dataframe."
   ]
  },
  {
   "cell_type": "code",
   "execution_count": 208,
   "metadata": {
    "collapsed": false
   },
   "outputs": [],
   "source": [
    "# Look-up function for the calculated median ages. \n",
    "def Age_filler(row):\n",
    "    if row.Sex == \"female\":\n",
    "        age = Filler_Ages.female.loc[row[\"Title\"], row[\"Pclass\"]]\n",
    "        return age\n",
    "    elif row.Sex == \"male\":\n",
    "        age = Filler_Ages.male.loc[row[\"Title\"], row[\"Pclass\"]]\n",
    "        return age\n",
    "    \n",
    "# Make a new column on \"missing\" dataframe and add the median value to each row. \n",
    "Age_Sex_Title_Pclass_missing[\"Age\"] = Age_Sex_Title_Pclass_missing.apply(Age_filler, axis= 1)\n",
    "\n",
    "# reform the 'Age' column.\n",
    "df[\"Age\"] = pd.concat([Age_Sex_Title_Pclass[\"Age\"], Age_Sex_Title_Pclass_missing[\"Age\"]])"
   ]
  },
  {
   "cell_type": "markdown",
   "metadata": {},
   "source": [
    "There is one missing Fare value to fill in:"
   ]
  },
  {
   "cell_type": "code",
   "execution_count": 209,
   "metadata": {
    "collapsed": true
   },
   "outputs": [],
   "source": [
    "# Filling in with the mean of all fares.\n",
    "df['Fare'] = df['Fare'].fillna(value=df.Fare.mean())"
   ]
  },
  {
   "cell_type": "markdown",
   "metadata": {},
   "source": [
    "Drop Cabin and Ticket.   \n",
    "Combine SibSp and Parch to create FamilySize"
   ]
  },
  {
   "cell_type": "code",
   "execution_count": 210,
   "metadata": {
    "collapsed": false
   },
   "outputs": [],
   "source": [
    "df['FamilySize'] = df['SibSp'] + df['Parch']\n",
    "df = df.drop(['Ticket', 'Cabin'], axis=1)"
   ]
  },
  {
   "cell_type": "markdown",
   "metadata": {},
   "source": [
    "Now we will use dummy variables to transform the categorical data. "
   ]
  },
  {
   "cell_type": "code",
   "execution_count": 211,
   "metadata": {
    "collapsed": false
   },
   "outputs": [
    {
     "name": "stdout",
     "output_type": "stream",
     "text": [
      "0      male\n",
      "1    female\n",
      "2    female\n",
      "Name: Sex, dtype: object\n",
      "   Sex_female  Sex_male\n",
      "0         0.0       1.0\n",
      "1         1.0       0.0\n",
      "2         1.0       0.0\n"
     ]
    }
   ],
   "source": [
    "# get_dummies splits up a column into two seperate columns of 1 and 0, where they are true or false. \n",
    "dummies_Sex = pd.get_dummies(df['Sex'], prefix='Sex')\n",
    "\n",
    "print(df['Sex'][0:3])\n",
    "print(dummies_Sex[0:3])"
   ]
  },
  {
   "cell_type": "code",
   "execution_count": 212,
   "metadata": {
    "collapsed": true
   },
   "outputs": [],
   "source": [
    "# Making dummies for the other categorical features\n",
    "dummies_Embarked = pd.get_dummies(df['Embarked'], prefix= 'Embarked') \n",
    "dummies_Pclass = pd.get_dummies(df['Pclass'], prefix= 'Pclass')\n",
    "dummies_Title = pd.get_dummies(df['Title'], prefix= 'Title')\n",
    "dummies_TicketPrefix = pd.get_dummies(df['TicketPrefix'], prefix='TicketPrefix')"
   ]
  },
  {
   "cell_type": "code",
   "execution_count": 213,
   "metadata": {
    "collapsed": false
   },
   "outputs": [],
   "source": [
    "# Make new dataframes which have the dummies added on to the end.\n",
    "df = pd.concat([df, dummies_Sex, dummies_Embarked, dummies_Pclass, dummies_Title, dummies_TicketPrefix], axis=1)\n",
    "\n",
    "# Drop the categorical data\n",
    "df = df.drop(['Sex','Embarked','Pclass','Title','Name','TicketPrefix'], axis=1)"
   ]
  },
  {
   "cell_type": "markdown",
   "metadata": {},
   "source": [
    "Finally, set PassengerId as the index:"
   ]
  },
  {
   "cell_type": "code",
   "execution_count": 214,
   "metadata": {
    "collapsed": false
   },
   "outputs": [
    {
     "data": {
      "text/html": [
       "<div>\n",
       "<table border=\"1\" class=\"dataframe\">\n",
       "  <thead>\n",
       "    <tr style=\"text-align: right;\">\n",
       "      <th></th>\n",
       "      <th>Survived</th>\n",
       "      <th>Age</th>\n",
       "      <th>SibSp</th>\n",
       "      <th>Parch</th>\n",
       "      <th>Fare</th>\n",
       "      <th>FamilySize</th>\n",
       "      <th>Sex_female</th>\n",
       "      <th>Sex_male</th>\n",
       "      <th>Embarked_C</th>\n",
       "      <th>Embarked_Q</th>\n",
       "      <th>...</th>\n",
       "      <th>TicketPrefix_SOTON/O.Q.</th>\n",
       "      <th>TicketPrefix_SOTON/O2</th>\n",
       "      <th>TicketPrefix_SOTON/OQ</th>\n",
       "      <th>TicketPrefix_STON/O</th>\n",
       "      <th>TicketPrefix_STON/O2.</th>\n",
       "      <th>TicketPrefix_SW/PP</th>\n",
       "      <th>TicketPrefix_W./C.</th>\n",
       "      <th>TicketPrefix_W.E.P.</th>\n",
       "      <th>TicketPrefix_W/C</th>\n",
       "      <th>TicketPrefix_WE/P</th>\n",
       "    </tr>\n",
       "    <tr>\n",
       "      <th>PassengerId</th>\n",
       "      <th></th>\n",
       "      <th></th>\n",
       "      <th></th>\n",
       "      <th></th>\n",
       "      <th></th>\n",
       "      <th></th>\n",
       "      <th></th>\n",
       "      <th></th>\n",
       "      <th></th>\n",
       "      <th></th>\n",
       "      <th></th>\n",
       "      <th></th>\n",
       "      <th></th>\n",
       "      <th></th>\n",
       "      <th></th>\n",
       "      <th></th>\n",
       "      <th></th>\n",
       "      <th></th>\n",
       "      <th></th>\n",
       "      <th></th>\n",
       "      <th></th>\n",
       "    </tr>\n",
       "  </thead>\n",
       "  <tbody>\n",
       "    <tr>\n",
       "      <th>1</th>\n",
       "      <td>0</td>\n",
       "      <td>22.0</td>\n",
       "      <td>1</td>\n",
       "      <td>0</td>\n",
       "      <td>7.2500</td>\n",
       "      <td>1</td>\n",
       "      <td>0.0</td>\n",
       "      <td>1.0</td>\n",
       "      <td>0.0</td>\n",
       "      <td>0.0</td>\n",
       "      <td>...</td>\n",
       "      <td>0.0</td>\n",
       "      <td>0.0</td>\n",
       "      <td>0.0</td>\n",
       "      <td>0.0</td>\n",
       "      <td>0.0</td>\n",
       "      <td>0.0</td>\n",
       "      <td>0.0</td>\n",
       "      <td>0.0</td>\n",
       "      <td>0.0</td>\n",
       "      <td>0.0</td>\n",
       "    </tr>\n",
       "    <tr>\n",
       "      <th>2</th>\n",
       "      <td>1</td>\n",
       "      <td>38.0</td>\n",
       "      <td>1</td>\n",
       "      <td>0</td>\n",
       "      <td>71.2833</td>\n",
       "      <td>1</td>\n",
       "      <td>1.0</td>\n",
       "      <td>0.0</td>\n",
       "      <td>1.0</td>\n",
       "      <td>0.0</td>\n",
       "      <td>...</td>\n",
       "      <td>0.0</td>\n",
       "      <td>0.0</td>\n",
       "      <td>0.0</td>\n",
       "      <td>0.0</td>\n",
       "      <td>0.0</td>\n",
       "      <td>0.0</td>\n",
       "      <td>0.0</td>\n",
       "      <td>0.0</td>\n",
       "      <td>0.0</td>\n",
       "      <td>0.0</td>\n",
       "    </tr>\n",
       "    <tr>\n",
       "      <th>3</th>\n",
       "      <td>1</td>\n",
       "      <td>26.0</td>\n",
       "      <td>0</td>\n",
       "      <td>0</td>\n",
       "      <td>7.9250</td>\n",
       "      <td>0</td>\n",
       "      <td>1.0</td>\n",
       "      <td>0.0</td>\n",
       "      <td>0.0</td>\n",
       "      <td>0.0</td>\n",
       "      <td>...</td>\n",
       "      <td>0.0</td>\n",
       "      <td>0.0</td>\n",
       "      <td>0.0</td>\n",
       "      <td>0.0</td>\n",
       "      <td>1.0</td>\n",
       "      <td>0.0</td>\n",
       "      <td>0.0</td>\n",
       "      <td>0.0</td>\n",
       "      <td>0.0</td>\n",
       "      <td>0.0</td>\n",
       "    </tr>\n",
       "    <tr>\n",
       "      <th>4</th>\n",
       "      <td>1</td>\n",
       "      <td>35.0</td>\n",
       "      <td>1</td>\n",
       "      <td>0</td>\n",
       "      <td>53.1000</td>\n",
       "      <td>1</td>\n",
       "      <td>1.0</td>\n",
       "      <td>0.0</td>\n",
       "      <td>0.0</td>\n",
       "      <td>0.0</td>\n",
       "      <td>...</td>\n",
       "      <td>0.0</td>\n",
       "      <td>0.0</td>\n",
       "      <td>0.0</td>\n",
       "      <td>0.0</td>\n",
       "      <td>0.0</td>\n",
       "      <td>0.0</td>\n",
       "      <td>0.0</td>\n",
       "      <td>0.0</td>\n",
       "      <td>0.0</td>\n",
       "      <td>0.0</td>\n",
       "    </tr>\n",
       "    <tr>\n",
       "      <th>5</th>\n",
       "      <td>0</td>\n",
       "      <td>35.0</td>\n",
       "      <td>0</td>\n",
       "      <td>0</td>\n",
       "      <td>8.0500</td>\n",
       "      <td>0</td>\n",
       "      <td>0.0</td>\n",
       "      <td>1.0</td>\n",
       "      <td>0.0</td>\n",
       "      <td>0.0</td>\n",
       "      <td>...</td>\n",
       "      <td>0.0</td>\n",
       "      <td>0.0</td>\n",
       "      <td>0.0</td>\n",
       "      <td>0.0</td>\n",
       "      <td>0.0</td>\n",
       "      <td>0.0</td>\n",
       "      <td>0.0</td>\n",
       "      <td>0.0</td>\n",
       "      <td>0.0</td>\n",
       "      <td>0.0</td>\n",
       "    </tr>\n",
       "  </tbody>\n",
       "</table>\n",
       "<p>5 rows × 64 columns</p>\n",
       "</div>"
      ],
      "text/plain": [
       "             Survived   Age  SibSp  Parch     Fare  FamilySize  Sex_female  \\\n",
       "PassengerId                                                                  \n",
       "1                   0  22.0      1      0   7.2500           1         0.0   \n",
       "2                   1  38.0      1      0  71.2833           1         1.0   \n",
       "3                   1  26.0      0      0   7.9250           0         1.0   \n",
       "4                   1  35.0      1      0  53.1000           1         1.0   \n",
       "5                   0  35.0      0      0   8.0500           0         0.0   \n",
       "\n",
       "             Sex_male  Embarked_C  Embarked_Q        ...          \\\n",
       "PassengerId                                          ...           \n",
       "1                 1.0         0.0         0.0        ...           \n",
       "2                 0.0         1.0         0.0        ...           \n",
       "3                 0.0         0.0         0.0        ...           \n",
       "4                 0.0         0.0         0.0        ...           \n",
       "5                 1.0         0.0         0.0        ...           \n",
       "\n",
       "             TicketPrefix_SOTON/O.Q.  TicketPrefix_SOTON/O2  \\\n",
       "PassengerId                                                   \n",
       "1                                0.0                    0.0   \n",
       "2                                0.0                    0.0   \n",
       "3                                0.0                    0.0   \n",
       "4                                0.0                    0.0   \n",
       "5                                0.0                    0.0   \n",
       "\n",
       "             TicketPrefix_SOTON/OQ  TicketPrefix_STON/O  \\\n",
       "PassengerId                                               \n",
       "1                              0.0                  0.0   \n",
       "2                              0.0                  0.0   \n",
       "3                              0.0                  0.0   \n",
       "4                              0.0                  0.0   \n",
       "5                              0.0                  0.0   \n",
       "\n",
       "             TicketPrefix_STON/O2.  TicketPrefix_SW/PP  TicketPrefix_W./C.  \\\n",
       "PassengerId                                                                  \n",
       "1                              0.0                 0.0                 0.0   \n",
       "2                              0.0                 0.0                 0.0   \n",
       "3                              1.0                 0.0                 0.0   \n",
       "4                              0.0                 0.0                 0.0   \n",
       "5                              0.0                 0.0                 0.0   \n",
       "\n",
       "             TicketPrefix_W.E.P.  TicketPrefix_W/C  TicketPrefix_WE/P  \n",
       "PassengerId                                                            \n",
       "1                            0.0               0.0                0.0  \n",
       "2                            0.0               0.0                0.0  \n",
       "3                            0.0               0.0                0.0  \n",
       "4                            0.0               0.0                0.0  \n",
       "5                            0.0               0.0                0.0  \n",
       "\n",
       "[5 rows x 64 columns]"
      ]
     },
     "execution_count": 214,
     "metadata": {},
     "output_type": "execute_result"
    }
   ],
   "source": [
    "df = df.set_index(['PassengerId'])\n",
    "\n",
    "df.head()"
   ]
  },
  {
   "cell_type": "markdown",
   "metadata": {},
   "source": [
    "#### Feature Selection\n",
    "\n",
    "To select features we will correlate each feature against Survived. We need to use different algorithms for the different data types:\n",
    "\n",
    "- Spearman-Rank correlation for nominal vs nominal data\n",
    "- Point-Biserial correlation for nominal vs continuous data"
   ]
  },
  {
   "cell_type": "code",
   "execution_count": 215,
   "metadata": {
    "collapsed": true
   },
   "outputs": [],
   "source": [
    "# Put the column names into a list called columns\n",
    "columns = df.columns.values\n",
    "\n",
    "# initiate lists to store results\n",
    "param = []\n",
    "correlation = []\n",
    "abs_corr=[]"
   ]
  },
  {
   "cell_type": "code",
   "execution_count": 216,
   "metadata": {
    "collapsed": false
   },
   "outputs": [
    {
     "name": "stdout",
     "output_type": "stream",
     "text": [
      "64\n",
      "Survived\n",
      "Age\n",
      "SibSp\n",
      "Parch\n",
      "Fare\n",
      "FamilySize\n",
      "Sex_female\n",
      "Sex_male\n",
      "Embarked_C\n",
      "Embarked_Q\n"
     ]
    },
    {
     "data": {
      "text/plain": [
       "[None, None, None, None, None, None, None, None, None, None]"
      ]
     },
     "execution_count": 216,
     "metadata": {},
     "output_type": "execute_result"
    }
   ],
   "source": [
    "print(len(columns))\n",
    "#[print(type(df[c])) for c in columns][0:10]\n",
    "[print(\"%s\"%c) for c in columns[0:10]]"
   ]
  },
  {
   "cell_type": "code",
   "execution_count": 217,
   "metadata": {
    "collapsed": false
   },
   "outputs": [],
   "source": [
    "for c in columns:\n",
    "    # Check if binary or continuous\n",
    "    if len(df[c].unique())<=2:\n",
    "        corr = spearmanr(df['Survived'], df[c])[0]   # apply spearmanr if\n",
    "    else:\n",
    "        corr = pointbiserialr(df['Survived'], df[c])[0]\n",
    "    \n",
    "    param.append(c) # name of feature\n",
    "    correlation.append(corr) # associated correlation\n",
    "    abs_corr.append(abs(corr))# get rid of -ve values"
   ]
  },
  {
   "cell_type": "code",
   "execution_count": 218,
   "metadata": {
    "collapsed": false
   },
   "outputs": [
    {
     "name": "stdout",
     "output_type": "stream",
     "text": [
      "[1.0, -0.062899950141403885, -0.035322498885735583, 0.081629407083483485, 0.25730652238496243]\n",
      "[1.0, 0.062899950141403885, 0.035322498885735583, 0.081629407083483485, 0.25730652238496243]\n"
     ]
    }
   ],
   "source": [
    "print(correlation[0:5])\n",
    "print(abs_corr[0:5])"
   ]
  },
  {
   "cell_type": "code",
   "execution_count": 219,
   "metadata": {
    "collapsed": false
   },
   "outputs": [
    {
     "name": "stdout",
     "output_type": "stream",
     "text": [
      "64\n"
     ]
    },
    {
     "data": {
      "text/html": [
       "<div>\n",
       "<table border=\"1\" class=\"dataframe\">\n",
       "  <thead>\n",
       "    <tr style=\"text-align: right;\">\n",
       "      <th></th>\n",
       "      <th>abs_corr</th>\n",
       "      <th>correlation</th>\n",
       "    </tr>\n",
       "    <tr>\n",
       "      <th>parameter</th>\n",
       "      <th></th>\n",
       "      <th></th>\n",
       "    </tr>\n",
       "  </thead>\n",
       "  <tbody>\n",
       "    <tr>\n",
       "      <th>Survived</th>\n",
       "      <td>1.000000</td>\n",
       "      <td>1.000000</td>\n",
       "    </tr>\n",
       "    <tr>\n",
       "      <th>Title_Mr</th>\n",
       "      <td>0.549199</td>\n",
       "      <td>-0.549199</td>\n",
       "    </tr>\n",
       "    <tr>\n",
       "      <th>Sex_male</th>\n",
       "      <td>0.543351</td>\n",
       "      <td>-0.543351</td>\n",
       "    </tr>\n",
       "    <tr>\n",
       "      <th>Sex_female</th>\n",
       "      <td>0.543351</td>\n",
       "      <td>0.543351</td>\n",
       "    </tr>\n",
       "    <tr>\n",
       "      <th>Title_Mrs</th>\n",
       "      <td>0.344935</td>\n",
       "      <td>0.344935</td>\n",
       "    </tr>\n",
       "    <tr>\n",
       "      <th>Title_Miss</th>\n",
       "      <td>0.332795</td>\n",
       "      <td>0.332795</td>\n",
       "    </tr>\n",
       "    <tr>\n",
       "      <th>Pclass_3</th>\n",
       "      <td>0.322308</td>\n",
       "      <td>-0.322308</td>\n",
       "    </tr>\n",
       "    <tr>\n",
       "      <th>Pclass_1</th>\n",
       "      <td>0.285904</td>\n",
       "      <td>0.285904</td>\n",
       "    </tr>\n",
       "    <tr>\n",
       "      <th>Fare</th>\n",
       "      <td>0.257307</td>\n",
       "      <td>0.257307</td>\n",
       "    </tr>\n",
       "    <tr>\n",
       "      <th>Embarked_C</th>\n",
       "      <td>0.168240</td>\n",
       "      <td>0.168240</td>\n",
       "    </tr>\n",
       "  </tbody>\n",
       "</table>\n",
       "</div>"
      ],
      "text/plain": [
       "            abs_corr  correlation\n",
       "parameter                        \n",
       "Survived    1.000000     1.000000\n",
       "Title_Mr    0.549199    -0.549199\n",
       "Sex_male    0.543351    -0.543351\n",
       "Sex_female  0.543351     0.543351\n",
       "Title_Mrs   0.344935     0.344935\n",
       "Title_Miss  0.332795     0.332795\n",
       "Pclass_3    0.322308    -0.322308\n",
       "Pclass_1    0.285904     0.285904\n",
       "Fare        0.257307     0.257307\n",
       "Embarked_C  0.168240     0.168240"
      ]
     },
     "execution_count": 219,
     "metadata": {},
     "output_type": "execute_result"
    }
   ],
   "source": [
    "# Create dataFrame for visualisation\n",
    "param_df = pd.DataFrame({'correlation':correlation, 'parameter':param, 'abs_corr':abs_corr})\n",
    "\n",
    "# Sort by absolute correlation\n",
    "param_df = param_df.sort_values(by=['abs_corr'], ascending=False)\n",
    "\n",
    "# Set parameter name as index\n",
    "param_df = param_df.set_index('parameter')\n",
    "\n",
    "print(len(param_df))\n",
    "param_df[0:10]"
   ]
  },
  {
   "cell_type": "code",
   "execution_count": 220,
   "metadata": {
    "collapsed": false
   },
   "outputs": [
    {
     "name": "stdout",
     "output_type": "stream",
     "text": [
      "Survived                   0\n",
      "Age                        0\n",
      "SibSp                      0\n",
      "Parch                      0\n",
      "Fare                       0\n",
      "FamilySize                 0\n",
      "Sex_female                 0\n",
      "Sex_male                   0\n",
      "Embarked_C                 0\n",
      "Embarked_Q                 0\n",
      "Embarked_S                 0\n",
      "Pclass_1                   0\n",
      "Pclass_2                   0\n",
      "Pclass_3                   0\n",
      "Title_Master               0\n",
      "Title_Miss                 0\n",
      "Title_Mr                   0\n",
      "Title_Mrs                  0\n",
      "Title_Officer              0\n",
      "Title_Royalty              0\n",
      "TicketPrefix_A./5.         0\n",
      "TicketPrefix_A.5.          0\n",
      "TicketPrefix_A/4           0\n",
      "TicketPrefix_A/4.          0\n",
      "TicketPrefix_A/5           0\n",
      "TicketPrefix_A/5.          0\n",
      "TicketPrefix_A/S           0\n",
      "TicketPrefix_A4.           0\n",
      "TicketPrefix_C             0\n",
      "TicketPrefix_C.A.          0\n",
      "                          ..\n",
      "TicketPrefix_F.C.C.        0\n",
      "TicketPrefix_Fa            0\n",
      "TicketPrefix_LINE          0\n",
      "TicketPrefix_NoClue        0\n",
      "TicketPrefix_P/PP          0\n",
      "TicketPrefix_PC            0\n",
      "TicketPrefix_PP            0\n",
      "TicketPrefix_S.C./A.4.     0\n",
      "TicketPrefix_S.C./PARIS    0\n",
      "TicketPrefix_S.O./P.P.     0\n",
      "TicketPrefix_S.O.C.        0\n",
      "TicketPrefix_S.O.P.        0\n",
      "TicketPrefix_S.P.          0\n",
      "TicketPrefix_S.W./PP       0\n",
      "TicketPrefix_SC            0\n",
      "TicketPrefix_SC/AH         0\n",
      "TicketPrefix_SC/PARIS      0\n",
      "TicketPrefix_SC/Paris      0\n",
      "TicketPrefix_SCO/W         0\n",
      "TicketPrefix_SO/C          0\n",
      "TicketPrefix_SOTON/O.Q.    0\n",
      "TicketPrefix_SOTON/O2      0\n",
      "TicketPrefix_SOTON/OQ      0\n",
      "TicketPrefix_STON/O        0\n",
      "TicketPrefix_STON/O2.      0\n",
      "TicketPrefix_SW/PP         0\n",
      "TicketPrefix_W./C.         0\n",
      "TicketPrefix_W.E.P.        0\n",
      "TicketPrefix_W/C           0\n",
      "TicketPrefix_WE/P          0\n",
      "dtype: int64\n"
     ]
    }
   ],
   "source": [
    "print(df.isnull().sum())"
   ]
  },
  {
   "cell_type": "markdown",
   "metadata": {},
   "source": [
    "Now that we have our correlation, we can use the Decision Tree classifier to see the score against feature space"
   ]
  },
  {
   "cell_type": "code",
   "execution_count": 222,
   "metadata": {
    "collapsed": false
   },
   "outputs": [],
   "source": [
    "scoresCV = []\n",
    "scores = []\n",
    "\n",
    "# Loop over each of the 64 different parameters\n",
    "for i in range(1, len(param_df)):\n",
    "    \n",
    "    # Make a new dataframe for each feature(selected by df[])\n",
    "    new_df = df[param_df.index[0:i+1].values]\n",
    "    \n",
    "    # .ix supports mixed labels and integer. It can do what .loc and .iloc. both do.\n",
    "    # X is abs_corr\n",
    "    X = new_df.ix[:,1::]\n",
    "    #print(X)\n",
    "    \n",
    "    # y is corr\n",
    "    y = new_df.ix[:,0]\n",
    "    \n",
    "    # initialise a DecisionTreeClassifier object\n",
    "    clf = DecisionTreeClassifier()\n",
    "    \n",
    "    # cross_val_score, returns: Array of scores of the estimator for each run of the cross validation.\n",
    "    # (estimators, data-to-fit, target-variable-to-predict, cv(determines the cross-validation splitting strategy))\n",
    "    scoreCV = sklearn.cross_validation.cross_val_score(clf, X, y, cv = 10)\n",
    "    \n",
    "    # save the mean of all the runs\n",
    "    scores.append(np.mean(scoreCV))\n"
   ]
  },
  {
   "cell_type": "code",
   "execution_count": 228,
   "metadata": {
    "collapsed": false
   },
   "outputs": [
    {
     "name": "stdout",
     "output_type": "stream",
     "text": [
      "['Survived']\n",
      "['Survived', 'Title_Mr', 'Sex_male']\n",
      "63\n"
     ]
    }
   ],
   "source": [
    "new_df = df[param_df.index[0:1].values]\n",
    "print(list(new_df))\n",
    "new_df = df[param_df.index[0:3].values]\n",
    "print(list(new_df))\n",
    "print(len(scores))"
   ]
  },
  {
   "cell_type": "markdown",
   "metadata": {},
   "source": [
    "Plot the scores for different numbers of features"
   ]
  },
  {
   "cell_type": "code",
   "execution_count": 223,
   "metadata": {
    "collapsed": false
   },
   "outputs": [
    {
     "data": {
      "image/png": "[encoded data removed]",
      "text/plain": [
       "<matplotlib.figure.Figure at 0x7fd65c091ba8>"
      ]
     },
     "metadata": {},
     "output_type": "display_data"
    }
   ],
   "source": [
    "plt.figure(figsize=(15,5))\n",
    "plt.plot(range(1,len(scores)+1), scores, '.-')\n",
    "plt.axis(\"tight\")\n",
    "plt.title('Feature Selection', fontsize=14)\n",
    "plt.xlabel('# Features', fontsize=12)\n",
    "plt.ylabel('Score', fontsize=12)\n",
    "plt.grid();"
   ]
  },
  {
   "cell_type": "markdown",
   "metadata": {},
   "source": [
    "Does the cross validation score not depend on WHICH features are selected? We put the parameters in order of most highly correlated to lowest. \n",
    "\n",
    "Based on the plot, a feature space of 10 dimensions (the top 10 most highly correlating features) provides the most reliable result while avoiding overfit."
   ]
  },
  {
   "cell_type": "code",
   "execution_count": 229,
   "metadata": {
    "collapsed": false
   },
   "outputs": [
    {
     "name": "stdout",
     "output_type": "stream",
     "text": [
      "Best features:\t ['Title_Mr' 'Sex_male' 'Sex_female' 'Title_Mrs' 'Title_Miss' 'Pclass_3'\n",
      " 'Pclass_1' 'Fare' 'Embarked_C' 'Embarked_S']\n"
     ]
    }
   ],
   "source": [
    "best_features=param_df.index[1:10+1].values\n",
    "print('Best features:\\t',best_features)"
   ]
  },
  {
   "cell_type": "markdown",
   "metadata": {},
   "source": [
    "Looking at them in histograms"
   ]
  },
  {
   "cell_type": "code",
   "execution_count": 230,
   "metadata": {
    "collapsed": false
   },
   "outputs": [
    {
     "data": {
      "text/plain": [
       "array([[<matplotlib.axes._subplots.AxesSubplot object at 0x7fd65c09f588>,\n",
       "        <matplotlib.axes._subplots.AxesSubplot object at 0x7fd655752ba8>,\n",
       "        <matplotlib.axes._subplots.AxesSubplot object at 0x7fd65571bef0>],\n",
       "       [<matplotlib.axes._subplots.AxesSubplot object at 0x7fd6556d5a90>,\n",
       "        <matplotlib.axes._subplots.AxesSubplot object at 0x7fd6556a0cc0>,\n",
       "        <matplotlib.axes._subplots.AxesSubplot object at 0x7fd65c09bc88>],\n",
       "       [<matplotlib.axes._subplots.AxesSubplot object at 0x7fd65dbb3f28>,\n",
       "        <matplotlib.axes._subplots.AxesSubplot object at 0x7fd65dbaf5f8>,\n",
       "        <matplotlib.axes._subplots.AxesSubplot object at 0x7fd655651ba8>],\n",
       "       [<matplotlib.axes._subplots.AxesSubplot object at 0x7fd655682dd8>,\n",
       "        <matplotlib.axes._subplots.AxesSubplot object at 0x7fd65562e908>,\n",
       "        <matplotlib.axes._subplots.AxesSubplot object at 0x7fd6555f9320>]], dtype=object)"
      ]
     },
     "execution_count": 230,
     "metadata": {},
     "output_type": "execute_result"
    },
    {
     "data": {
      "image/png": "[encoded data removed]",
      "text/plain": [
       "<matplotlib.figure.Figure at 0x7fd65db747f0>"
      ]
     },
     "metadata": {},
     "output_type": "display_data"
    }
   ],
   "source": [
    "df[best_features].hist(figsize=(20,15))"
   ]
  },
  {
   "cell_type": "code",
   "execution_count": null,
   "metadata": {
    "collapsed": true
   },
   "outputs": [],
   "source": []
  }
 ],
 "metadata": {
  "kernelspec": {
   "display_name": "Python [Root]",
   "language": "python",
   "name": "Python [Root]"
  },
  "language_info": {
   "codemirror_mode": {
    "name": "ipython",
    "version": 3
   },
   "file_extension": ".py",
   "mimetype": "text/x-python",
   "name": "python",
   "nbconvert_exporter": "python",
   "pygments_lexer": "ipython3",
   "version": "3.5.2"
  }
 },
 "nbformat": 4,
 "nbformat_minor": 0
}
