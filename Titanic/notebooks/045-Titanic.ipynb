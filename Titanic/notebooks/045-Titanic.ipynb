{
 "cells": [
  {
   "cell_type": "code",
   "execution_count": 306,
   "metadata": {
    "collapsed": true
   },
   "outputs": [],
   "source": [
    "import csv as csv\n",
    "import numpy as np\n",
    "\n",
    "#open the csv file in to a Python object. Changed rb(bytes) to rt(text)\n",
    "csv_file_object = csv.reader(open('/home/sophie/projects/Titanic/data/train.csv', 'rt'))\n",
    "\n",
    "# Changed from header = csv_file_object.next()\n",
    "\n",
    "header = next(csv_file_object)"
   ]
  },
  {
   "cell_type": "code",
   "execution_count": 307,
   "metadata": {
    "collapsed": true
   },
   "outputs": [],
   "source": [
    "data1 = []\n",
    "for row in csv_file_object:\n",
    "    data1.append(row)        # row is a line of data in csv_file_object. It is added to a variable\n",
    "data = np.array(data1)      # Don't understand how this produces the something where you can view the data, you can't \n",
    "                            # with 'data1'"
   ]
  },
  {
   "cell_type": "markdown",
   "metadata": {},
   "source": [
    "Just like before, you can ask what indices in your data equals female, 1st class, and paid more than \\$30. The problem is that looping through requires bins of equal sizes, i.e. \\$0-9,  \\$10-19,  \\$20-29,  \\$30-39.  For the sake of binning let's say everything equal to and above 40 \"equals\" 39 so it falls in this bin. So then you can set the bins:"
   ]
  },
  {
   "cell_type": "code",
   "execution_count": 308,
   "metadata": {
    "collapsed": false
   },
   "outputs": [
    {
     "name": "stdout",
     "output_type": "stream",
     "text": [
      "['PassengerId', 'Survived', 'Pclass', 'Name', 'Sex', 'Age', 'SibSp', 'Parch', 'Ticket', 'Fare', 'Cabin', 'Embarked']\n",
      "['3' '1' '3' '1' '3']\n"
     ]
    }
   ],
   "source": [
    "print(header)\n",
    "print(data[0:5,2])"
   ]
  },
  {
   "cell_type": "code",
   "execution_count": 309,
   "metadata": {
    "collapsed": false
   },
   "outputs": [],
   "source": [
    "# we add a ceiling\n",
    "fare_ceiling = 40\n",
    "\n",
    "# if value in Fare column 9 greater than or = 40, make it equal to 39.\n",
    "data[data[0::,9].astype(np.float) >= fare_ceiling, 9] = fare_ceiling -1.0\n",
    "\n",
    "fare_bracket_size = 10\n",
    "number_of_price_brackets = int(fare_ceiling / fare_bracket_size) # had to specify an int (python 3!)\n",
    "\n",
    "# We know there were 1st, 2nd and 3rd class on board\n",
    "number_of_classes = 3\n",
    "\n",
    "# However, it's better practise to calculate this from the data directly\n",
    "# Take the length of an array of unique values in column index 2\n",
    "number_of_classes = len(np.unique(data[:,2]))\n",
    "\n",
    "# Initialize the survival table with all zeros\n",
    "survival_table = np.zeros ((2,number_of_classes, number_of_price_brackets))"
   ]
  },
  {
   "cell_type": "markdown",
   "metadata": {},
   "source": [
    "Now that theses are set up, you can loop through each variable and find all those passangers that agree with the statements:"
   ]
  },
  {
   "cell_type": "code",
   "execution_count": 310,
   "metadata": {
    "collapsed": false
   },
   "outputs": [
    {
     "name": "stdout",
     "output_type": "stream",
     "text": [
      "4\n",
      "[ 3.  1.  3.  1.  3.]\n"
     ]
    }
   ],
   "source": [
    "print (number_of_price_brackets)\n",
    "print(data[:,2].astype(np.float)[0:5])"
   ]
  },
  {
   "cell_type": "code",
   "execution_count": 311,
   "metadata": {
    "collapsed": false
   },
   "outputs": [
    {
     "name": "stderr",
     "output_type": "stream",
     "text": [
      "/home/sophie/anaconda2/envs/py3/lib/python3.5/site-packages/numpy/core/_methods.py:59: RuntimeWarning: Mean of empty slice.\n",
      "  warnings.warn(\"Mean of empty slice.\", RuntimeWarning)\n",
      "/home/sophie/anaconda2/envs/py3/lib/python3.5/site-packages/numpy/core/_methods.py:70: RuntimeWarning: invalid value encountered in double_scalars\n",
      "  ret = ret.dtype.type(ret / rcount)\n"
     ]
    }
   ],
   "source": [
    "for i in range(number_of_classes):  # loop through each class\n",
    "    for j in range(number_of_price_brackets):    # loop through each price bin \n",
    "        \n",
    "        # which element is a female and was the ith class, was greater than this bin and less than the next bin in the \n",
    "        # 2nd column?\n",
    "        women_only_stats = data[(data[:,4] == \"female\") \n",
    "                               & (data[:,2].astype(np.float) == i + 1) \n",
    "                               & (data[:,9].astype(np.float) >= j*fare_bracket_size)\n",
    "                               & (data[:,9].astype(np.float) < (j + 1)* fare_bracket_size),1]\n",
    "        men_only_stats = data[(data[:,4] != \"female\") \n",
    "                               & (data[:,2].astype(np.float) == i + 1) \n",
    "                               & (data[:,9].astype(np.float) >= j*fare_bracket_size)\n",
    "                               & (data[:,9].astype(np.float) < (j + 1)* fare_bracket_size),1]\n",
    "        \n",
    "        survival_table[0,i,j] = np.mean(women_only_stats.astype(np.float))\n",
    "        survival_table[1,i,j] = np.mean(men_only_stats.astype(np.float))"
   ]
  },
  {
   "cell_type": "markdown",
   "metadata": {},
   "source": [
    "This will give us a matrix (survival table) which is [2,3,4], or two [3,4] arrays. The first corresponds to females, the second to males. "
   ]
  },
  {
   "cell_type": "markdown",
   "metadata": {},
   "source": [
    "Inreality females didn't really pay for their first class tickets, so python will return a nan for the mean since it is dividing by 0. To fix this, we set them to 0 using this simple statement:"
   ]
  },
  {
   "cell_type": "code",
   "execution_count": 312,
   "metadata": {
    "collapsed": true
   },
   "outputs": [],
   "source": [
    "survival_table[survival_table != survival_table] = 0"
   ]
  },
  {
   "cell_type": "code",
   "execution_count": 313,
   "metadata": {
    "collapsed": false
   },
   "outputs": [
    {
     "name": "stdout",
     "output_type": "stream",
     "text": [
      "[[[ 0.          0.          0.83333333  0.97727273]\n",
      "  [ 0.          0.91428571  0.9         1.        ]\n",
      "  [ 0.59375     0.58139535  0.33333333  0.125     ]]\n",
      "\n",
      " [[ 0.          0.          0.4         0.38372093]\n",
      "  [ 0.          0.15873016  0.16        0.21428571]\n",
      "  [ 0.11153846  0.23684211  0.125       0.24      ]]]\n"
     ]
    }
   ],
   "source": [
    "print(survival_table)"
   ]
  },
  {
   "cell_type": "markdown",
   "metadata": {},
   "source": [
    "Each number is the proportion of survivors for that criteria of passengers. e.g 0.914285 signifies 91.4% female, Pclass = 2, in the Far bin of 10-19. \n",
    "For our second model, lets again assume any probability > = 0.5 should result in our predictin survival < 0.5, not.\n",
    "Updating the survival table:"
   ]
  },
  {
   "cell_type": "code",
   "execution_count": 314,
   "metadata": {
    "collapsed": true
   },
   "outputs": [],
   "source": [
    "# Rather than probability of survival we have binary yes/no they survived\n",
    "\n",
    "survival_table[survival_table < 0.5] = 0\n",
    "survival_table[survival_table >= 0.5] = 1"
   ]
  },
  {
   "cell_type": "code",
   "execution_count": 315,
   "metadata": {
    "collapsed": false
   },
   "outputs": [
    {
     "name": "stdout",
     "output_type": "stream",
     "text": [
      "[[[ 0.  0.  1.  1.]\n",
      "  [ 0.  1.  1.  1.]\n",
      "  [ 1.  1.  0.  0.]]\n",
      "\n",
      " [[ 0.  0.  0.  0.]\n",
      "  [ 0.  0.  0.  0.]\n",
      "  [ 0.  0.  0.  0.]]]\n",
      "(2, 3, 4)\n"
     ]
    }
   ],
   "source": [
    "print(survival_table)\n",
    "print(survival_table.shape)"
   ]
  },
  {
   "cell_type": "markdown",
   "metadata": {},
   "source": [
    "As before, lets open up the test file to read(skipping the header row) and a new file to write to, called 'genderclassmodel.csv'"
   ]
  },
  {
   "cell_type": "code",
   "execution_count": 316,
   "metadata": {
    "collapsed": true
   },
   "outputs": [],
   "source": [
    "test_file = open('/home/sophie/projects/Titanic/data/test.csv', 'rt')\n",
    "test_file_object = csv.reader(test_file)\n",
    "header = next(test_file_object)"
   ]
  },
  {
   "cell_type": "code",
   "execution_count": 317,
   "metadata": {
    "collapsed": false
   },
   "outputs": [
    {
     "name": "stdout",
     "output_type": "stream",
     "text": [
      "['PassengerId', 'Pclass', 'Name', 'Sex', 'Age', 'SibSp', 'Parch', 'Ticket', 'Fare', 'Cabin', 'Embarked']\n"
     ]
    }
   ],
   "source": [
    "print(header)"
   ]
  },
  {
   "cell_type": "code",
   "execution_count": 318,
   "metadata": {
    "collapsed": false
   },
   "outputs": [
    {
     "data": {
      "text/plain": [
       "22"
      ]
     },
     "execution_count": 318,
     "metadata": {},
     "output_type": "execute_result"
    }
   ],
   "source": [
    "# Did each passenger survive? based on our survival table above.\n",
    "predictions_file = open(\"/home/sophie/projects/Titanic/data/genderclassmodel.csv\",\"wt\")\n",
    "p = csv.writer(predictions_file)\n",
    "p.writerow([\"PassengerId\", \"Survived\"])"
   ]
  },
  {
   "cell_type": "markdown",
   "metadata": {},
   "source": [
    "As with the previous model, we can take the first passenger, look at his/her gender, class and price fo ticket and find the assigned Survived label. The problem is that each passenger in the test.csv file is not binned. We need to loop through each bin and see if the price of their ticket falls in that bin. If so, we break the loop (so as not to go through all of the bins) and assign that bin:"
   ]
  },
  {
   "cell_type": "code",
   "execution_count": 319,
   "metadata": {
    "collapsed": false
   },
   "outputs": [
    {
     "name": "stderr",
     "output_type": "stream",
     "text": [
      "/home/sophie/anaconda2/envs/py3/lib/python3.5/site-packages/ipykernel/__main__.py:26: DeprecationWarning: using a non-integer number instead of an integer will result in an error in the future\n",
      "/home/sophie/anaconda2/envs/py3/lib/python3.5/site-packages/ipykernel/__main__.py:24: DeprecationWarning: using a non-integer number instead of an integer will result in an error in the future\n"
     ]
    }
   ],
   "source": [
    "# Loop through each passenger in the test. We only have a price in column 9, price bin.\n",
    "# So, we check to see if a ticket is in a bin and assign that bin.\n",
    "for row in test_file_object:\n",
    "    \n",
    "    for j in range(number_of_price_brackets):  # 4 price brackets\n",
    "        try:\n",
    "            row[8] = float(row[8])    # some passengers have no data. If there is no data (can't make a float) then...\n",
    "        except:\n",
    "            bin_fare = 3 - float(row[1])  # bin the the fare according to class and break from the loop\n",
    "            break                           \n",
    "            \n",
    "        if row[8] > fare_ceiling:  # if there is data and ticket price is > 40: then put in the top bin...\n",
    "            \n",
    "            bin_fare = number_of_price_brackets -1  # then put in the top bin and break loop\n",
    "            break\n",
    "            \n",
    "        if (row[8] >= j * fare_bracket_size) & (row[8] < (j + 1) * fare_bracket_size):\n",
    "            # e.g. j = 2 ---> row[8] >= 20 and row[8] < 30, then it will be bin 2. Index 2 for the lookup table \n",
    "            \n",
    "            bin_fare = j\n",
    "            break\n",
    "            \n",
    "    if row[3] == \"female\":\n",
    "        p.writerow([row[0], \"%d\" % int(survival_table[0,float(int(row[1]))-1, bin_fare])])  # row[1] had to be an int\n",
    "    else:\n",
    "        p.writerow([row[0],\"%d\" % int(survival_table[1,float(int(row[1]))-1, bin_fare])])   \n"
   ]
  },
  {
   "cell_type": "markdown",
   "metadata": {},
   "source": [
    "Now that we have determined the binned ticket price(bin_fare), we can see if the passenger if female (row[3], find their Pclass[1]) and lookup the relevant elements in survival table. Convert value to int for Kaggle prediction file."
   ]
  },
  {
   "cell_type": "code",
   "execution_count": 320,
   "metadata": {
    "collapsed": false
   },
   "outputs": [],
   "source": [
    "test_file.close()\n",
    "predictions_file.close()"
   ]
  }
 ],
 "metadata": {
  "kernelspec": {
   "display_name": "Python 3",
   "language": "python",
   "name": "python3"
  },
  "language_info": {
   "codemirror_mode": {
    "name": "ipython",
    "version": 3
   },
   "file_extension": ".py",
   "mimetype": "text/x-python",
   "name": "python",
   "nbconvert_exporter": "python",
   "pygments_lexer": "ipython3",
   "version": "3.5.1"
  }
 },
 "nbformat": 4,
 "nbformat_minor": 0
}
