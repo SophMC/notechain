{
 "cells": [
  {
   "cell_type": "markdown",
   "metadata": {},
   "source": [
    "## Exploring Survival On The Titanic (Python)\n",
    "#### Converting into python, from r, some of the ideas from Megan Risdals brilliant analysis - https://www.kaggle.com/mrisdal/titanic/exploring-survival-on-the-titanic/comments to see if I can improve my score.\n",
    "\n",
    "- Feature Engineering\n",
    "- Missing Value Imputation\n",
    "- Prediction"
   ]
  },
  {
   "cell_type": "code",
   "execution_count": 112,
   "metadata": {
    "collapsed": false
   },
   "outputs": [
    {
     "name": "stdout",
     "output_type": "stream",
     "text": [
      "Libraries Ready!\n"
     ]
    }
   ],
   "source": [
    "# Import libraries\n",
    "\n",
    "import numpy as np\n",
    "from numpy.random import random_integers\n",
    "from collections import Counter\n",
    "import pandas as pd\n",
    "import matplotlib.pyplot as plt\n",
    "from sklearn.ensemble import RandomForestClassifier\n",
    "%matplotlib inline\n",
    "\n",
    "print('Libraries Ready!')"
   ]
  },
  {
   "cell_type": "code",
   "execution_count": 113,
   "metadata": {
    "collapsed": false
   },
   "outputs": [],
   "source": [
    "# Load training and test data\n",
    "train = pd.read_csv('/home/sophie/projects/Titanic/data/train.csv', header=0)\n",
    "test = pd.read_csv('/home/sophie/projects/Titanic/data/test.csv', header=0)\n",
    "\n",
    "# bind training & test data so we can apply all the following changes to both in one go.\n",
    "full = pd.concat([train,test])"
   ]
  },
  {
   "cell_type": "code",
   "execution_count": 114,
   "metadata": {
    "collapsed": false
   },
   "outputs": [
    {
     "name": "stdout",
     "output_type": "stream",
     "text": [
      "1309\n",
      "1309\n",
      "(1309, 12)\n",
      "    Age Cabin Embarked     Fare  \\\n",
      "0  22.0   NaN        S   7.2500   \n",
      "1  38.0   C85        C  71.2833   \n",
      "2  26.0   NaN        S   7.9250   \n",
      "3  35.0  C123        S  53.1000   \n",
      "4  35.0   NaN        S   8.0500   \n",
      "\n",
      "                                                Name  Parch  PassengerId  \\\n",
      "0                            Braund, Mr. Owen Harris      0            1   \n",
      "1  Cumings, Mrs. John Bradley (Florence Briggs Th...      0            2   \n",
      "2                             Heikkinen, Miss. Laina      0            3   \n",
      "3       Futrelle, Mrs. Jacques Heath (Lily May Peel)      0            4   \n",
      "4                           Allen, Mr. William Henry      0            5   \n",
      "\n",
      "   Pclass     Sex  SibSp  Survived            Ticket  \n",
      "0       3    male      1       0.0         A/5 21171  \n",
      "1       1  female      1       1.0          PC 17599  \n",
      "2       3  female      0       1.0  STON/O2. 3101282  \n",
      "3       1  female      1       1.0            113803  \n",
      "4       3    male      0       0.0            373450  \n",
      "['Age', 'Cabin', 'Embarked', 'Fare', 'Name', 'Parch', 'PassengerId', 'Pclass', 'Sex', 'SibSp', 'Survived', 'Ticket']\n",
      "['PassengerId', 'Survived', 'Pclass', 'Name', 'Sex', 'Age', 'SibSp', 'Parch', 'Ticket', 'Fare', 'Cabin', 'Embarked']\n",
      "['PassengerId', 'Pclass', 'Name', 'Sex', 'Age', 'SibSp', 'Parch', 'Ticket', 'Fare', 'Cabin', 'Embarked']\n"
     ]
    }
   ],
   "source": [
    "print(len(full))\n",
    "print(len(train)+len(test))\n",
    "print(full.shape)\n",
    "print(full.head())\n",
    "print(list(full))\n",
    "print(list(train))\n",
    "print(list(test))"
   ]
  },
  {
   "cell_type": "code",
   "execution_count": 115,
   "metadata": {
    "collapsed": false
   },
   "outputs": [
    {
     "name": "stdout",
     "output_type": "stream",
     "text": [
      "891\n"
     ]
    }
   ],
   "source": [
    "# rows, columns with iloc\n",
    "print(train.PassengerId.iloc[-1])\n",
    "\n",
    "# This will be where we want to split it in the end."
   ]
  },
  {
   "cell_type": "markdown",
   "metadata": {},
   "source": [
    "### Feature Engineering"
   ]
  },
  {
   "cell_type": "code",
   "execution_count": 116,
   "metadata": {
    "collapsed": false
   },
   "outputs": [
    {
     "name": "stdout",
     "output_type": "stream",
     "text": [
      "{'Rev', 'Miss', 'Mme', 'Jonkheer', 'Col', 'Dr', 'Sir', 'Lady', 'Don', 'Major', 'the Countess', 'Master', 'Dona', 'Ms', 'Capt', 'Mlle', 'Mrs', 'Mr'}\n"
     ]
    }
   ],
   "source": [
    "# Grab title from passenger names\n",
    "\n",
    "full['Title'] = full['Name'].apply(lambda x: x.split(',')[1].split('.')[0].strip())\n",
    "\n",
    "#first convert the Title column into a set.\n",
    "title = set(full['Title'] )\n",
    "print(title)"
   ]
  },
  {
   "cell_type": "code",
   "execution_count": 117,
   "metadata": {
    "collapsed": false
   },
   "outputs": [
    {
     "name": "stdout",
     "output_type": "stream",
     "text": [
      "Counter({'Mr': 757, 'Miss': 260, 'Mrs': 197, 'Master': 61, 'Rev': 8, 'Dr': 8, 'Col': 4, 'Major': 2, 'Mlle': 2, 'Ms': 2, 'Sir': 1, 'Mme': 1, 'Lady': 1, 'Don': 1, 'the Countess': 1, 'Dona': 1, 'Capt': 1, 'Jonkheer': 1})\n"
     ]
    }
   ],
   "source": [
    "# Count the number of times each one appears\n",
    "count_title = Counter(full['Title'])\n",
    "\n",
    "print(count_title)"
   ]
  },
  {
   "cell_type": "code",
   "execution_count": 118,
   "metadata": {
    "collapsed": false
   },
   "outputs": [
    {
     "name": "stdout",
     "output_type": "stream",
     "text": [
      "Title         Sex   \n",
      "Capt          male        1\n",
      "Col           male        4\n",
      "Don           male        1\n",
      "Dona          female      1\n",
      "Dr            female      1\n",
      "              male        7\n",
      "Jonkheer      male        1\n",
      "Lady          female      1\n",
      "Major         male        2\n",
      "Master        male       61\n",
      "Miss          female    260\n",
      "Mlle          female      2\n",
      "Mme           female      1\n",
      "Mr            male      757\n",
      "Mrs           female    197\n",
      "Ms            female      2\n",
      "Rev           male        8\n",
      "Sir           male        1\n",
      "the Countess  female      1\n",
      "dtype: int64\n"
     ]
    }
   ],
   "source": [
    "# get male/female counts using groupby\n",
    "group = full.groupby(['Title', 'Sex']).size()\n",
    "print (group)"
   ]
  },
  {
   "cell_type": "code",
   "execution_count": 119,
   "metadata": {
    "collapsed": false
   },
   "outputs": [
    {
     "name": "stdout",
     "output_type": "stream",
     "text": [
      "                      0\n",
      "Captmale              1\n",
      "Colmale               4\n",
      "Donmale               1\n",
      "Donafemale            1\n",
      "Drfemale              1\n",
      "Drmale                7\n",
      "Jonkheermale          1\n",
      "Ladyfemale            1\n",
      "Majormale             2\n",
      "Mastermale           61\n",
      "Missfemale          260\n",
      "Mllefemale            2\n",
      "Mmefemale             1\n",
      "Mrmale              757\n",
      "Mrsfemale           197\n",
      "Msfemale              2\n",
      "Revmale               8\n",
      "Sirmale               1\n",
      "the Countessfemale    1\n"
     ]
    }
   ],
   "source": [
    "p = group.reset_index()\n",
    "p.index = p['Title']+p['Sex']\n",
    "\n",
    "#Drop columns\n",
    "p = p.drop(['Title','Sex'], axis=1)\n",
    "\n",
    "print (p)"
   ]
  },
  {
   "cell_type": "code",
   "execution_count": 120,
   "metadata": {
    "collapsed": false
   },
   "outputs": [
    {
     "name": "stdout",
     "output_type": "stream",
     "text": [
      "                      0\n",
      "Captmale            1.0\n",
      "Colmale             NaN\n",
      "Donmale             1.0\n",
      "Donafemale          1.0\n",
      "Drfemale            1.0\n",
      "Drmale              NaN\n",
      "Jonkheermale        1.0\n",
      "Ladyfemale          1.0\n",
      "Majormale           2.0\n",
      "Mastermale          NaN\n",
      "Missfemale          NaN\n",
      "Mllefemale          2.0\n",
      "Mmefemale           1.0\n",
      "Mrmale              NaN\n",
      "Mrsfemale           NaN\n",
      "Msfemale            2.0\n",
      "Revmale             NaN\n",
      "Sirmale             1.0\n",
      "the Countessfemale  1.0\n"
     ]
    }
   ],
   "source": [
    "print(p[(p <= 2)])\n",
    "# [Dona', 'Lady', 'the Countess','Capt', 'Col', 'Don', 'Dr', 'Major', 'Rev', 'Sir', 'Jonkheer']"
   ]
  },
  {
   "cell_type": "markdown",
   "metadata": {},
   "source": [
    "Any values below 2 will be converted to \"Rare\" and Mlle, Mme and Ms will be converted to Miss."
   ]
  },
  {
   "cell_type": "code",
   "execution_count": 121,
   "metadata": {
    "collapsed": false
   },
   "outputs": [
    {
     "name": "stdout",
     "output_type": "stream",
     "text": [
      "    Age Cabin Embarked     Fare  \\\n",
      "0  22.0   NaN        S   7.2500   \n",
      "1  38.0   C85        C  71.2833   \n",
      "2  26.0   NaN        S   7.9250   \n",
      "3  35.0  C123        S  53.1000   \n",
      "4  35.0   NaN        S   8.0500   \n",
      "\n",
      "                                                Name  Parch  PassengerId  \\\n",
      "0                            Braund, Mr. Owen Harris      0            1   \n",
      "1  Cumings, Mrs. John Bradley (Florence Briggs Th...      0            2   \n",
      "2                             Heikkinen, Miss. Laina      0            3   \n",
      "3       Futrelle, Mrs. Jacques Heath (Lily May Peel)      0            4   \n",
      "4                           Allen, Mr. William Henry      0            5   \n",
      "\n",
      "   Pclass     Sex  SibSp  Survived            Ticket Title  \n",
      "0       3    male      1       0.0         A/5 21171    Mr  \n",
      "1       1  female      1       1.0          PC 17599   Mrs  \n",
      "2       3  female      0       1.0  STON/O2. 3101282  Miss  \n",
      "3       1  female      1       1.0            113803   Mrs  \n",
      "4       3    male      0       0.0            373450    Mr  \n",
      "Title   Sex   \n",
      "Master  male       61\n",
      "Miss    female    264\n",
      "Mr      male      757\n",
      "Mrs     female    198\n",
      "Rare    female      4\n",
      "        male       25\n",
      "dtype: int64\n"
     ]
    }
   ],
   "source": [
    "# Titles with very low cell counts to be combined to \"rare\" level\n",
    "\n",
    "full['Title'].replace(to_replace = ['Mlle','Ms'], value = 'Miss', inplace=True)\n",
    "\n",
    "full['Title'].replace(to_replace = ['Mme'], value = 'Mrs', inplace=True)\n",
    "\n",
    "full['Title'].replace(to_replace = ['Dona', 'Lady', 'the Countess','Capt', 'Col', 'Don', 'Dr'\n",
    "                                    , 'Major', 'Rev', 'Sir', 'Jonkheer'], value = 'Rare', inplace=True)\n",
    "# Show title counts by sex again\n",
    "\n",
    "print(full.head())\n",
    "\n",
    "# get counts using groupby\n",
    "group = full.groupby(['Title', 'Sex']).size()\n",
    "\n",
    "print(group)"
   ]
  },
  {
   "cell_type": "code",
   "execution_count": 122,
   "metadata": {
    "collapsed": false
   },
   "outputs": [
    {
     "name": "stdout",
     "output_type": "stream",
     "text": [
      "Title   Sex   \n",
      "Master  male       61\n",
      "Miss    female    264\n",
      "Mr      male      757\n",
      "Mrs     female    198\n",
      "Rare    female      4\n",
      "        male       25\n",
      "dtype: int64\n"
     ]
    }
   ],
   "source": [
    "# get counts using groupby\n",
    "group = full.groupby(['Title', 'Sex']).size()\n",
    "\n",
    "print(group)"
   ]
  },
  {
   "cell_type": "markdown",
   "metadata": {},
   "source": [
    "My counts for each title now match up with Megans."
   ]
  },
  {
   "cell_type": "code",
   "execution_count": 123,
   "metadata": {
    "collapsed": false
   },
   "outputs": [
    {
     "name": "stdout",
     "output_type": "stream",
     "text": [
      "0       Braund\n",
      "1      Cumings\n",
      "2    Heikkinen\n",
      "Name: Surname, dtype: object\n",
      "['Age', 'Cabin', 'Embarked', 'Fare', 'Name', 'Parch', 'PassengerId', 'Pclass', 'Sex', 'SibSp', 'Survived', 'Ticket', 'Title', 'Surname']\n"
     ]
    }
   ],
   "source": [
    "# Finally, grab surname from passenger name and make a new column\n",
    "# Take the first word on the left side of the ,\n",
    "full['Surname'] = full['Name'].apply(lambda x: x.split(',')[0].strip())\n",
    "print(full['Surname'][0:3])\n",
    "print(list(full))"
   ]
  },
  {
   "cell_type": "markdown",
   "metadata": {},
   "source": [
    "### Families"
   ]
  },
  {
   "cell_type": "code",
   "execution_count": 124,
   "metadata": {
    "collapsed": true
   },
   "outputs": [],
   "source": [
    "# Create a family size variable including the passenger themselves\n",
    "full['FamSize'] = full['SibSp'] + full['Parch'] + 1"
   ]
  },
  {
   "cell_type": "code",
   "execution_count": 125,
   "metadata": {
    "collapsed": false
   },
   "outputs": [
    {
     "data": {
      "text/plain": [
       "<matplotlib.text.Text at 0x7fcdf8656e48>"
      ]
     },
     "execution_count": 125,
     "metadata": {},
     "output_type": "execute_result"
    },
    {
     "data": {
      "image/png": "[encoded data removed]",
      "text/plain": [
       "<matplotlib.figure.Figure at 0x7fcdf8819748>"
      ]
     },
     "metadata": {},
     "output_type": "display_data"
    }
   ],
   "source": [
    "# Visualize the relationship between family size & survival\n",
    "\n",
    "# The total number of bins should be the maximum family size\n",
    "n_bins = max(full['FamSize'])\n",
    "\n",
    "# In the end we just put the data into normal arrays which will exclude nans. axes.hist can't take nans\n",
    "x = full['FamSize'][full['Survived'] == 1]\n",
    "y = full['FamSize'][full['Survived'] == 0]\n",
    "\n",
    "fig, ax = plt.subplots()\n",
    "\n",
    "labels = ['Survived','Died']\n",
    "colors = ['green', 'blue']\n",
    "\n",
    "ax.hist([x,y], normed=1, histtype='bar', color=colors, label=labels )\n",
    "ax.legend(prop={'size': 10})\n",
    "ax.set_title('Family Sizes Seperated by Survived/Died')"
   ]
  },
  {
   "cell_type": "markdown",
   "metadata": {},
   "source": [
    "You had best chances of survival if you were in a family sized 2 - 4 people. Anything smaller or larger decreases your chances.\n",
    "\n",
    "Next we will change this information into the categories single, small, large for types of family."
   ]
  },
  {
   "cell_type": "code",
   "execution_count": 126,
   "metadata": {
    "collapsed": false
   },
   "outputs": [
    {
     "name": "stdout",
     "output_type": "stream",
     "text": [
      "Small Family\n"
     ]
    }
   ],
   "source": [
    "# Discretize family size. We will use this later when we predict missing values of age.\n",
    "\n",
    "def famsize_d(x):\n",
    "    if x == 1:\n",
    "        return 'Single'\n",
    "    elif (x >=2) & (x <= 4):\n",
    "        return 'Small Family'\n",
    "    else: return 'Large Family'\n",
    "    \n",
    "full['FamSize_D'] = full['FamSize'].map(famsize_d)\n",
    "print(max(full['FamSize_D']))"
   ]
  },
  {
   "cell_type": "code",
   "execution_count": 127,
   "metadata": {
    "collapsed": true
   },
   "outputs": [],
   "source": [
    "# Also make a column with Survived/Died in words so that mosaic can put these into the plot\n",
    "#df['Gender'] = df['Sex'].map({'female': 0, 'male': 1}).astype(int)\n",
    "full['Survive_txt'] = full['Survived'].map({1:'Survived', 0:'Died'})"
   ]
  },
  {
   "cell_type": "code",
   "execution_count": 128,
   "metadata": {
    "collapsed": false
   },
   "outputs": [
    {
     "data": {
      "text/plain": [
       "(<matplotlib.figure.Figure at 0x7fcdf8671f60>,\n",
       " OrderedDict([(('Small Family', 'Died'),\n",
       "               (0.0, 0.0, 0.3244768921336578, 0.41983343193919809)),\n",
       "              (('Small Family', 'Survived'),\n",
       "               (0.0,\n",
       "                0.42315569107541073,\n",
       "                0.3244768921336578,\n",
       "                0.57684430892458916)),\n",
       "              (('Single', 'Died'),\n",
       "               (0.3294273871831628,\n",
       "                0.0,\n",
       "                0.5967263393005967,\n",
       "                0.6941479982924702)),\n",
       "              (('Single', 'Survived'),\n",
       "               (0.3294273871831628,\n",
       "                0.69747025742868274,\n",
       "                0.5967263393005967,\n",
       "                0.30252974257131715)),\n",
       "              (('Large Family', 'Died'),\n",
       "               (0.9311042215332644,\n",
       "                0.0,\n",
       "                0.06889577846673557,\n",
       "                0.83592326653091842)),\n",
       "              (('Large Family', 'Survived'),\n",
       "               (0.9311042215332644,\n",
       "                0.83924552566713095,\n",
       "                0.06889577846673557,\n",
       "                0.16075447433286888))]))"
      ]
     },
     "execution_count": 128,
     "metadata": {},
     "output_type": "execute_result"
    },
    {
     "data": {
      "image/png": "[encoded data removed]",
      "text/plain": [
       "<matplotlib.figure.Figure at 0x7fcdf8671f60>"
      ]
     },
     "metadata": {},
     "output_type": "display_data"
    }
   ],
   "source": [
    "# Show family size by survival using a mosaic plot (maybe not)\n",
    "from statsmodels.graphics.mosaicplot import mosaic\n",
    "\n",
    "mosaic(full, ['FamSize_D', 'Survive_txt'], title = 'Survival of Family sizes')"
   ]
  },
  {
   "cell_type": "markdown",
   "metadata": {},
   "source": [
    "Similar to the histogram we see that being in a small family was preferable to either being single or in a large family. "
   ]
  },
  {
   "cell_type": "markdown",
   "metadata": {},
   "source": [
    "There’s probably some potentially useful information in the passenger cabin variable including about their deck. Let’s take a look."
   ]
  },
  {
   "cell_type": "code",
   "execution_count": 148,
   "metadata": {
    "collapsed": false
   },
   "outputs": [
    {
     "name": "stdout",
     "output_type": "stream",
     "text": [
      "['Age', 'Cabin', 'Embarked', 'Fare', 'Name', 'Parch', 'PassengerId', 'Pclass', 'Sex', 'SibSp', 'Survived', 'Ticket', 'Title', 'Surname', 'FamSize', 'FamSize_D', 'Survive_txt', 'Deck']\n",
      "      Age        Cabin Embarked      Fare  \\\n",
      "0    22.0          NaN        S    7.2500   \n",
      "1    38.0          C85        C   71.2833   \n",
      "2    26.0          NaN        S    7.9250   \n",
      "3    35.0         C123        S   53.1000   \n",
      "4    35.0          NaN        S    8.0500   \n",
      "5     NaN          NaN        Q    8.4583   \n",
      "6    54.0          E46        S   51.8625   \n",
      "7     2.0          NaN        S   21.0750   \n",
      "8    27.0          NaN        S   11.1333   \n",
      "9    14.0          NaN        C   30.0708   \n",
      "10    4.0           G6        S   16.7000   \n",
      "11   58.0         C103        S   26.5500   \n",
      "12   20.0          NaN        S    8.0500   \n",
      "13   39.0          NaN        S   31.2750   \n",
      "14   14.0          NaN        S    7.8542   \n",
      "15   55.0          NaN        S   16.0000   \n",
      "16    2.0          NaN        Q   29.1250   \n",
      "17    NaN          NaN        S   13.0000   \n",
      "18   31.0          NaN        S   18.0000   \n",
      "19    NaN          NaN        C    7.2250   \n",
      "20   35.0          NaN        S   26.0000   \n",
      "21   34.0          D56        S   13.0000   \n",
      "22   15.0          NaN        Q    8.0292   \n",
      "23   28.0           A6        S   35.5000   \n",
      "24    8.0          NaN        S   21.0750   \n",
      "25   38.0          NaN        S   31.3875   \n",
      "26    NaN          NaN        C    7.2250   \n",
      "27   19.0  C23 C25 C27        S  263.0000   \n",
      "28    NaN          NaN        Q    7.8792   \n",
      "29    NaN          NaN        S    7.8958   \n",
      "..    ...          ...      ...       ...   \n",
      "388  21.0          NaN        Q    7.7500   \n",
      "389   6.0          NaN        S   21.0750   \n",
      "390  23.0          B24        S   93.5000   \n",
      "391  51.0          D28        S   39.4000   \n",
      "392  13.0          NaN        S   20.2500   \n",
      "393  47.0          NaN        S   10.5000   \n",
      "394  29.0          NaN        S   22.0250   \n",
      "395  18.0          C31        S   60.0000   \n",
      "396  24.0          NaN        Q    7.2500   \n",
      "397  48.0          B41        C   79.2000   \n",
      "398  22.0          NaN        S    7.7750   \n",
      "399  31.0          NaN        Q    7.7333   \n",
      "400  30.0           C7        S  164.8667   \n",
      "401  38.0          NaN        S   21.0000   \n",
      "402  22.0          NaN        C   59.4000   \n",
      "403  17.0          NaN        S   47.1000   \n",
      "404  43.0          D40        C   27.7208   \n",
      "405  20.0          D38        C   13.8625   \n",
      "406  23.0          NaN        S   10.5000   \n",
      "407  50.0          C80        C  211.5000   \n",
      "408   NaN          NaN        Q    7.7208   \n",
      "409   3.0          NaN        S   13.7750   \n",
      "410   NaN          NaN        Q    7.7500   \n",
      "411  37.0          C78        Q   90.0000   \n",
      "412  28.0          NaN        S    7.7750   \n",
      "413   NaN          NaN        S    8.0500   \n",
      "414  39.0         C105        C  108.9000   \n",
      "415  38.5          NaN        S    7.2500   \n",
      "416   NaN          NaN        S    8.0500   \n",
      "417   NaN          NaN        C   22.3583   \n",
      "\n",
      "                                                  Name  Parch  PassengerId  \\\n",
      "0                              Braund, Mr. Owen Harris      0            1   \n",
      "1    Cumings, Mrs. John Bradley (Florence Briggs Th...      0            2   \n",
      "2                               Heikkinen, Miss. Laina      0            3   \n",
      "3         Futrelle, Mrs. Jacques Heath (Lily May Peel)      0            4   \n",
      "4                             Allen, Mr. William Henry      0            5   \n",
      "5                                     Moran, Mr. James      0            6   \n",
      "6                              McCarthy, Mr. Timothy J      0            7   \n",
      "7                       Palsson, Master. Gosta Leonard      1            8   \n",
      "8    Johnson, Mrs. Oscar W (Elisabeth Vilhelmina Berg)      2            9   \n",
      "9                  Nasser, Mrs. Nicholas (Adele Achem)      0           10   \n",
      "10                     Sandstrom, Miss. Marguerite Rut      1           11   \n",
      "11                            Bonnell, Miss. Elizabeth      0           12   \n",
      "12                      Saundercock, Mr. William Henry      0           13   \n",
      "13                         Andersson, Mr. Anders Johan      5           14   \n",
      "14                Vestrom, Miss. Hulda Amanda Adolfina      0           15   \n",
      "15                    Hewlett, Mrs. (Mary D Kingcome)       0           16   \n",
      "16                                Rice, Master. Eugene      1           17   \n",
      "17                        Williams, Mr. Charles Eugene      0           18   \n",
      "18   Vander Planke, Mrs. Julius (Emelia Maria Vande...      0           19   \n",
      "19                             Masselmani, Mrs. Fatima      0           20   \n",
      "20                                Fynney, Mr. Joseph J      0           21   \n",
      "21                               Beesley, Mr. Lawrence      0           22   \n",
      "22                         McGowan, Miss. Anna \"Annie\"      0           23   \n",
      "23                        Sloper, Mr. William Thompson      0           24   \n",
      "24                       Palsson, Miss. Torborg Danira      1           25   \n",
      "25   Asplund, Mrs. Carl Oscar (Selma Augusta Emilia...      5           26   \n",
      "26                             Emir, Mr. Farred Chehab      0           27   \n",
      "27                      Fortune, Mr. Charles Alexander      2           28   \n",
      "28                       O'Dwyer, Miss. Ellen \"Nellie\"      0           29   \n",
      "29                                 Todoroff, Mr. Lalio      0           30   \n",
      "..                                                 ...    ...          ...   \n",
      "388                               Canavan, Mr. Patrick      0         1280   \n",
      "389                        Palsson, Master. Paul Folke      1         1281   \n",
      "390                         Payne, Mr. Vivian Ponsonby      0         1282   \n",
      "391     Lines, Mrs. Ernest H (Elizabeth Lindsey James)      1         1283   \n",
      "392                      Abbott, Master. Eugene Joseph      2         1284   \n",
      "393                               Gilbert, Mr. William      0         1285   \n",
      "394                           Kink-Heilmann, Mr. Anton      1         1286   \n",
      "395     Smith, Mrs. Lucien Philip (Mary Eloise Hughes)      0         1287   \n",
      "396                               Colbert, Mr. Patrick      0         1288   \n",
      "397  Frolicher-Stehli, Mrs. Maxmillian (Margaretha ...      1         1289   \n",
      "398                     Larsson-Rondberg, Mr. Edvard A      0         1290   \n",
      "399                           Conlon, Mr. Thomas Henry      0         1291   \n",
      "400                            Bonnell, Miss. Caroline      0         1292   \n",
      "401                                    Gale, Mr. Harry      0         1293   \n",
      "402                     Gibson, Miss. Dorothy Winifred      1         1294   \n",
      "403                             Carrau, Mr. Jose Pedro      0         1295   \n",
      "404                       Frauenthal, Mr. Isaac Gerald      0         1296   \n",
      "405       Nourney, Mr. Alfred (Baron von Drachstedt\")\"      0         1297   \n",
      "406                          Ware, Mr. William Jeffery      0         1298   \n",
      "407                         Widener, Mr. George Dunton      1         1299   \n",
      "408                    Riordan, Miss. Johanna Hannah\"\"      0         1300   \n",
      "409                          Peacock, Miss. Treasteall      1         1301   \n",
      "410                             Naughton, Miss. Hannah      0         1302   \n",
      "411    Minahan, Mrs. William Edward (Lillian E Thorpe)      0         1303   \n",
      "412                     Henriksson, Miss. Jenny Lovisa      0         1304   \n",
      "413                                 Spector, Mr. Woolf      0         1305   \n",
      "414                       Oliva y Ocana, Dona. Fermina      0         1306   \n",
      "415                       Saether, Mr. Simon Sivertsen      0         1307   \n",
      "416                                Ware, Mr. Frederick      0         1308   \n",
      "417                           Peter, Master. Michael J      1         1309   \n",
      "\n",
      "     Pclass     Sex  SibSp  Survived              Ticket   Title  \\\n",
      "0         3    male      1       0.0           A/5 21171      Mr   \n",
      "1         1  female      1       1.0            PC 17599     Mrs   \n",
      "2         3  female      0       1.0    STON/O2. 3101282    Miss   \n",
      "3         1  female      1       1.0              113803     Mrs   \n",
      "4         3    male      0       0.0              373450      Mr   \n",
      "5         3    male      0       0.0              330877      Mr   \n",
      "6         1    male      0       0.0               17463      Mr   \n",
      "7         3    male      3       0.0              349909  Master   \n",
      "8         3  female      0       1.0              347742     Mrs   \n",
      "9         2  female      1       1.0              237736     Mrs   \n",
      "10        3  female      1       1.0             PP 9549    Miss   \n",
      "11        1  female      0       1.0              113783    Miss   \n",
      "12        3    male      0       0.0           A/5. 2151      Mr   \n",
      "13        3    male      1       0.0              347082      Mr   \n",
      "14        3  female      0       0.0              350406    Miss   \n",
      "15        2  female      0       1.0              248706     Mrs   \n",
      "16        3    male      4       0.0              382652  Master   \n",
      "17        2    male      0       1.0              244373      Mr   \n",
      "18        3  female      1       0.0              345763     Mrs   \n",
      "19        3  female      0       1.0                2649     Mrs   \n",
      "20        2    male      0       0.0              239865      Mr   \n",
      "21        2    male      0       1.0              248698      Mr   \n",
      "22        3  female      0       1.0              330923    Miss   \n",
      "23        1    male      0       1.0              113788      Mr   \n",
      "24        3  female      3       0.0              349909    Miss   \n",
      "25        3  female      1       1.0              347077     Mrs   \n",
      "26        3    male      0       0.0                2631      Mr   \n",
      "27        1    male      3       0.0               19950      Mr   \n",
      "28        3  female      0       1.0              330959    Miss   \n",
      "29        3    male      0       0.0              349216      Mr   \n",
      "..      ...     ...    ...       ...                 ...     ...   \n",
      "388       3    male      0       NaN              364858      Mr   \n",
      "389       3    male      3       NaN              349909  Master   \n",
      "390       1    male      0       NaN               12749      Mr   \n",
      "391       1  female      0       NaN            PC 17592     Mrs   \n",
      "392       3    male      0       NaN           C.A. 2673  Master   \n",
      "393       2    male      0       NaN          C.A. 30769      Mr   \n",
      "394       3    male      3       NaN              315153      Mr   \n",
      "395       1  female      1       NaN               13695     Mrs   \n",
      "396       3    male      0       NaN              371109      Mr   \n",
      "397       1  female      1       NaN               13567     Mrs   \n",
      "398       3    male      0       NaN              347065      Mr   \n",
      "399       3    male      0       NaN               21332      Mr   \n",
      "400       1  female      0       NaN               36928    Miss   \n",
      "401       2    male      1       NaN               28664      Mr   \n",
      "402       1  female      0       NaN              112378    Miss   \n",
      "403       1    male      0       NaN              113059      Mr   \n",
      "404       1    male      1       NaN               17765      Mr   \n",
      "405       2    male      0       NaN       SC/PARIS 2166      Mr   \n",
      "406       2    male      1       NaN               28666      Mr   \n",
      "407       1    male      1       NaN              113503      Mr   \n",
      "408       3  female      0       NaN              334915    Miss   \n",
      "409       3  female      1       NaN  SOTON/O.Q. 3101315    Miss   \n",
      "410       3  female      0       NaN              365237    Miss   \n",
      "411       1  female      1       NaN               19928     Mrs   \n",
      "412       3  female      0       NaN              347086    Miss   \n",
      "413       3    male      0       NaN           A.5. 3236      Mr   \n",
      "414       1  female      0       NaN            PC 17758    Rare   \n",
      "415       3    male      0       NaN  SOTON/O.Q. 3101262      Mr   \n",
      "416       3    male      0       NaN              359309      Mr   \n",
      "417       3    male      1       NaN                2668  Master   \n",
      "\n",
      "              Surname  FamSize     FamSize_D Survive_txt Deck  \n",
      "0              Braund        2  Small Family        Died  NaN  \n",
      "1             Cumings        2  Small Family    Survived    C  \n",
      "2           Heikkinen        1        Single    Survived  NaN  \n",
      "3            Futrelle        2  Small Family    Survived    C  \n",
      "4               Allen        1        Single        Died  NaN  \n",
      "5               Moran        1        Single        Died  NaN  \n",
      "6            McCarthy        1        Single        Died    E  \n",
      "7             Palsson        5  Large Family        Died  NaN  \n",
      "8             Johnson        3  Small Family    Survived  NaN  \n",
      "9              Nasser        2  Small Family    Survived  NaN  \n",
      "10          Sandstrom        3  Small Family    Survived  NaN  \n",
      "11            Bonnell        1        Single    Survived    C  \n",
      "12        Saundercock        1        Single        Died  NaN  \n",
      "13          Andersson        7  Large Family        Died  NaN  \n",
      "14            Vestrom        1        Single        Died  NaN  \n",
      "15            Hewlett        1        Single    Survived  NaN  \n",
      "16               Rice        6  Large Family        Died  NaN  \n",
      "17           Williams        1        Single    Survived  NaN  \n",
      "18      Vander Planke        2  Small Family        Died  NaN  \n",
      "19         Masselmani        1        Single    Survived  NaN  \n",
      "20             Fynney        1        Single        Died  NaN  \n",
      "21            Beesley        1        Single    Survived    D  \n",
      "22            McGowan        1        Single    Survived  NaN  \n",
      "23             Sloper        1        Single    Survived    A  \n",
      "24            Palsson        5  Large Family        Died  NaN  \n",
      "25            Asplund        7  Large Family    Survived  NaN  \n",
      "26               Emir        1        Single        Died  NaN  \n",
      "27            Fortune        6  Large Family        Died    C  \n",
      "28            O'Dwyer        1        Single    Survived  NaN  \n",
      "29           Todoroff        1        Single        Died  NaN  \n",
      "..                ...      ...           ...         ...  ...  \n",
      "388           Canavan        1        Single         NaN  NaN  \n",
      "389           Palsson        5  Large Family         NaN  NaN  \n",
      "390             Payne        1        Single         NaN    B  \n",
      "391             Lines        2  Small Family         NaN    D  \n",
      "392            Abbott        3  Small Family         NaN  NaN  \n",
      "393           Gilbert        1        Single         NaN  NaN  \n",
      "394     Kink-Heilmann        5  Large Family         NaN  NaN  \n",
      "395             Smith        2  Small Family         NaN    C  \n",
      "396           Colbert        1        Single         NaN  NaN  \n",
      "397  Frolicher-Stehli        3  Small Family         NaN    B  \n",
      "398  Larsson-Rondberg        1        Single         NaN  NaN  \n",
      "399            Conlon        1        Single         NaN  NaN  \n",
      "400           Bonnell        1        Single         NaN    C  \n",
      "401              Gale        2  Small Family         NaN  NaN  \n",
      "402            Gibson        2  Small Family         NaN  NaN  \n",
      "403            Carrau        1        Single         NaN  NaN  \n",
      "404        Frauenthal        2  Small Family         NaN    D  \n",
      "405           Nourney        1        Single         NaN    D  \n",
      "406              Ware        2  Small Family         NaN  NaN  \n",
      "407           Widener        3  Small Family         NaN    C  \n",
      "408           Riordan        1        Single         NaN  NaN  \n",
      "409           Peacock        3  Small Family         NaN  NaN  \n",
      "410          Naughton        1        Single         NaN  NaN  \n",
      "411           Minahan        2  Small Family         NaN    C  \n",
      "412        Henriksson        1        Single         NaN  NaN  \n",
      "413           Spector        1        Single         NaN  NaN  \n",
      "414     Oliva y Ocana        1        Single         NaN    C  \n",
      "415           Saether        1        Single         NaN  NaN  \n",
      "416              Ware        1        Single         NaN  NaN  \n",
      "417             Peter        3  Small Family         NaN  NaN  \n",
      "\n",
      "[1309 rows x 18 columns]\n"
     ]
    }
   ],
   "source": [
    "print(list(full))"
   ]
  },
  {
   "cell_type": "code",
   "execution_count": 130,
   "metadata": {
    "collapsed": false
   },
   "outputs": [
    {
     "name": "stdout",
     "output_type": "stream",
     "text": [
      "Age            1046\n",
      "Cabin           295\n",
      "Embarked       1307\n",
      "Fare           1308\n",
      "Name           1309\n",
      "Parch          1309\n",
      "PassengerId    1309\n",
      "Pclass         1309\n",
      "Sex            1309\n",
      "SibSp          1309\n",
      "Survived        891\n",
      "Ticket         1309\n",
      "Title          1309\n",
      "Surname        1309\n",
      "FamSize        1309\n",
      "FamSize_D      1309\n",
      "Survive_txt     891\n",
      "dtype: int64\n",
      "1              C85\n",
      "3             C123\n",
      "6              E46\n",
      "10              G6\n",
      "11            C103\n",
      "21             D56\n",
      "23              A6\n",
      "27     C23 C25 C27\n",
      "31             B78\n",
      "52             D33\n",
      "54             B30\n",
      "55             C52\n",
      "61             B28\n",
      "62             C83\n",
      "66             F33\n",
      "75           F G73\n",
      "88     C23 C25 C27\n",
      "92             E31\n",
      "96              A5\n",
      "97         D10 D12\n",
      "102            D26\n",
      "110           C110\n",
      "118        B58 B60\n",
      "123           E101\n",
      "124            D26\n",
      "128          F E69\n",
      "136            D47\n",
      "137           C123\n",
      "139            B86\n",
      "148             F2\n",
      "Name: Cabin, dtype: object\n"
     ]
    }
   ],
   "source": [
    "# Look at the cabin variable. Cabin is missing a lot of values.\n",
    "print(full.count())\n",
    "print(full['Cabin'].dropna()[0:30])\n"
   ]
  },
  {
   "cell_type": "code",
   "execution_count": 131,
   "metadata": {
    "collapsed": false
   },
   "outputs": [
    {
     "name": "stdout",
     "output_type": "stream",
     "text": [
      "1    C\n",
      "Name: Cabin, dtype: object\n"
     ]
    }
   ],
   "source": [
    "# One way to select part of a string, use str[0]\n",
    "print(full['Cabin'].dropna().str[0][0:1])"
   ]
  },
  {
   "cell_type": "code",
   "execution_count": 132,
   "metadata": {
    "collapsed": false
   },
   "outputs": [
    {
     "name": "stdout",
     "output_type": "stream",
     "text": [
      "1     C\n",
      "3     C\n",
      "6     E\n",
      "11    C\n",
      "21    D\n",
      "23    A\n",
      "27    C\n",
      "31    B\n",
      "52    D\n",
      "54    B\n",
      "Name: Deck, dtype: object\n"
     ]
    },
    {
     "name": "stderr",
     "output_type": "stream",
     "text": [
      "/home/sophie/anaconda2/envs/py3/lib/python3.5/site-packages/ipykernel/__main__.py:3: FutureWarning: currently extract(expand=None) means expand=False (return Index/Series/DataFrame) but in a future version of pandas this will be changed to expand=True (return DataFrame)\n",
      "  app.launch_new_instance()\n"
     ]
    }
   ],
   "source": [
    "# Make a new \"deck\" variable with just the deck letter\n",
    "# If there are multiple cabins in the value, this just stores the first letter.\n",
    "full['Deck'] = full['Cabin'].str.extract('(?P<letter>[ABCDEF])')\n",
    "\n",
    "print(full['Deck'].dropna()[0:10])"
   ]
  },
  {
   "cell_type": "markdown",
   "metadata": {},
   "source": [
    "### Missingness"
   ]
  },
  {
   "cell_type": "code",
   "execution_count": 133,
   "metadata": {
    "collapsed": false
   },
   "outputs": [
    {
     "data": {
      "text/html": [
       "<div>\n",
       "<table border=\"1\" class=\"dataframe\">\n",
       "  <thead>\n",
       "    <tr style=\"text-align: right;\">\n",
       "      <th></th>\n",
       "      <th>Age</th>\n",
       "      <th>Cabin</th>\n",
       "      <th>Embarked</th>\n",
       "      <th>Fare</th>\n",
       "      <th>Name</th>\n",
       "      <th>Parch</th>\n",
       "      <th>PassengerId</th>\n",
       "      <th>Pclass</th>\n",
       "      <th>Sex</th>\n",
       "      <th>SibSp</th>\n",
       "      <th>Survived</th>\n",
       "      <th>Ticket</th>\n",
       "      <th>Title</th>\n",
       "      <th>Surname</th>\n",
       "      <th>FamSize</th>\n",
       "      <th>FamSize_D</th>\n",
       "      <th>Survive_txt</th>\n",
       "      <th>Deck</th>\n",
       "    </tr>\n",
       "  </thead>\n",
       "  <tbody>\n",
       "    <tr>\n",
       "      <th>61</th>\n",
       "      <td>38.0</td>\n",
       "      <td>B28</td>\n",
       "      <td>NaN</td>\n",
       "      <td>80.0</td>\n",
       "      <td>Icard, Miss. Amelie</td>\n",
       "      <td>0</td>\n",
       "      <td>62</td>\n",
       "      <td>1</td>\n",
       "      <td>female</td>\n",
       "      <td>0</td>\n",
       "      <td>1.0</td>\n",
       "      <td>113572</td>\n",
       "      <td>Miss</td>\n",
       "      <td>Icard</td>\n",
       "      <td>1</td>\n",
       "      <td>Single</td>\n",
       "      <td>Survived</td>\n",
       "      <td>B</td>\n",
       "    </tr>\n",
       "    <tr>\n",
       "      <th>829</th>\n",
       "      <td>62.0</td>\n",
       "      <td>B28</td>\n",
       "      <td>NaN</td>\n",
       "      <td>80.0</td>\n",
       "      <td>Stone, Mrs. George Nelson (Martha Evelyn)</td>\n",
       "      <td>0</td>\n",
       "      <td>830</td>\n",
       "      <td>1</td>\n",
       "      <td>female</td>\n",
       "      <td>0</td>\n",
       "      <td>1.0</td>\n",
       "      <td>113572</td>\n",
       "      <td>Mrs</td>\n",
       "      <td>Stone</td>\n",
       "      <td>1</td>\n",
       "      <td>Single</td>\n",
       "      <td>Survived</td>\n",
       "      <td>B</td>\n",
       "    </tr>\n",
       "  </tbody>\n",
       "</table>\n",
       "</div>"
      ],
      "text/plain": [
       "      Age Cabin Embarked  Fare                                       Name  \\\n",
       "61   38.0   B28      NaN  80.0                        Icard, Miss. Amelie   \n",
       "829  62.0   B28      NaN  80.0  Stone, Mrs. George Nelson (Martha Evelyn)   \n",
       "\n",
       "     Parch  PassengerId  Pclass     Sex  SibSp  Survived  Ticket Title  \\\n",
       "61       0           62       1  female      0       1.0  113572  Miss   \n",
       "829      0          830       1  female      0       1.0  113572   Mrs   \n",
       "\n",
       "    Surname  FamSize FamSize_D Survive_txt Deck  \n",
       "61    Icard        1    Single    Survived    B  \n",
       "829   Stone        1    Single    Survived    B  "
      ]
     },
     "execution_count": 133,
     "metadata": {},
     "output_type": "execute_result"
    }
   ],
   "source": [
    "# Passengers 62 and 830 are missing Embarkment. \n",
    "full[full['Embarked'].isnull()]"
   ]
  },
  {
   "cell_type": "markdown",
   "metadata": {},
   "source": [
    "We will infer their values for embarkment based on present data that we can imagine may be \n",
    "relevant: passenger class and fare. Would people of certain status get on at different ports?"
   ]
  },
  {
   "cell_type": "code",
   "execution_count": 134,
   "metadata": {
    "collapsed": false
   },
   "outputs": [
    {
     "data": {
      "image/png": "[encoded data removed]",
      "text/plain": [
       "<matplotlib.figure.Figure at 0x7fcdf8444c50>"
      ]
     },
     "metadata": {},
     "output_type": "display_data"
    }
   ],
   "source": [
    "# Use ggplot2 to visualize embarkment, passenger class, & median fare\n",
    "#bp = df.boxplot(column=['Col1','Col2'], by=['X','Y'])\n",
    "\n",
    "bp = full.boxplot(column=['Fare'], by = ['Embarked','Pclass'])"
   ]
  },
  {
   "cell_type": "markdown",
   "metadata": {},
   "source": [
    "Voilà! The median fare for a first class passenger departing from Charbourg (‘C’) coincides nicely with the $80 paid by our embarkment-deficient passengers. I think we can safely replace the NA values with ‘C’."
   ]
  },
  {
   "cell_type": "code",
   "execution_count": 135,
   "metadata": {
    "collapsed": false
   },
   "outputs": [
    {
     "name": "stdout",
     "output_type": "stream",
     "text": [
      "61    C\n",
      "Name: Embarked, dtype: object\n"
     ]
    },
    {
     "name": "stderr",
     "output_type": "stream",
     "text": [
      "/home/sophie/anaconda2/envs/py3/lib/python3.5/site-packages/ipykernel/__main__.py:2: SettingWithCopyWarning: \n",
      "A value is trying to be set on a copy of a slice from a DataFrame\n",
      "\n",
      "See the caveats in the documentation: http://pandas.pydata.org/pandas-docs/stable/indexing.html#indexing-view-versus-copy\n",
      "  from ipykernel import kernelapp as app\n"
     ]
    }
   ],
   "source": [
    "# Fill in passengers 62 and 830 with 'C'\n",
    "full['Embarked'][full['Embarked'].isnull()] = 'C'\n",
    "print(full['Embarked'][full['PassengerId'] == 62])"
   ]
  },
  {
   "cell_type": "code",
   "execution_count": 136,
   "metadata": {
    "collapsed": false
   },
   "outputs": [
    {
     "data": {
      "text/html": [
       "<div>\n",
       "<table border=\"1\" class=\"dataframe\">\n",
       "  <thead>\n",
       "    <tr style=\"text-align: right;\">\n",
       "      <th></th>\n",
       "      <th>Age</th>\n",
       "      <th>Cabin</th>\n",
       "      <th>Embarked</th>\n",
       "      <th>Fare</th>\n",
       "      <th>Name</th>\n",
       "      <th>Parch</th>\n",
       "      <th>PassengerId</th>\n",
       "      <th>Pclass</th>\n",
       "      <th>Sex</th>\n",
       "      <th>SibSp</th>\n",
       "      <th>Survived</th>\n",
       "      <th>Ticket</th>\n",
       "      <th>Title</th>\n",
       "      <th>Surname</th>\n",
       "      <th>FamSize</th>\n",
       "      <th>FamSize_D</th>\n",
       "      <th>Survive_txt</th>\n",
       "      <th>Deck</th>\n",
       "    </tr>\n",
       "  </thead>\n",
       "  <tbody>\n",
       "  </tbody>\n",
       "</table>\n",
       "</div>"
      ],
      "text/plain": [
       "Empty DataFrame\n",
       "Columns: [Age, Cabin, Embarked, Fare, Name, Parch, PassengerId, Pclass, Sex, SibSp, Survived, Ticket, Title, Surname, FamSize, FamSize_D, Survive_txt, Deck]\n",
       "Index: []"
      ]
     },
     "execution_count": 136,
     "metadata": {},
     "output_type": "execute_result"
    }
   ],
   "source": [
    "# check there are no more null values\n",
    "full[full['Embarked'].isnull()]"
   ]
  },
  {
   "cell_type": "markdown",
   "metadata": {},
   "source": [
    "We’re close to fixing the handful of NA values here and there. Passenger on row 1044 has an NA Fare value"
   ]
  },
  {
   "cell_type": "code",
   "execution_count": 137,
   "metadata": {
    "collapsed": false
   },
   "outputs": [
    {
     "name": "stdout",
     "output_type": "stream",
     "text": [
      "      Age Cabin Embarked  Fare                Name  Parch  PassengerId  \\\n",
      "152  60.5   NaN        S   NaN  Storey, Mr. Thomas      0         1044   \n",
      "\n",
      "     Pclass   Sex  SibSp  Survived Ticket Title Surname  FamSize FamSize_D  \\\n",
      "152       3  male      0       NaN   3701    Mr  Storey        1    Single   \n",
      "\n",
      "    Survive_txt Deck  \n",
      "152         NaN  NaN  \n",
      "Embarked  Pclass\n",
      "C         1         78.2667\n",
      "          2         15.3146\n",
      "          3          7.8958\n",
      "Q         1         90.0000\n",
      "          2         12.3500\n",
      "          3          7.7500\n",
      "S         1         52.0000\n",
      "          2         15.3750\n",
      "          3          8.0500\n",
      "Name: Fare, dtype: float64\n"
     ]
    }
   ],
   "source": [
    "# Show row 1044\n",
    "print(full[full['Fare'].isnull()])\n",
    "\n",
    "# Find the median fare for class/embarkment\n",
    "group = full.groupby(['Embarked','Pclass']).median()\n",
    "\n",
    "print(group['Fare']) # What is the value for S/3? $8.1"
   ]
  },
  {
   "cell_type": "code",
   "execution_count": 111,
   "metadata": {
    "collapsed": false
   },
   "outputs": [
    {
     "name": "stdout",
     "output_type": "stream",
     "text": [
      "      Age Cabin Embarked  Fare                Name  Parch  PassengerId  \\\n",
      "152  60.5   NaN        S   8.0  Storey, Mr. Thomas      0         1044   \n",
      "\n",
      "     Pclass   Sex  SibSp  Survived Ticket Title Surname  FamSize FamSize_D  \\\n",
      "152       3  male      0       NaN   3701    Mr  Storey        1    Single   \n",
      "\n",
      "    Survive_txt Deck  \n",
      "152         NaN  NaN  \n"
     ]
    },
    {
     "name": "stderr",
     "output_type": "stream",
     "text": [
      "/home/sophie/anaconda2/envs/py3/lib/python3.5/site-packages/ipykernel/__main__.py:2: SettingWithCopyWarning: \n",
      "A value is trying to be set on a copy of a slice from a DataFrame\n",
      "\n",
      "See the caveats in the documentation: http://pandas.pydata.org/pandas-docs/stable/indexing.html#indexing-view-versus-copy\n",
      "  from ipykernel import kernelapp as app\n"
     ]
    }
   ],
   "source": [
    "# Replace missing fare value with median fare for class/embarkment ($8.1)\n",
    "full['Fare'][full['Fare'].isnull()] = 8\n",
    "\n",
    "print(full[full['PassengerId'] == 1044])"
   ]
  },
  {
   "cell_type": "markdown",
   "metadata": {},
   "source": [
    "Save the data as it is now, so we can start a new script with it treated as it is now. "
   ]
  },
  {
   "cell_type": "code",
   "execution_count": 149,
   "metadata": {
    "collapsed": false
   },
   "outputs": [],
   "source": [
    "path = '/home/sophie/Python/notechain/Titanic/data'\n",
    "\n",
    "full.to_csv('%s/058_full.csv'%path, index=False)"
   ]
  },
  {
   "cell_type": "markdown",
   "metadata": {},
   "source": [
    "### Predictive Imputation\n",
    "\n",
    "We will create a model predicting ages based on other variables."
   ]
  },
  {
   "cell_type": "code",
   "execution_count": 140,
   "metadata": {
    "collapsed": false
   },
   "outputs": [
    {
     "data": {
      "text/plain": [
       "263"
      ]
     },
     "execution_count": 140,
     "metadata": {},
     "output_type": "execute_result"
    }
   ],
   "source": [
    "# Show number of missing Age values\n",
    "len(full[full['Age'].isnull()])\n"
   ]
  },
  {
   "cell_type": "markdown",
   "metadata": {},
   "source": [
    "We could definitely use rpart (recursive partitioning for regression) to predict missing ages, but I’m going to use the mice package for this task just for something different. You can read more about multiple imputation using chained equations in r here (PDF). Since we haven’t done it yet, I’ll first factorize the factor variables and then perform mice imputation."
   ]
  },
  {
   "cell_type": "code",
   "execution_count": null,
   "metadata": {
    "collapsed": true
   },
   "outputs": [],
   "source": []
  },
  {
   "cell_type": "code",
   "execution_count": null,
   "metadata": {
    "collapsed": false
   },
   "outputs": [],
   "source": [
    "from fancyimpute import mice\n",
    "\n",
    "# get the columns in the right format. Megan uses 'PassengerId','Pclass','Sex','Embarked','Title',\n",
    "# 'Surname','Family','FsizeD')\n",
    "\n",
    "\n",
    "# apply mice\n",
    "full['AgeFill'] = Mice().complete()\n"
   ]
  },
  {
   "cell_type": "code",
   "execution_count": null,
   "metadata": {
    "collapsed": true
   },
   "outputs": [],
   "source": [
    "# Perform mice imputation, excluding certain less-than-useful variables:"
   ]
  },
  {
   "cell_type": "code",
   "execution_count": null,
   "metadata": {
    "collapsed": true
   },
   "outputs": [],
   "source": [
    "# compare the imputation distribution with the original data distribtion\n",
    "# Plot Age\n",
    "\n",
    "# Replace Age variable from the mice model.\n",
    "\n",
    "# Show new number of missing Age values"
   ]
  },
  {
   "cell_type": "markdown",
   "metadata": {},
   "source": [
    "### Feature Engineering round 2\n",
    "\n",
    "Now that we know everyone’s age, we can create a couple of new age-dependent variables: Child and Mother. A child will simply be someone under 18 years of age and a mother is a passenger who is 1) female, 2) is over 18, 3) has more than 0 children (no kidding!), and 4) does not have the title ‘Miss"
   ]
  },
  {
   "cell_type": "code",
   "execution_count": 12,
   "metadata": {
    "collapsed": true
   },
   "outputs": [],
   "source": [
    "# First we'll look at the relationship between age & survival\n",
    "# For both male and female\n"
   ]
  },
  {
   "cell_type": "code",
   "execution_count": 13,
   "metadata": {
    "collapsed": true
   },
   "outputs": [],
   "source": [
    "# Create the column child, and indicate whether child or adult\n",
    "\n",
    "# Show counts"
   ]
  },
  {
   "cell_type": "code",
   "execution_count": 14,
   "metadata": {
    "collapsed": true
   },
   "outputs": [],
   "source": [
    "# Adding Mother variable"
   ]
  },
  {
   "cell_type": "markdown",
   "metadata": {},
   "source": [
    "All of the variables we care about should be taken care of and there should be no missing data. I’m going to double check just to be sure:"
   ]
  },
  {
   "cell_type": "markdown",
   "metadata": {},
   "source": [
    "### Prediction\n",
    "\n",
    "Our first step is to split the data back into the original test and training sets."
   ]
  },
  {
   "cell_type": "code",
   "execution_count": 15,
   "metadata": {
    "collapsed": true
   },
   "outputs": [],
   "source": [
    "# check data"
   ]
  },
  {
   "cell_type": "code",
   "execution_count": 16,
   "metadata": {
    "collapsed": true
   },
   "outputs": [],
   "source": [
    "# Build a model using RandomForest\n",
    "\n",
    "# Show model error"
   ]
  },
  {
   "cell_type": "markdown",
   "metadata": {},
   "source": [
    "### Variable Importance\n",
    "\n",
    "Let’s look at relative variable importance by plotting the mean decrease in Gini calculated across all trees."
   ]
  },
  {
   "cell_type": "code",
   "execution_count": 17,
   "metadata": {
    "collapsed": true
   },
   "outputs": [],
   "source": [
    "# Get importance\n",
    "\n",
    "# Create a rank variable based on importance\n",
    "\n",
    "# Use ggplot2 to visualize the relative importance of variables"
   ]
  },
  {
   "cell_type": "code",
   "execution_count": null,
   "metadata": {
    "collapsed": true
   },
   "outputs": [],
   "source": [
    "# Predict using the test set\n",
    "\n",
    "# Save the solution to a dataframe with two columns: PassengerId and Survived (prediction)\n",
    "\n"
   ]
  }
 ],
 "metadata": {
  "anaconda-cloud": {},
  "kernelspec": {
   "display_name": "Python [Root]",
   "language": "python",
   "name": "Python [Root]"
  },
  "language_info": {
   "codemirror_mode": {
    "name": "ipython",
    "version": 3
   },
   "file_extension": ".py",
   "mimetype": "text/x-python",
   "name": "python",
   "nbconvert_exporter": "python",
   "pygments_lexer": "ipython3",
   "version": "3.5.2"
  }
 },
 "nbformat": 4,
 "nbformat_minor": 0
}
