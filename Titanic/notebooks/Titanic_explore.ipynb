{
 "cells": [
  {
   "cell_type": "markdown",
   "metadata": {},
   "source": [
    "Doing some initial exploration into the training set. We see that women are much more likely to survive."
   ]
  },
  {
   "cell_type": "code",
   "execution_count": 51,
   "metadata": {
    "collapsed": false
   },
   "outputs": [],
   "source": [
    "import csv as csv\n",
    "import numpy as np\n",
    "\n",
    "#open the csv file in to a Python object. Changed rb(bytes) to rt(text)\n",
    "csv_file_object = csv.reader(open('/home/sophie/projects/Titanic/data/train.csv', 'rt'))\n",
    "\n",
    "# Changed from header = csv_file_object.next()\n",
    "\n",
    "header = next(csv_file_object)"
   ]
  },
  {
   "cell_type": "markdown",
   "metadata": {},
   "source": [
    "csv_file_object is a reader object which will iterate over lines in the given csvfile."
   ]
  },
  {
   "cell_type": "code",
   "execution_count": 52,
   "metadata": {
    "collapsed": false
   },
   "outputs": [
    {
     "name": "stdout",
     "output_type": "stream",
     "text": [
      "<class 'list'>\n",
      "<class 'numpy.ndarray'>\n"
     ]
    }
   ],
   "source": [
    "data1 = []\n",
    "for row in csv_file_object:\n",
    "    data1.append(row)        # row is a line of data in csv_file_object. It is added to a variable\n",
    "data = np.array(data1)      # Don't understand how this produces the something where you can view the data, you can't \n",
    "                            # with 'data1'.\n",
    "\n",
    "print(type(data1))\n",
    "print(type(data))"
   ]
  },
  {
   "cell_type": "code",
   "execution_count": 53,
   "metadata": {
    "collapsed": false
   },
   "outputs": [
    {
     "name": "stdout",
     "output_type": "stream",
     "text": [
      "['1' '0' '3' 'Braund, Mr. Owen Harris' 'male' '22' '1' '0' 'A/5 21171'\n",
      " '7.25' '' 'S']\n",
      "['891' '0' '3' 'Dooley, Mr. Patrick' 'male' '32' '0' '0' '370376' '7.75' ''\n",
      " 'Q']\n"
     ]
    }
   ],
   "source": [
    "print (data[0])\n",
    "print(data[-1])"
   ]
  },
  {
   "cell_type": "code",
   "execution_count": 54,
   "metadata": {
    "collapsed": false
   },
   "outputs": [],
   "source": [
    "#data[0::,4] # All data in column 4\n",
    "#data[:,4]  # This is better"
   ]
  },
  {
   "cell_type": "markdown",
   "metadata": {},
   "source": [
    "Calculate the proportion of survivors on the Titanic"
   ]
  },
  {
   "cell_type": "code",
   "execution_count": 55,
   "metadata": {
    "collapsed": false
   },
   "outputs": [
    {
     "name": "stdout",
     "output_type": "stream",
     "text": [
      "342.0\n",
      "891\n",
      "0.383838383838\n"
     ]
    }
   ],
   "source": [
    "number_passengers = np.size(data[:,1].astype(np.float)) \n",
    "number_survived = np.sum(data[:,1].astype(np.float))\n",
    "proportion_survivors = number_survived / number_passengers\n",
    "\n",
    "print(number_survived)\n",
    "print(number_passengers)\n",
    "print(proportion_survivors)"
   ]
  },
  {
   "cell_type": "code",
   "execution_count": 56,
   "metadata": {
    "collapsed": false
   },
   "outputs": [
    {
     "name": "stdout",
     "output_type": "stream",
     "text": [
      "[False  True  True  True False False False False  True  True]\n"
     ]
    }
   ],
   "source": [
    "# We are creating mask arrays\n",
    "\n",
    "# Find all the elements in the gender column that equal \"female\"\n",
    "women_only_stats = data[:,4] == \"female\"\n",
    "\n",
    "# Find all the elements that are \"male\"\n",
    "men_only_stats = data[:,4] != \"female\"\n",
    "\n",
    "print(women_only_stats[0:10])"
   ]
  },
  {
   "cell_type": "code",
   "execution_count": 57,
   "metadata": {
    "collapsed": false
   },
   "outputs": [
    {
     "name": "stdout",
     "output_type": "stream",
     "text": [
      "['PassengerId', 'Survived', 'Pclass', 'Name', 'Sex', 'Age', 'SibSp', 'Parch', 'Ticket', 'Fare', 'Cabin', 'Embarked']\n"
     ]
    }
   ],
   "source": [
    "print(header)"
   ]
  },
  {
   "cell_type": "code",
   "execution_count": 58,
   "metadata": {
    "collapsed": false
   },
   "outputs": [
    {
     "name": "stdout",
     "output_type": "stream",
     "text": [
      "314\n",
      "233.0\n",
      "[ 1.  1.  1.  1.  1.  1.  1.  0.  1.  0.]\n",
      "(891,)\n",
      "['Braund, Mr. Owen Harris'\n",
      " 'Cumings, Mrs. John Bradley (Florence Briggs Thayer)'\n",
      " 'Heikkinen, Miss. Laina' 'Futrelle, Mrs. Jacques Heath (Lily May Peel)'\n",
      " 'Allen, Mr. William Henry']\n"
     ]
    }
   ],
   "source": [
    "# Apply the masking arrays to the data. women_only_stats is applied to column 1 (Survived) and converted to float.\n",
    "women_onboard = data[women_only_stats,1].astype(np.float)     \n",
    "men_onboard = data[men_only_stats,1].astype(np.float)\n",
    "                                            \n",
    "print (np.size(women_onboard)) # The number of elements in the column. could use len()? Yes.  \n",
    "print (np.sum(women_onboard))\n",
    "print (women_onboard[0:10])\n",
    "print (women_only_stats.shape)\n",
    "print (data[0:5,3]) # data[row,column]"
   ]
  },
  {
   "cell_type": "code",
   "execution_count": 59,
   "metadata": {
    "collapsed": false
   },
   "outputs": [
    {
     "name": "stdout",
     "output_type": "stream",
     "text": [
      "Proportion of women who survived is 0.742038216561\n",
      "Proportion of men who survived is 0.188908145581\n"
     ]
    }
   ],
   "source": [
    "# 'Women_onboard' is basically an array of 1 and 0, where 1 is survived, 0 deceased.\n",
    "\n",
    "# Find the proportion of them that survived. \n",
    "proportion_women_survived = np.sum(women_onboard) / np.size(women_onboard)  \n",
    "proportion_men_survived = np.sum(men_onboard) / np.size(men_onboard)\n",
    "                                            \n",
    "\n",
    "# and then print it out\n",
    "print ('Proportion of women who survived is %s' % proportion_women_survived)\n",
    "print ('Proportion of men who survived is %s' % proportion_men_survived)"
   ]
  },
  {
   "cell_type": "markdown",
   "metadata": {},
   "source": [
    "### Reading the test data and writing the gender model as a csv"
   ]
  },
  {
   "cell_type": "code",
   "execution_count": 60,
   "metadata": {
    "collapsed": true
   },
   "outputs": [],
   "source": [
    "test_file = open('/home/sophie/projects/Titanic/data/test.csv', 'rt')\n",
    "test_file_object = csv.reader(test_file)\n",
    "header = next(test_file_object)"
   ]
  },
  {
   "cell_type": "code",
   "execution_count": 61,
   "metadata": {
    "collapsed": false
   },
   "outputs": [
    {
     "name": "stdout",
     "output_type": "stream",
     "text": [
      "['PassengerId', 'Pclass', 'Name', 'Sex', 'Age', 'SibSp', 'Parch', 'Ticket', 'Fare', 'Cabin', 'Embarked']\n"
     ]
    }
   ],
   "source": [
    "print (header)"
   ]
  },
  {
   "cell_type": "code",
   "execution_count": 62,
   "metadata": {
    "collapsed": true
   },
   "outputs": [],
   "source": [
    "# Open a pointer to a new file so we can write to it.\n",
    "\n",
    "prediction_file = open(\"/home/sophie/projects/Titanic/data/genderbasedmodel.csv\",\"wt\")   # \n",
    "prediction_file_object = csv.writer(prediction_file)"
   ]
  },
  {
   "cell_type": "code",
   "execution_count": 63,
   "metadata": {
    "collapsed": false
   },
   "outputs": [],
   "source": [
    "# Now read in test file row by row, see if it is female or male and write the survival prediction to a new file\n",
    "\n",
    "prediction_file_object.writerow([\"PassengerId\",\"Survived\"])\n",
    "for row in test_file_object:\n",
    "    if row[3] == 'female':\n",
    "        prediction_file_object.writerow([row[0],'1'])\n",
    "    else:\n",
    "        prediction_file_object.writerow([row[0],'0'])\n",
    "        \n",
    "test_file.close()\n",
    "prediction_file.close()"
   ]
  },
  {
   "cell_type": "markdown",
   "metadata": {},
   "source": [
    "We now have a gender-based model which we can submit."
   ]
  }
 ],
 "metadata": {
  "kernelspec": {
   "display_name": "Python 3",
   "language": "python",
   "name": "python3"
  },
  "language_info": {
   "codemirror_mode": {
    "name": "ipython",
    "version": 3
   },
   "file_extension": ".py",
   "mimetype": "text/x-python",
   "name": "python",
   "nbconvert_exporter": "python",
   "pygments_lexer": "ipython3",
   "version": "3.5.1"
  }
 },
 "nbformat": 4,
 "nbformat_minor": 0
}
