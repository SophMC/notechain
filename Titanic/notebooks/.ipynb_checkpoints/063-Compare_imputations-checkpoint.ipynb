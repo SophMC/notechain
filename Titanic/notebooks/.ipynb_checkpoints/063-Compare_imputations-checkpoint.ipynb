{
 "cells": [
  {
   "cell_type": "markdown",
   "metadata": {},
   "source": [
    "### Compare Imputation scores\n",
    "\n",
    "This is an investigation to determine which method is best for filling in the fairly large number of missing Age values.\n",
    "I will compare:\n",
    "\n",
    "- Filling in the mean value of all ages\n",
    "- Filling in the median value grouped by Sex, Title and pclass\n",
    "- Imputation using MICE (Multivariate/Multiple Imputation by Chained Equations)\n",
    "\n",
    "First get the data (which has already some cleaning applied) and import the correct libraries:"
   ]
  },
  {
   "cell_type": "code",
   "execution_count": 32,
   "metadata": {
    "collapsed": false
   },
   "outputs": [
    {
     "name": "stdout",
     "output_type": "stream",
     "text": [
      "Libraries Ready!\n"
     ]
    }
   ],
   "source": [
    "# Import libraries\n",
    "\n",
    "import numpy as np\n",
    "from numpy.random import random_integers\n",
    "from collections import Counter\n",
    "import pandas as pd\n",
    "import matplotlib.pyplot as plt\n",
    "from sklearn.ensemble import RandomForestClassifier\n",
    "%matplotlib inline\n",
    "\n",
    "print('Libraries Ready!')"
   ]
  },
  {
   "cell_type": "code",
   "execution_count": 33,
   "metadata": {
    "collapsed": false
   },
   "outputs": [
    {
     "name": "stdout",
     "output_type": "stream",
     "text": [
      "Age             float64\n",
      "Parch           float64\n",
      "Pclass          float64\n",
      "SibSp           float64\n",
      "FamSize         float64\n",
      "Sex_female      float64\n",
      "Sex_male        float64\n",
      "Embarked_C      float64\n",
      "Embarked_Q      float64\n",
      "Embarked_S      float64\n",
      "Title_Master    float64\n",
      "Title_Miss      float64\n",
      "Title_Mr        float64\n",
      "Title_Mrs       float64\n",
      "Title_Rare      float64\n",
      "dtype: object\n",
      "    Age  Parch  Pclass  SibSp  FamSize  Sex_female  Sex_male  Embarked_C  \\\n",
      "0  22.0    0.0     3.0    1.0      2.0         0.0       1.0         0.0   \n",
      "1  38.0    0.0     1.0    1.0      2.0         1.0       0.0         1.0   \n",
      "2  26.0    0.0     3.0    0.0      1.0         1.0       0.0         0.0   \n",
      "3  35.0    0.0     1.0    1.0      2.0         1.0       0.0         0.0   \n",
      "\n",
      "   Embarked_Q  Embarked_S  Title_Master  Title_Miss  Title_Mr  Title_Mrs  \\\n",
      "0         0.0         1.0           0.0         0.0       1.0        0.0   \n",
      "1         0.0         0.0           0.0         0.0       0.0        1.0   \n",
      "2         0.0         1.0           0.0         1.0       0.0        0.0   \n",
      "3         0.0         1.0           0.0         0.0       0.0        1.0   \n",
      "\n",
      "   Title_Rare  \n",
      "0         0.0  \n",
      "1         0.0  \n",
      "2         0.0  \n",
      "3         0.0  \n"
     ]
    }
   ],
   "source": [
    "# Load the full training and test dataset, saved to csv on day58\n",
    "full = pd.read_csv('/home/sophie/Python/notechain/Titanic/data/061_full.csv', header=0) \n",
    "\n",
    "# current list of variables\n",
    "print(full.dtypes)\n",
    "\n",
    "print(full.head(4))"
   ]
  },
  {
   "cell_type": "markdown",
   "metadata": {},
   "source": [
    "### Impute Age from Mean Age"
   ]
  },
  {
   "cell_type": "code",
   "execution_count": 34,
   "metadata": {
    "collapsed": false
   },
   "outputs": [
    {
     "name": "stdout",
     "output_type": "stream",
     "text": [
      "0    22.000000\n",
      "1    38.000000\n",
      "2    26.000000\n",
      "3    35.000000\n",
      "4    35.000000\n",
      "5    29.881138\n",
      "6    54.000000\n",
      "7     2.000000\n",
      "8    27.000000\n",
      "9    14.000000\n",
      "Name: Age, dtype: float64\n"
     ]
    }
   ],
   "source": [
    "# rename the dataframe\n",
    "full_mean = full\n",
    "\n",
    "full_mean['Age'].fillna(full_mean['Age'].mean(), inplace = True)\n",
    "\n",
    "print(full_mean['Age'][0:10])"
   ]
  },
  {
   "cell_type": "markdown",
   "metadata": {},
   "source": [
    "### Impute Age based on Sex, Title and Pclass\n",
    "\n",
    "Best to import the data again with the columns in categories\n"
   ]
  },
  {
   "cell_type": "code",
   "execution_count": 35,
   "metadata": {
    "collapsed": false
   },
   "outputs": [
    {
     "name": "stdout",
     "output_type": "stream",
     "text": [
      "['Age', 'Parch', 'Pclass', 'SibSp', 'FamSize', 'Sex_female', 'Sex_male', 'Embarked_C', 'Embarked_Q', 'Embarked_S', 'Title_Master', 'Title_Miss', 'Title_Mr', 'Title_Mrs', 'Title_Rare']\n"
     ]
    }
   ],
   "source": [
    "# Load the full training and test dataset, saved to csv on day58\n",
    "df = pd.read_csv('/home/sophie/Python/notechain/Titanic/data/058_full.csv', header=0)\n",
    "\n",
    "print(list(full))"
   ]
  },
  {
   "cell_type": "markdown",
   "metadata": {},
   "source": [
    "This is code copied straight from [052-Titanic](052-Titanic_new.ipynb):"
   ]
  },
  {
   "cell_type": "code",
   "execution_count": 36,
   "metadata": {
    "collapsed": false
   },
   "outputs": [],
   "source": [
    "# Make an array where null values are False.\n",
    "mask_Age = df.Age.notnull()\n",
    "\n",
    "# New dataframe where all rows have a value for age. \n",
    "Age_Sex_Title_Pclass = df.loc[mask_Age, [\"Age\", \"Title\", \"Sex\", \"Pclass\"]]\n",
    "\n",
    "# Groupby object to group by Title, Pclass and Sex\n",
    "Filler_Ages_1 = Age_Sex_Title_Pclass.groupby(by = [\"Title\", \"Pclass\", \"Sex\"]).median()\n",
    "\n",
    "# This moves both Sex and Pclass into column headers and does so in that order. \n",
    "Filler_Ages = Filler_Ages_1.Age.unstack(level = -1).unstack(level = -1)\n",
    "\n",
    "mask_Age = df.Age.isnull()  # A mask where null values are True\n",
    "\n",
    "# New DataFrame with missing values for age\n",
    "Age_Sex_Title_Pclass_missing = df.loc[mask_Age, [\"Title\", \"Sex\", \"Pclass\"]]"
   ]
  },
  {
   "cell_type": "code",
   "execution_count": 38,
   "metadata": {
    "collapsed": false
   },
   "outputs": [],
   "source": [
    "# Look-up function for the calculated median ages. \n",
    "def Age_filler(row):\n",
    "    if row.Sex == \"female\":\n",
    "        age = Filler_Ages.female.loc[row[\"Title\"], row[\"Pclass\"]]\n",
    "        return age\n",
    "    elif row.Sex == \"male\":\n",
    "        age = Filler_Ages.male.loc[row[\"Title\"], row[\"Pclass\"]]\n",
    "        return age\n",
    "    \n",
    "# Make a new column on \"missing\" dataframe and add the median value to each row. \n",
    "Age_Sex_Title_Pclass_missing[\"Age\"] = Age_Sex_Title_Pclass_missing.apply(Age_filler, axis= 1)\n",
    "\n",
    "# reform the 'Age' column.\n",
    "df[\"AgeFill\"] = pd.concat([Age_Sex_Title_Pclass[\"Age\"], Age_Sex_Title_Pclass_missing[\"Age\"]])"
   ]
  },
  {
   "cell_type": "code",
   "execution_count": 39,
   "metadata": {
    "collapsed": false
   },
   "outputs": [
    {
     "name": "stdout",
     "output_type": "stream",
     "text": [
      "['Age', 'Parch', 'Pclass', 'SibSp', 'FamSize', 'Sex_female', 'Sex_male', 'Embarked_C', 'Embarked_Q', 'Embarked_S', 'Title_Master', 'Title_Miss', 'Title_Mr', 'Title_Mrs', 'Title_Rare', 'AgeFill']\n"
     ]
    }
   ],
   "source": [
    "# use the factorized \"full\" dataset and add our new age column to it\n",
    "\n",
    "full3cols = pd.concat([full,df['AgeFill']], axis=1) \n",
    "\n",
    "print(list(full3cols))"
   ]
  },
  {
   "cell_type": "code",
   "execution_count": 40,
   "metadata": {
    "collapsed": false
   },
   "outputs": [
    {
     "name": "stdout",
     "output_type": "stream",
     "text": [
      "['Parch', 'Pclass', 'SibSp', 'FamSize', 'Sex_female', 'Sex_male', 'Embarked_C', 'Embarked_Q', 'Embarked_S', 'Title_Master', 'Title_Miss', 'Title_Mr', 'Title_Mrs', 'Title_Rare', 'AgeFill']\n"
     ]
    }
   ],
   "source": [
    "# Drop the old 'Age' column\n",
    "\n",
    "full3cols = full3cols.drop(['Age'], axis=1)\n",
    "\n",
    "print(list(full3cols))"
   ]
  },
  {
   "cell_type": "markdown",
   "metadata": {},
   "source": [
    "### Impute Age using MICE\n",
    "\n",
    "We need to get the dataframe into numerical values. This means using dummies to transform categorical variables into 1s and 0s."
   ]
  }
 ],
 "metadata": {
  "anaconda-cloud": {},
  "kernelspec": {
   "display_name": "Python [Root]",
   "language": "python",
   "name": "Python [Root]"
  },
  "language_info": {
   "codemirror_mode": {
    "name": "ipython",
    "version": 3
   },
   "file_extension": ".py",
   "mimetype": "text/x-python",
   "name": "python",
   "nbconvert_exporter": "python",
   "pygments_lexer": "ipython3",
   "version": "3.5.2"
  }
 },
 "nbformat": 4,
 "nbformat_minor": 0
}
