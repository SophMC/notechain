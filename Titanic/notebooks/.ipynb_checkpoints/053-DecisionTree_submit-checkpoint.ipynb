{
 "cells": [
  {
   "cell_type": "markdown",
   "metadata": {},
   "source": [
    "### Submission attempts with Decision Trees, Random Forest and Gradient boosting\n",
    "\n",
    "Here I will read in the training and test data already cleaned up from [this](053-Titanic_new.ipynb) notebook"
   ]
  },
  {
   "cell_type": "code",
   "execution_count": 7,
   "metadata": {
    "collapsed": true
   },
   "outputs": [],
   "source": [
    "import pandas as pd\n",
    "import numpy as np\n",
    "from sklearn.tree import DecisionTreeClassifier\n",
    "from sklearn.ensemble import RandomForestClassifier, GradientBoostingClassifier"
   ]
  },
  {
   "cell_type": "code",
   "execution_count": 37,
   "metadata": {
    "collapsed": false
   },
   "outputs": [],
   "source": [
    "# import the training data\n",
    "# ['Title_Mr', 'Sex_male', 'Sex_female', 'Title_Mrs', 'Title_Miss', 'Pclass_3',\n",
    "# 'Pclass_1', 'Fare', 'Embarked_C', 'Embarked_S']\n",
    "train = pd.read_csv('/home/sophie/projects/Titanic/data/clean_train_53.csv',sep = \" \", header=0, \n",
    "                      index_col=0).astype(np.float32)\n",
    "\n",
    "#Y_train = pd.read_csv('/home/sophie/projects/Titanic/data/clean_Ytrain_53.csv',sep = \" \", header=0,\n",
    "                      #squeeze = True, index_col=0).astype(np.float32)\n",
    "\n",
    "#import the test data\n",
    "test = pd.read_csv('/home/sophie/projects/Titanic/data/clean_Xtest_53.csv', sep = \" \", header=0, \n",
    "                   index_col=0).astype(np.float32)"
   ]
  },
  {
   "cell_type": "code",
   "execution_count": 39,
   "metadata": {
    "collapsed": false
   },
   "outputs": [
    {
     "name": "stdout",
     "output_type": "stream",
     "text": [
      "596\n",
      "595\n",
      "             Title_Mr  Sex_male  Sex_female  Title_Mrs  Title_Miss  Pclass_3  \\\n",
      "PassengerId                                                                    \n",
      "827               1.0       1.0         0.0        0.0         0.0       1.0   \n",
      "106               1.0       1.0         0.0        0.0         0.0       1.0   \n",
      "189               1.0       1.0         0.0        0.0         0.0       1.0   \n",
      "595               1.0       1.0         0.0        0.0         0.0       0.0   \n",
      "588               1.0       1.0         0.0        0.0         0.0       0.0   \n",
      "633               0.0       1.0         0.0        0.0         0.0       0.0   \n",
      "395               0.0       0.0         1.0        1.0         0.0       1.0   \n",
      "44                0.0       0.0         1.0        0.0         1.0       0.0   \n",
      "77                1.0       1.0         0.0        0.0         0.0       1.0   \n",
      "835               1.0       1.0         0.0        0.0         0.0       1.0   \n",
      "\n",
      "             Pclass_1       Fare  Embarked_C  Embarked_S  Survived  \n",
      "PassengerId                                                         \n",
      "827               0.0  56.495800         0.0         1.0       0.0  \n",
      "106               0.0   7.895800         0.0         1.0       0.0  \n",
      "189               0.0  15.500000         0.0         0.0       0.0  \n",
      "595               0.0  26.000000         0.0         1.0       0.0  \n",
      "588               1.0  79.199997         1.0         0.0       1.0  \n",
      "633               1.0  30.500000         1.0         0.0       1.0  \n",
      "395               0.0  16.700001         0.0         1.0       1.0  \n",
      "44                0.0  41.579201         1.0         0.0       1.0  \n",
      "77                0.0   7.895800         0.0         1.0       0.0  \n",
      "835               0.0   8.300000         0.0         1.0       0.0  \n"
     ]
    }
   ],
   "source": [
    "print(len(train))\n",
    "print(len(Y_train))\n",
    "\n",
    "print(train[0:10])"
   ]
  },
  {
   "cell_type": "code",
   "execution_count": 45,
   "metadata": {
    "collapsed": false
   },
   "outputs": [
    {
     "name": "stdout",
     "output_type": "stream",
     "text": [
      "             Title_Mr  Sex_male  Sex_female  Title_Mrs  Title_Miss  Pclass_3  \\\n",
      "PassengerId                                                                    \n",
      "827               1.0       1.0         0.0        0.0         0.0       1.0   \n",
      "106               1.0       1.0         0.0        0.0         0.0       1.0   \n",
      "189               1.0       1.0         0.0        0.0         0.0       1.0   \n",
      "595               1.0       1.0         0.0        0.0         0.0       0.0   \n",
      "588               1.0       1.0         0.0        0.0         0.0       0.0   \n",
      "633               0.0       1.0         0.0        0.0         0.0       0.0   \n",
      "395               0.0       0.0         1.0        1.0         0.0       1.0   \n",
      "44                0.0       0.0         1.0        0.0         1.0       0.0   \n",
      "77                1.0       1.0         0.0        0.0         0.0       1.0   \n",
      "835               1.0       1.0         0.0        0.0         0.0       1.0   \n",
      "\n",
      "             Pclass_1       Fare  Embarked_C  Embarked_S  \n",
      "PassengerId                                               \n",
      "827               0.0  56.495800         0.0         1.0  \n",
      "106               0.0   7.895800         0.0         1.0  \n",
      "189               0.0  15.500000         0.0         0.0  \n",
      "595               0.0  26.000000         0.0         1.0  \n",
      "588               1.0  79.199997         1.0         0.0  \n",
      "633               1.0  30.500000         1.0         0.0  \n",
      "395               0.0  16.700001         0.0         1.0  \n",
      "44                0.0  41.579201         1.0         0.0  \n",
      "77                0.0   7.895800         0.0         1.0  \n",
      "835               0.0   8.300000         0.0         1.0  \n",
      "PassengerId\n",
      "827    0.0\n",
      "106    0.0\n",
      "189    0.0\n",
      "595    0.0\n",
      "588    1.0\n",
      "633    1.0\n",
      "395    1.0\n",
      "44     1.0\n",
      "77     0.0\n",
      "835    0.0\n",
      "Name: Survived, dtype: float32\n"
     ]
    }
   ],
   "source": [
    "print(train.iloc[:,0:-1][0:10])\n",
    "print(train.iloc[:,-1][0:10])"
   ]
  },
  {
   "cell_type": "markdown",
   "metadata": {},
   "source": [
    "Start with the DecisionTreeClassifier"
   ]
  },
  {
   "cell_type": "code",
   "execution_count": 46,
   "metadata": {
    "collapsed": false
   },
   "outputs": [],
   "source": [
    "# Create the DecisionTreeClassifier object with optimal parameter values\n",
    "tree = DecisionTreeClassifier(max_depth = 3, min_samples_split = 14, min_samples_leaf = 4, max_leaf_nodes = 6)\n",
    "\n",
    "# Fit the training data to the Survived labels and create the decision trees. (x,y)(train_inputs, classification labels)\n",
    "tree_fit = tree.fit(train.iloc[:,0:-1], train.iloc[:,-1])"
   ]
  },
  {
   "cell_type": "code",
   "execution_count": null,
   "metadata": {
    "collapsed": true
   },
   "outputs": [],
   "source": []
  }
 ],
 "metadata": {
  "kernelspec": {
   "display_name": "Python 3",
   "language": "python",
   "name": "python3"
  },
  "language_info": {
   "codemirror_mode": {
    "name": "ipython",
    "version": 3
   },
   "file_extension": ".py",
   "mimetype": "text/x-python",
   "name": "python",
   "nbconvert_exporter": "python",
   "pygments_lexer": "ipython3",
   "version": "3.5.1"
  }
 },
 "nbformat": 4,
 "nbformat_minor": 0
}
