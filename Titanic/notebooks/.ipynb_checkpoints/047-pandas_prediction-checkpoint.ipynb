{
 "cells": [
  {
   "cell_type": "markdown",
   "metadata": {},
   "source": [
    "Here we will make a prediction of survival, based on gender, cabin class and ticket price using Pandas.\n",
    "The initial model will be developed with the training data and then predictions made on the test data."
   ]
  },
  {
   "cell_type": "code",
   "execution_count": 328,
   "metadata": {
    "collapsed": true
   },
   "outputs": [],
   "source": [
    "import pandas as pd\n",
    "import numpy as np\n",
    "\n",
    "df = pd.read_csv('/home/sophie/projects/Titanic/data/train.csv', header=0)"
   ]
  },
  {
   "cell_type": "code",
   "execution_count": 329,
   "metadata": {
    "collapsed": false
   },
   "outputs": [
    {
     "name": "stdout",
     "output_type": "stream",
     "text": [
      "['PassengerId', 'Survived', 'Pclass', 'Name', 'Sex', 'Age', 'SibSp', 'Parch', 'Ticket', 'Fare', 'Cabin', 'Embarked']\n",
      "<class 'pandas.core.frame.DataFrame'>\n",
      "RangeIndex: 891 entries, 0 to 890\n",
      "Data columns (total 12 columns):\n",
      "PassengerId    891 non-null int64\n",
      "Survived       891 non-null int64\n",
      "Pclass         891 non-null int64\n",
      "Name           891 non-null object\n",
      "Sex            891 non-null object\n",
      "Age            714 non-null float64\n",
      "SibSp          891 non-null int64\n",
      "Parch          891 non-null int64\n",
      "Ticket         891 non-null object\n",
      "Fare           891 non-null float64\n",
      "Cabin          204 non-null object\n",
      "Embarked       889 non-null object\n",
      "dtypes: float64(2), int64(5), object(5)\n",
      "memory usage: 83.6+ KB\n",
      "None\n",
      "   PassengerId  Survived  Pclass  \\\n",
      "0            1         0       3   \n",
      "1            2         1       1   \n",
      "2            3         1       3   \n",
      "3            4         1       1   \n",
      "4            5         0       3   \n",
      "\n",
      "                                                Name     Sex   Age  SibSp  \\\n",
      "0                            Braund, Mr. Owen Harris    male  22.0      1   \n",
      "1  Cumings, Mrs. John Bradley (Florence Briggs Th...  female  38.0      1   \n",
      "2                             Heikkinen, Miss. Laina  female  26.0      0   \n",
      "3       Futrelle, Mrs. Jacques Heath (Lily May Peel)  female  35.0      1   \n",
      "4                           Allen, Mr. William Henry    male  35.0      0   \n",
      "\n",
      "   Parch            Ticket     Fare Cabin Embarked  \n",
      "0      0         A/5 21171   7.2500   NaN        S  \n",
      "1      0          PC 17599  71.2833   C85        C  \n",
      "2      0  STON/O2. 3101282   7.9250   NaN        S  \n",
      "3      0            113803  53.1000  C123        S  \n",
      "4      0            373450   8.0500   NaN        S  \n"
     ]
    }
   ],
   "source": [
    "print(list(df))\n",
    "print(df.info())\n",
    "print(df.head())"
   ]
  },
  {
   "cell_type": "code",
   "execution_count": 330,
   "metadata": {
    "collapsed": false
   },
   "outputs": [
    {
     "name": "stdout",
     "output_type": "stream",
     "text": [
      "0 null values in Sex\n",
      "0 null values in Ticket\n",
      "0 null values in Fare\n"
     ]
    }
   ],
   "source": [
    "# We want to use Sex, Ticket and Fare. Lets see how many nans there are in these columns\n",
    "print('%d null values in Sex'% (len(df[df['Sex'].isnull()])))\n",
    "print('%d null values in Ticket'% (len(df[df['Ticket'].isnull()])))\n",
    "print('%d null values in Fare'% (len(df[df['Fare'].isnull()])))"
   ]
  },
  {
   "cell_type": "code",
   "execution_count": 331,
   "metadata": {
    "collapsed": false
   },
   "outputs": [
    {
     "data": {
      "text/plain": [
       "PassengerId      0\n",
       "Survived         0\n",
       "Pclass           0\n",
       "Name             0\n",
       "Sex              0\n",
       "Age            177\n",
       "SibSp            0\n",
       "Parch            0\n",
       "Ticket           0\n",
       "Fare             0\n",
       "Cabin          687\n",
       "Embarked         2\n",
       "dtype: int64"
      ]
     },
     "execution_count": 331,
     "metadata": {},
     "output_type": "execute_result"
    }
   ],
   "source": [
    "# This is the best way to find null values in a dataframe.\n",
    "df.isnull().sum()"
   ]
  },
  {
   "cell_type": "markdown",
   "metadata": {},
   "source": [
    "So, we don't need to worry about null values in Sex, Ticket or Fare columns."
   ]
  },
  {
   "cell_type": "code",
   "execution_count": 332,
   "metadata": {
    "collapsed": false
   },
   "outputs": [],
   "source": [
    "# Make an empty panel to store 3d data. (x,y,z)=(items, major_axis, minor_axis)\n",
    "# filled with 0s to begin with. \n",
    "survival_table = pd.Panel(data = 0,items=['F', 'M'],major_axis=[0,1,2],minor_axis=[0,1,2,3])"
   ]
  },
  {
   "cell_type": "code",
   "execution_count": 333,
   "metadata": {
    "collapsed": false
   },
   "outputs": [
    {
     "name": "stdout",
     "output_type": "stream",
     "text": [
      "(2, 3, 4)\n",
      "[[[0 0 0 0]\n",
      "  [0 0 0 0]\n",
      "  [0 0 0 0]]\n",
      "\n",
      " [[0 0 0 0]\n",
      "  [0 0 0 0]\n",
      "  [0 0 0 0]]]\n"
     ]
    }
   ],
   "source": [
    "print(survival_table.shape)\n",
    "print(survival_table.values)  # looks good!"
   ]
  },
  {
   "cell_type": "code",
   "execution_count": 334,
   "metadata": {
    "collapsed": false
   },
   "outputs": [
    {
     "name": "stdout",
     "output_type": "stream",
     "text": [
      "0     7.2500\n",
      "1    71.2833\n",
      "2     7.9250\n",
      "3    53.1000\n",
      "4     8.0500\n",
      "5     8.4583\n",
      "6    51.8625\n",
      "7    21.0750\n",
      "8    11.1333\n",
      "9    30.0708\n",
      "Name: Fare, dtype: float64\n",
      "0    0\n",
      "1    3\n",
      "2    0\n",
      "3    3\n",
      "4    0\n",
      "5    0\n",
      "6    3\n",
      "7    2\n",
      "8    1\n",
      "9    3\n",
      "Name: Farebin, dtype: int64\n"
     ]
    }
   ],
   "source": [
    "# add a column to the dataframe which tells us which of the Fare bins the passenger is in.\n",
    "# We define them an $0-9, $10-19, $20-29 and $30-39. If the fare is greater than $40 they get label 4. \n",
    "\n",
    "def binfare(x):\n",
    "    if x < 10: \n",
    "        return 0\n",
    "    elif (x >=10) & (x <20) : return 1   \n",
    "    elif (x >=20) & (x <30) : return 2\n",
    "    else: return 3\n",
    "\n",
    "# create a new column where Fares are put into bins\n",
    "print(df['Fare'][0:10])\n",
    "\n",
    "# Make a new column with Fares in bins\n",
    "df['Farebin'] = df['Fare'].map(binfare)\n",
    "\n",
    "print(df['Farebin'][0:10])"
   ]
  },
  {
   "cell_type": "code",
   "execution_count": 335,
   "metadata": {
    "collapsed": false
   },
   "outputs": [
    {
     "name": "stdout",
     "output_type": "stream",
     "text": [
      "PassengerId    64\n",
      "Survived       64\n",
      "Pclass         64\n",
      "Name           64\n",
      "Sex            64\n",
      "Age            64\n",
      "SibSp          64\n",
      "Parch          64\n",
      "Ticket         64\n",
      "Fare           64\n",
      "Cabin          33\n",
      "Embarked       63\n",
      "Farebin        64\n",
      "dtype: int64\n",
      "64\n"
     ]
    }
   ],
   "source": [
    "# count the rows which meet a criteria. \n",
    "print(df[df['Age'] > 50].count()) # This is better for understanding the data.\n",
    "\n",
    "print(len(df[df['Age'] > 50])) # This is better if you want to use in an equation"
   ]
  },
  {
   "cell_type": "code",
   "execution_count": 336,
   "metadata": {
    "collapsed": false
   },
   "outputs": [
    {
     "name": "stdout",
     "output_type": "stream",
     "text": [
      "[0 3 2 1]\n",
      "[3 1 2]\n"
     ]
    }
   ],
   "source": [
    "# We use these to fill in our survival table\n",
    "print(df.Farebin.unique())\n",
    "print (df.Pclass.unique())"
   ]
  },
  {
   "cell_type": "code",
   "execution_count": 337,
   "metadata": {
    "collapsed": false
   },
   "outputs": [
    {
     "name": "stdout",
     "output_type": "stream",
     "text": [
      "0    1\n",
      "1    0\n",
      "2    0\n",
      "3    0\n",
      "4    1\n",
      "Name: Gender, dtype: int64\n"
     ]
    }
   ],
   "source": [
    "# Make a new column to turn female/ male to 1/0, called Gender\n",
    "df['Gender'] = df['Sex'].map({'female': 0, 'male': 1}).astype(int)\n",
    "\n",
    "print(df['Gender'][0:5])"
   ]
  },
  {
   "cell_type": "code",
   "execution_count": 338,
   "metadata": {
    "collapsed": false
   },
   "outputs": [
    {
     "name": "stdout",
     "output_type": "stream",
     "text": [
      "81\n",
      "324\n",
      "6\n"
     ]
    }
   ],
   "source": [
    "# To select the number of people who fit certain criteria\n",
    "print(len(df[(df['Pclass'] == 3) & (df['Farebin'] == 1)])) # everyone in 3rd class who paid $10-$19 for their ticket.\n",
    "print(len(df[(df['Pclass'] == 3) & (df['Farebin'] == 0)])) # A much higher number in 3rd class paid $0-9\n",
    "print(len(df[(df['Pclass'] == 1) & (df['Farebin'] == 0)])) # 6 people had a very cheap 1st class ticket!"
   ]
  },
  {
   "cell_type": "code",
   "execution_count": 339,
   "metadata": {
    "collapsed": false
   },
   "outputs": [
    {
     "name": "stdout",
     "output_type": "stream",
     "text": [
      "98\n"
     ]
    }
   ],
   "source": [
    "print(len(df[(df['Pclass'] == 2) & (df['Farebin'] == 1)]))"
   ]
  },
  {
   "cell_type": "code",
   "execution_count": 340,
   "metadata": {
    "collapsed": false
   },
   "outputs": [
    {
     "name": "stdout",
     "output_type": "stream",
     "text": [
      "women, i = 0 and j = 0\n",
      "women, i = 0 and j = 1\n",
      "men, i = 0 and j = 1\n",
      "women, i = 1 and j = 0\n"
     ]
    }
   ],
   "source": [
    "num_Pclass = 3\n",
    "num_binfare = 4\n",
    "for i in range(num_Pclass):\n",
    "    for j in range(num_binfare):\n",
    "        \n",
    "        # Women\n",
    "        women_tot = (len(df[(df['Pclass'] == i+1) & (df['Farebin'] == j) & (df['Gender'] == 0)]))\n",
    "        women_surv = (len(df[(df['Pclass'] == i+1) & (df['Farebin'] == j) & (df['Gender'] == 0) & df['Survived'] == 1]))\n",
    "        \n",
    "        men_tot = (len(df[(df['Pclass'] == i+1) & (df['Farebin'] == j) & (df['Gender'] == 1)]))\n",
    "        men_surv = (len(df[(df['Pclass'] == i+1) & (df['Farebin'] == j) & (df['Gender'] == 1) & df['Survived'] == 1]))\n",
    "        \n",
    "        # No women paid for first class tickets themselves \n",
    "        if women_tot == 0: print(\"women, i = %d and j = %d\"%(i,j))\n",
    "        if women_tot != 0:\n",
    "            survival_table.iloc[0,i,j] = ((women_surv/women_tot)*100)\n",
    "        \n",
    "        if men_tot == 0: print(\"men, i = %d and j = %d\"%(i,j))\n",
    "        if men_tot != 0:    \n",
    "            survival_table.iloc[1,i,j] = ((men_surv/men_tot)*100)"
   ]
  },
  {
   "cell_type": "markdown",
   "metadata": {},
   "source": [
    "This tells us that:      \n",
    "- no women in first class paid \\$0-19 for their tickets\n",
    "- no men in first class paid \\$10-19 for their tickets\n",
    "- no women in second class paid \\$0-9 for their tickets\n"
   ]
  },
  {
   "cell_type": "code",
   "execution_count": 341,
   "metadata": {
    "collapsed": false
   },
   "outputs": [
    {
     "name": "stdout",
     "output_type": "stream",
     "text": [
      "[[[   0.            0.           83.33333333   97.72727273]\n",
      "  [   0.           91.42857143   90.          100.        ]\n",
      "  [  59.375        58.13953488   33.33333333   12.5       ]]\n",
      "\n",
      " [[   0.            0.           40.           38.37209302]\n",
      "  [   0.           15.87301587   16.           21.42857143]\n",
      "  [  11.15384615   23.68421053   12.5          24.        ]]]\n",
      "<class 'pandas.core.panel.Panel'>\n",
      "Dimensions: 2 (items) x 3 (major_axis) x 4 (minor_axis)\n",
      "Items axis: F to M\n",
      "Major_axis axis: 0 to 2\n",
      "Minor_axis axis: 0 to 3\n"
     ]
    }
   ],
   "source": [
    "print(survival_table.values)\n",
    "print(survival_table)"
   ]
  },
  {
   "cell_type": "code",
   "execution_count": 361,
   "metadata": {
    "collapsed": false
   },
   "outputs": [],
   "source": [
    "# Take 50% chance of survival as the threshold, we transform survival_table in binary 1s/0s\n",
    "def binary(x):\n",
    "    \n",
    "    if x >= 50: return 1\n",
    "    if x < 50: return 0"
   ]
  },
  {
   "cell_type": "code",
   "execution_count": 343,
   "metadata": {
    "collapsed": false
   },
   "outputs": [
    {
     "name": "stdout",
     "output_type": "stream",
     "text": [
      "        0          1          2           3\n",
      "0   0.000   0.000000  83.333333   97.727273\n",
      "1   0.000  91.428571  90.000000  100.000000\n",
      "2  59.375  58.139535  33.333333   12.500000\n",
      "           0          1     2          3\n",
      "0   0.000000   0.000000  40.0  38.372093\n",
      "1   0.000000  15.873016  16.0  21.428571\n",
      "2  11.153846  23.684211  12.5  24.000000\n"
     ]
    }
   ],
   "source": [
    "print(survival_table['F'])\n",
    "print(survival_table['M'])"
   ]
  },
  {
   "cell_type": "markdown",
   "metadata": {},
   "source": [
    "I am not sure how to apply a function to all elements of a panel, so instead I will do it to the Female and Male panels seperately, as dataframes."
   ]
  },
  {
   "cell_type": "code",
   "execution_count": 344,
   "metadata": {
    "collapsed": false
   },
   "outputs": [
    {
     "name": "stdout",
     "output_type": "stream",
     "text": [
      "[[[0 0 1 1]\n",
      "  [0 1 1 1]\n",
      "  [1 1 0 0]]\n",
      "\n",
      " [[0 0 0 0]\n",
      "  [0 0 0 0]\n",
      "  [0 0 0 0]]]\n"
     ]
    }
   ],
   "source": [
    "survival_table['F'] = survival_table['F'].applymap(binary)\n",
    "survival_table['M'] = survival_table['M'].applymap(binary)\n",
    "\n",
    "print(survival_table.values)"
   ]
  },
  {
   "cell_type": "markdown",
   "metadata": {},
   "source": [
    "Based on this criteria, no men survived! \n",
    "\n",
    "Next, we read in the test data and test it against our survival table to make predictions. "
   ]
  },
  {
   "cell_type": "code",
   "execution_count": 345,
   "metadata": {
    "collapsed": false
   },
   "outputs": [
    {
     "name": "stdout",
     "output_type": "stream",
     "text": [
      "['PassengerId', 'Pclass', 'Name', 'Sex', 'Age', 'SibSp', 'Parch', 'Ticket', 'Fare', 'Cabin', 'Embarked']\n"
     ]
    }
   ],
   "source": [
    "df_test = pd.read_csv('/home/sophie/projects/Titanic/data/test.csv', header=0)\n",
    "\n",
    "print(list(df_test))"
   ]
  },
  {
   "cell_type": "code",
   "execution_count": 346,
   "metadata": {
    "collapsed": true
   },
   "outputs": [],
   "source": [
    "# Make a column with Fares in bins\n",
    "df_test['Farebin'] = df_test['Fare'].map(binfare) # reusing binfare function"
   ]
  },
  {
   "cell_type": "code",
   "execution_count": 347,
   "metadata": {
    "collapsed": true
   },
   "outputs": [],
   "source": [
    "# Make a 'Gender' column\n",
    "df_test['Gender'] = df_test['Sex'].map({'female': 0, 'male': 1}).astype(int)"
   ]
  },
  {
   "cell_type": "code",
   "execution_count": 357,
   "metadata": {
    "collapsed": false
   },
   "outputs": [
    {
     "name": "stdout",
     "output_type": "stream",
     "text": [
      "Empty DataFrame\n",
      "Columns: [PassengerId, Survived, Pclass, Name, Sex, Age, SibSp, Parch, Ticket, Fare, Cabin, Embarked, Farebin, Gender]\n",
      "Index: []\n"
     ]
    },
    {
     "name": "stderr",
     "output_type": "stream",
     "text": [
      "/home/sophie/anaconda2/envs/py3/lib/python3.5/site-packages/ipykernel/__main__.py:2: SettingWithCopyWarning: \n",
      "A value is trying to be set on a copy of a slice from a DataFrame\n",
      "\n",
      "See the caveats in the documentation: http://pandas.pydata.org/pandas-docs/stable/indexing.html#indexing-view-versus-copy\n",
      "  from ipykernel import kernelapp as app\n"
     ]
    }
   ],
   "source": [
    "df_test['Survived'] = 0\n",
    "df_test['Survived'][(df['Pclass'] == 1) & (df['Farebin'] == 0) & (df['Gender'] == 0)] = survival_table[0,i,j]\n",
    "print(df[(df['Pclass'] == 1) & (df['Farebin'] == 0) & (df['Gender'] == 0)])"
   ]
  },
  {
   "cell_type": "code",
   "execution_count": 358,
   "metadata": {
    "collapsed": false
   },
   "outputs": [
    {
     "name": "stderr",
     "output_type": "stream",
     "text": [
      "/home/sophie/anaconda2/envs/py3/lib/python3.5/site-packages/ipykernel/__main__.py:12: SettingWithCopyWarning: \n",
      "A value is trying to be set on a copy of a slice from a DataFrame\n",
      "\n",
      "See the caveats in the documentation: http://pandas.pydata.org/pandas-docs/stable/indexing.html#indexing-view-versus-copy\n",
      "/home/sophie/anaconda2/envs/py3/lib/python3.5/site-packages/ipykernel/__main__.py:16: SettingWithCopyWarning: \n",
      "A value is trying to be set on a copy of a slice from a DataFrame\n",
      "\n",
      "See the caveats in the documentation: http://pandas.pydata.org/pandas-docs/stable/indexing.html#indexing-view-versus-copy\n"
     ]
    }
   ],
   "source": [
    "# Loop over as we did before, and make a new Survived column\n",
    "# Make an empty survived column first\n",
    "df_test['Survived'] = 0\n",
    "\n",
    "num_Pclass = 3\n",
    "num_binfare = 4\n",
    "for i in range(num_Pclass):\n",
    "    for j in range(num_binfare):\n",
    "        \n",
    "        # Women\n",
    "        df_test['Survived'][(df_test['Pclass'] == i+1) & (df_test['Farebin'] == j) & \n",
    "                            (df_test['Gender'] == 0)] = survival_table[0,i,j]\n",
    "        \n",
    "        # Men\n",
    "        df_test['Survived'][(df_test['Pclass'] == i+1) & (df_test['Farebin'] == j) & \n",
    "                            (df_test['Gender'] == 1)] = survival_table[1,i,j]"
   ]
  },
  {
   "cell_type": "code",
   "execution_count": 359,
   "metadata": {
    "collapsed": false
   },
   "outputs": [
    {
     "name": "stdout",
     "output_type": "stream",
     "text": [
      "0    0\n",
      "1    1\n",
      "2    0\n",
      "3    0\n",
      "4    1\n",
      "Name: Survived, dtype: int64\n"
     ]
    }
   ],
   "source": [
    "print(df_test['Survived'][0:5])"
   ]
  },
  {
   "cell_type": "code",
   "execution_count": 360,
   "metadata": {
    "collapsed": true
   },
   "outputs": [],
   "source": [
    "# Output to CSV in the same format as before\n",
    "df_test[['PassengerId','Survived']].to_csv('/home/sophie/projects/Titanic/data/genderclassmodel_pandas.csv', sep = \" \", \\\n",
    "               cols = [['PassengerId','Survived']], index = False)"
   ]
  }
 ],
 "metadata": {
  "kernelspec": {
   "display_name": "Python 3",
   "language": "python",
   "name": "python3"
  },
  "language_info": {
   "codemirror_mode": {
    "name": "ipython",
    "version": 3
   },
   "file_extension": ".py",
   "mimetype": "text/x-python",
   "name": "python",
   "nbconvert_exporter": "python",
   "pygments_lexer": "ipython3",
   "version": "3.5.1"
  }
 },
 "nbformat": 4,
 "nbformat_minor": 0
}
