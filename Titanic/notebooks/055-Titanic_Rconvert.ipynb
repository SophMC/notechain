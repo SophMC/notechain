{
 "cells": [
  {
   "cell_type": "markdown",
   "metadata": {},
   "source": [
    "## Exploring Survival On The Titanic (Python)\n",
    "#### Converting into python, from r, some of the ideas from Megan Drisdals brilliant analysis - https://www.kaggle.com/mrisdal/titanic/exploring-survival-on-the-titanic/comments to see if I can improve my score.\n",
    "\n",
    "- Feature Engineering\n",
    "- Missing Value Imputation\n",
    "- Prediction"
   ]
  },
  {
   "cell_type": "code",
   "execution_count": 225,
   "metadata": {
    "collapsed": false
   },
   "outputs": [
    {
     "name": "stdout",
     "output_type": "stream",
     "text": [
      "Libraries Ready!\n"
     ]
    }
   ],
   "source": [
    "# Import libraries\n",
    "\n",
    "import numpy as np\n",
    "from numpy.random import random_integers\n",
    "from collections import Counter\n",
    "import pandas as pd\n",
    "import matplotlib.pyplot as plt\n",
    "from sklearn.ensemble import RandomForestClassifier\n",
    "%matplotlib inline\n",
    "\n",
    "print('Libraries Ready!')"
   ]
  },
  {
   "cell_type": "code",
   "execution_count": 226,
   "metadata": {
    "collapsed": false
   },
   "outputs": [],
   "source": [
    "# Load training and test data\n",
    "train = pd.read_csv('/home/sophie/projects/Titanic/data/train.csv', header=0)\n",
    "test = pd.read_csv('/home/sophie/projects/Titanic/data/test.csv', header=0)\n",
    "\n",
    "# bind training & test data so we can apply all the following changes to both in one go.\n",
    "full = pd.concat([train,test])"
   ]
  },
  {
   "cell_type": "code",
   "execution_count": 227,
   "metadata": {
    "collapsed": false
   },
   "outputs": [
    {
     "name": "stdout",
     "output_type": "stream",
     "text": [
      "1309\n",
      "1309\n",
      "(1309, 12)\n",
      "    Age Cabin Embarked     Fare  \\\n",
      "0  22.0   NaN        S   7.2500   \n",
      "1  38.0   C85        C  71.2833   \n",
      "2  26.0   NaN        S   7.9250   \n",
      "3  35.0  C123        S  53.1000   \n",
      "4  35.0   NaN        S   8.0500   \n",
      "\n",
      "                                                Name  Parch  PassengerId  \\\n",
      "0                            Braund, Mr. Owen Harris      0            1   \n",
      "1  Cumings, Mrs. John Bradley (Florence Briggs Th...      0            2   \n",
      "2                             Heikkinen, Miss. Laina      0            3   \n",
      "3       Futrelle, Mrs. Jacques Heath (Lily May Peel)      0            4   \n",
      "4                           Allen, Mr. William Henry      0            5   \n",
      "\n",
      "   Pclass     Sex  SibSp  Survived            Ticket  \n",
      "0       3    male      1       0.0         A/5 21171  \n",
      "1       1  female      1       1.0          PC 17599  \n",
      "2       3  female      0       1.0  STON/O2. 3101282  \n",
      "3       1  female      1       1.0            113803  \n",
      "4       3    male      0       0.0            373450  \n",
      "['Age', 'Cabin', 'Embarked', 'Fare', 'Name', 'Parch', 'PassengerId', 'Pclass', 'Sex', 'SibSp', 'Survived', 'Ticket']\n",
      "['PassengerId', 'Survived', 'Pclass', 'Name', 'Sex', 'Age', 'SibSp', 'Parch', 'Ticket', 'Fare', 'Cabin', 'Embarked']\n",
      "['PassengerId', 'Pclass', 'Name', 'Sex', 'Age', 'SibSp', 'Parch', 'Ticket', 'Fare', 'Cabin', 'Embarked']\n"
     ]
    }
   ],
   "source": [
    "print(len(full))\n",
    "print(len(train)+len(test))\n",
    "print(full.shape)\n",
    "print(full.head())\n",
    "print(list(full))\n",
    "print(list(train))\n",
    "print(list(test))"
   ]
  },
  {
   "cell_type": "code",
   "execution_count": 228,
   "metadata": {
    "collapsed": false
   },
   "outputs": [
    {
     "name": "stdout",
     "output_type": "stream",
     "text": [
      "891\n"
     ]
    }
   ],
   "source": [
    "# rows, columns with iloc\n",
    "print(train.PassengerId.iloc[-1])\n",
    "\n",
    "# This will be where we want to split it in the end."
   ]
  },
  {
   "cell_type": "markdown",
   "metadata": {},
   "source": [
    "### Feature Engineering"
   ]
  },
  {
   "cell_type": "code",
   "execution_count": 229,
   "metadata": {
    "collapsed": false
   },
   "outputs": [
    {
     "name": "stdout",
     "output_type": "stream",
     "text": [
      "{'Lady', 'the Countess', 'Miss', 'Mr', 'Major', 'Jonkheer', 'Rev', 'Dr', 'Capt', 'Col', 'Sir', 'Master', 'Mme', 'Mlle', 'Don', 'Dona', 'Ms', 'Mrs'}\n"
     ]
    }
   ],
   "source": [
    "# Grab title from passenger names\n",
    "\n",
    "full['Title'] = full['Name'].apply(lambda x: x.split(',')[1].split('.')[0].strip())\n",
    "\n",
    "# Show title counts by sex\n",
    "\n",
    "#first convert the Title column into a set.\n",
    "title = set(full['Title'] )\n",
    "print(title)"
   ]
  },
  {
   "cell_type": "code",
   "execution_count": 230,
   "metadata": {
    "collapsed": false
   },
   "outputs": [
    {
     "name": "stdout",
     "output_type": "stream",
     "text": [
      "Counter({'Mr': 757, 'Miss': 260, 'Mrs': 197, 'Master': 61, 'Rev': 8, 'Dr': 8, 'Col': 4, 'Major': 2, 'Mlle': 2, 'Ms': 2, 'Lady': 1, 'the Countess': 1, 'Capt': 1, 'Sir': 1, 'Jonkheer': 1, 'Don': 1, 'Dona': 1, 'Mme': 1})\n"
     ]
    }
   ],
   "source": [
    "# Count the number of times each one appears\n",
    "count_title = Counter(full['Title'])\n",
    "\n",
    "print(count_title)"
   ]
  },
  {
   "cell_type": "code",
   "execution_count": 231,
   "metadata": {
    "collapsed": false
   },
   "outputs": [
    {
     "name": "stdout",
     "output_type": "stream",
     "text": [
      "Title         Sex   \n",
      "Capt          male        1\n",
      "Col           male        4\n",
      "Don           male        1\n",
      "Dona          female      1\n",
      "Dr            female      1\n",
      "              male        7\n",
      "Jonkheer      male        1\n",
      "Lady          female      1\n",
      "Major         male        2\n",
      "Master        male       61\n",
      "Miss          female    260\n",
      "Mlle          female      2\n",
      "Mme           female      1\n",
      "Mr            male      757\n",
      "Mrs           female    197\n",
      "Ms            female      2\n",
      "Rev           male        8\n",
      "Sir           male        1\n",
      "the Countess  female      1\n",
      "dtype: int64\n"
     ]
    }
   ],
   "source": [
    "# get counts using groupby\n",
    "group = full.groupby(['Title', 'Sex']).size()\n",
    "print (group)"
   ]
  },
  {
   "cell_type": "code",
   "execution_count": 232,
   "metadata": {
    "collapsed": false
   },
   "outputs": [
    {
     "name": "stdout",
     "output_type": "stream",
     "text": [
      "                      0\n",
      "Captmale              1\n",
      "Colmale               4\n",
      "Donmale               1\n",
      "Donafemale            1\n",
      "Drfemale              1\n",
      "Drmale                7\n",
      "Jonkheermale          1\n",
      "Ladyfemale            1\n",
      "Majormale             2\n",
      "Mastermale           61\n",
      "Missfemale          260\n",
      "Mllefemale            2\n",
      "Mmefemale             1\n",
      "Mrmale              757\n",
      "Mrsfemale           197\n",
      "Msfemale              2\n",
      "Revmale               8\n",
      "Sirmale               1\n",
      "the Countessfemale    1\n"
     ]
    }
   ],
   "source": [
    "p = group.reset_index()\n",
    "p.index = p['Title']+p['Sex']\n",
    "\n",
    "#Drop columns\n",
    "p = p.drop(['Title','Sex'], axis=1)\n",
    "\n",
    "print (p)"
   ]
  },
  {
   "cell_type": "code",
   "execution_count": 233,
   "metadata": {
    "collapsed": false
   },
   "outputs": [
    {
     "name": "stdout",
     "output_type": "stream",
     "text": [
      "                      0\n",
      "Captmale            1.0\n",
      "Colmale             NaN\n",
      "Donmale             1.0\n",
      "Donafemale          1.0\n",
      "Drfemale            1.0\n",
      "Drmale              NaN\n",
      "Jonkheermale        1.0\n",
      "Ladyfemale          1.0\n",
      "Majormale           2.0\n",
      "Mastermale          NaN\n",
      "Missfemale          NaN\n",
      "Mllefemale          2.0\n",
      "Mmefemale           1.0\n",
      "Mrmale              NaN\n",
      "Mrsfemale           NaN\n",
      "Msfemale            2.0\n",
      "Revmale             NaN\n",
      "Sirmale             1.0\n",
      "the Countessfemale  1.0\n"
     ]
    }
   ],
   "source": [
    "print(p[(p <= 2)])\n",
    "# [Dona', 'Lady', 'the Countess','Capt', 'Col', 'Don', 'Dr', 'Major', 'Rev', 'Sir', 'Jonkheer']"
   ]
  },
  {
   "cell_type": "markdown",
   "metadata": {},
   "source": [
    "Any values below 2 will be converted to \"Rare\" and Mlle, Mme and Ms will be converted to Miss."
   ]
  },
  {
   "cell_type": "code",
   "execution_count": 234,
   "metadata": {
    "collapsed": false
   },
   "outputs": [
    {
     "name": "stdout",
     "output_type": "stream",
     "text": [
      "    Age Cabin Embarked     Fare  \\\n",
      "0  22.0   NaN        S   7.2500   \n",
      "1  38.0   C85        C  71.2833   \n",
      "2  26.0   NaN        S   7.9250   \n",
      "3  35.0  C123        S  53.1000   \n",
      "4  35.0   NaN        S   8.0500   \n",
      "\n",
      "                                                Name  Parch  PassengerId  \\\n",
      "0                            Braund, Mr. Owen Harris      0            1   \n",
      "1  Cumings, Mrs. John Bradley (Florence Briggs Th...      0            2   \n",
      "2                             Heikkinen, Miss. Laina      0            3   \n",
      "3       Futrelle, Mrs. Jacques Heath (Lily May Peel)      0            4   \n",
      "4                           Allen, Mr. William Henry      0            5   \n",
      "\n",
      "   Pclass     Sex  SibSp  Survived            Ticket Title  \n",
      "0       3    male      1       0.0         A/5 21171    Mr  \n",
      "1       1  female      1       1.0          PC 17599   Mrs  \n",
      "2       3  female      0       1.0  STON/O2. 3101282  Miss  \n",
      "3       1  female      1       1.0            113803   Mrs  \n",
      "4       3    male      0       0.0            373450    Mr  \n",
      "Title   Sex   \n",
      "Master  male       61\n",
      "Miss    female    264\n",
      "Mr      male      757\n",
      "Mrs     female    198\n",
      "Rare    female      4\n",
      "        male       25\n",
      "dtype: int64\n"
     ]
    }
   ],
   "source": [
    "# Titles with very low cell counts to be combined to \"rare\" level\n",
    "\n",
    "full['Title'].replace(to_replace = ['Mlle','Ms'], value = 'Miss', inplace=True)\n",
    "\n",
    "full['Title'].replace(to_replace = ['Mme'], value = 'Mrs', inplace=True)\n",
    "\n",
    "full['Title'].replace(to_replace = ['Dona', 'Lady', 'the Countess','Capt', 'Col', 'Don', 'Dr'\n",
    "                                    , 'Major', 'Rev', 'Sir', 'Jonkheer'], value = 'Rare', inplace=True)\n",
    "# Show title counts by sex again\n",
    "\n",
    "print(full.head())\n",
    "\n",
    "# get counts using groupby\n",
    "group = full.groupby(['Title', 'Sex']).size()\n",
    "\n",
    "print(group)"
   ]
  },
  {
   "cell_type": "code",
   "execution_count": 235,
   "metadata": {
    "collapsed": false
   },
   "outputs": [
    {
     "name": "stdout",
     "output_type": "stream",
     "text": [
      "Title   Sex   \n",
      "Master  male       61\n",
      "Miss    female    264\n",
      "Mr      male      757\n",
      "Mrs     female    198\n",
      "Rare    female      4\n",
      "        male       25\n",
      "dtype: int64\n"
     ]
    }
   ],
   "source": [
    "# get counts using groupby\n",
    "group = full.groupby(['Title', 'Sex']).size()\n",
    "\n",
    "print(group)"
   ]
  },
  {
   "cell_type": "markdown",
   "metadata": {},
   "source": [
    "My counts for each title now match up with Megans."
   ]
  },
  {
   "cell_type": "code",
   "execution_count": 252,
   "metadata": {
    "collapsed": false
   },
   "outputs": [
    {
     "name": "stdout",
     "output_type": "stream",
     "text": [
      "0       Braund\n",
      "1      Cumings\n",
      "2    Heikkinen\n",
      "Name: Surname, dtype: object\n",
      "['Age', 'Cabin', 'Embarked', 'Fare', 'Name', 'Parch', 'PassengerId', 'Pclass', 'Sex', 'SibSp', 'Survived', 'Ticket', 'Title', 'Surname']\n"
     ]
    }
   ],
   "source": [
    "# Finally, grab surname from passenger name and make a new column\n",
    "# Take the first word on the left side of the ,\n",
    "full['Surname'] = full['Name'].apply(lambda x: x.split(',')[0].strip())\n",
    "print(full['Surname'][0:3])\n",
    "print(list(full))"
   ]
  },
  {
   "cell_type": "markdown",
   "metadata": {},
   "source": [
    "### Missing Value Imputation"
   ]
  },
  {
   "cell_type": "code",
   "execution_count": 4,
   "metadata": {
    "collapsed": true
   },
   "outputs": [],
   "source": [
    "# Create a family size variable including the passenger themselves\n",
    "\n",
    "# Create a family variable \n",
    "\n",
    "# Use ggplot2 to visualize the relationship between family size & survival"
   ]
  },
  {
   "cell_type": "code",
   "execution_count": 5,
   "metadata": {
    "collapsed": true
   },
   "outputs": [],
   "source": [
    "# Discretize family size\n",
    "\n",
    "# Show family size by survival using a mosaic plot (maybe not)"
   ]
  },
  {
   "cell_type": "markdown",
   "metadata": {},
   "source": [
    "There’s probably some potentially useful information in the passenger cabin variable including about their deck. Let’s take a look."
   ]
  },
  {
   "cell_type": "code",
   "execution_count": 6,
   "metadata": {
    "collapsed": true
   },
   "outputs": [],
   "source": [
    "# Look at the cabin variable\n",
    "\n",
    "# Make a new \"deck\" variable with just the deck letter"
   ]
  },
  {
   "cell_type": "markdown",
   "metadata": {},
   "source": [
    "### Missingness"
   ]
  },
  {
   "cell_type": "code",
   "execution_count": 7,
   "metadata": {
    "collapsed": true
   },
   "outputs": [],
   "source": [
    "# Passengers 62 and 830 are missing Embarkment. "
   ]
  },
  {
   "cell_type": "markdown",
   "metadata": {},
   "source": [
    "We will infer their values for embarkment based on present data that we can imagine may be \n",
    "relevant: passenger class and fare"
   ]
  },
  {
   "cell_type": "code",
   "execution_count": 8,
   "metadata": {
    "collapsed": true
   },
   "outputs": [],
   "source": [
    "# Use ggplot2 to visualize embarkment, passenger class, & median fare\n"
   ]
  },
  {
   "cell_type": "markdown",
   "metadata": {},
   "source": [
    "Voilà! The median fare for a first class passenger departing from Charbourg (‘C’) coincides nicely with the $80 paid by our embarkment-deficient passengers. I think we can safely replace the NA values with ‘C’."
   ]
  },
  {
   "cell_type": "code",
   "execution_count": 9,
   "metadata": {
    "collapsed": true
   },
   "outputs": [],
   "source": [
    "# Fill in passengers 62 and 830 with 'C'"
   ]
  },
  {
   "cell_type": "markdown",
   "metadata": {},
   "source": [
    "We’re close to fixing the handful of NA values here and there. Passenger on row 1044 has an NA Fare value"
   ]
  },
  {
   "cell_type": "code",
   "execution_count": 10,
   "metadata": {
    "collapsed": true
   },
   "outputs": [],
   "source": [
    "# Show row 1044\n",
    "\n",
    "# Replace missing fare value with median fare for class/embarkment"
   ]
  },
  {
   "cell_type": "markdown",
   "metadata": {},
   "source": [
    "### Predictive Imputation\n",
    "\n",
    "We will create a model predicting ages based on other variables."
   ]
  },
  {
   "cell_type": "code",
   "execution_count": 11,
   "metadata": {
    "collapsed": true
   },
   "outputs": [],
   "source": [
    "# Show number of missing Age values\n",
    "\n"
   ]
  },
  {
   "cell_type": "markdown",
   "metadata": {},
   "source": [
    "We could definitely use rpart (recursive partitioning for regression) to predict missing ages, but I’m going to use the mice package for this task just for something different. You can read more about multiple imputation using chained equations in r here (PDF). Since we haven’t done it yet, I’ll first factorize the factor variables and then perform mice imputation."
   ]
  },
  {
   "cell_type": "code",
   "execution_count": null,
   "metadata": {
    "collapsed": true
   },
   "outputs": [],
   "source": [
    "# Perform mice imputation, excluding certain less-than-useful variables:"
   ]
  },
  {
   "cell_type": "code",
   "execution_count": null,
   "metadata": {
    "collapsed": true
   },
   "outputs": [],
   "source": [
    "# compare the imputation distribution with the original data distribtion\n",
    "# Plot Age\n",
    "\n",
    "# Replace Age variable from the mice model.\n",
    "\n",
    "# Show new number of missing Age values"
   ]
  },
  {
   "cell_type": "markdown",
   "metadata": {},
   "source": [
    "### Feature Engineering round 2\n",
    "\n",
    "Now that we know everyone’s age, we can create a couple of new age-dependent variables: Child and Mother. A child will simply be someone under 18 years of age and a mother is a passenger who is 1) female, 2) is over 18, 3) has more than 0 children (no kidding!), and 4) does not have the title ‘Miss"
   ]
  },
  {
   "cell_type": "code",
   "execution_count": 12,
   "metadata": {
    "collapsed": true
   },
   "outputs": [],
   "source": [
    "# First we'll look at the relationship between age & survival\n",
    "# For both male and female\n"
   ]
  },
  {
   "cell_type": "code",
   "execution_count": 13,
   "metadata": {
    "collapsed": true
   },
   "outputs": [],
   "source": [
    "# Create the column child, and indicate whether child or adult\n",
    "\n",
    "# Show counts"
   ]
  },
  {
   "cell_type": "code",
   "execution_count": 14,
   "metadata": {
    "collapsed": true
   },
   "outputs": [],
   "source": [
    "# Adding Mother variable"
   ]
  },
  {
   "cell_type": "markdown",
   "metadata": {},
   "source": [
    "All of the variables we care about should be taken care of and there should be no missing data. I’m going to double check just to be sure:"
   ]
  },
  {
   "cell_type": "markdown",
   "metadata": {},
   "source": [
    "### Prediction\n",
    "\n",
    "Our first step is to split the data back into the original test and training sets."
   ]
  },
  {
   "cell_type": "code",
   "execution_count": 15,
   "metadata": {
    "collapsed": true
   },
   "outputs": [],
   "source": [
    "# check data"
   ]
  },
  {
   "cell_type": "code",
   "execution_count": 16,
   "metadata": {
    "collapsed": true
   },
   "outputs": [],
   "source": [
    "# Build a model using RandomForest\n",
    "\n",
    "# Show model error"
   ]
  },
  {
   "cell_type": "markdown",
   "metadata": {},
   "source": [
    "### Variable Importance\n",
    "\n",
    "Let’s look at relative variable importance by plotting the mean decrease in Gini calculated across all trees."
   ]
  },
  {
   "cell_type": "code",
   "execution_count": 17,
   "metadata": {
    "collapsed": true
   },
   "outputs": [],
   "source": [
    "# Get importance\n",
    "\n",
    "# Create a rank variable based on importance\n",
    "\n",
    "# Use ggplot2 to visualize the relative importance of variables"
   ]
  },
  {
   "cell_type": "code",
   "execution_count": null,
   "metadata": {
    "collapsed": true
   },
   "outputs": [],
   "source": [
    "# Predict using the test set\n",
    "\n",
    "# Save the solution to a dataframe with two columns: PassengerId and Survived (prediction)\n",
    "\n"
   ]
  }
 ],
 "metadata": {
  "kernelspec": {
   "display_name": "Python 3",
   "language": "python",
   "name": "python3"
  },
  "language_info": {
   "codemirror_mode": {
    "name": "ipython",
    "version": 3
   },
   "file_extension": ".py",
   "mimetype": "text/x-python",
   "name": "python",
   "nbconvert_exporter": "python",
   "pygments_lexer": "ipython3",
   "version": "3.5.1"
  }
 },
 "nbformat": 4,
 "nbformat_minor": 0
}
