{
 "cells": [
  {
   "cell_type": "markdown",
   "metadata": {},
   "source": [
    "Just how different are my two predictions using Pandas and Random Forest"
   ]
  },
  {
   "cell_type": "code",
   "execution_count": 9,
   "metadata": {
    "collapsed": false
   },
   "outputs": [],
   "source": [
    "import pandas as pd\n",
    "import numpy as np\n",
    "\n",
    "df_RF = pd.read_csv('/home/sophie/projects/Titanic/data/genderclassmod_RF.csv',  header=0)\n",
    "\n",
    "df_pd = pd.read_csv('/home/sophie/projects/Titanic/data/genderclassmodel_pandas.csv', header=0)\n",
    "\n",
    "df_np = pd.read_csv('/home/sophie/projects/Titanic/data/genderclassmodel.csv', header=0)"
   ]
  },
  {
   "cell_type": "code",
   "execution_count": 10,
   "metadata": {
    "collapsed": false
   },
   "outputs": [
    {
     "name": "stdout",
     "output_type": "stream",
     "text": [
      "['PassengerId', 'Survived']\n",
      "['PassengerId', 'Survived']\n",
      "['PassengerId', 'Survived']\n"
     ]
    }
   ],
   "source": [
    "print(list(df_RF))\n",
    "print(list(df_pd))\n",
    "print(list(df_np))"
   ]
  },
  {
   "cell_type": "code",
   "execution_count": 11,
   "metadata": {
    "collapsed": false
   },
   "outputs": [],
   "source": [
    "d = {'RF': df_RF['Survived'], 'pd':df_pd['Survived'], 'py':df_np['Survived']}\n",
    "\n",
    "combined = pd.DataFrame(data = d)"
   ]
  },
  {
   "cell_type": "code",
   "execution_count": 12,
   "metadata": {
    "collapsed": false
   },
   "outputs": [
    {
     "name": "stdout",
     "output_type": "stream",
     "text": [
      "    RF  pd  py\n",
      "1    0   1   1\n",
      "4    0   1   1\n",
      "6    0   1   1\n",
      "8    0   1   1\n",
      "12   0   1   1\n",
      "14   0   1   1\n",
      "15   0   1   1\n",
      "18   0   1   1\n",
      "19   0   1   1\n",
      "21   1   0   0\n"
     ]
    }
   ],
   "source": [
    "print(combined[(combined['RF']-combined['pd']) != 0][0:10]) # shows the rows of disagreement between RF and pd"
   ]
  },
  {
   "cell_type": "code",
   "execution_count": 13,
   "metadata": {
    "collapsed": false
   },
   "outputs": [
    {
     "name": "stdout",
     "output_type": "stream",
     "text": [
      "142\n"
     ]
    }
   ],
   "source": [
    "print(len(combined[(combined['RF']-combined['pd']) != 0])) # counts the rows of disagreement"
   ]
  },
  {
   "cell_type": "code",
   "execution_count": 14,
   "metadata": {
    "collapsed": false
   },
   "outputs": [
    {
     "name": "stdout",
     "output_type": "stream",
     "text": [
      "142\n"
     ]
    }
   ],
   "source": [
    "print(len(combined[(combined['RF']-combined['py']) != 0])) # counts the rows of disagreement between random forest and py"
   ]
  },
  {
   "cell_type": "code",
   "execution_count": 15,
   "metadata": {
    "collapsed": false
   },
   "outputs": [
    {
     "name": "stdout",
     "output_type": "stream",
     "text": [
      "0.3397129186602871\n"
     ]
    }
   ],
   "source": [
    "print (len(combined[(combined['RF']-combined['pd']) != 0]) / len(combined)) # just how different the two results are."
   ]
  },
  {
   "cell_type": "markdown",
   "metadata": {},
   "source": [
    "Need to fill out the missing fare value in test data, otherwise Random Forest won't take the data. "
   ]
  },
  {
   "cell_type": "code",
   "execution_count": 16,
   "metadata": {
    "collapsed": true
   },
   "outputs": [],
   "source": [
    "# import the random forest package\n",
    "from sklearn.ensemble import RandomForestClassifier\n",
    "\n",
    "# Create the random forest object which will include all the parameters for the fit\n",
    "forest = RandomForestClassifier(n_estimators = 100)"
   ]
  },
  {
   "cell_type": "code",
   "execution_count": 17,
   "metadata": {
    "collapsed": false
   },
   "outputs": [],
   "source": [
    "# import the training data\n",
    "train = pd.read_csv('/home/sophie/projects/Titanic/data/clean_train.csv', header=0).astype(np.float32)\n",
    "\n",
    "#import the test data\n",
    "test = pd.read_csv('/home/sophie/projects/Titanic/data/clean_test.csv', usecols = ['PassengerId','Pclass','SibSp',\n",
    "                       'Parch','FareFill','Embarked','Gender','AgeFill'], header=0).astype(np.float32)\n",
    "\n"
   ]
  },
  {
   "cell_type": "code",
   "execution_count": 18,
   "metadata": {
    "collapsed": false
   },
   "outputs": [
    {
     "name": "stdout",
     "output_type": "stream",
     "text": [
      "['PassengerId', 'Pclass', 'SibSp', 'Parch', 'Embarked', 'Gender', 'AgeFill', 'FareFill']\n",
      "['Survived', 'Pclass', 'SibSp', 'Parch', 'Fare', 'Embarked', 'Gender', 'AgeFill']\n"
     ]
    }
   ],
   "source": [
    "print(list(test))\n",
    "print(list(train))"
   ]
  },
  {
   "cell_type": "code",
   "execution_count": 19,
   "metadata": {
    "collapsed": false
   },
   "outputs": [],
   "source": [
    "# Create the random forest object which will include all the parameters for the fit\n",
    "forest = RandomForestClassifier(n_estimators = 100)\n",
    "\n",
    "# Fit the training data to the Survived labels and create the decision trees. (x,y)(train_inputs, classification labels)\n",
    "forest = forest.fit(train.iloc[:,1:], train.iloc[:,0])"
   ]
  },
  {
   "cell_type": "code",
   "execution_count": 22,
   "metadata": {
    "collapsed": false
   },
   "outputs": [],
   "source": [
    "# Change FareFill to Fare so that it matches the training data. I don't know if this makes a difference or not.\n",
    "test['Fare'] = test['FareFill']\n",
    "test = test.drop(['FareFill'], axis=1)\n",
    "\n",
    "# Take the same decision trees and run it on the test data. Skip the passengerId column\n",
    "output = forest.predict(test.iloc[:,1:])"
   ]
  },
  {
   "cell_type": "markdown",
   "metadata": {},
   "source": [
    "Changing the name of Fare didn't make any difference. "
   ]
  },
  {
   "cell_type": "code",
   "execution_count": 24,
   "metadata": {
    "collapsed": false
   },
   "outputs": [],
   "source": [
    "# Put the input series (PassengerId) and prediction values (Survived) into a dataframe and turn into Integers\n",
    "d = {'PassengerId': test['PassengerId'], 'Survived': output}\n",
    "\n",
    "output = pd.DataFrame(data=d)\n",
    "\n",
    "output = output.astype(int)"
   ]
  },
  {
   "cell_type": "code",
   "execution_count": 25,
   "metadata": {
    "collapsed": true
   },
   "outputs": [],
   "source": [
    "output.to_csv('/home/sophie/projects/Titanic/data/genderclassmod_RF.csv', index = False)"
   ]
  },
  {
   "cell_type": "code",
   "execution_count": 26,
   "metadata": {
    "collapsed": false
   },
   "outputs": [
    {
     "name": "stdout",
     "output_type": "stream",
     "text": [
      "418\n"
     ]
    }
   ],
   "source": [
    "print(len(output))"
   ]
  },
  {
   "cell_type": "code",
   "execution_count": null,
   "metadata": {
    "collapsed": true
   },
   "outputs": [],
   "source": []
  }
 ],
 "metadata": {
  "kernelspec": {
   "display_name": "Python 3",
   "language": "python",
   "name": "python3"
  },
  "language_info": {
   "codemirror_mode": {
    "name": "ipython",
    "version": 3
   },
   "file_extension": ".py",
   "mimetype": "text/x-python",
   "name": "python",
   "nbconvert_exporter": "python",
   "pygments_lexer": "ipython3",
   "version": "3.5.1"
  }
 },
 "nbformat": 4,
 "nbformat_minor": 0
}
