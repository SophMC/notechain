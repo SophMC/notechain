{
 "cells": [
  {
   "cell_type": "markdown",
   "metadata": {},
   "source": [
    "### Submission attempts with Decision Trees, Random Forest and Gradient boosting\n",
    "\n",
    "Here I will read in the training and test data already cleaned up from [this](053-Titanic_new.ipynb) notebook"
   ]
  },
  {
   "cell_type": "code",
   "execution_count": 67,
   "metadata": {
    "collapsed": true
   },
   "outputs": [],
   "source": [
    "import pandas as pd\n",
    "import numpy as np\n",
    "from sklearn.tree import DecisionTreeClassifier\n",
    "from sklearn.ensemble import RandomForestClassifier, GradientBoostingClassifier"
   ]
  },
  {
   "cell_type": "code",
   "execution_count": 68,
   "metadata": {
    "collapsed": false
   },
   "outputs": [],
   "source": [
    "# import the training data\n",
    "# ['Title_Mr', 'Sex_male', 'Sex_female', 'Title_Mrs', 'Title_Miss', 'Pclass_3',\n",
    "# 'Pclass_1', 'Fare', 'Embarked_C', 'Embarked_S']\n",
    "# Joined the classification labels ('Survived') onto the training dataframe\n",
    "train = pd.read_csv('/home/sophie/projects/Titanic/data/clean_train_53.csv',sep = \" \", header=0, \n",
    "                      index_col=0).astype(np.float32)\n",
    "\n",
    "#import the test data\n",
    "test = pd.read_csv('/home/sophie/projects/Titanic/data/clean_test_53.csv', sep = \" \", header=0, \n",
    "                   index_col=0).astype(np.float32)"
   ]
  },
  {
   "cell_type": "code",
   "execution_count": 69,
   "metadata": {
    "collapsed": false
   },
   "outputs": [
    {
     "name": "stdout",
     "output_type": "stream",
     "text": [
      "             Title_Mr  Sex_male  Sex_female  Title_Mrs  Title_Miss  Pclass_3  \\\n",
      "PassengerId                                                                    \n",
      "1                 1.0       1.0         0.0        0.0         0.0       1.0   \n",
      "2                 0.0       0.0         1.0        1.0         0.0       0.0   \n",
      "3                 0.0       0.0         1.0        0.0         1.0       1.0   \n",
      "\n",
      "             Pclass_1       Fare  Embarked_C  Embarked_S  Survived  \n",
      "PassengerId                                                         \n",
      "1                 0.0   7.250000         0.0         1.0       0.0  \n",
      "2                 1.0  71.283302         1.0         0.0       1.0  \n",
      "3                 0.0   7.925000         0.0         1.0       1.0  \n",
      "             Title_Mr  Sex_male  Sex_female  Title_Mrs  Title_Miss  Pclass_3  \\\n",
      "PassengerId                                                                    \n",
      "892               1.0       1.0         0.0        0.0         0.0       1.0   \n",
      "893               0.0       0.0         1.0        1.0         0.0       1.0   \n",
      "894               1.0       1.0         0.0        0.0         0.0       0.0   \n",
      "\n",
      "             Pclass_1    Fare  Embarked_C  Embarked_S  \n",
      "PassengerId                                            \n",
      "892               0.0  7.8292         0.0         0.0  \n",
      "893               0.0  7.0000         0.0         1.0  \n",
      "894               0.0  9.6875         0.0         0.0  \n"
     ]
    }
   ],
   "source": [
    "print(train[0:3])\n",
    "print(test[0:3]) # Doesn't have the survived column - this is what will be output"
   ]
  },
  {
   "cell_type": "code",
   "execution_count": 70,
   "metadata": {
    "collapsed": false
   },
   "outputs": [
    {
     "name": "stdout",
     "output_type": "stream",
     "text": [
      "             Title_Mr  Sex_male  Sex_female  Title_Mrs  Title_Miss  Pclass_3  \\\n",
      "PassengerId                                                                    \n",
      "1                 1.0       1.0         0.0        0.0         0.0       1.0   \n",
      "2                 0.0       0.0         1.0        1.0         0.0       0.0   \n",
      "3                 0.0       0.0         1.0        0.0         1.0       1.0   \n",
      "\n",
      "             Pclass_1       Fare  Embarked_C  Embarked_S  \n",
      "PassengerId                                               \n",
      "1                 0.0   7.250000         0.0         1.0  \n",
      "2                 1.0  71.283302         1.0         0.0  \n",
      "3                 0.0   7.925000         0.0         1.0  \n",
      "PassengerId\n",
      "1    0.0\n",
      "2    1.0\n",
      "3    1.0\n",
      "Name: Survived, dtype: float32\n"
     ]
    }
   ],
   "source": [
    "print(train.iloc[:,0:-1][0:3]) # goes into the decision tree model as x\n",
    "print(train.iloc[:,-1][0:3]) # goes into the decision tree model as y"
   ]
  },
  {
   "cell_type": "markdown",
   "metadata": {},
   "source": [
    "Start with the DecisionTreeClassifier"
   ]
  },
  {
   "cell_type": "code",
   "execution_count": 71,
   "metadata": {
    "collapsed": false
   },
   "outputs": [],
   "source": [
    "# Create the DecisionTreeClassifier object with optimal parameter values\n",
    "tree = DecisionTreeClassifier(max_depth = 3, min_samples_split = 14, min_samples_leaf = 4, max_leaf_nodes = 6)\n",
    "\n",
    "# Fit the training data to the Survived labels and create the decision trees. (x,y)(train_inputs, classification labels)\n",
    "tree_fit = tree.fit(train.iloc[:,0:-1], train.iloc[:,-1])"
   ]
  },
  {
   "cell_type": "code",
   "execution_count": 72,
   "metadata": {
    "collapsed": true
   },
   "outputs": [],
   "source": [
    "# Take the same decision trees and run it on the test data. Skip the passengerId column\n",
    "output = tree.predict(test) "
   ]
  },
  {
   "cell_type": "code",
   "execution_count": 76,
   "metadata": {
    "collapsed": true
   },
   "outputs": [],
   "source": [
    "# Put the input series (PassengerId) and prediction values (Survived) into a dataframe and turn into Integers\n",
    "d = {'PassengerId': test.index, 'Survived': output}\n",
    "\n",
    "output = pd.DataFrame(data=d)\n",
    "\n",
    "output = output.astype(int)"
   ]
  },
  {
   "cell_type": "code",
   "execution_count": 78,
   "metadata": {
    "collapsed": false
   },
   "outputs": [],
   "source": [
    "output.to_csv('/home/sophie/projects/Titanic/data/decisiontree_pred.csv', index = False)"
   ]
  },
  {
   "cell_type": "markdown",
   "metadata": {},
   "source": [
    "### Create a submission with plain old Random Forest as before"
   ]
  },
  {
   "cell_type": "code",
   "execution_count": 79,
   "metadata": {
    "collapsed": true
   },
   "outputs": [],
   "source": [
    "# Create the RandomForestclassifier object with optimal parameter values\n",
    "RF = RandomForestClassifier(n_estimators = 100)\n",
    "\n",
    "# Fit the training data to the Survived labels and create the decision trees. (x,y)(train_inputs, classification labels)\n",
    "RF_fit = RF.fit(train.iloc[:,0:-1], train.iloc[:,-1])\n",
    "\n",
    "# Take the random forest and run it on the test data. Skip the passengerId column\n",
    "output = tree.predict(test) "
   ]
  },
  {
   "cell_type": "code",
   "execution_count": 80,
   "metadata": {
    "collapsed": true
   },
   "outputs": [],
   "source": [
    "# Put the input series (PassengerId) and prediction values (Survived) into a dataframe and turn into Integers\n",
    "d = {'PassengerId': test.index, 'Survived': output}\n",
    "\n",
    "output = pd.DataFrame(data=d)\n",
    "\n",
    "output = output.astype(int)"
   ]
  },
  {
   "cell_type": "code",
   "execution_count": 81,
   "metadata": {
    "collapsed": true
   },
   "outputs": [],
   "source": [
    "output.to_csv('/home/sophie/projects/Titanic/data/RF_pred_plain.csv', index = False)"
   ]
  },
  {
   "cell_type": "markdown",
   "metadata": {},
   "source": [
    "#### Create a submission with a much larger number of estimators"
   ]
  },
  {
   "cell_type": "code",
   "execution_count": 82,
   "metadata": {
    "collapsed": true
   },
   "outputs": [],
   "source": [
    "# Create the RandomForestclassifier object with optimal parameter values\n",
    "RF = RandomForestClassifier(n_estimators = 10000)\n",
    "\n",
    "# Fit the training data to the Survived labels and create the decision trees. (x,y)(train_inputs, classification labels)\n",
    "RF_fit = RF.fit(train.iloc[:,0:-1], train.iloc[:,-1])\n",
    "\n",
    "# Take the random forest and run it on the test data. Skip the passengerId column\n",
    "output = tree.predict(test) "
   ]
  },
  {
   "cell_type": "code",
   "execution_count": 83,
   "metadata": {
    "collapsed": true
   },
   "outputs": [],
   "source": [
    "# Put the input series (PassengerId) and prediction values (Survived) into a dataframe and turn into Integers\n",
    "d = {'PassengerId': test.index, 'Survived': output}\n",
    "\n",
    "output = pd.DataFrame(data=d)\n",
    "\n",
    "output = output.astype(int)"
   ]
  },
  {
   "cell_type": "code",
   "execution_count": 84,
   "metadata": {
    "collapsed": true
   },
   "outputs": [],
   "source": [
    "output.to_csv('/home/sophie/projects/Titanic/data/RF_pred_10000estimators.csv', index = False)"
   ]
  },
  {
   "cell_type": "markdown",
   "metadata": {},
   "source": [
    "#### This gives exactly the same answer."
   ]
  },
  {
   "cell_type": "markdown",
   "metadata": {},
   "source": [
    "#### Try playing around with RF parameters as suggested in scikitlearn documentation"
   ]
  },
  {
   "cell_type": "code",
   "execution_count": 85,
   "metadata": {
    "collapsed": true
   },
   "outputs": [],
   "source": [
    "# Create the RandomForestclassifier object with optimal parameter values\n",
    "RF = RandomForestClassifier(n_estimators = 100, min_samples_split=1)\n",
    "\n",
    "# Fit the training data to the Survived labels and create the decision trees. (x,y)(train_inputs, classification labels)\n",
    "RF_fit = RF.fit(train.iloc[:,0:-1], train.iloc[:,-1])\n",
    "\n",
    "# Take the random forest and run it on the test data. Skip the passengerId column\n",
    "output = tree.predict(test) "
   ]
  },
  {
   "cell_type": "code",
   "execution_count": 86,
   "metadata": {
    "collapsed": true
   },
   "outputs": [],
   "source": [
    "# Put the input series (PassengerId) and prediction values (Survived) into a dataframe and turn into Integers\n",
    "d = {'PassengerId': test.index, 'Survived': output}\n",
    "\n",
    "output = pd.DataFrame(data=d)\n",
    "\n",
    "output = output.astype(int)"
   ]
  },
  {
   "cell_type": "code",
   "execution_count": 87,
   "metadata": {
    "collapsed": true
   },
   "outputs": [],
   "source": [
    "output.to_csv('/home/sophie/projects/Titanic/data/RF_pred_minsample1.csv', index = False)"
   ]
  },
  {
   "cell_type": "markdown",
   "metadata": {},
   "source": [
    "#### This is also exactly the same\n",
    "\n",
    "### Next, try Gradient Boost"
   ]
  },
  {
   "cell_type": "code",
   "execution_count": 88,
   "metadata": {
    "collapsed": true
   },
   "outputs": [],
   "source": [
    "# Create the RandomForestclassifier object with optimal parameter values\n",
    "RF = GradientBoostingClassifier(n_estimators = 100)\n",
    "\n",
    "# Fit the training data to the Survived labels and create the decision trees. (x,y)(train_inputs, classification labels)\n",
    "RF_fit = RF.fit(train.iloc[:,0:-1], train.iloc[:,-1])\n",
    "\n",
    "# Take the random forest and run it on the test data. Skip the passengerId column\n",
    "output = tree.predict(test) "
   ]
  },
  {
   "cell_type": "code",
   "execution_count": 89,
   "metadata": {
    "collapsed": true
   },
   "outputs": [],
   "source": [
    "# Put the input series (PassengerId) and prediction values (Survived) into a dataframe and turn into Integers\n",
    "d = {'PassengerId': test.index, 'Survived': output}\n",
    "\n",
    "output = pd.DataFrame(data=d)\n",
    "\n",
    "output = output.astype(int)"
   ]
  },
  {
   "cell_type": "code",
   "execution_count": 90,
   "metadata": {
    "collapsed": true
   },
   "outputs": [],
   "source": [
    "output.to_csv('/home/sophie/projects/Titanic/data/RF_pred_gradboost.csv', index = False)"
   ]
  }
 ],
 "metadata": {
  "kernelspec": {
   "display_name": "Python 3",
   "language": "python",
   "name": "python3"
  },
  "language_info": {
   "codemirror_mode": {
    "name": "ipython",
    "version": 3
   },
   "file_extension": ".py",
   "mimetype": "text/x-python",
   "name": "python",
   "nbconvert_exporter": "python",
   "pygments_lexer": "ipython3",
   "version": "3.5.1"
  }
 },
 "nbformat": 4,
 "nbformat_minor": 0
}
