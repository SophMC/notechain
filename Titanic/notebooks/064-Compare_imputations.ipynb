{
 "cells": [
  {
   "cell_type": "markdown",
   "metadata": {},
   "source": [
    "### Compare Imputation scores\n",
    "\n",
    "This is an investigation to determine which method is best for filling in the fairly large number of missing Age values.\n",
    "I will compare:\n",
    "\n",
    "- Filling in the mean value of all ages\n",
    "- Filling in the median value grouped by Sex, Title and pclass\n",
    "- Imputation using MICE (Multivariate/Multiple Imputation by Chained Equations)\n",
    "\n",
    "First get the data (which has already some cleaning applied) and import the correct libraries:"
   ]
  },
  {
   "cell_type": "code",
   "execution_count": 172,
   "metadata": {
    "collapsed": false
   },
   "outputs": [
    {
     "name": "stdout",
     "output_type": "stream",
     "text": [
      "Libraries Ready!\n"
     ]
    }
   ],
   "source": [
    "# Import libraries\n",
    "\n",
    "import numpy as np\n",
    "from numpy.random import random_integers\n",
    "from collections import Counter\n",
    "import pandas as pd\n",
    "import matplotlib.pyplot as plt\n",
    "from sklearn.ensemble import RandomForestClassifier\n",
    "from sklearn.cross_validation import cross_val_score\n",
    "\n",
    "%matplotlib inline\n",
    "\n",
    "print('Libraries Ready!')"
   ]
  },
  {
   "cell_type": "code",
   "execution_count": 173,
   "metadata": {
    "collapsed": false
   },
   "outputs": [
    {
     "name": "stdout",
     "output_type": "stream",
     "text": [
      "Age             1046\n",
      "Parch           1309\n",
      "Pclass          1309\n",
      "SibSp           1309\n",
      "FamSize         1309\n",
      "Sex_female      1309\n",
      "Sex_male        1309\n",
      "Embarked_C      1309\n",
      "Embarked_Q      1309\n",
      "Embarked_S      1309\n",
      "Title_Master    1309\n",
      "Title_Miss      1309\n",
      "Title_Mr        1309\n",
      "Title_Mrs       1309\n",
      "Title_Rare      1309\n",
      "dtype: int64\n"
     ]
    }
   ],
   "source": [
    "# Load the full training and test dataset, saved to csv on day58\n",
    "full = pd.read_csv('/home/sophie/Python/notechain/Titanic/data/061_full.csv', header=0) \n",
    "\n",
    "print(full.count())"
   ]
  },
  {
   "cell_type": "markdown",
   "metadata": {},
   "source": [
    "### Impute Age from Mean Age"
   ]
  },
  {
   "cell_type": "code",
   "execution_count": 174,
   "metadata": {
    "collapsed": false
   },
   "outputs": [
    {
     "name": "stdout",
     "output_type": "stream",
     "text": [
      "0    22.000000\n",
      "1    38.000000\n",
      "2    26.000000\n",
      "3    35.000000\n",
      "4    35.000000\n",
      "5    29.881138\n",
      "6    54.000000\n",
      "7     2.000000\n",
      "8    27.000000\n",
      "9    14.000000\n",
      "Name: Age, dtype: float64\n"
     ]
    }
   ],
   "source": [
    "# rename the dataframe\n",
    "full_mean = full.copy()\n",
    "\n",
    "\n",
    "full_mean['Age'].fillna(full_mean['Age'].mean(), inplace = True)\n",
    "\n",
    "print(full_mean['Age'][0:10])"
   ]
  },
  {
   "cell_type": "code",
   "execution_count": 175,
   "metadata": {
    "collapsed": false
   },
   "outputs": [
    {
     "name": "stdout",
     "output_type": "stream",
     "text": [
      "Age             1046\n",
      "Parch           1309\n",
      "Pclass          1309\n",
      "SibSp           1309\n",
      "FamSize         1309\n",
      "Sex_female      1309\n",
      "Sex_male        1309\n",
      "Embarked_C      1309\n",
      "Embarked_Q      1309\n",
      "Embarked_S      1309\n",
      "Title_Master    1309\n",
      "Title_Miss      1309\n",
      "Title_Mr        1309\n",
      "Title_Mrs       1309\n",
      "Title_Rare      1309\n",
      "dtype: int64\n"
     ]
    }
   ],
   "source": [
    "# full dataFrame should still have missing values\n",
    "print(full.count())"
   ]
  },
  {
   "cell_type": "markdown",
   "metadata": {},
   "source": [
    "### Impute Age based on Sex, Title and Pclass\n",
    "\n",
    "Best to import the data again with the columns in categories\n"
   ]
  },
  {
   "cell_type": "code",
   "execution_count": 176,
   "metadata": {
    "collapsed": false
   },
   "outputs": [
    {
     "name": "stdout",
     "output_type": "stream",
     "text": [
      "['Age', 'Parch', 'Pclass', 'SibSp', 'FamSize', 'Sex_female', 'Sex_male', 'Embarked_C', 'Embarked_Q', 'Embarked_S', 'Title_Master', 'Title_Miss', 'Title_Mr', 'Title_Mrs', 'Title_Rare']\n",
      "Age             1046\n",
      "Parch           1309\n",
      "Pclass          1309\n",
      "SibSp           1309\n",
      "FamSize         1309\n",
      "Sex_female      1309\n",
      "Sex_male        1309\n",
      "Embarked_C      1309\n",
      "Embarked_Q      1309\n",
      "Embarked_S      1309\n",
      "Title_Master    1309\n",
      "Title_Miss      1309\n",
      "Title_Mr        1309\n",
      "Title_Mrs       1309\n",
      "Title_Rare      1309\n",
      "dtype: int64\n"
     ]
    }
   ],
   "source": [
    "# Load the full training and test dataset, saved to csv on day58\n",
    "df = pd.read_csv('/home/sophie/Python/notechain/Titanic/data/058_full.csv', header=0)\n",
    "\n",
    "print(list(full))\n",
    "print((full.count()))"
   ]
  },
  {
   "cell_type": "markdown",
   "metadata": {},
   "source": [
    "This is code copied straight from [052-Titanic](052-Titanic_new.ipynb):"
   ]
  },
  {
   "cell_type": "code",
   "execution_count": 177,
   "metadata": {
    "collapsed": false
   },
   "outputs": [],
   "source": [
    "# Make an array where null values are False.\n",
    "mask_Age = df.Age.notnull()\n",
    "\n",
    "# New dataframe where all rows have a value for age. \n",
    "Age_Sex_Title_Pclass = df.loc[mask_Age, [\"Age\", \"Title\", \"Sex\", \"Pclass\"]]\n",
    "\n",
    "# Groupby object to group by Title, Pclass and Sex\n",
    "Filler_Ages_1 = Age_Sex_Title_Pclass.groupby(by = [\"Title\", \"Pclass\", \"Sex\"]).median()\n",
    "\n",
    "# This moves both Sex and Pclass into column headers and does so in that order. \n",
    "Filler_Ages = Filler_Ages_1.Age.unstack(level = -1).unstack(level = -1)\n",
    "\n",
    "mask_Age = df.Age.isnull()  # A mask where null values are True\n",
    "\n",
    "# New DataFrame with missing values for age\n",
    "Age_Sex_Title_Pclass_missing = df.loc[mask_Age, [\"Title\", \"Sex\", \"Pclass\"]]"
   ]
  },
  {
   "cell_type": "code",
   "execution_count": 178,
   "metadata": {
    "collapsed": false
   },
   "outputs": [],
   "source": [
    "# Look-up function for the calculated median ages. \n",
    "def Age_filler(row):\n",
    "    if row.Sex == \"female\":\n",
    "        age = Filler_Ages.female.loc[row[\"Title\"], row[\"Pclass\"]]\n",
    "        return age\n",
    "    elif row.Sex == \"male\":\n",
    "        age = Filler_Ages.male.loc[row[\"Title\"], row[\"Pclass\"]]\n",
    "        return age\n",
    "    \n",
    "# Make a new column on \"missing\" dataframe and add the median value to each row. \n",
    "Age_Sex_Title_Pclass_missing[\"Age\"] = Age_Sex_Title_Pclass_missing.apply(Age_filler, axis= 1)\n",
    "\n",
    "# reform the 'Age' column.\n",
    "df[\"AgeFill\"] = pd.concat([Age_Sex_Title_Pclass[\"Age\"], Age_Sex_Title_Pclass_missing[\"Age\"]])"
   ]
  },
  {
   "cell_type": "code",
   "execution_count": 179,
   "metadata": {
    "collapsed": false
   },
   "outputs": [
    {
     "name": "stdout",
     "output_type": "stream",
     "text": [
      "['Age', 'Parch', 'Pclass', 'SibSp', 'FamSize', 'Sex_female', 'Sex_male', 'Embarked_C', 'Embarked_Q', 'Embarked_S', 'Title_Master', 'Title_Miss', 'Title_Mr', 'Title_Mrs', 'Title_Rare', 'AgeFill']\n"
     ]
    }
   ],
   "source": [
    "# use the factorized \"full\" dataset and add our new age column to it\n",
    "\n",
    "full3cols = pd.concat([full,df['AgeFill']], axis=1) \n",
    "\n",
    "print(list(full3cols))"
   ]
  },
  {
   "cell_type": "code",
   "execution_count": 180,
   "metadata": {
    "collapsed": false
   },
   "outputs": [
    {
     "name": "stdout",
     "output_type": "stream",
     "text": [
      "['Parch', 'Pclass', 'SibSp', 'FamSize', 'Sex_female', 'Sex_male', 'Embarked_C', 'Embarked_Q', 'Embarked_S', 'Title_Master', 'Title_Miss', 'Title_Mr', 'Title_Mrs', 'Title_Rare', 'AgeFill']\n"
     ]
    }
   ],
   "source": [
    "# Drop the old 'Age' column\n",
    "\n",
    "full3cols = full3cols.drop(['Age'], axis=1)\n",
    "\n",
    "print(list(full3cols))"
   ]
  },
  {
   "cell_type": "code",
   "execution_count": 181,
   "metadata": {
    "collapsed": false
   },
   "outputs": [
    {
     "name": "stdout",
     "output_type": "stream",
     "text": [
      "Age             1046\n",
      "Parch           1309\n",
      "Pclass          1309\n",
      "SibSp           1309\n",
      "FamSize         1309\n",
      "Sex_female      1309\n",
      "Sex_male        1309\n",
      "Embarked_C      1309\n",
      "Embarked_Q      1309\n",
      "Embarked_S      1309\n",
      "Title_Master    1309\n",
      "Title_Miss      1309\n",
      "Title_Mr        1309\n",
      "Title_Mrs       1309\n",
      "Title_Rare      1309\n",
      "dtype: int64\n"
     ]
    }
   ],
   "source": [
    "print(full.count())"
   ]
  },
  {
   "cell_type": "markdown",
   "metadata": {},
   "source": [
    "### Impute Age using MICE\n",
    "\n",
    "We need to get the dataframe into numerical values. This means using dummies to transform categorical variables into 1s and 0s. There are two options to using MICE:\n",
    "\n",
    "- update the `complete` method with code to handle a pandas dataframe\n",
    "- convert the dataframe to a matrix and use MICE as is and then convert back.\n",
    "\n",
    "I will use the former here."
   ]
  },
  {
   "cell_type": "code",
   "execution_count": 183,
   "metadata": {
    "collapsed": false
   },
   "outputs": [],
   "source": [
    "from fancyimpute import MICE\n",
    "\n",
    "# change MICE to MyMice to work with a dataFrame\n",
    "class MyMice(MICE):    \n",
    "    def complete(self, X):\n",
    "        if self.verbose:\n",
    "            print(\"[MICE] Completing matrix with shape %s\" % (X.shape,))\n",
    "        X_completed = X.copy()\n",
    "        imputed_arrays, missing_mask = self.multiple_imputations(X)\n",
    "        # average the imputed values for each feature\n",
    "        average_imputated_values = imputed_arrays.mean(axis=0)\n",
    "        \n",
    "        ### New Code###\n",
    "                \n",
    "        ### Loop over each column, check for nans and if it is, we can mask the nans and insert the new values.\n",
    "        for col in list(X_completed):\n",
    "        \n",
    "            #Look for a nan in this column\n",
    "            nancount = len(X_completed[col][X_completed[col].isnull()])\n",
    "        \n",
    "            # If we have pass the correctly formatted array, there should only be one nancount > 0. \n",
    "            if nancount > 0:\n",
    "                        \n",
    "                #create a nan mask on the column then fill in the values.\n",
    "                X_completed[col][X_completed[col].isnull()] = average_imputated_values\n",
    "                       \n",
    "                return X_completed"
   ]
  },
  {
   "cell_type": "code",
   "execution_count": 184,
   "metadata": {
    "collapsed": false
   },
   "outputs": [],
   "source": [
    "solver = MyMice(verbose=False)\n",
    "\n",
    "#apply MICE\n",
    "full_MICE = solver.complete(full)"
   ]
  },
  {
   "cell_type": "markdown",
   "metadata": {},
   "source": [
    "### Compare the 3 arrays using randomforest classifier and cross validation\n",
    "\n",
    "- full_mean\n",
    "- full3cols\n",
    "- full_MICE\n",
    "\n",
    "Using [this](http://scikit-learn.org/stable/auto_examples/missing_values.html) as a guide."
   ]
  },
  {
   "cell_type": "code",
   "execution_count": 185,
   "metadata": {
    "collapsed": false
   },
   "outputs": [
    {
     "name": "stdout",
     "output_type": "stream",
     "text": [
      "     Survived  Pclass  SibSp  Parch  Fare  Embarked  Gender  AgeFill\n",
      "888       0.0     3.0    0.0    0.0  7.75       2.0     1.0     32.0\n"
     ]
    }
   ],
   "source": [
    "# First need to import the training data so we have the \"survived column\"\n",
    "train = pd.read_csv('/home/sophie/projects/Titanic/data/clean_train.csv', header=0).astype(np.float32)\n",
    "\n",
    "print(train[-1:])"
   ]
  },
  {
   "cell_type": "code",
   "execution_count": 192,
   "metadata": {
    "collapsed": false
   },
   "outputs": [
    {
     "name": "stdout",
     "output_type": "stream",
     "text": [
      "889\n"
     ]
    }
   ],
   "source": [
    "# Chop off the training data from the three filled in datasets\n",
    "full_mean = full_mean[0:889]\n",
    "full3cols = full_mean[0:889]\n",
    "full_MICE = full_mean[0:889]\n",
    "\n",
    "print(len(full_mean))"
   ]
  },
  {
   "cell_type": "code",
   "execution_count": 193,
   "metadata": {
    "collapsed": true
   },
   "outputs": [],
   "source": [
    "# Make a new survived column on each of the dataframes and add the sur\n"
   ]
  },
  {
   "cell_type": "code",
   "execution_count": 194,
   "metadata": {
    "collapsed": false
   },
   "outputs": [
    {
     "name": "stdout",
     "output_type": "stream",
     "text": [
      "[ 0.48314607  0.50561798  0.49438202  0.48314607  0.56179775  0.58426966\n",
      "  0.58426966  0.46067416  0.57303371  0.54545455]\n"
     ]
    }
   ],
   "source": [
    "# estimate the score on the simple imputation with mean values, with no missing values\n",
    "estimator = RandomForestClassifier(n_estimators=100)\n",
    "score_mean = cross_val_score(estimator, full_mean, train['Survived'], cv=10)\n",
    "print(score_mean)"
   ]
  },
  {
   "cell_type": "code",
   "execution_count": 195,
   "metadata": {
    "collapsed": false
   },
   "outputs": [],
   "source": [
    "# estimate the score on the simple imputation with mean values, with no missing values\n",
    "estimator = RandomForestClassifier(n_estimators=100)\n",
    "score_3cols = cross_val_score(estimator, full3cols, train['Survived'], cv=10)\n",
    "\n",
    "#score_3cols_2 = cross_val_score(estimator, full3cols, train['Survived'], cv=5)\n",
    "#print(score_3cols_2)"
   ]
  },
  {
   "cell_type": "code",
   "execution_count": 196,
   "metadata": {
    "collapsed": true
   },
   "outputs": [],
   "source": [
    "# estimate the score on the simple imputation with mean values, with no missing values\n",
    "estimator = RandomForestClassifier(n_estimators=100)\n",
    "score_MICE = cross_val_score(estimator, full_MICE, train['Survived'], cv=10)"
   ]
  },
  {
   "cell_type": "code",
   "execution_count": 200,
   "metadata": {
    "collapsed": false
   },
   "outputs": [
    {
     "name": "stdout",
     "output_type": "stream",
     "text": [
      "Score using age mean imputed values =  0.527579 +/- 0.044714 \n",
      "Score using age imputed from median of Title, Plcass and Sex =  0.534308 +/- 0.057096 \n",
      "Score using age MICE imputed values =  0.529814 +/- 0.056521 \n"
     ]
    }
   ],
   "source": [
    "print(\"Score using age mean imputed values =  %f +/- %f \" % (score_mean.mean(),score_mean.std()))\n",
    "print(\"Score using age imputed from median of Title, Plcass and Sex =  %f +/- %f \" % (score_3cols.mean(), score_3cols.std()))\n",
    "print(\"Score using age MICE imputed values =  %f +/- %f \" % (score_MICE.mean(),score_MICE.std()))"
   ]
  },
  {
   "cell_type": "code",
   "execution_count": null,
   "metadata": {
    "collapsed": true
   },
   "outputs": [],
   "source": []
  }
 ],
 "metadata": {
  "anaconda-cloud": {},
  "kernelspec": {
   "display_name": "Python [Root]",
   "language": "python",
   "name": "Python [Root]"
  },
  "language_info": {
   "codemirror_mode": {
    "name": "ipython",
    "version": 3
   },
   "file_extension": ".py",
   "mimetype": "text/x-python",
   "name": "python",
   "nbconvert_exporter": "python",
   "pygments_lexer": "ipython3",
   "version": "3.5.2"
  }
 },
 "nbformat": 4,
 "nbformat_minor": 0
}
